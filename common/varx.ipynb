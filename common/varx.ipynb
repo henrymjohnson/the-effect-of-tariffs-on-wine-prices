{
 "cells": [
  {
   "cell_type": "code",
   "execution_count": 1,
   "metadata": {},
   "outputs": [],
   "source": [
    "import pandas as pd\n",
    "import numpy as np"
   ]
  },
  {
   "cell_type": "code",
   "execution_count": 8,
   "metadata": {},
   "outputs": [],
   "source": [
    "df = pd.read_excel('../data/analysis_data.xlsx')"
   ]
  },
  {
   "cell_type": "code",
   "execution_count": 9,
   "metadata": {},
   "outputs": [
    {
     "data": {
      "text/html": [
       "<div>\n",
       "<style scoped>\n",
       "    .dataframe tbody tr th:only-of-type {\n",
       "        vertical-align: middle;\n",
       "    }\n",
       "\n",
       "    .dataframe tbody tr th {\n",
       "        vertical-align: top;\n",
       "    }\n",
       "\n",
       "    .dataframe thead th {\n",
       "        text-align: right;\n",
       "    }\n",
       "</style>\n",
       "<table border=\"1\" class=\"dataframe\">\n",
       "  <thead>\n",
       "    <tr style=\"text-align: right;\">\n",
       "      <th></th>\n",
       "      <th>month</th>\n",
       "      <th>price</th>\n",
       "      <th>pop</th>\n",
       "      <th>bott</th>\n",
       "      <th>bott_pc</th>\n",
       "      <th>disp_inc</th>\n",
       "      <th>exp_q</th>\n",
       "      <th>exp_val</th>\n",
       "      <th>tariff</th>\n",
       "      <th>duty_val_world</th>\n",
       "      <th>...</th>\n",
       "      <th>prop_t3</th>\n",
       "      <th>duty_r_t3</th>\n",
       "      <th>cif_r_t3</th>\n",
       "      <th>duty_val_row</th>\n",
       "      <th>q_row</th>\n",
       "      <th>cif_row</th>\n",
       "      <th>duty_row</th>\n",
       "      <th>prop_row</th>\n",
       "      <th>cif_r_row</th>\n",
       "      <th>duty_r_row</th>\n",
       "    </tr>\n",
       "  </thead>\n",
       "  <tbody>\n",
       "    <tr>\n",
       "      <th>0</th>\n",
       "      <td>2000-01-31</td>\n",
       "      <td>5.299029</td>\n",
       "      <td>281083000</td>\n",
       "      <td>1.244070e+08</td>\n",
       "      <td>0.442599</td>\n",
       "      <td>9309.1</td>\n",
       "      <td>22385348</td>\n",
       "      <td>4.419970e+07</td>\n",
       "      <td>False</td>\n",
       "      <td>1.298947e+08</td>\n",
       "      <td>...</td>\n",
       "      <td>1.763354</td>\n",
       "      <td>0.071522</td>\n",
       "      <td>0.201302</td>\n",
       "      <td>7.736194e+06</td>\n",
       "      <td>2402418</td>\n",
       "      <td>550866.019417</td>\n",
       "      <td>162756.310680</td>\n",
       "      <td>0.084392</td>\n",
       "      <td>0.229296</td>\n",
       "      <td>0.067747</td>\n",
       "    </tr>\n",
       "    <tr>\n",
       "      <th>1</th>\n",
       "      <td>2000-02-29</td>\n",
       "      <td>5.198813</td>\n",
       "      <td>281299000</td>\n",
       "      <td>1.375283e+08</td>\n",
       "      <td>0.488904</td>\n",
       "      <td>9345.2</td>\n",
       "      <td>20954045</td>\n",
       "      <td>4.088633e+07</td>\n",
       "      <td>False</td>\n",
       "      <td>1.389756e+08</td>\n",
       "      <td>...</td>\n",
       "      <td>1.467002</td>\n",
       "      <td>0.068553</td>\n",
       "      <td>0.200174</td>\n",
       "      <td>8.226432e+06</td>\n",
       "      <td>2118152</td>\n",
       "      <td>504564.787339</td>\n",
       "      <td>163492.581602</td>\n",
       "      <td>0.083999</td>\n",
       "      <td>0.238210</td>\n",
       "      <td>0.077186</td>\n",
       "    </tr>\n",
       "    <tr>\n",
       "      <th>2</th>\n",
       "      <td>2000-03-31</td>\n",
       "      <td>5.311650</td>\n",
       "      <td>281531000</td>\n",
       "      <td>1.603837e+08</td>\n",
       "      <td>0.569684</td>\n",
       "      <td>9370.3</td>\n",
       "      <td>20240059</td>\n",
       "      <td>4.023967e+07</td>\n",
       "      <td>False</td>\n",
       "      <td>1.635349e+08</td>\n",
       "      <td>...</td>\n",
       "      <td>1.538206</td>\n",
       "      <td>0.069866</td>\n",
       "      <td>0.197442</td>\n",
       "      <td>9.613827e+06</td>\n",
       "      <td>2900608</td>\n",
       "      <td>710128.155340</td>\n",
       "      <td>191233.009709</td>\n",
       "      <td>0.093419</td>\n",
       "      <td>0.244820</td>\n",
       "      <td>0.065929</td>\n",
       "    </tr>\n",
       "    <tr>\n",
       "      <th>3</th>\n",
       "      <td>2000-04-30</td>\n",
       "      <td>5.104950</td>\n",
       "      <td>281763000</td>\n",
       "      <td>1.423004e+08</td>\n",
       "      <td>0.505036</td>\n",
       "      <td>9418.3</td>\n",
       "      <td>21745478</td>\n",
       "      <td>4.100174e+07</td>\n",
       "      <td>False</td>\n",
       "      <td>1.727178e+08</td>\n",
       "      <td>...</td>\n",
       "      <td>1.727424</td>\n",
       "      <td>0.069600</td>\n",
       "      <td>0.202943</td>\n",
       "      <td>9.347779e+06</td>\n",
       "      <td>2577645</td>\n",
       "      <td>598792.079208</td>\n",
       "      <td>177575.247525</td>\n",
       "      <td>0.074062</td>\n",
       "      <td>0.232302</td>\n",
       "      <td>0.068890</td>\n",
       "    </tr>\n",
       "    <tr>\n",
       "      <th>4</th>\n",
       "      <td>2000-05-31</td>\n",
       "      <td>5.426889</td>\n",
       "      <td>281996000</td>\n",
       "      <td>1.612658e+08</td>\n",
       "      <td>0.571873</td>\n",
       "      <td>9457.3</td>\n",
       "      <td>22059299</td>\n",
       "      <td>4.187646e+07</td>\n",
       "      <td>False</td>\n",
       "      <td>1.744802e+08</td>\n",
       "      <td>...</td>\n",
       "      <td>1.883923</td>\n",
       "      <td>0.065949</td>\n",
       "      <td>0.210044</td>\n",
       "      <td>9.571486e+06</td>\n",
       "      <td>2554428</td>\n",
       "      <td>626929.342493</td>\n",
       "      <td>193309.126595</td>\n",
       "      <td>0.070618</td>\n",
       "      <td>0.245428</td>\n",
       "      <td>0.075676</td>\n",
       "    </tr>\n",
       "  </tbody>\n",
       "</table>\n",
       "<p>5 rows × 55 columns</p>\n",
       "</div>"
      ],
      "text/plain": [
       "       month     price        pop          bott   bott_pc  disp_inc     exp_q  \\\n",
       "0 2000-01-31  5.299029  281083000  1.244070e+08  0.442599    9309.1  22385348   \n",
       "1 2000-02-29  5.198813  281299000  1.375283e+08  0.488904    9345.2  20954045   \n",
       "2 2000-03-31  5.311650  281531000  1.603837e+08  0.569684    9370.3  20240059   \n",
       "3 2000-04-30  5.104950  281763000  1.423004e+08  0.505036    9418.3  21745478   \n",
       "4 2000-05-31  5.426889  281996000  1.612658e+08  0.571873    9457.3  22059299   \n",
       "\n",
       "        exp_val  tariff  duty_val_world  ...   prop_t3  duty_r_t3  cif_r_t3  \\\n",
       "0  4.419970e+07   False    1.298947e+08  ...  1.763354   0.071522  0.201302   \n",
       "1  4.088633e+07   False    1.389756e+08  ...  1.467002   0.068553  0.200174   \n",
       "2  4.023967e+07   False    1.635349e+08  ...  1.538206   0.069866  0.197442   \n",
       "3  4.100174e+07   False    1.727178e+08  ...  1.727424   0.069600  0.202943   \n",
       "4  4.187646e+07   False    1.744802e+08  ...  1.883923   0.065949  0.210044   \n",
       "\n",
       "   duty_val_row    q_row        cif_row       duty_row  prop_row  cif_r_row  \\\n",
       "0  7.736194e+06  2402418  550866.019417  162756.310680  0.084392   0.229296   \n",
       "1  8.226432e+06  2118152  504564.787339  163492.581602  0.083999   0.238210   \n",
       "2  9.613827e+06  2900608  710128.155340  191233.009709  0.093419   0.244820   \n",
       "3  9.347779e+06  2577645  598792.079208  177575.247525  0.074062   0.232302   \n",
       "4  9.571486e+06  2554428  626929.342493  193309.126595  0.070618   0.245428   \n",
       "\n",
       "   duty_r_row  \n",
       "0    0.067747  \n",
       "1    0.077186  \n",
       "2    0.065929  \n",
       "3    0.068890  \n",
       "4    0.075676  \n",
       "\n",
       "[5 rows x 55 columns]"
      ]
     },
     "execution_count": 9,
     "metadata": {},
     "output_type": "execute_result"
    }
   ],
   "source": [
    "df.head()"
   ]
  },
  {
   "cell_type": "code",
   "execution_count": 10,
   "metadata": {},
   "outputs": [
    {
     "data": {
      "text/plain": [
       "Index(['month', 'price', 'pop', 'bott', 'bott_pc', 'disp_inc', 'exp_q',\n",
       "       'exp_val', 'tariff', 'duty_val_world', 'q_world', 'cif_world',\n",
       "       'duty_world', 'duty_val_bloc', 'q_bloc', 'cif_bloc', 'duty_bloc',\n",
       "       'prop_bloc', 'duty_r_bloc', 'cif_r_bloc', 'duty_val_it', 'q_it',\n",
       "       'cif_it', 'duty_it', 'prop_it', 'duty_r_it', 'cif_r_it', 'duty_val_au',\n",
       "       'q_au', 'cif_au', 'duty_au', 'prop_au', 'duty_r_au', 'cif_r_au',\n",
       "       'duty_val_cl', 'q_cl', 'cif_cl', 'duty_cl', 'prop_cl', 'duty_r_cl',\n",
       "       'cif_r_cl', 'duty_val_t3', 'q_t3', 'cif_t3', 'duty_t3', 'prop_t3',\n",
       "       'duty_r_t3', 'cif_r_t3', 'duty_val_row', 'q_row', 'cif_row', 'duty_row',\n",
       "       'prop_row', 'cif_r_row', 'duty_r_row'],\n",
       "      dtype='object')"
      ]
     },
     "execution_count": 10,
     "metadata": {},
     "output_type": "execute_result"
    }
   ],
   "source": [
    "df.columns"
   ]
  },
  {
   "cell_type": "code",
   "execution_count": 5,
   "metadata": {},
   "outputs": [
    {
     "data": {
      "text/html": [
       "<div>\n",
       "<style scoped>\n",
       "    .dataframe tbody tr th:only-of-type {\n",
       "        vertical-align: middle;\n",
       "    }\n",
       "\n",
       "    .dataframe tbody tr th {\n",
       "        vertical-align: top;\n",
       "    }\n",
       "\n",
       "    .dataframe thead th {\n",
       "        text-align: right;\n",
       "    }\n",
       "</style>\n",
       "<table border=\"1\" class=\"dataframe\">\n",
       "  <thead>\n",
       "    <tr style=\"text-align: right;\">\n",
       "      <th></th>\n",
       "      <th>price</th>\n",
       "      <th>bott</th>\n",
       "      <th>duty_bloc</th>\n",
       "      <th>tariff</th>\n",
       "      <th>duty_world</th>\n",
       "      <th>duty_r_bloc</th>\n",
       "      <th>q_bloc</th>\n",
       "      <th>q_world</th>\n",
       "      <th>cif_world</th>\n",
       "    </tr>\n",
       "  </thead>\n",
       "  <tbody>\n",
       "    <tr>\n",
       "      <th>0</th>\n",
       "      <td>5.299029</td>\n",
       "      <td>1.244070e+08</td>\n",
       "      <td>678934.951456</td>\n",
       "      <td>False</td>\n",
       "      <td>2.250568e+06</td>\n",
       "      <td>0.077427</td>\n",
       "      <td>8768676</td>\n",
       "      <td>30869692</td>\n",
       "      <td>6.853057e+06</td>\n",
       "    </tr>\n",
       "    <tr>\n",
       "      <th>1</th>\n",
       "      <td>5.198813</td>\n",
       "      <td>1.375283e+08</td>\n",
       "      <td>848555.885262</td>\n",
       "      <td>False</td>\n",
       "      <td>2.126339e+06</td>\n",
       "      <td>0.094685</td>\n",
       "      <td>8961916</td>\n",
       "      <td>27334547</td>\n",
       "      <td>6.089141e+06</td>\n",
       "    </tr>\n",
       "    <tr>\n",
       "      <th>2</th>\n",
       "      <td>5.311650</td>\n",
       "      <td>1.603837e+08</td>\n",
       "      <td>887386.407767</td>\n",
       "      <td>False</td>\n",
       "      <td>2.516082e+06</td>\n",
       "      <td>0.084715</td>\n",
       "      <td>10474993</td>\n",
       "      <td>33950034</td>\n",
       "      <td>7.495030e+06</td>\n",
       "    </tr>\n",
       "    <tr>\n",
       "      <th>3</th>\n",
       "      <td>5.104950</td>\n",
       "      <td>1.423004e+08</td>\n",
       "      <td>965145.544554</td>\n",
       "      <td>False</td>\n",
       "      <td>2.790541e+06</td>\n",
       "      <td>0.086731</td>\n",
       "      <td>11128077</td>\n",
       "      <td>37381318</td>\n",
       "      <td>8.363492e+06</td>\n",
       "    </tr>\n",
       "    <tr>\n",
       "      <th>4</th>\n",
       "      <td>5.426889</td>\n",
       "      <td>1.612658e+08</td>\n",
       "      <td>880599.607458</td>\n",
       "      <td>False</td>\n",
       "      <td>2.742312e+06</td>\n",
       "      <td>0.080982</td>\n",
       "      <td>10874051</td>\n",
       "      <td>38726698</td>\n",
       "      <td>8.921802e+06</td>\n",
       "    </tr>\n",
       "  </tbody>\n",
       "</table>\n",
       "</div>"
      ],
      "text/plain": [
       "      price          bott      duty_bloc  tariff    duty_world  duty_r_bloc  \\\n",
       "0  5.299029  1.244070e+08  678934.951456   False  2.250568e+06     0.077427   \n",
       "1  5.198813  1.375283e+08  848555.885262   False  2.126339e+06     0.094685   \n",
       "2  5.311650  1.603837e+08  887386.407767   False  2.516082e+06     0.084715   \n",
       "3  5.104950  1.423004e+08  965145.544554   False  2.790541e+06     0.086731   \n",
       "4  5.426889  1.612658e+08  880599.607458   False  2.742312e+06     0.080982   \n",
       "\n",
       "     q_bloc   q_world     cif_world  \n",
       "0   8768676  30869692  6.853057e+06  \n",
       "1   8961916  27334547  6.089141e+06  \n",
       "2  10474993  33950034  7.495030e+06  \n",
       "3  11128077  37381318  8.363492e+06  \n",
       "4  10874051  38726698  8.921802e+06  "
      ]
     },
     "execution_count": 5,
     "metadata": {},
     "output_type": "execute_result"
    }
   ],
   "source": [
    "# cols = [\"price\", \"bott\", \"duty_bloc\", \"tariff\", \"duty_world\", \"duty_r_bloc\", \"q_bloc\", \"q_world\", \"cif_world\"]\n",
    "# df = df[cols]\n",
    "\n",
    "# df.head()"
   ]
  },
  {
   "cell_type": "code",
   "execution_count": 11,
   "metadata": {},
   "outputs": [],
   "source": [
    "def separate_endog_and_exog(df, endog, exog):\n",
    "    endog_data = df[endog]\n",
    "    exog_data = df[exog]\n",
    "    # add intercept\n",
    "    # exog_data.insert(0, 'intercept', 1)\n",
    "\n",
    "    # convert dfs to matrices\n",
    "    x = exog_data.to_numpy()\n",
    "    y = endog_data.to_numpy()\n",
    "\n",
    "    return y, x"
   ]
  },
  {
   "cell_type": "code",
   "execution_count": 12,
   "metadata": {},
   "outputs": [],
   "source": [
    "endog = ['price', 'exp_q', 'q_bloc', 'q_t3', 'q_row']\n",
    "exog = ['disp_inc', 'duty_r_bloc', 'tariff', 'duty_r_t3', 'duty_r_row', 'cif_world']\n",
    "\n",
    "zt, xt = separate_endog_and_exog(df, endog, exog)"
   ]
  },
  {
   "cell_type": "code",
   "execution_count": 17,
   "metadata": {},
   "outputs": [],
   "source": [
    "p=2\n",
    "m=2\n",
    "# calculate dimensions for exogenous variables\n",
    "if xt.shape[1] < 1:\n",
    "    m = -1\n",
    "    k_x = 0\n",
    "else:\n",
    "    k_x = xt.shape[1]\n",
    "# validate lags are non-negative\n",
    "if p < 0:\n",
    "    p = 0"
   ]
  },
  {
   "cell_type": "code",
   "execution_count": 19,
   "metadata": {},
   "outputs": [],
   "source": [
    "nt = zt.shape[0]\n",
    "ist = np.max([p, m])\n",
    "\n",
    "include_mean = True\n",
    "if include_mean:\n",
    "    xmtx = np.ones(nt-ist)\n",
    "    xmtx = xmtx.reshape((xmtx.shape[0], 1))"
   ]
  },
  {
   "cell_type": "code",
   "execution_count": 20,
   "metadata": {},
   "outputs": [],
   "source": [
    "# let's define the columns so that we can keep track of which values are for which columns\n",
    "cols = endog\n",
    "cols_exog = exog"
   ]
  },
  {
   "cell_type": "code",
   "execution_count": 22,
   "metadata": {},
   "outputs": [],
   "source": [
    "# add in the lags for endog variables\n",
    "if p > 0:\n",
    "    for i in range(p):\n",
    "        xmtx = np.concatenate((xmtx, zt[(ist-i-1):(nt-i-1),]), axis=1)\n",
    "        if i > 0:\n",
    "            new_cols = [c + '_l' + str(i) for c in endog]\n",
    "            # update list of column names\n",
    "            cols = np.concatenate([new_cols, cols])\n",
    "# add in the lags for exog variables\n",
    "if m > -1:\n",
    "    for i in range(m+1):\n",
    "        xmtx = np.concatenate((xmtx, xt[(ist-i):(nt-i),]), axis=1)\n",
    "        # update exog column names\n",
    "        if i > 0:\n",
    "            new_cols_exog = [c + '_l' + str(i) for c in exog]\n",
    "            cols_exog = np.concatenate([new_cols_exog, cols_exog])\n",
    "\n",
    "# update entire set of columns\n",
    "cols = np.concatenate([cols, cols_exog])\n",
    "cols = np.concatenate([['intercept'], cols])"
   ]
  },
  {
   "cell_type": "code",
   "execution_count": 23,
   "metadata": {},
   "outputs": [
    {
     "data": {
      "text/plain": [
       "(262, 29)"
      ]
     },
     "execution_count": 23,
     "metadata": {},
     "output_type": "execute_result"
    }
   ],
   "source": [
    "xmtx.shape"
   ]
  },
  {
   "cell_type": "code",
   "execution_count": 24,
   "metadata": {},
   "outputs": [],
   "source": [
    "p1 = xmtx.shape[1]\n",
    "nobe = xmtx.shape[0]"
   ]
  },
  {
   "cell_type": "code",
   "execution_count": 25,
   "metadata": {},
   "outputs": [],
   "source": [
    "xpx = np.dot(xmtx.T, xmtx)"
   ]
  },
  {
   "cell_type": "code",
   "execution_count": 26,
   "metadata": {},
   "outputs": [
    {
     "data": {
      "text/plain": [
       "array(['intercept', 'price_l1', 'exp_q_l1', 'q_bloc_l1', 'q_t3_l1',\n",
       "       'q_row_l1', 'price', 'exp_q', 'q_bloc', 'q_t3', 'q_row',\n",
       "       'disp_inc_l2', 'duty_r_bloc_l2', 'tariff_l2', 'duty_r_t3_l2',\n",
       "       'duty_r_row_l2', 'cif_world_l2', 'disp_inc_l1', 'duty_r_bloc_l1',\n",
       "       'tariff_l1', 'duty_r_t3_l1', 'duty_r_row_l1', 'cif_world_l1',\n",
       "       'disp_inc', 'duty_r_bloc', 'tariff', 'duty_r_t3', 'duty_r_row',\n",
       "       'cif_world'], dtype='<U14')"
      ]
     },
     "execution_count": 26,
     "metadata": {},
     "output_type": "execute_result"
    }
   ],
   "source": [
    "cols"
   ]
  },
  {
   "cell_type": "code",
   "execution_count": 29,
   "metadata": {},
   "outputs": [],
   "source": [
    "xpy = np.dot(xmtx.T, zt[2:zt.shape[0]])"
   ]
  },
  {
   "cell_type": "code",
   "execution_count": 30,
   "metadata": {},
   "outputs": [
    {
     "data": {
      "text/plain": [
       "(264, 5)"
      ]
     },
     "execution_count": 30,
     "metadata": {},
     "output_type": "execute_result"
    }
   ],
   "source": [
    "zt.shape"
   ]
  },
  {
   "cell_type": "code",
   "execution_count": 31,
   "metadata": {},
   "outputs": [
    {
     "data": {
      "text/plain": [
       "(29, 29)"
      ]
     },
     "execution_count": 31,
     "metadata": {},
     "output_type": "execute_result"
    }
   ],
   "source": [
    "xpx.shape"
   ]
  },
  {
   "cell_type": "code",
   "execution_count": null,
   "metadata": {},
   "outputs": [],
   "source": [
    "# import scipy.linalg"
   ]
  },
  {
   "cell_type": "code",
   "execution_count": 34,
   "metadata": {},
   "outputs": [],
   "source": [
    "xpx = xpx.astype(float)"
   ]
  },
  {
   "cell_type": "code",
   "execution_count": 35,
   "metadata": {},
   "outputs": [],
   "source": [
    "xpxi = np.linalg.inv(xpx)"
   ]
  },
  {
   "cell_type": "code",
   "execution_count": 36,
   "metadata": {},
   "outputs": [],
   "source": [
    "beta = np.dot(xpxi, xpy)"
   ]
  },
  {
   "cell_type": "code",
   "execution_count": 37,
   "metadata": {},
   "outputs": [
    {
     "data": {
      "text/plain": [
       "(29, 5)"
      ]
     },
     "execution_count": 37,
     "metadata": {},
     "output_type": "execute_result"
    }
   ],
   "source": [
    "# these beta values are the coefficients of 'price', 'exp_q', 'q_bloc', 'q_t3', 'q_row' (the endogenous variables)\n",
    "beta.shape"
   ]
  },
  {
   "cell_type": "code",
   "execution_count": 38,
   "metadata": {},
   "outputs": [
    {
     "data": {
      "text/plain": [
       "array([[0.3721749342937528, -26234893.727413177, -3837568.5479955673,\n",
       "        11891572.99260521, -8684657.70075512],\n",
       "       [-0.037289790421066726, 17138.43830163777, -191788.74072440714,\n",
       "        450920.414710179, 56166.94273331761],\n",
       "       [1.3102397522708735e-08, 0.3963009043205332,\n",
       "        -0.013001773005496098, 0.0854444279052835, 0.020570292105885457],\n",
       "       [-1.4635152450515087e-08, -0.12962765345889693,\n",
       "        0.3988298848855436, -0.3541487075020484, -0.008493908070406064],\n",
       "       [-2.392539778914884e-09, -0.0947166242446329, -0.063538562990054,\n",
       "        0.3420190476250937, -0.025992605011783354],\n",
       "       [-5.84650858566288e-09, -0.04116506283668997, -0.0184656005470778,\n",
       "        0.24355301358018266, 0.5939657892548595],\n",
       "       [0.9006206414706117, 509817.3060496822, -123541.59258065745,\n",
       "        307843.7061367631, 281676.5303412415],\n",
       "       [1.229895700275815e-09, 0.28683680491904795, 0.008867428218953144,\n",
       "        -0.05507682361309918, -0.09042617476177739],\n",
       "       [8.61373069888842e-09, -0.19374215927200567, 0.11171486351399551,\n",
       "        0.2345472579297052, 0.11038087956366383],\n",
       "       [1.5110658318411106e-09, 0.172712680315513, 0.045634727062967784,\n",
       "        0.24035871853676838, 0.045318471074281774],\n",
       "       [7.99610569849505e-09, -0.23500531844394068, 0.01573204593576527,\n",
       "        -0.18059846208431551, 0.20462993840168675],\n",
       "       [2.8576244677721435e-05, 1113.370155918601, 713.1899291165028,\n",
       "        -146.02640580572188, -434.7043036521136],\n",
       "       [-0.6409866706598848, 2284145.526584983, 2296484.226872325,\n",
       "        -4722989.110820293, -547034.3375933766],\n",
       "       [0.1738395105730035, -3521008.2969691157, -2802227.9450511932,\n",
       "        1936915.614026904, 5470173.166963428],\n",
       "       [8.362040606730261, -16393041.760801792, 97694509.67679572,\n",
       "        -537504183.3777943, -16753988.945516825],\n",
       "       [1.265310642397253, 2684952.218954563, -9339239.983243227,\n",
       "        50484296.63536644, 148381298.07852244],\n",
       "       [-2.4329952133119e-08, 0.285891483768399, 0.9430566464177339,\n",
       "        1.943800752826256, 0.45422158775582844],\n",
       "       [6.149748934020788e-05, 2023.4308305780578, -164.25155779140186,\n",
       "        1485.666478840867, -67.72781776131887],\n",
       "       [0.3359759115699106, -2352823.8519285023, -9744850.414342642,\n",
       "        1086524.851230204, 2730980.325404644],\n",
       "       [0.27243912501968026, -1182408.1358027458, 1217384.9710129648,\n",
       "        7340718.960386932, -7323103.326603994],\n",
       "       [-9.35812691281376, -3484681.7247371674, -72328562.84298325,\n",
       "        285041559.5742321, -15593458.347903728],\n",
       "       [2.9681928584636807, -6772264.11217308, -8965694.599568367,\n",
       "        -45484348.97219658, -79141011.00434017],\n",
       "       [3.130278696771287e-08, -0.27420364929190555, -0.4072361088903165,\n",
       "        -0.7609595254945134, -0.19215902447143662],\n",
       "       [-2.9323567344446966e-05, -406.6992965265381, 567.7646874392012,\n",
       "        -1935.6133305549665, 1113.778531880067],\n",
       "       [0.042148110248220405, -9728809.70672661, 4168043.5367741287,\n",
       "        -8166032.593264818, -2620811.9742329717],\n",
       "       [-0.40202331575204653, 7420784.908516347, 1648592.2630926073,\n",
       "        -1491862.8128124475, 3254781.3765143454],\n",
       "       [-3.267125311264863, 70218641.69461823, -41074368.80753708,\n",
       "        102089161.21909332, 2535154.6902484894],\n",
       "       [-5.803022243331043, 107354889.95973492, 22353243.13392353,\n",
       "        40020775.23933792, -25074315.877361774],\n",
       "       [-2.736671204564946e-09, -0.2366690931490325,\n",
       "        -0.35406940625102834, -0.24355653819884537, -0.22790561638547047]],\n",
       "      dtype=object)"
      ]
     },
     "execution_count": 38,
     "metadata": {},
     "output_type": "execute_result"
    }
   ],
   "source": [
    "beta"
   ]
  },
  {
   "cell_type": "code",
   "execution_count": 40,
   "metadata": {},
   "outputs": [],
   "source": [
    "resi = zt[2:zt.shape[0]] - np.dot(xmtx, beta)"
   ]
  },
  {
   "cell_type": "code",
   "execution_count": 41,
   "metadata": {},
   "outputs": [
    {
     "data": {
      "text/plain": [
       "(262, 5)"
      ]
     },
     "execution_count": 41,
     "metadata": {},
     "output_type": "execute_result"
    }
   ],
   "source": [
    "resi.shape"
   ]
  },
  {
   "cell_type": "code",
   "execution_count": 42,
   "metadata": {},
   "outputs": [],
   "source": [
    "sig = np.matmul(resi.T, resi) / nobe"
   ]
  },
  {
   "cell_type": "code",
   "execution_count": 43,
   "metadata": {},
   "outputs": [
    {
     "data": {
      "text/plain": [
       "array([[0.08952354787751733, -97475.0361431705, -45485.747153855096,\n",
       "        42688.658669225704, 27041.905574322675],\n",
       "       [-97475.0361431705, 15551125012641.521, 1481260871694.5989,\n",
       "        540264926379.90027, 802855624622.5236],\n",
       "       [-45485.747153855096, 1481260871694.5989, 2113820488734.4207,\n",
       "        -390713555511.26306, 55989023220.67213],\n",
       "       [42688.658669225704, 540264926379.90027, -390713555511.26306,\n",
       "        12961854417268.059, 884562305059.4261],\n",
       "       [27041.905574322675, 802855624622.5236, 55989023220.67213,\n",
       "        884562305059.4261, 4261918942657.7246]], dtype=object)"
      ]
     },
     "execution_count": 43,
     "metadata": {},
     "output_type": "execute_result"
    }
   ],
   "source": [
    "sig"
   ]
  },
  {
   "cell_type": "code",
   "execution_count": 44,
   "metadata": {},
   "outputs": [],
   "source": [
    "co = np.kron(sig, xpxi)"
   ]
  },
  {
   "cell_type": "code",
   "execution_count": 45,
   "metadata": {},
   "outputs": [],
   "source": [
    "co_diag = np.diag(co)"
   ]
  },
  {
   "cell_type": "code",
   "execution_count": 46,
   "metadata": {},
   "outputs": [
    {
     "data": {
      "text/plain": [
       "(145,)"
      ]
     },
     "execution_count": 46,
     "metadata": {},
     "output_type": "execute_result"
    }
   ],
   "source": [
    "co_diag.shape"
   ]
  },
  {
   "cell_type": "code",
   "execution_count": 47,
   "metadata": {},
   "outputs": [],
   "source": [
    "se = co_diag**(1/2)"
   ]
  },
  {
   "cell_type": "code",
   "execution_count": 48,
   "metadata": {},
   "outputs": [
    {
     "data": {
      "text/plain": [
       "(145,)"
      ]
     },
     "execution_count": 48,
     "metadata": {},
     "output_type": "execute_result"
    }
   ],
   "source": [
    "se.shape"
   ]
  },
  {
   "cell_type": "code",
   "execution_count": 50,
   "metadata": {},
   "outputs": [],
   "source": [
    "k = zt.shape[1]\n",
    "se_beta = se.reshape((beta.shape[0], k), order='F')"
   ]
  },
  {
   "cell_type": "code",
   "execution_count": 51,
   "metadata": {},
   "outputs": [
    {
     "data": {
      "text/plain": [
       "(29, 5)"
      ]
     },
     "execution_count": 51,
     "metadata": {},
     "output_type": "execute_result"
    }
   ],
   "source": [
    "se_beta.shape"
   ]
  },
  {
   "cell_type": "code",
   "execution_count": 52,
   "metadata": {},
   "outputs": [],
   "source": [
    "n_par = beta.shape[0] * k"
   ]
  },
  {
   "cell_type": "code",
   "execution_count": 53,
   "metadata": {},
   "outputs": [
    {
     "data": {
      "text/plain": [
       "array([[0.08952354787751733, -97475.0361431705, -45485.747153855096,\n",
       "        42688.658669225704, 27041.905574322675],\n",
       "       [-97475.0361431705, 15551125012641.521, 1481260871694.5989,\n",
       "        540264926379.90027, 802855624622.5236],\n",
       "       [-45485.747153855096, 1481260871694.5989, 2113820488734.4207,\n",
       "        -390713555511.26306, 55989023220.67213],\n",
       "       [42688.658669225704, 540264926379.90027, -390713555511.26306,\n",
       "        12961854417268.059, 884562305059.4261],\n",
       "       [27041.905574322675, 802855624622.5236, 55989023220.67213,\n",
       "        884562305059.4261, 4261918942657.7246]], dtype=object)"
      ]
     },
     "execution_count": 53,
     "metadata": {},
     "output_type": "execute_result"
    }
   ],
   "source": [
    "sig"
   ]
  },
  {
   "cell_type": "code",
   "execution_count": 54,
   "metadata": {},
   "outputs": [],
   "source": [
    "sig = sig.astype(float)\n",
    "sig_det = np.linalg.det(sig)"
   ]
  },
  {
   "cell_type": "code",
   "execution_count": 55,
   "metadata": {},
   "outputs": [],
   "source": [
    "d_1 = np.log(sig_det)"
   ]
  },
  {
   "cell_type": "code",
   "execution_count": 56,
   "metadata": {},
   "outputs": [
    {
     "data": {
      "text/plain": [
       "115.49572477168508"
      ]
     },
     "execution_count": 56,
     "metadata": {},
     "output_type": "execute_result"
    }
   ],
   "source": [
    "d_1"
   ]
  },
  {
   "cell_type": "code",
   "execution_count": 57,
   "metadata": {},
   "outputs": [],
   "source": [
    "aic = d_1 + 2 * n_par / nobe"
   ]
  },
  {
   "cell_type": "code",
   "execution_count": 58,
   "metadata": {},
   "outputs": [
    {
     "data": {
      "text/plain": [
       "116.60259500069272"
      ]
     },
     "execution_count": 58,
     "metadata": {},
     "output_type": "execute_result"
    }
   ],
   "source": [
    "aic"
   ]
  },
  {
   "cell_type": "code",
   "execution_count": 59,
   "metadata": {},
   "outputs": [],
   "source": [
    "bic = d_1 + np.log(nobe) * n_par / nobe"
   ]
  },
  {
   "cell_type": "code",
   "execution_count": 60,
   "metadata": {},
   "outputs": [
    {
     "data": {
      "text/plain": [
       "118.5774421497208"
      ]
     },
     "execution_count": 60,
     "metadata": {},
     "output_type": "execute_result"
    }
   ],
   "source": [
    "bic"
   ]
  },
  {
   "cell_type": "code",
   "execution_count": 61,
   "metadata": {},
   "outputs": [],
   "source": [
    "beta = np.zeros((p1, k))"
   ]
  },
  {
   "cell_type": "code",
   "execution_count": 62,
   "metadata": {},
   "outputs": [
    {
     "data": {
      "text/plain": [
       "(29, 5)"
      ]
     },
     "execution_count": 62,
     "metadata": {},
     "output_type": "execute_result"
    }
   ],
   "source": [
    "beta.shape"
   ]
  },
  {
   "cell_type": "code",
   "execution_count": 63,
   "metadata": {},
   "outputs": [],
   "source": [
    "se_beta = np.ones((p1, k))"
   ]
  },
  {
   "cell_type": "code",
   "execution_count": 64,
   "metadata": {},
   "outputs": [
    {
     "data": {
      "text/plain": [
       "(29, 5)"
      ]
     },
     "execution_count": 64,
     "metadata": {},
     "output_type": "execute_result"
    }
   ],
   "source": [
    "se_beta.shape"
   ]
  },
  {
   "cell_type": "code",
   "execution_count": 66,
   "metadata": {},
   "outputs": [],
   "source": [
    "resi = zt"
   ]
  },
  {
   "cell_type": "code",
   "execution_count": 67,
   "metadata": {},
   "outputs": [
    {
     "data": {
      "text/plain": [
       "(264, 5)"
      ]
     },
     "execution_count": 67,
     "metadata": {},
     "output_type": "execute_result"
    }
   ],
   "source": [
    "resi.shape"
   ]
  },
  {
   "cell_type": "code",
   "execution_count": 68,
   "metadata": {},
   "outputs": [],
   "source": [
    "n_par = 0"
   ]
  },
  {
   "cell_type": "code",
   "execution_count": 69,
   "metadata": {},
   "outputs": [
    {
     "data": {
      "text/plain": [
       "29"
      ]
     },
     "execution_count": 69,
     "metadata": {},
     "output_type": "execute_result"
    }
   ],
   "source": [
    "p1"
   ]
  },
  {
   "cell_type": "code",
   "execution_count": 73,
   "metadata": {},
   "outputs": [],
   "source": [
    "fixed = np.NaN\n",
    "zt = zt[2:zt.shape[0]]\n",
    "\n",
    "if (np.isnan(fixed)):\n",
    "    xpx = np.dot(xmtx.T, xmtx)\n",
    "    xpx = xpx.astype(float)\n",
    "    xpy = np.dot(xmtx.T, zt)\n",
    "    xpxi = np.linalg.inv(xpx)\n",
    "    beta = np.dot(xpxi, xpy)\n",
    "    resi = zt - np.dot(xmtx, beta)\n",
    "    sig = np.matmul(resi.T, resi) / nobe\n",
    "    co = np.kron(sig, xpxi)\n",
    "    co_diag = np.diag(co)\n",
    "    se = co_diag**(1/2)\n",
    "    se_beta = se.reshape((beta.shape[0], k), order='F')\n",
    "    n_par = beta.shape[0] * k\n",
    "    sig = sig.astype(float)\n",
    "    sig_det = np.linalg.det(sig)\n",
    "    d_1 = np.log(sig_det)\n",
    "    aic = d_1 + 2 * n_par / nobe\n",
    "    bic = d_1 + np.log(nobe) * n_par / nobe\n",
    "else:\n",
    "    beta = np.zeros((p1, k))\n",
    "    se_beta = np.ones((p1, k))\n",
    "    resi = zt\n",
    "    n_par = 0\n",
    "    for i in range(k):\n",
    "        # id_x = range(p1)[fixed[:i] > 0]\n",
    "        id_x = np.argwhere(np.any(fixed[:, i] == 1))\n",
    "        n_par = n_par + len(id_x)\n",
    "        if (len(id_x) > 0):\n",
    "            x_m = xmtx[:, id_x]\n",
    "            y_1 = zt[:, i].reshape((nobe, 1))\n",
    "            xpx = np.dot(x_m.T, x_m)\n",
    "            xpy = np.dot(x_m.T, y_1)\n",
    "            xpx = xpx.astype(float)\n",
    "            xpxi = np.linalg.solve(xpx)\n",
    "            beta_1 = np.dot(xpxi, xpy)\n",
    "            res = y_1 - np.dot(x_m, beta_1)\n",
    "            sig_1 = np.sum(res**2) / nobe\n",
    "            sig_1 = sig_1.astype(float)\n",
    "            diag_sig_1 = np.diag(xpxi) * sig_1\n",
    "            se = diag_sig_1**(1/2)\n",
    "            beta[id_x, i] = beta_1\n",
    "            se_beta[id_x, i] = se\n",
    "            resi[:, i] = res\n",
    "    sig = np.matmul(resi.T, resi) / nobe\n",
    "    sig = sig.astype(float)\n",
    "    d_1 = np.log(np.linalg.det(sig))\n",
    "    aic = d_1 + 2 * n_par / nobe\n",
    "    bic = d_1 + np.log(nobe) * n_par / nobe"
   ]
  },
  {
   "cell_type": "code",
   "execution_count": 74,
   "metadata": {},
   "outputs": [
    {
     "data": {
      "text/plain": [
       "True"
      ]
     },
     "execution_count": 74,
     "metadata": {},
     "output_type": "execute_result"
    }
   ],
   "source": [
    "fixed = np.NaN\n",
    "np.isnan(fixed)"
   ]
  },
  {
   "cell_type": "code",
   "execution_count": 75,
   "metadata": {},
   "outputs": [
    {
     "data": {
      "text/plain": [
       "array([0.3721749342937528, -26234893.727413177, -3837568.5479955673,\n",
       "       11891572.99260521, -8684657.70075512], dtype=object)"
      ]
     },
     "execution_count": 75,
     "metadata": {},
     "output_type": "execute_result"
    }
   ],
   "source": [
    "beta[0,:]"
   ]
  },
  {
   "cell_type": "code",
   "execution_count": 76,
   "metadata": {},
   "outputs": [
    {
     "name": "stdout",
     "output_type": "stream",
     "text": [
      "Constant Term:\n",
      "est: [0.3722, -26234893.7274, -3837568.548, 11891572.9926, -8684657.7008]\n",
      "se: [0.8181, 10782419.701, 3975295.1404, 9843938.5933, 5644661.7061]\n"
     ]
    }
   ],
   "source": [
    "ph0 = np.NaN\n",
    "icnt = 0\n",
    "\n",
    "if (include_mean):\n",
    "    ph0 = beta[0,:]\n",
    "    icnt = icnt + 1\n",
    "\n",
    "    print('Constant Term:')\n",
    "    print('est:', [np.round(i, 4) for i in ph0])\n",
    "    print('se:', [np.round(i, 4) for i in se_beta[0,:]])"
   ]
  },
  {
   "cell_type": "code",
   "execution_count": 77,
   "metadata": {},
   "outputs": [
    {
     "data": {
      "text/plain": [
       "array([[-0.037289790421066726, 1.3102397522708735e-08,\n",
       "        -1.4635152450515087e-08, -2.392539778914884e-09,\n",
       "        -5.84650858566288e-09, 0.9006206414706117, 1.229895700275815e-09,\n",
       "        8.61373069888842e-09, 1.5110658318411106e-09,\n",
       "        7.99610569849505e-09],\n",
       "       [17138.43830163777, 0.3963009043205332, -0.12962765345889693,\n",
       "        -0.0947166242446329, -0.04116506283668997, 509817.3060496822,\n",
       "        0.28683680491904795, -0.19374215927200567, 0.172712680315513,\n",
       "        -0.23500531844394068],\n",
       "       [-191788.74072440714, -0.013001773005496098, 0.3988298848855436,\n",
       "        -0.063538562990054, -0.0184656005470778, -123541.59258065745,\n",
       "        0.008867428218953144, 0.11171486351399551, 0.045634727062967784,\n",
       "        0.01573204593576527],\n",
       "       [450920.414710179, 0.0854444279052835, -0.3541487075020484,\n",
       "        0.3420190476250937, 0.24355301358018266, 307843.7061367631,\n",
       "        -0.05507682361309918, 0.2345472579297052, 0.24035871853676838,\n",
       "        -0.18059846208431551],\n",
       "       [56166.94273331761, 0.020570292105885457, -0.008493908070406064,\n",
       "        -0.025992605011783354, 0.5939657892548595, 281676.5303412415,\n",
       "        -0.09042617476177739, 0.11038087956366383, 0.045318471074281774,\n",
       "        0.20462993840168675]], dtype=object)"
      ]
     },
     "execution_count": 77,
     "metadata": {},
     "output_type": "execute_result"
    }
   ],
   "source": [
    "beta[(icnt):(icnt+k*p),].T"
   ]
  },
  {
   "cell_type": "code",
   "execution_count": 78,
   "metadata": {},
   "outputs": [
    {
     "data": {
      "text/plain": [
       "array([[0.029201116296087886, 4.771797421493829e-09,\n",
       "        1.2935428351476767e-08, 4.981702106021496e-09,\n",
       "        9.070313881198484e-09, 0.029116451437852613,\n",
       "        4.9227822505297965e-09, 1.2703396438496882e-08,\n",
       "        4.867625658142621e-09, 9.434727124681584e-09],\n",
       "       [384867.9243022264, 0.06289183434563035, 0.17048771043934374,\n",
       "        0.065658358043435, 0.11954587080954192, 383752.0495555231,\n",
       "        0.0648817999744438, 0.16742955198351764, 0.06415484135380778,\n",
       "        0.1243488025600097],\n",
       "       [141894.27156383658, 0.02318715189883927, 0.06285592525601134,\n",
       "        0.024207122231715908, 0.04407453358899293, 141482.86748378232,\n",
       "        0.02392081845172099, 0.06172843413758945, 0.023652801146513712,\n",
       "        0.04584529300818599],\n",
       "       [351369.7591475427, 0.05741784984143833, 0.1556487874724708,\n",
       "        0.05994358062852842, 0.1091408277517218, 350351.00799622544,\n",
       "        0.05923461268280985, 0.15285680525673584, 0.05857092714469645,\n",
       "        0.11352572154463432],\n",
       "       [201480.6782209251, 0.032924254369831804, 0.08925134405505186,\n",
       "        0.03437254620126599, 0.06258298394932847, 200896.51106492474,\n",
       "        0.03396601337132972, 0.08765037966992154, 0.03358544615157545,\n",
       "        0.0650973476710845]], dtype=object)"
      ]
     },
     "execution_count": 78,
     "metadata": {},
     "output_type": "execute_result"
    }
   ],
   "source": [
    "se_beta[(icnt):(icnt+k*p),].T"
   ]
  },
  {
   "cell_type": "code",
   "execution_count": 79,
   "metadata": {},
   "outputs": [
    {
     "name": "stdout",
     "output_type": "stream",
     "text": [
      "AR(1) matrix:\n",
      "-0.037 0.000 -0.000 -0.000 -0.000\n",
      "17138.438 0.396 -0.130 -0.095 -0.041\n",
      "-191788.741 -0.013 0.399 -0.064 -0.018\n",
      "450920.415 0.085 -0.354 0.342 0.244\n",
      "56166.943 0.021 -0.008 -0.026 0.594\n",
      "standard errors:\n",
      "0.029 0.000 0.000 0.000 0.000\n",
      "384867.924 0.063 0.170 0.066 0.120\n",
      "141894.272 0.023 0.063 0.024 0.044\n",
      "351369.759 0.057 0.156 0.060 0.109\n",
      "201480.678 0.033 0.089 0.034 0.063\n",
      "AR(2) matrix:\n",
      "0.901 0.000 0.000 0.000 0.000\n",
      "509817.306 0.287 -0.194 0.173 -0.235\n",
      "-123541.593 0.009 0.112 0.046 0.016\n",
      "307843.706 -0.055 0.235 0.240 -0.181\n",
      "281676.530 -0.090 0.110 0.045 0.205\n",
      "standard errors:\n",
      "0.029 0.000 0.000 0.000 0.000\n",
      "383752.050 0.065 0.167 0.064 0.124\n",
      "141482.867 0.024 0.062 0.024 0.046\n",
      "350351.008 0.059 0.153 0.059 0.114\n",
      "200896.511 0.034 0.088 0.034 0.065\n",
      "coefficients of exogenous variables:\n",
      "l0 coefficient matrix\n",
      "0.000 -0.641 0.174 8.362 1.265 -0.000\n",
      "1113.370 2284145.527 -3521008.297 -16393041.761 2684952.219 0.286\n",
      "713.190 2296484.227 -2802227.945 97694509.677 -9339239.983 0.943\n",
      "-146.026 -4722989.111 1936915.614 -537504183.378 50484296.635 1.944\n",
      "-434.704 -547034.338 5470173.167 -16753988.946 148381298.079 0.454\n",
      "standard errors:\n",
      "0.000 0.494 0.278 5.575 2.777 0.000\n",
      "1027.261 6510487.012 3660417.514 73483632.780 36604653.396 0.129\n",
      "378.734 2400306.063 1349533.811 27092168.214 13495514.439 0.047\n",
      "937.850 5943826.724 3341821.802 67087758.477 33418654.648 0.117\n",
      "537.777 3408279.194 1916250.632 38469124.694 19162756.693 0.067\n",
      "l1 coefficient matrix\n",
      "0.000 0.336 0.272 -9.358 2.968 0.000\n",
      "2023.431 -2352823.852 -1182408.136 -3484681.725 -6772264.112 -0.274\n",
      "-164.252 -9744850.414 1217384.971 -72328562.843 -8965694.600 -0.407\n",
      "1485.666 1086524.851 7340718.960 285041559.574 -45484348.972 -0.761\n",
      "-67.728 2730980.325 -7323103.327 -15593458.348 -79141011.004 -0.192\n",
      "standard errors:\n",
      "0.000 0.725 0.329 6.665 3.481 0.000\n",
      "941.750 9559215.227 4330767.315 87844565.908 45873710.343 0.245\n",
      "347.207 3524320.411 1596680.405 32386800.519 16912858.417 0.090\n",
      "859.782 8727199.488 3953825.643 80198743.560 41880950.676 0.223\n",
      "493.012 5004306.791 2267182.794 45987159.749 24015163.875 0.128\n"
     ]
    }
   ],
   "source": [
    "phi = np.NaN\n",
    "\n",
    "if (p > 0):\n",
    "    phi = beta[(icnt):(icnt+k*p),].T\n",
    "    se_phi = se_beta[(icnt):(icnt+k*p),].T\n",
    "    for i in range(1, p+1):\n",
    "        print('AR(' + str(i) + ') matrix:')\n",
    "        jcnt = (i-1) * k\n",
    "        print('\\n'.join([' '.join(['{:.3f}'.format(item) for item in row]) for row in phi[:,jcnt:(jcnt+k)]]))\n",
    "        print('standard errors:')\n",
    "        print('\\n'.join([' '.join(['{:.3f}'.format(item) for item in row]) for row in se_phi[:,jcnt:(jcnt+k)]]))\n",
    "    icnt = icnt + k * p\n",
    "\n",
    "if (m > -1):\n",
    "    print('coefficients of exogenous variables:')\n",
    "    beta_exog = beta[icnt:icnt+(m+1)*k_x,:].T\n",
    "    se_beta_exog = se_beta[icnt:icnt+(m+1)*k_x,:].T\n",
    "    if (k_x == 1):\n",
    "        beta_exog = beta_exog.T\n",
    "        se_beta_exog = se_beta_exog.T\n",
    "    for i in range(m):\n",
    "        jdx = i * k_x\n",
    "        print('l' + str(i), 'coefficient matrix')\n",
    "        print('\\n'.join([' '.join(['{:.3f}'.format(item) for item in row]) for row in beta_exog[:,jdx:(jdx+k_x)]]))\n",
    "        print('standard errors:')\n",
    "        print('\\n'.join([' '.join(['{:.3f}'.format(item) for item in row]) for row in se_beta_exog[:,jdx:(jdx+k_x)]]))\n"
   ]
  },
  {
   "cell_type": "code",
   "execution_count": 80,
   "metadata": {},
   "outputs": [
    {
     "name": "stdout",
     "output_type": "stream",
     "text": [
      "Residual Covariance Matrix:\n",
      "0.08952 -97475.03614 -45485.74715 42688.65867 27041.90557\n",
      "-97475.03614 15551125012641.52148 1481260871694.59888 540264926379.90027 802855624622.52356\n",
      "-45485.74715 1481260871694.59888 2113820488734.42065 -390713555511.26306 55989023220.67213\n",
      "42688.65867 540264926379.90027 -390713555511.26306 12961854417268.05859 884562305059.42615\n",
      "27041.90557 802855624622.52356 55989023220.67213 884562305059.42615 4261918942657.72461\n",
      "Information Criteria:\n",
      "AIC: 116.603\n",
      "BIC: 118.577\n"
     ]
    }
   ],
   "source": [
    "print('Residual Covariance Matrix:')\n",
    "print('\\n'.join([' '.join(['{:.5f}'.format(item) for item in row]) for row in sig]))\n",
    "print('Information Criteria:')\n",
    "print('AIC:', '{:.3f}'.format(aic))\n",
    "print('BIC:', '{:.3f}'.format(bic))"
   ]
  },
  {
   "cell_type": "code",
   "execution_count": 81,
   "metadata": {},
   "outputs": [
    {
     "data": {
      "text/plain": [
       "array([[-0.037289790421066726, 1.3102397522708735e-08,\n",
       "        -1.4635152450515087e-08, -2.392539778914884e-09,\n",
       "        -5.84650858566288e-09, 0.9006206414706117, 1.229895700275815e-09,\n",
       "        8.61373069888842e-09, 1.5110658318411106e-09,\n",
       "        7.99610569849505e-09],\n",
       "       [17138.43830163777, 0.3963009043205332, -0.12962765345889693,\n",
       "        -0.0947166242446329, -0.04116506283668997, 509817.3060496822,\n",
       "        0.28683680491904795, -0.19374215927200567, 0.172712680315513,\n",
       "        -0.23500531844394068],\n",
       "       [-191788.74072440714, -0.013001773005496098, 0.3988298848855436,\n",
       "        -0.063538562990054, -0.0184656005470778, -123541.59258065745,\n",
       "        0.008867428218953144, 0.11171486351399551, 0.045634727062967784,\n",
       "        0.01573204593576527],\n",
       "       [450920.414710179, 0.0854444279052835, -0.3541487075020484,\n",
       "        0.3420190476250937, 0.24355301358018266, 307843.7061367631,\n",
       "        -0.05507682361309918, 0.2345472579297052, 0.24035871853676838,\n",
       "        -0.18059846208431551],\n",
       "       [56166.94273331761, 0.020570292105885457, -0.008493908070406064,\n",
       "        -0.025992605011783354, 0.5939657892548595, 281676.5303412415,\n",
       "        -0.09042617476177739, 0.11038087956366383, 0.045318471074281774,\n",
       "        0.20462993840168675]], dtype=object)"
      ]
     },
     "execution_count": 81,
     "metadata": {},
     "output_type": "execute_result"
    }
   ],
   "source": [
    "phi"
   ]
  },
  {
   "cell_type": "code",
   "execution_count": 82,
   "metadata": {},
   "outputs": [
    {
     "data": {
      "text/plain": [
       "264"
      ]
     },
     "execution_count": 82,
     "metadata": {},
     "output_type": "execute_result"
    }
   ],
   "source": [
    "nt"
   ]
  },
  {
   "cell_type": "code",
   "execution_count": 83,
   "metadata": {},
   "outputs": [
    {
     "data": {
      "text/plain": [
       "262"
      ]
     },
     "execution_count": 83,
     "metadata": {},
     "output_type": "execute_result"
    }
   ],
   "source": [
    "zt.shape[0]"
   ]
  },
  {
   "cell_type": "code",
   "execution_count": 84,
   "metadata": {},
   "outputs": [
    {
     "data": {
      "text/plain": [
       "262"
      ]
     },
     "execution_count": 84,
     "metadata": {},
     "output_type": "execute_result"
    }
   ],
   "source": [
    "n_t = zt.shape[0]\n",
    "n_t"
   ]
  },
  {
   "cell_type": "code",
   "execution_count": 85,
   "metadata": {},
   "outputs": [
    {
     "data": {
      "text/plain": [
       "5"
      ]
     },
     "execution_count": 85,
     "metadata": {},
     "output_type": "execute_result"
    }
   ],
   "source": [
    "k = zt.shape[1]\n",
    "k"
   ]
  },
  {
   "cell_type": "code",
   "execution_count": 86,
   "metadata": {},
   "outputs": [
    {
     "data": {
      "text/plain": [
       "6"
      ]
     },
     "execution_count": 86,
     "metadata": {},
     "output_type": "execute_result"
    }
   ],
   "source": [
    "dim_x = xt.shape[1]\n",
    "dim_x"
   ]
  },
  {
   "cell_type": "code",
   "execution_count": 87,
   "metadata": {},
   "outputs": [],
   "source": [
    "se = np.NaN"
   ]
  },
  {
   "cell_type": "code",
   "execution_count": 88,
   "metadata": {},
   "outputs": [
    {
     "data": {
      "text/plain": [
       "5"
      ]
     },
     "execution_count": 88,
     "metadata": {},
     "output_type": "execute_result"
    }
   ],
   "source": [
    "len(ph0)"
   ]
  },
  {
   "cell_type": "code",
   "execution_count": 90,
   "metadata": {},
   "outputs": [],
   "source": [
    "ph0 = ph0.reshape((5, 1))"
   ]
  },
  {
   "cell_type": "code",
   "execution_count": 91,
   "metadata": {},
   "outputs": [
    {
     "data": {
      "text/plain": [
       "5"
      ]
     },
     "execution_count": 91,
     "metadata": {},
     "output_type": "execute_result"
    }
   ],
   "source": [
    "len(ph0)"
   ]
  },
  {
   "cell_type": "code",
   "execution_count": 92,
   "metadata": {},
   "outputs": [
    {
     "data": {
      "text/plain": [
       "array([[5.31165049e+00, 2.02400590e+07, 1.04749930e+07, 2.05744330e+07,\n",
       "        2.90060800e+06],\n",
       "       [5.10495050e+00, 2.17454780e+07, 1.11280770e+07, 2.36755960e+07,\n",
       "        2.57764500e+06],\n",
       "       [5.42688911e+00, 2.20592990e+07, 1.08740510e+07, 2.52982190e+07,\n",
       "        2.55442800e+06],\n",
       "       [5.18485742e+00, 2.66494410e+07, 1.20819980e+07, 2.31175660e+07,\n",
       "        3.08994100e+06],\n",
       "       [5.49752230e+00, 2.14527190e+07, 1.06082760e+07, 1.98399680e+07,\n",
       "        2.38285100e+06],\n",
       "       [5.16601562e+00, 2.50536860e+07, 1.18835050e+07, 2.50155510e+07,\n",
       "        2.67922200e+06],\n",
       "       [5.43177388e+00, 2.30308090e+07, 1.07217360e+07, 2.02529610e+07,\n",
       "        2.69959600e+06],\n",
       "       [5.22243714e+00, 3.43701930e+07, 1.62065830e+07, 2.52188260e+07,\n",
       "        3.38065500e+06],\n",
       "       [5.44106090e+00, 2.22669730e+07, 1.80067860e+07, 2.65209990e+07,\n",
       "        3.29365900e+06],\n",
       "       [5.31108930e+00, 2.22674090e+07, 1.07621160e+07, 2.11857580e+07,\n",
       "        2.95549200e+06]])"
      ]
     },
     "execution_count": 92,
     "metadata": {},
     "output_type": "execute_result"
    }
   ],
   "source": [
    "zt[0:10]"
   ]
  },
  {
   "cell_type": "code",
   "execution_count": 93,
   "metadata": {},
   "outputs": [],
   "source": [
    "origin = n_t"
   ]
  },
  {
   "cell_type": "code",
   "execution_count": 94,
   "metadata": {},
   "outputs": [
    {
     "data": {
      "text/plain": [
       "(262, 6)"
      ]
     },
     "execution_count": 94,
     "metadata": {},
     "output_type": "execute_result"
    }
   ],
   "source": [
    "xt[0:(origin)].shape"
   ]
  },
  {
   "cell_type": "code",
   "execution_count": 95,
   "metadata": {},
   "outputs": [
    {
     "data": {
      "text/plain": [
       "array([15385.4, 0.09481411260012769, False, 0.04772618069781851,\n",
       "       0.02931248946657184, 18878472.55868037], dtype=object)"
      ]
     },
     "execution_count": 95,
     "metadata": {},
     "output_type": "execute_result"
    }
   ],
   "source": [
    "xt[-1]"
   ]
  },
  {
   "cell_type": "code",
   "execution_count": 96,
   "metadata": {},
   "outputs": [
    {
     "data": {
      "text/plain": [
       "array([1.])"
      ]
     },
     "execution_count": 96,
     "metadata": {},
     "output_type": "execute_result"
    }
   ],
   "source": [
    "np.diag(np.ones((1,k)))"
   ]
  },
  {
   "cell_type": "code",
   "execution_count": 97,
   "metadata": {},
   "outputs": [
    {
     "data": {
      "text/plain": [
       "array([1., 1., 1., 1., 1.])"
      ]
     },
     "execution_count": 97,
     "metadata": {},
     "output_type": "execute_result"
    }
   ],
   "source": [
    "np.ones(k)"
   ]
  },
  {
   "cell_type": "code",
   "execution_count": 98,
   "metadata": {},
   "outputs": [
    {
     "data": {
      "text/plain": [
       "array([[0., 0., 0., 0., 0.],\n",
       "       [0., 0., 0., 0., 0.],\n",
       "       [0., 0., 0., 0., 0.],\n",
       "       [0., 0., 0., 0., 0.],\n",
       "       [0., 0., 0., 0., 0.]])"
      ]
     },
     "execution_count": 98,
     "metadata": {},
     "output_type": "execute_result"
    }
   ],
   "source": [
    "np.zeros((k, k))"
   ]
  },
  {
   "cell_type": "code",
   "execution_count": 99,
   "metadata": {},
   "outputs": [],
   "source": [
    "def psi_weights(phi, lag):\n",
    "        k = phi.shape[0]\n",
    "        m = phi.shape[1]\n",
    "        p = np.floor(m/k)\n",
    "        si = np.zeros((k, k))\n",
    "        np.fill_diagonal(si, 1)\n",
    "        if (p < 1):\n",
    "            p = 1\n",
    "        if (lag < 1):\n",
    "            lag = 1\n",
    "        \n",
    "        for i in range(1, (lag+1)):\n",
    "            if (i < (p+1)):\n",
    "                id_x = (i-1) * k\n",
    "                t_p = phi[:, (id_x):(id_x+k)]\n",
    "            else:\n",
    "                t_p = np.zeros((k, k))\n",
    "            jj = i-1\n",
    "            jp = np.minimum(jj, p).astype(int)\n",
    "            if (jp > 0):\n",
    "                for j in range(1, (jp+1)):\n",
    "                    jd_x = (j-1) * k\n",
    "                    id_x = (i-j) * k\n",
    "                    w1 = phi[:, (jd_x):(jd_x+k)]\n",
    "                    w2 = si[:, (id_x):(id_x+k)]\n",
    "                    t_p = t_p + np.dot(w1, w2)\n",
    "            si = np.concatenate((si, t_p), axis=1)\n",
    "        \n",
    "        return si"
   ]
  },
  {
   "cell_type": "code",
   "execution_count": 100,
   "metadata": {},
   "outputs": [],
   "source": [
    "test = psi_weights(phi, 2)"
   ]
  },
  {
   "cell_type": "code",
   "execution_count": 101,
   "metadata": {},
   "outputs": [
    {
     "data": {
      "text/plain": [
       "array([[1.0, 0.0, 0.0, 0.0, 0.0, -0.037289790421066726,\n",
       "        1.3102397522708735e-08, -1.4635152450515087e-08,\n",
       "        -2.392539778914884e-09, -5.84650858566288e-09,\n",
       "        0.9036353564883596, 5.799391377662846e-09, 2.521077830682181e-09,\n",
       "        6.228366435303103e-10, 3.8896702803788395e-09],\n",
       "       [0.0, 1.0, 0.0, 0.0, 0.0, 17138.43830163777, 0.3963009043205332,\n",
       "        -0.12962765345889693, -0.0947166242446329, -0.04116506283668997,\n",
       "        495809.5450834923, 0.43686137050256435, -0.2631704990123772,\n",
       "        0.11204684450252884, -0.2965447759390234],\n",
       "       [0.0, 0.0, 1.0, 0.0, 0.0, -191788.74072440714,\n",
       "        -0.013001773005496098, 0.3988298848855436, -0.063538562990054,\n",
       "        -0.0184656005470778, -222791.7336058773, -0.009792433095109108,\n",
       "        0.29793133244909, 0.0007325657994586773, -0.016419017580521805],\n",
       "       [0.0, 0.0, 0.0, 1.0, 0.0, 450920.414710179, 0.0854444279052835,\n",
       "        -0.3541487075020484, 0.3420190476250937, 0.24355301358018266,\n",
       "        528318.0960326805, 0.023531158554333284, -0.04756740058366249,\n",
       "        0.3643354173521691, 0.04774939885032975],\n",
       "       [0.0, 0.0, 0.0, 0.0, 1.0, 56166.94273331761, 0.020570292105885457,\n",
       "        -0.008493908070406064, -0.025992605011783354, 0.5939657892548595,\n",
       "        303204.3016721958, -0.07143066540121391, 0.10766492137812131,\n",
       "        0.01944674735246091, 0.5500764071588988]], dtype=object)"
      ]
     },
     "execution_count": 101,
     "metadata": {},
     "output_type": "execute_result"
    }
   ],
   "source": [
    "test"
   ]
  },
  {
   "cell_type": "code",
   "execution_count": 102,
   "metadata": {},
   "outputs": [
    {
     "data": {
      "text/plain": [
       "(5, 15)"
      ]
     },
     "execution_count": 102,
     "metadata": {},
     "output_type": "execute_result"
    }
   ],
   "source": [
    "test.shape"
   ]
  },
  {
   "cell_type": "code",
   "execution_count": 103,
   "metadata": {},
   "outputs": [
    {
     "data": {
      "text/plain": [
       "array([[-0.037289790421066726, 1.3102397522708735e-08,\n",
       "        -1.4635152450515087e-08, -2.392539778914884e-09,\n",
       "        -5.84650858566288e-09, 0.9006206414706117, 1.229895700275815e-09,\n",
       "        8.61373069888842e-09, 1.5110658318411106e-09,\n",
       "        7.99610569849505e-09],\n",
       "       [17138.43830163777, 0.3963009043205332, -0.12962765345889693,\n",
       "        -0.0947166242446329, -0.04116506283668997, 509817.3060496822,\n",
       "        0.28683680491904795, -0.19374215927200567, 0.172712680315513,\n",
       "        -0.23500531844394068],\n",
       "       [-191788.74072440714, -0.013001773005496098, 0.3988298848855436,\n",
       "        -0.063538562990054, -0.0184656005470778, -123541.59258065745,\n",
       "        0.008867428218953144, 0.11171486351399551, 0.045634727062967784,\n",
       "        0.01573204593576527],\n",
       "       [450920.414710179, 0.0854444279052835, -0.3541487075020484,\n",
       "        0.3420190476250937, 0.24355301358018266, 307843.7061367631,\n",
       "        -0.05507682361309918, 0.2345472579297052, 0.24035871853676838,\n",
       "        -0.18059846208431551],\n",
       "       [56166.94273331761, 0.020570292105885457, -0.008493908070406064,\n",
       "        -0.025992605011783354, 0.5939657892548595, 281676.5303412415,\n",
       "        -0.09042617476177739, 0.11038087956366383, 0.045318471074281774,\n",
       "        0.20462993840168675]], dtype=object)"
      ]
     },
     "execution_count": 103,
     "metadata": {},
     "output_type": "execute_result"
    }
   ],
   "source": [
    "phi"
   ]
  },
  {
   "cell_type": "code",
   "execution_count": 104,
   "metadata": {},
   "outputs": [],
   "source": [
    "weights = psi_weights(phi, 2)"
   ]
  },
  {
   "cell_type": "code",
   "execution_count": 105,
   "metadata": {},
   "outputs": [
    {
     "data": {
      "text/plain": [
       "array([[ 8.95235479e-02, -9.74750361e+04, -4.54857472e+04,\n",
       "         4.26886587e+04,  2.70419056e+04],\n",
       "       [-9.74750361e+04,  1.55511250e+13,  1.48126087e+12,\n",
       "         5.40264926e+11,  8.02855625e+11],\n",
       "       [-4.54857472e+04,  1.48126087e+12,  2.11382049e+12,\n",
       "        -3.90713556e+11,  5.59890232e+10],\n",
       "       [ 4.26886587e+04,  5.40264926e+11, -3.90713556e+11,\n",
       "         1.29618544e+13,  8.84562305e+11],\n",
       "       [ 2.70419056e+04,  8.02855625e+11,  5.59890232e+10,\n",
       "         8.84562305e+11,  4.26191894e+12]])"
      ]
     },
     "execution_count": 105,
     "metadata": {},
     "output_type": "execute_result"
    }
   ],
   "source": [
    "sig"
   ]
  },
  {
   "cell_type": "code",
   "execution_count": 106,
   "metadata": {},
   "outputs": [
    {
     "data": {
      "text/plain": [
       "array([8.95235479e-02, 1.55511250e+13, 2.11382049e+12, 1.29618544e+13,\n",
       "       4.26191894e+12])"
      ]
     },
     "execution_count": 106,
     "metadata": {},
     "output_type": "execute_result"
    }
   ],
   "source": [
    "np.diag(sig)"
   ]
  },
  {
   "cell_type": "code",
   "execution_count": 107,
   "metadata": {},
   "outputs": [
    {
     "data": {
      "text/plain": [
       "array([2.99204859e-01, 3.94349147e+06, 1.45389838e+06, 3.60025755e+06,\n",
       "       2.06444156e+06])"
      ]
     },
     "execution_count": 107,
     "metadata": {},
     "output_type": "execute_result"
    }
   ],
   "source": [
    "np.diag(sig)**(1/2)"
   ]
  },
  {
   "cell_type": "code",
   "execution_count": 108,
   "metadata": {},
   "outputs": [],
   "source": [
    "se = np.diag(sig)**(1/2)"
   ]
  },
  {
   "cell_type": "code",
   "execution_count": 109,
   "metadata": {},
   "outputs": [
    {
     "data": {
      "text/plain": [
       "(5,)"
      ]
     },
     "execution_count": 109,
     "metadata": {},
     "output_type": "execute_result"
    }
   ],
   "source": [
    "se.shape"
   ]
  },
  {
   "cell_type": "code",
   "execution_count": 110,
   "metadata": {},
   "outputs": [],
   "source": [
    "se = se.reshape(1, k)"
   ]
  },
  {
   "cell_type": "code",
   "execution_count": 111,
   "metadata": {},
   "outputs": [
    {
     "data": {
      "text/plain": [
       "(1, 5)"
      ]
     },
     "execution_count": 111,
     "metadata": {},
     "output_type": "execute_result"
    }
   ],
   "source": [
    "se.shape"
   ]
  },
  {
   "cell_type": "code",
   "execution_count": 112,
   "metadata": {},
   "outputs": [
    {
     "data": {
      "text/plain": [
       "array([[2.99204859e-01, 3.94349147e+06, 1.45389838e+06, 3.60025755e+06,\n",
       "        2.06444156e+06]])"
      ]
     },
     "execution_count": 112,
     "metadata": {},
     "output_type": "execute_result"
    }
   ],
   "source": [
    "se"
   ]
  },
  {
   "cell_type": "code",
   "execution_count": 113,
   "metadata": {},
   "outputs": [
    {
     "data": {
      "text/plain": [
       "array([[1.0, 0.0, 0.0, 0.0, 0.0, -0.037289790421066726,\n",
       "        1.3102397522708735e-08, -1.4635152450515087e-08,\n",
       "        -2.392539778914884e-09, -5.84650858566288e-09,\n",
       "        0.9036353564883596, 5.799391377662846e-09, 2.521077830682181e-09,\n",
       "        6.228366435303103e-10, 3.8896702803788395e-09],\n",
       "       [0.0, 1.0, 0.0, 0.0, 0.0, 17138.43830163777, 0.3963009043205332,\n",
       "        -0.12962765345889693, -0.0947166242446329, -0.04116506283668997,\n",
       "        495809.5450834923, 0.43686137050256435, -0.2631704990123772,\n",
       "        0.11204684450252884, -0.2965447759390234],\n",
       "       [0.0, 0.0, 1.0, 0.0, 0.0, -191788.74072440714,\n",
       "        -0.013001773005496098, 0.3988298848855436, -0.063538562990054,\n",
       "        -0.0184656005470778, -222791.7336058773, -0.009792433095109108,\n",
       "        0.29793133244909, 0.0007325657994586773, -0.016419017580521805],\n",
       "       [0.0, 0.0, 0.0, 1.0, 0.0, 450920.414710179, 0.0854444279052835,\n",
       "        -0.3541487075020484, 0.3420190476250937, 0.24355301358018266,\n",
       "        528318.0960326805, 0.023531158554333284, -0.04756740058366249,\n",
       "        0.3643354173521691, 0.04774939885032975],\n",
       "       [0.0, 0.0, 0.0, 0.0, 1.0, 56166.94273331761, 0.020570292105885457,\n",
       "        -0.008493908070406064, -0.025992605011783354, 0.5939657892548595,\n",
       "        303204.3016721958, -0.07143066540121391, 0.10766492137812131,\n",
       "        0.01944674735246091, 0.5500764071588988]], dtype=object)"
      ]
     },
     "execution_count": 113,
     "metadata": {},
     "output_type": "execute_result"
    }
   ],
   "source": [
    "weights"
   ]
  },
  {
   "cell_type": "code",
   "execution_count": 115,
   "metadata": {},
   "outputs": [],
   "source": [
    "hstep = 4\n",
    "si = sig\n",
    "\n",
    "if hstep > 1:\n",
    "    for i in range(2, hstep):\n",
    "        id_x = (i-1) * k\n",
    "        wk = weights[:, (id_x):(id_x+k)]\n",
    "        si = si + np.linalg.multi_dot([wk, sig, wk.T])\n",
    "        se1 = np.diag(si)**(1/2)\n",
    "        se1 = se1.reshape(1, k)\n",
    "        se = np.concatenate((se, se1), axis=0)\n"
   ]
  },
  {
   "cell_type": "code",
   "execution_count": 116,
   "metadata": {},
   "outputs": [
    {
     "data": {
      "text/plain": [
       "array([[0.07280389640275492, 43165.02785826735, -26821.26363618572,\n",
       "        65208.10259287418, 47286.6451799784],\n",
       "       [43165.027858267356, 3117532424028.6294, -45976190150.73587,\n",
       "        676368476130.6045, -855603826556.7678],\n",
       "       [-26821.26363618572, -45976190150.73585, 191384661715.0027,\n",
       "        -92903025809.52106, -3319820211.6330185],\n",
       "       [65208.10259287419, 676368476130.6044, -92903025809.52106,\n",
       "        1838137037532.697, 360194831969.22406],\n",
       "       [47286.6451799784, -855603826556.7677, -3319820211.633003,\n",
       "        360194831969.22406, 1353890811041.7114]], dtype=object)"
      ]
     },
     "execution_count": 116,
     "metadata": {},
     "output_type": "execute_result"
    }
   ],
   "source": [
    "np.linalg.multi_dot([wk, sig, wk.T])"
   ]
  },
  {
   "cell_type": "code",
   "execution_count": 117,
   "metadata": {},
   "outputs": [
    {
     "data": {
      "text/plain": [
       "array([[0.1651412873174546, 21160.408449888942, -75589.53008828551,\n",
       "        111611.51178347174, 67622.10896863604],\n",
       "       [21160.408449888935, 21047740396823.027, 1566599314494.5547,\n",
       "        1251366150041.9556, 120253769568.10876],\n",
       "       [-75589.53008828551, 1566599314494.5547, 2715818079901.95,\n",
       "        -1150065170214.5981, 802255660.5675507],\n",
       "       [111611.51178347177, 1251366150041.9556, -1150065170214.5981,\n",
       "        17199724596435.938, 1984908670873.2778],\n",
       "       [67622.10896863604, 120253769568.10901, 802255660.5675735,\n",
       "        1984908670873.2778, 7127138038486.875]], dtype=object)"
      ]
     },
     "execution_count": 117,
     "metadata": {},
     "output_type": "execute_result"
    }
   ],
   "source": [
    "si"
   ]
  },
  {
   "cell_type": "code",
   "execution_count": 118,
   "metadata": {},
   "outputs": [],
   "source": [
    "wk = weights[:, (id_x):(id_x+k)]"
   ]
  },
  {
   "cell_type": "code",
   "execution_count": 119,
   "metadata": {},
   "outputs": [
    {
     "data": {
      "text/plain": [
       "array([[0.9036353564883596, 5.799391377662846e-09, 2.521077830682181e-09,\n",
       "        6.228366435303103e-10, 3.8896702803788395e-09],\n",
       "       [495809.5450834923, 0.43686137050256435, -0.2631704990123772,\n",
       "        0.11204684450252884, -0.2965447759390234],\n",
       "       [-222791.7336058773, -0.009792433095109108, 0.29793133244909,\n",
       "        0.0007325657994586773, -0.016419017580521805],\n",
       "       [528318.0960326805, 0.023531158554333284, -0.04756740058366249,\n",
       "        0.3643354173521691, 0.04774939885032975],\n",
       "       [303204.3016721958, -0.07143066540121391, 0.10766492137812131,\n",
       "        0.01944674735246091, 0.5500764071588988]], dtype=object)"
      ]
     },
     "execution_count": 119,
     "metadata": {},
     "output_type": "execute_result"
    }
   ],
   "source": [
    "wk"
   ]
  },
  {
   "cell_type": "code",
   "execution_count": 120,
   "metadata": {},
   "outputs": [
    {
     "data": {
      "text/plain": [
       "array([[ 8.95235479e-02, -9.74750361e+04, -4.54857472e+04,\n",
       "         4.26886587e+04,  2.70419056e+04],\n",
       "       [-9.74750361e+04,  1.55511250e+13,  1.48126087e+12,\n",
       "         5.40264926e+11,  8.02855625e+11],\n",
       "       [-4.54857472e+04,  1.48126087e+12,  2.11382049e+12,\n",
       "        -3.90713556e+11,  5.59890232e+10],\n",
       "       [ 4.26886587e+04,  5.40264926e+11, -3.90713556e+11,\n",
       "         1.29618544e+13,  8.84562305e+11],\n",
       "       [ 2.70419056e+04,  8.02855625e+11,  5.59890232e+10,\n",
       "         8.84562305e+11,  4.26191894e+12]])"
      ]
     },
     "execution_count": 120,
     "metadata": {},
     "output_type": "execute_result"
    }
   ],
   "source": [
    "sig"
   ]
  },
  {
   "cell_type": "code",
   "execution_count": 121,
   "metadata": {},
   "outputs": [],
   "source": [
    "si = np.linalg.multi_dot([wk, sig, wk.T])"
   ]
  },
  {
   "cell_type": "code",
   "execution_count": 122,
   "metadata": {},
   "outputs": [
    {
     "data": {
      "text/plain": [
       "array([[0.07280389640275492, 43165.02785826735, -26821.26363618572,\n",
       "        65208.10259287418, 47286.6451799784],\n",
       "       [43165.027858267356, 3117532424028.6294, -45976190150.73587,\n",
       "        676368476130.6045, -855603826556.7678],\n",
       "       [-26821.26363618572, -45976190150.73585, 191384661715.0027,\n",
       "        -92903025809.52106, -3319820211.6330185],\n",
       "       [65208.10259287419, 676368476130.6044, -92903025809.52106,\n",
       "        1838137037532.697, 360194831969.22406],\n",
       "       [47286.6451799784, -855603826556.7677, -3319820211.633003,\n",
       "        360194831969.22406, 1353890811041.7114]], dtype=object)"
      ]
     },
     "execution_count": 122,
     "metadata": {},
     "output_type": "execute_result"
    }
   ],
   "source": [
    "si"
   ]
  },
  {
   "cell_type": "code",
   "execution_count": 123,
   "metadata": {},
   "outputs": [
    {
     "data": {
      "text/plain": [
       "array([0.2698219716827281, 1765653.540202219, 437475.32697856537,\n",
       "       1355779.1256442538, 1163568.1376875665], dtype=object)"
      ]
     },
     "execution_count": 123,
     "metadata": {},
     "output_type": "execute_result"
    }
   ],
   "source": [
    "np.diag(si)**(1/2)"
   ]
  },
  {
   "cell_type": "code",
   "execution_count": 124,
   "metadata": {},
   "outputs": [
    {
     "data": {
      "text/plain": [
       "array([[0.08034844626481503, 9298.88567829971, -27208.583724795644,\n",
       "        52236.94337564327, 46361.6459216408],\n",
       "       [10538.052114981034, 6177984908661.951, 7876720687.945698,\n",
       "        1550033157780.7, -815327798663.8386],\n",
       "       [-32954.94718896573, 297960985246.7499, 624196547102.3972,\n",
       "        -136235231409.01231, -66534260675.47921],\n",
       "       [64011.07359727869, 479151954484.7386, -229401448961.69818,\n",
       "        4818551435808.441, 556297042818.089],\n",
       "       [44914.68193899865, -528763889376.84344, 131185525759.65752,\n",
       "        670928520268.6592, 2318461683634.361]], dtype=object)"
      ]
     },
     "execution_count": 124,
     "metadata": {},
     "output_type": "execute_result"
    }
   ],
   "source": [
    "np.dot(wk, sig)"
   ]
  },
  {
   "cell_type": "code",
   "execution_count": 125,
   "metadata": {},
   "outputs": [
    {
     "data": {
      "text/plain": [
       "array([[0.29920485938152364, 3943491.4749041265, 1453898.3763435534,\n",
       "        3600257.548741209, 2064441.5570942482],\n",
       "       [0.30387068123578437, 4234407.629503139, 1588846.5684851222,\n",
       "        3919386.120160049, 2402758.254058274],\n",
       "       [0.40637579568356996, 4587781.642234406, 1647973.9318029124,\n",
       "        4147255.067684641, 2669670.024270205]], dtype=object)"
      ]
     },
     "execution_count": 125,
     "metadata": {},
     "output_type": "execute_result"
    }
   ],
   "source": [
    "se"
   ]
  },
  {
   "cell_type": "code",
   "execution_count": 126,
   "metadata": {},
   "outputs": [],
   "source": [
    "kx = beta.shape[1]"
   ]
  },
  {
   "cell_type": "code",
   "execution_count": 127,
   "metadata": {},
   "outputs": [
    {
     "data": {
      "text/plain": [
       "1.6666666666666667"
      ]
     },
     "execution_count": 127,
     "metadata": {},
     "output_type": "execute_result"
    }
   ],
   "source": [
    "kx / (1 + m)"
   ]
  },
  {
   "cell_type": "code",
   "execution_count": 128,
   "metadata": {},
   "outputs": [
    {
     "data": {
      "text/plain": [
       "5"
      ]
     },
     "execution_count": 128,
     "metadata": {},
     "output_type": "execute_result"
    }
   ],
   "source": [
    "phi.shape[0]"
   ]
  },
  {
   "cell_type": "code",
   "execution_count": 129,
   "metadata": {},
   "outputs": [],
   "source": [
    "k = phi.shape[0]"
   ]
  },
  {
   "cell_type": "code",
   "execution_count": 130,
   "metadata": {},
   "outputs": [],
   "source": [
    "si = np.diag(np.ones(k))"
   ]
  },
  {
   "cell_type": "code",
   "execution_count": 131,
   "metadata": {},
   "outputs": [
    {
     "data": {
      "text/plain": [
       "array([[1., 0., 0., 0., 0.],\n",
       "       [0., 1., 0., 0., 0.],\n",
       "       [0., 0., 1., 0., 0.],\n",
       "       [0., 0., 0., 1., 0.],\n",
       "       [0., 0., 0., 0., 1.]])"
      ]
     },
     "execution_count": 131,
     "metadata": {},
     "output_type": "execute_result"
    }
   ],
   "source": [
    "si"
   ]
  },
  {
   "cell_type": "code",
   "execution_count": 132,
   "metadata": {},
   "outputs": [],
   "source": [
    "wk = si"
   ]
  },
  {
   "cell_type": "code",
   "execution_count": 133,
   "metadata": {},
   "outputs": [
    {
     "data": {
      "text/plain": [
       "array([[-0.037289790421066726, 1.3102397522708735e-08,\n",
       "        -1.4635152450515087e-08, -2.392539778914884e-09,\n",
       "        -5.84650858566288e-09, 0.9006206414706117, 1.229895700275815e-09,\n",
       "        8.61373069888842e-09, 1.5110658318411106e-09,\n",
       "        7.99610569849505e-09],\n",
       "       [17138.43830163777, 0.3963009043205332, -0.12962765345889693,\n",
       "        -0.0947166242446329, -0.04116506283668997, 509817.3060496822,\n",
       "        0.28683680491904795, -0.19374215927200567, 0.172712680315513,\n",
       "        -0.23500531844394068],\n",
       "       [-191788.74072440714, -0.013001773005496098, 0.3988298848855436,\n",
       "        -0.063538562990054, -0.0184656005470778, -123541.59258065745,\n",
       "        0.008867428218953144, 0.11171486351399551, 0.045634727062967784,\n",
       "        0.01573204593576527],\n",
       "       [450920.414710179, 0.0854444279052835, -0.3541487075020484,\n",
       "        0.3420190476250937, 0.24355301358018266, 307843.7061367631,\n",
       "        -0.05507682361309918, 0.2345472579297052, 0.24035871853676838,\n",
       "        -0.18059846208431551],\n",
       "       [56166.94273331761, 0.020570292105885457, -0.008493908070406064,\n",
       "        -0.025992605011783354, 0.5939657892548595, 281676.5303412415,\n",
       "        -0.09042617476177739, 0.11038087956366383, 0.045318471074281774,\n",
       "        0.20462993840168675]], dtype=object)"
      ]
     },
     "execution_count": 133,
     "metadata": {},
     "output_type": "execute_result"
    }
   ],
   "source": [
    "phi"
   ]
  },
  {
   "cell_type": "code",
   "execution_count": 134,
   "metadata": {},
   "outputs": [
    {
     "data": {
      "text/plain": [
       "array([[ 8.95235479e-02, -9.74750361e+04, -4.54857472e+04,\n",
       "         4.26886587e+04,  2.70419056e+04],\n",
       "       [-9.74750361e+04,  1.55511250e+13,  1.48126087e+12,\n",
       "         5.40264926e+11,  8.02855625e+11],\n",
       "       [-4.54857472e+04,  1.48126087e+12,  2.11382049e+12,\n",
       "        -3.90713556e+11,  5.59890232e+10],\n",
       "       [ 4.26886587e+04,  5.40264926e+11, -3.90713556e+11,\n",
       "         1.29618544e+13,  8.84562305e+11],\n",
       "       [ 2.70419056e+04,  8.02855625e+11,  5.59890232e+10,\n",
       "         8.84562305e+11,  4.26191894e+12]])"
      ]
     },
     "execution_count": 134,
     "metadata": {},
     "output_type": "execute_result"
    }
   ],
   "source": [
    "sig"
   ]
  },
  {
   "cell_type": "code",
   "execution_count": 135,
   "metadata": {},
   "outputs": [
    {
     "data": {
      "text/plain": [
       "(29, 5)"
      ]
     },
     "execution_count": 135,
     "metadata": {},
     "output_type": "execute_result"
    }
   ],
   "source": [
    "beta.shape"
   ]
  },
  {
   "cell_type": "code",
   "execution_count": 136,
   "metadata": {},
   "outputs": [
    {
     "data": {
      "text/plain": [
       "(5, 18)"
      ]
     },
     "execution_count": 136,
     "metadata": {},
     "output_type": "execute_result"
    }
   ],
   "source": [
    "beta_exog.shape"
   ]
  },
  {
   "cell_type": "code",
   "execution_count": 137,
   "metadata": {},
   "outputs": [
    {
     "data": {
      "text/plain": [
       "array([[2.8576244677721435e-05, -0.6409866706598848, 0.1738395105730035,\n",
       "        8.362040606730261, 1.265310642397253, -2.4329952133119e-08,\n",
       "        6.149748934020788e-05, 0.3359759115699106, 0.27243912501968026,\n",
       "        -9.35812691281376, 2.9681928584636807, 3.130278696771287e-08,\n",
       "        -2.9323567344446966e-05, 0.042148110248220405,\n",
       "        -0.40202331575204653, -3.267125311264863, -5.803022243331043,\n",
       "        -2.736671204564946e-09],\n",
       "       [1113.370155918601, 2284145.526584983, -3521008.2969691157,\n",
       "        -16393041.760801792, 2684952.218954563, 0.285891483768399,\n",
       "        2023.4308305780578, -2352823.8519285023, -1182408.1358027458,\n",
       "        -3484681.7247371674, -6772264.11217308, -0.27420364929190555,\n",
       "        -406.6992965265381, -9728809.70672661, 7420784.908516347,\n",
       "        70218641.69461823, 107354889.95973492, -0.2366690931490325],\n",
       "       [713.1899291165028, 2296484.226872325, -2802227.9450511932,\n",
       "        97694509.67679572, -9339239.983243227, 0.9430566464177339,\n",
       "        -164.25155779140186, -9744850.414342642, 1217384.9710129648,\n",
       "        -72328562.84298325, -8965694.599568367, -0.4072361088903165,\n",
       "        567.7646874392012, 4168043.5367741287, 1648592.2630926073,\n",
       "        -41074368.80753708, 22353243.13392353, -0.35406940625102834],\n",
       "       [-146.02640580572188, -4722989.110820293, 1936915.614026904,\n",
       "        -537504183.3777943, 50484296.63536644, 1.943800752826256,\n",
       "        1485.666478840867, 1086524.851230204, 7340718.960386932,\n",
       "        285041559.5742321, -45484348.97219658, -0.7609595254945134,\n",
       "        -1935.6133305549665, -8166032.593264818, -1491862.8128124475,\n",
       "        102089161.21909332, 40020775.23933792, -0.24355653819884537],\n",
       "       [-434.7043036521136, -547034.3375933766, 5470173.166963428,\n",
       "        -16753988.945516825, 148381298.07852244, 0.45422158775582844,\n",
       "        -67.72781776131887, 2730980.325404644, -7323103.326603994,\n",
       "        -15593458.347903728, -79141011.00434017, -0.19215902447143662,\n",
       "        1113.778531880067, -2620811.9742329717, 3254781.3765143454,\n",
       "        2535154.6902484894, -25074315.877361774, -0.22790561638547047]],\n",
       "      dtype=object)"
      ]
     },
     "execution_count": 137,
     "metadata": {},
     "output_type": "execute_result"
    }
   ],
   "source": [
    "beta_exog"
   ]
  },
  {
   "cell_type": "code",
   "execution_count": 138,
   "metadata": {},
   "outputs": [
    {
     "data": {
      "text/plain": [
       "6.0"
      ]
     },
     "execution_count": 138,
     "metadata": {},
     "output_type": "execute_result"
    }
   ],
   "source": [
    "kx = np.floor(beta_exog.shape[1] / (1 + m))\n",
    "kx"
   ]
  },
  {
   "cell_type": "code",
   "execution_count": 139,
   "metadata": {},
   "outputs": [
    {
     "data": {
      "text/plain": [
       "5"
      ]
     },
     "execution_count": 139,
     "metadata": {},
     "output_type": "execute_result"
    }
   ],
   "source": [
    "k = phi.shape[0]\n",
    "k"
   ]
  },
  {
   "cell_type": "code",
   "execution_count": 140,
   "metadata": {},
   "outputs": [],
   "source": [
    "si = np.diag(np.ones(k))"
   ]
  },
  {
   "cell_type": "code",
   "execution_count": 144,
   "metadata": {},
   "outputs": [
    {
     "data": {
      "text/plain": [
       "(1, 25)"
      ]
     },
     "execution_count": 144,
     "metadata": {},
     "output_type": "execute_result"
    }
   ],
   "source": [
    "wk = si.reshape((1, 25))\n",
    "wk.shape"
   ]
  },
  {
   "cell_type": "code",
   "execution_count": 145,
   "metadata": {},
   "outputs": [
    {
     "data": {
      "text/plain": [
       "(1, 25)"
      ]
     },
     "execution_count": 145,
     "metadata": {},
     "output_type": "execute_result"
    }
   ],
   "source": [
    "awk = wk\n",
    "awk.shape"
   ]
  },
  {
   "cell_type": "code",
   "execution_count": 146,
   "metadata": {},
   "outputs": [
    {
     "data": {
      "text/plain": [
       "array([[1., 0., 0., 0., 0., 0., 1., 0., 0., 0., 0., 0., 1., 0., 0., 0.,\n",
       "        0., 0., 1., 0., 0., 0., 0., 0., 1.]])"
      ]
     },
     "execution_count": 146,
     "metadata": {},
     "output_type": "execute_result"
    }
   ],
   "source": [
    "awk"
   ]
  },
  {
   "cell_type": "code",
   "execution_count": 147,
   "metadata": {},
   "outputs": [
    {
     "data": {
      "text/plain": [
       "(1, 25)"
      ]
     },
     "execution_count": 147,
     "metadata": {},
     "output_type": "execute_result"
    }
   ],
   "source": [
    "acuwk = awk\n",
    "acuwk.shape"
   ]
  },
  {
   "cell_type": "code",
   "execution_count": 148,
   "metadata": {},
   "outputs": [
    {
     "data": {
      "text/plain": [
       "(5, 5)"
      ]
     },
     "execution_count": 148,
     "metadata": {},
     "output_type": "execute_result"
    }
   ],
   "source": [
    "tmp = np.zeros((k, k))\n",
    "tmp.shape"
   ]
  },
  {
   "cell_type": "code",
   "execution_count": 149,
   "metadata": {},
   "outputs": [],
   "source": [
    "tmp = phi[:, (id_x):(id_x + k)]"
   ]
  },
  {
   "cell_type": "code",
   "execution_count": 150,
   "metadata": {},
   "outputs": [
    {
     "data": {
      "text/plain": [
       "(5, 0)"
      ]
     },
     "execution_count": 150,
     "metadata": {},
     "output_type": "execute_result"
    }
   ],
   "source": [
    "tmp.shape"
   ]
  },
  {
   "cell_type": "code",
   "execution_count": 151,
   "metadata": {},
   "outputs": [
    {
     "data": {
      "text/plain": [
       "array([], shape=(5, 0), dtype=object)"
      ]
     },
     "execution_count": 151,
     "metadata": {},
     "output_type": "execute_result"
    }
   ],
   "source": [
    "tmp"
   ]
  },
  {
   "cell_type": "code",
   "execution_count": 152,
   "metadata": {},
   "outputs": [],
   "source": [
    "if (p < 1):\n",
    "    p = 1\n",
    "if (m < 1):\n",
    "    m=1\n",
    "\n",
    "for i in range(1, (m+1)):\n",
    "    if (i < (p+1)):\n",
    "        id_x = (i-1) * k\n",
    "        t_p = phi[:, id_x:(id_x+k)]\n",
    "    else:\n",
    "        t_p = np.zeros((k, k))\n",
    "    jj = i-1\n",
    "    jp = np.minimum(jj, p).astype(int)\n",
    "    if (jp > 0):\n",
    "        for j in range(1, (jp+1)):\n",
    "            jd_x = (j-1) * k\n",
    "            id_x = (i-j) * k\n",
    "            w1 = phi[:, jd_x:(jd_x+k)]\n",
    "            w2 = si[:, id_x:(id_x+k)]\n",
    "            t_p = t_p + np.dot(w1, w2)\n",
    "    si = np.concatenate((si, t_p), axis=1)\n",
    "    wk = np.concatenate((wk, t_p.reshape((1, t_p.size))), axis=1)\n",
    "    awk = awk + t_p.reshape((1, t_p.size), order='F')\n",
    "    acuwk = np.concatenate((acuwk, awk), axis=0)\n",
    "    # acuwk = acuwk.T"
   ]
  },
  {
   "cell_type": "code",
   "execution_count": 153,
   "metadata": {},
   "outputs": [],
   "source": [
    "acuwk = acuwk.T"
   ]
  },
  {
   "cell_type": "code",
   "execution_count": 154,
   "metadata": {},
   "outputs": [
    {
     "data": {
      "text/plain": [
       "array([[1.0, 0.9627102095789333, 1.866345566067293],\n",
       "       [0.0, 17138.43830163777, 512947.98338513006],\n",
       "       [0.0, -191788.74072440714, -414580.4743302844],\n",
       "       [0.0, 450920.414710179, 979238.5107428594],\n",
       "       [0.0, 56166.94273331761, 359371.2444055134],\n",
       "       [0.0, 1.3102397522708735e-08, 1.8901788900371583e-08],\n",
       "       [1.0, 1.3963009043205332, 1.8331622748230976],\n",
       "       [0.0, -0.013001773005496098, -0.022794206100605206],\n",
       "       [0.0, 0.0854444279052835, 0.10897558645961679],\n",
       "       [0.0, 0.020570292105885457, -0.050860373295328457],\n",
       "       [0.0, -1.4635152450515087e-08, -1.2114074619832905e-08],\n",
       "       [0.0, -0.12962765345889693, -0.39279815247127414],\n",
       "       [1.0, 1.3988298848855436, 1.6967612173346336],\n",
       "       [0.0, -0.3541487075020484, -0.4017161080857109],\n",
       "       [0.0, -0.008493908070406064, 0.09917101330771524],\n",
       "       [0.0, -2.392539778914884e-09, -1.7697031353845739e-09],\n",
       "       [0.0, -0.0947166242446329, 0.017330220257895948],\n",
       "       [0.0, -0.063538562990054, -0.06280599719059532],\n",
       "       [1.0, 1.3420190476250937, 1.7063544649772628],\n",
       "       [0.0, -0.025992605011783354, -0.0065458576593224425],\n",
       "       [0.0, -5.84650858566288e-09, -1.956838305284041e-09],\n",
       "       [0.0, -0.04116506283668997, -0.33770983877571337],\n",
       "       [0.0, -0.0184656005470778, -0.034884618127599604],\n",
       "       [0.0, 0.24355301358018266, 0.2913024124305124],\n",
       "       [1.0, 1.5939657892548595, 2.1440421964137584]], dtype=object)"
      ]
     },
     "execution_count": 154,
     "metadata": {},
     "output_type": "execute_result"
    }
   ],
   "source": [
    "acuwk"
   ]
  },
  {
   "cell_type": "code",
   "execution_count": 155,
   "metadata": {},
   "outputs": [],
   "source": [
    "# if (p < 1):\n",
    "#     p = 1\n",
    "# if (m < 1):\n",
    "#     m = 1\n",
    "# for i in range(1, (m+1)):\n",
    "#     if (i < (p+1)):\n",
    "#         id_x = (i-1) * k\n",
    "#         tmp = phi[:, id_x:(id_x+k)]\n",
    "#     else:\n",
    "#         tmp = np.zeros((k, k))\n",
    "#     j = i-1\n",
    "#     jj = np.min([j, p])\n",
    "#     if (jj > 0):\n",
    "#         for j in range(1, (jj+1)):\n",
    "#             jd_x = (j-1) * k\n",
    "#             id_x = (i-j) * k\n",
    "#             w1 = phi[:, jd_x:(jd_x+k)]\n",
    "#             print(w1.shape)\n",
    "#             w2 = si[:, id_x:(jd_x+k)]\n",
    "#             print(w2.shape)\n",
    "#             print(tmp.shape)\n",
    "#             tmp = tmp + np.dot(w1, w2)\n",
    "    \n",
    "#     si = np.concatenate((si, tmp), axis=1)\n",
    "#     wk = np.concatenate((wk, tmp.reshape((1, tmp.size))), axis=1)\n",
    "#     awk = awk + tmp.reshape((1, tmp.size))\n",
    "#     acuwk = np.concatenate((acuwk, awk), axis=1)"
   ]
  },
  {
   "cell_type": "code",
   "execution_count": 156,
   "metadata": {},
   "outputs": [
    {
     "data": {
      "text/plain": [
       "array([[1.0, 0.0, 0.0, 0.0, 0.0, -0.037289790421066726,\n",
       "        1.3102397522708735e-08, -1.4635152450515087e-08,\n",
       "        -2.392539778914884e-09, -5.84650858566288e-09,\n",
       "        0.9036353564883596, 5.799391377662846e-09, 2.521077830682181e-09,\n",
       "        6.228366435303103e-10, 3.8896702803788395e-09],\n",
       "       [0.0, 1.0, 0.0, 0.0, 0.0, 17138.43830163777, 0.3963009043205332,\n",
       "        -0.12962765345889693, -0.0947166242446329, -0.04116506283668997,\n",
       "        495809.5450834923, 0.43686137050256435, -0.2631704990123772,\n",
       "        0.11204684450252884, -0.2965447759390234],\n",
       "       [0.0, 0.0, 1.0, 0.0, 0.0, -191788.74072440714,\n",
       "        -0.013001773005496098, 0.3988298848855436, -0.063538562990054,\n",
       "        -0.0184656005470778, -222791.7336058773, -0.009792433095109108,\n",
       "        0.29793133244909, 0.0007325657994586773, -0.016419017580521805],\n",
       "       [0.0, 0.0, 0.0, 1.0, 0.0, 450920.414710179, 0.0854444279052835,\n",
       "        -0.3541487075020484, 0.3420190476250937, 0.24355301358018266,\n",
       "        528318.0960326805, 0.023531158554333284, -0.04756740058366249,\n",
       "        0.3643354173521691, 0.04774939885032975],\n",
       "       [0.0, 0.0, 0.0, 0.0, 1.0, 56166.94273331761, 0.020570292105885457,\n",
       "        -0.008493908070406064, -0.025992605011783354, 0.5939657892548595,\n",
       "        303204.3016721958, -0.07143066540121391, 0.10766492137812131,\n",
       "        0.01944674735246091, 0.5500764071588988]], dtype=object)"
      ]
     },
     "execution_count": 156,
     "metadata": {},
     "output_type": "execute_result"
    }
   ],
   "source": [
    "si"
   ]
  },
  {
   "cell_type": "code",
   "execution_count": 157,
   "metadata": {},
   "outputs": [
    {
     "data": {
      "text/plain": [
       "(5, 15)"
      ]
     },
     "execution_count": 157,
     "metadata": {},
     "output_type": "execute_result"
    }
   ],
   "source": [
    "si.shape"
   ]
  },
  {
   "cell_type": "code",
   "execution_count": 158,
   "metadata": {},
   "outputs": [
    {
     "data": {
      "text/plain": [
       "array([[1.866345566067293, 512947.98338513006, -414580.4743302844,\n",
       "        979238.5107428594, 359371.2444055134, 1.8901788900371583e-08,\n",
       "        1.8331622748230976, -0.022794206100605206, 0.10897558645961679,\n",
       "        -0.050860373295328457, -1.2114074619832905e-08,\n",
       "        -0.39279815247127414, 1.6967612173346336, -0.4017161080857109,\n",
       "        0.09917101330771524, -1.7697031353845739e-09,\n",
       "        0.017330220257895948, -0.06280599719059532, 1.7063544649772628,\n",
       "        -0.0065458576593224425, -1.956838305284041e-09,\n",
       "        -0.33770983877571337, -0.034884618127599604, 0.2913024124305124,\n",
       "        2.1440421964137584]], dtype=object)"
      ]
     },
     "execution_count": 158,
     "metadata": {},
     "output_type": "execute_result"
    }
   ],
   "source": [
    "awk"
   ]
  },
  {
   "cell_type": "code",
   "execution_count": 159,
   "metadata": {},
   "outputs": [
    {
     "data": {
      "text/plain": [
       "array([[1.0, 0.9627102095789333, 1.866345566067293],\n",
       "       [0.0, 17138.43830163777, 512947.98338513006],\n",
       "       [0.0, -191788.74072440714, -414580.4743302844],\n",
       "       [0.0, 450920.414710179, 979238.5107428594],\n",
       "       [0.0, 56166.94273331761, 359371.2444055134],\n",
       "       [0.0, 1.3102397522708735e-08, 1.8901788900371583e-08],\n",
       "       [1.0, 1.3963009043205332, 1.8331622748230976],\n",
       "       [0.0, -0.013001773005496098, -0.022794206100605206],\n",
       "       [0.0, 0.0854444279052835, 0.10897558645961679],\n",
       "       [0.0, 0.020570292105885457, -0.050860373295328457],\n",
       "       [0.0, -1.4635152450515087e-08, -1.2114074619832905e-08],\n",
       "       [0.0, -0.12962765345889693, -0.39279815247127414],\n",
       "       [1.0, 1.3988298848855436, 1.6967612173346336],\n",
       "       [0.0, -0.3541487075020484, -0.4017161080857109],\n",
       "       [0.0, -0.008493908070406064, 0.09917101330771524],\n",
       "       [0.0, -2.392539778914884e-09, -1.7697031353845739e-09],\n",
       "       [0.0, -0.0947166242446329, 0.017330220257895948],\n",
       "       [0.0, -0.063538562990054, -0.06280599719059532],\n",
       "       [1.0, 1.3420190476250937, 1.7063544649772628],\n",
       "       [0.0, -0.025992605011783354, -0.0065458576593224425],\n",
       "       [0.0, -5.84650858566288e-09, -1.956838305284041e-09],\n",
       "       [0.0, -0.04116506283668997, -0.33770983877571337],\n",
       "       [0.0, -0.0184656005470778, -0.034884618127599604],\n",
       "       [0.0, 0.24355301358018266, 0.2913024124305124],\n",
       "       [1.0, 1.5939657892548595, 2.1440421964137584]], dtype=object)"
      ]
     },
     "execution_count": 159,
     "metadata": {},
     "output_type": "execute_result"
    }
   ],
   "source": [
    "acuwk"
   ]
  },
  {
   "cell_type": "code",
   "execution_count": 160,
   "metadata": {},
   "outputs": [],
   "source": [
    "orthog = True"
   ]
  },
  {
   "cell_type": "code",
   "execution_count": 161,
   "metadata": {},
   "outputs": [],
   "source": [
    "orsi = np.NaN\n",
    "wk1 = np.NaN\n",
    "awk1 = np.NaN\n",
    "acuwk = np.NaN\n",
    "\n",
    "if (orthog):\n",
    "    m1 = np.linalg.cholesky(sig)\n",
    "    p1 = m1\n",
    "    if (~np.isnan(wk1)):\n",
    "        wk1 = np.concatenate((wk1, p1), axis=1)\n",
    "    else:\n",
    "        wk1 = p1.reshape((p1.size, 1), order='F')\n",
    "    awk1 = wk1\n",
    "    acuwk1 = awk1\n",
    "    if (~np.isnan(orsi)):\n",
    "        orsi = np.concatenate((orsi, p1), axis=1)\n",
    "    else:\n",
    "        orsi = p1\n",
    "    for i in range(1, p+1):\n",
    "        id_x = i*k\n",
    "        w1 = si[:, id_x:(id_x+k)]\n",
    "        w2 = np.dot(w1, p1)\n",
    "        orsi = np.concatenate((orsi, w2), axis=1)\n",
    "        wk1 = np.concatenate((wk1, w2.reshape((w2.size, 1), order='F')), axis=1)\n",
    "        awk1 = awk1 + w2.reshape((w2.size, 1), order='F')\n",
    "        acuwk1 = np.concatenate((acuwk1, awk1), axis=1)\n"
   ]
  },
  {
   "cell_type": "code",
   "execution_count": 162,
   "metadata": {},
   "outputs": [
    {
     "data": {
      "text/plain": [
       "array([[0.5536740922971979],\n",
       "       [-412066.9435947933],\n",
       "       [-386677.37935952493],\n",
       "       [588340.1085452173],\n",
       "       [301861.7104662449],\n",
       "       [0.06919236263338138],\n",
       "       [6992316.764571664],\n",
       "       [511797.61997076316],\n",
       "       [598375.3502753126],\n",
       "       [289335.73110356886],\n",
       "       [-0.016405118256954364],\n",
       "       [-553087.4063257647],\n",
       "       [2393436.824868982],\n",
       "       [-1079992.823007736],\n",
       "       [129372.55370007387],\n",
       "       [-0.006796410745504133],\n",
       "       [-16988.273382095038],\n",
       "       [-233110.55784905324],\n",
       "       [6179622.063166929],\n",
       "       [478474.56554198946],\n",
       "       [-0.0039883364703853265],\n",
       "       [-688304.42595083],\n",
       "       [-71100.19992866772],\n",
       "       [593718.9763050966],\n",
       "       [4369886.700864039]], dtype=object)"
      ]
     },
     "execution_count": 162,
     "metadata": {},
     "output_type": "execute_result"
    }
   ],
   "source": [
    "awk1"
   ]
  },
  {
   "cell_type": "code",
   "execution_count": 164,
   "metadata": {},
   "outputs": [
    {
     "data": {
      "text/plain": [
       "array([[0.29920485938152364, 0.2851341814451462, 0.5536740922971979],\n",
       "       [-325780.2575287643, -447287.1339913126, -412066.9435947933],\n",
       "       [-152022.08696702708, -276535.62812899414, -386677.37935952493],\n",
       "       [142673.6810273269, 374402.82915211574, 588340.1085452173],\n",
       "       [90379.23257737221, 151748.23292500345, 301861.7104662449],\n",
       "       [0.0, 0.044565492913636616, 0.06919236263338138],\n",
       "       [3930011.7348992755, 5417395.525432368, 6992316.764571664],\n",
       "       [364308.09209507756, 445111.0564577625, 511797.61997076316],\n",
       "       [149298.58598567205, 458719.6613147571, 598375.3502753126],\n",
       "       [211780.383986096, 411437.1176576266, 289335.73110356886],\n",
       "       [0.0, -0.019723710862231528, -0.016405118256954364],\n",
       "       [0.0, -152506.47378012046, -553087.4063257647],\n",
       "       [1399281.7399804282, 1976681.501881285, 2393436.824868982],\n",
       "       [-302594.3065512141, -902933.4447675683, -1079992.823007736],\n",
       "       [-5306.039981397047, -12477.802381756788, 129372.55370007387],\n",
       "       [0.0, -0.009937713441148107, -0.006796410745504133],\n",
       "       [0.0, -348870.957879022, -16988.273382095038],\n",
       "       [0.0, -231890.6113644266, -233110.55784905324],\n",
       "       [3581570.222105891, 4863551.075394054, 6179622.063166929],\n",
       "       [234099.41056771154, 280052.1116244962, 478474.56554198946],\n",
       "       [0.0, -0.011916080829803437, -0.0039883364703853265],\n",
       "       [0.0, -83900.7091050597, -688304.42595083],\n",
       "       [0.0, -37635.72488877029, -71100.19992866772],\n",
       "       [0.0, 496398.3809551899, 593718.9763050966],\n",
       "       [2038153.3106826672, 3248746.6504847025, 4369886.700864039]],\n",
       "      dtype=object)"
      ]
     },
     "execution_count": 164,
     "metadata": {},
     "output_type": "execute_result"
    }
   ],
   "source": [
    "# w2.reshape((1, 9))\n",
    "acuwk1.reshape((25,3), order='F')"
   ]
  },
  {
   "cell_type": "code",
   "execution_count": 165,
   "metadata": {},
   "outputs": [
    {
     "data": {
      "text/plain": [
       "array([[ 2.99204859e-01,  0.00000000e+00,  0.00000000e+00,\n",
       "         0.00000000e+00,  0.00000000e+00],\n",
       "       [-3.25780258e+05,  3.93001173e+06,  0.00000000e+00,\n",
       "         0.00000000e+00,  0.00000000e+00],\n",
       "       [-1.52022087e+05,  3.64308092e+05,  1.39928174e+06,\n",
       "         0.00000000e+00,  0.00000000e+00],\n",
       "       [ 1.42673681e+05,  1.49298586e+05, -3.02594307e+05,\n",
       "         3.58157022e+06,  0.00000000e+00],\n",
       "       [ 9.03792326e+04,  2.11780384e+05, -5.30603998e+03,\n",
       "         2.34099411e+05,  2.03815331e+06]])"
      ]
     },
     "execution_count": 165,
     "metadata": {},
     "output_type": "execute_result"
    }
   ],
   "source": [
    "m1"
   ]
  },
  {
   "cell_type": "code",
   "execution_count": 166,
   "metadata": {},
   "outputs": [
    {
     "data": {
      "text/plain": [
       "array([[0.29920485938152364, -0.014070677936377472, 0.26853991085205176],\n",
       "       [-325780.2575287643, -121506.87646254824, 35220.190396519276],\n",
       "       [-152022.08696702708, -124513.54116196706, -110141.75123053082],\n",
       "       [142673.6810273269, 231729.14812478886, 213937.2793931016],\n",
       "       [90379.23257737221, 61369.00034763124, 150113.47754124145],\n",
       "       [0.0, 0.044565492913636616, 0.02462686971974476],\n",
       "       [3930011.7348992755, 1487383.790533092, 1574921.239139296],\n",
       "       [364308.09209507756, 80802.9643626849, 66686.56351300068],\n",
       "       [149298.58598567205, 309421.075329085, 139655.68896055553],\n",
       "       [211780.383986096, 199656.73367153056, -122101.38655405771],\n",
       "       [0.0, -0.019723710862231528, 0.003318592605277164],\n",
       "       [0.0, -152506.47378012046, -400580.9325456443],\n",
       "       [1399281.7399804282, 577399.7619008567, 416755.3229876972],\n",
       "       [-302594.3065512141, -600339.1382163542, -177059.37824016757],\n",
       "       [-5306.039981397047, -7171.762400359741, 141850.35608183066],\n",
       "       [0.0, -0.009937713441148107, 0.003141302695643973],\n",
       "       [0.0, -348870.957879022, 331882.68449692696],\n",
       "       [0.0, -231890.6113644266, -1219.9464846266533],\n",
       "       [3581570.222105891, 1281980.8532881627, 1316070.9877728757],\n",
       "       [234099.41056771154, 45952.7010567846, 198422.4539174933],\n",
       "       [0.0, -0.011916080829803437, 0.00792774435941811],\n",
       "       [0.0, -83900.7091050597, -604403.7168457703],\n",
       "       [0.0, -37635.72488877029, -33464.475039897436],\n",
       "       [0.0, 496398.3809551899, 97320.59534990673],\n",
       "       [2038153.3106826672, 1210593.3398020354, 1121140.0503793363]],\n",
       "      dtype=object)"
      ]
     },
     "execution_count": 166,
     "metadata": {},
     "output_type": "execute_result"
    }
   ],
   "source": [
    "wk1"
   ]
  },
  {
   "cell_type": "code",
   "execution_count": 167,
   "metadata": {},
   "outputs": [
    {
     "data": {
      "text/plain": [
       "2"
      ]
     },
     "execution_count": 167,
     "metadata": {},
     "output_type": "execute_result"
    }
   ],
   "source": [
    "p"
   ]
  },
  {
   "cell_type": "code",
   "execution_count": 168,
   "metadata": {},
   "outputs": [],
   "source": [
    "td_x = np.array(range(p+1))"
   ]
  },
  {
   "cell_type": "code",
   "execution_count": 169,
   "metadata": {},
   "outputs": [
    {
     "data": {
      "text/plain": [
       "array([0, 1, 2])"
      ]
     },
     "execution_count": 169,
     "metadata": {},
     "output_type": "execute_result"
    }
   ],
   "source": [
    "td_x"
   ]
  },
  {
   "cell_type": "code",
   "execution_count": 170,
   "metadata": {},
   "outputs": [],
   "source": [
    "import matplotlib.pyplot as plt"
   ]
  },
  {
   "cell_type": "code",
   "execution_count": 171,
   "metadata": {},
   "outputs": [
    {
     "data": {
      "text/plain": [
       "array([[0.29920485938152364, -0.014070677936377472, 0.26853991085205176],\n",
       "       [-325780.2575287643, -121506.87646254824, 35220.190396519276],\n",
       "       [-152022.08696702708, -124513.54116196706, -110141.75123053082],\n",
       "       [142673.6810273269, 231729.14812478886, 213937.2793931016],\n",
       "       [90379.23257737221, 61369.00034763124, 150113.47754124145],\n",
       "       [0.0, 0.044565492913636616, 0.02462686971974476],\n",
       "       [3930011.7348992755, 1487383.790533092, 1574921.239139296],\n",
       "       [364308.09209507756, 80802.9643626849, 66686.56351300068],\n",
       "       [149298.58598567205, 309421.075329085, 139655.68896055553],\n",
       "       [211780.383986096, 199656.73367153056, -122101.38655405771],\n",
       "       [0.0, -0.019723710862231528, 0.003318592605277164],\n",
       "       [0.0, -152506.47378012046, -400580.9325456443],\n",
       "       [1399281.7399804282, 577399.7619008567, 416755.3229876972],\n",
       "       [-302594.3065512141, -600339.1382163542, -177059.37824016757],\n",
       "       [-5306.039981397047, -7171.762400359741, 141850.35608183066],\n",
       "       [0.0, -0.009937713441148107, 0.003141302695643973],\n",
       "       [0.0, -348870.957879022, 331882.68449692696],\n",
       "       [0.0, -231890.6113644266, -1219.9464846266533],\n",
       "       [3581570.222105891, 1281980.8532881627, 1316070.9877728757],\n",
       "       [234099.41056771154, 45952.7010567846, 198422.4539174933],\n",
       "       [0.0, -0.011916080829803437, 0.00792774435941811],\n",
       "       [0.0, -83900.7091050597, -604403.7168457703],\n",
       "       [0.0, -37635.72488877029, -33464.475039897436],\n",
       "       [0.0, 496398.3809551899, 97320.59534990673],\n",
       "       [2038153.3106826672, 1210593.3398020354, 1121140.0503793363]],\n",
       "      dtype=object)"
      ]
     },
     "execution_count": 171,
     "metadata": {},
     "output_type": "execute_result"
    }
   ],
   "source": [
    "wk1"
   ]
  },
  {
   "cell_type": "code",
   "execution_count": 172,
   "metadata": {},
   "outputs": [
    {
     "data": {
      "text/plain": [
       "array([0, 1, 2])"
      ]
     },
     "execution_count": 172,
     "metadata": {},
     "output_type": "execute_result"
    }
   ],
   "source": [
    "td_x = np.array(range(p+1))\n",
    "td_x"
   ]
  },
  {
   "cell_type": "code",
   "execution_count": 173,
   "metadata": {},
   "outputs": [
    {
     "data": {
      "image/png": "[encoded data removed]",
      "text/plain": [
       "<Figure size 432x288 with 25 Axes>"
      ]
     },
     "metadata": {
      "needs_background": "light"
     },
     "output_type": "display_data"
    }
   ],
   "source": [
    "for i in range(wk1.shape[0]):\n",
    "    plt.subplot((wk1.shape[0]+1), 1, (i+1))\n",
    "    x_data = acuwk1[i]\n",
    "    plt.plot(td_x, x_data, 'o-')\n",
    "    plt.ylabel(str(i))\n",
    "        \n",
    "plt.xlabel('Periods')\n",
    "plt.title('Plot Title')\n",
    "plt.show()"
   ]
  },
  {
   "cell_type": "code",
   "execution_count": 200,
   "metadata": {},
   "outputs": [
    {
     "data": {
      "text/plain": [
       "[<matplotlib.lines.Line2D at 0x7fb719f07400>]"
      ]
     },
     "execution_count": 200,
     "metadata": {},
     "output_type": "execute_result"
    },
    {
     "data": {
      "image/png": "[encoded data removed]",
      "text/plain": [
       "<Figure size 432x288 with 1 Axes>"
      ]
     },
     "metadata": {
      "needs_background": "light"
     },
     "output_type": "display_data"
    }
   ],
   "source": [
    "plt.plot(td_x, wk1[2], 'o-')"
   ]
  },
  {
   "cell_type": "code",
   "execution_count": 174,
   "metadata": {},
   "outputs": [],
   "source": [
    "kx = int(np.floor(beta_exog.shape[1] / (1 + m)))\n",
    "psi_x = beta_exog[:, 0:kx]"
   ]
  },
  {
   "cell_type": "code",
   "execution_count": 175,
   "metadata": {},
   "outputs": [],
   "source": [
    "wk = psi_x.reshape((1, psi_x.size), order='F')"
   ]
  },
  {
   "cell_type": "code",
   "execution_count": 176,
   "metadata": {},
   "outputs": [],
   "source": [
    "awk = wk\n",
    "acuwk = wk"
   ]
  },
  {
   "cell_type": "code",
   "execution_count": 177,
   "metadata": {},
   "outputs": [],
   "source": [
    "lag=2"
   ]
  },
  {
   "cell_type": "code",
   "execution_count": 178,
   "metadata": {},
   "outputs": [],
   "source": [
    "t_p = np.zeros((k, k_x))"
   ]
  },
  {
   "cell_type": "code",
   "execution_count": 179,
   "metadata": {},
   "outputs": [
    {
     "data": {
      "text/plain": [
       "array([[0., 0., 0., 0., 0., 0.],\n",
       "       [0., 0., 0., 0., 0., 0.],\n",
       "       [0., 0., 0., 0., 0., 0.],\n",
       "       [0., 0., 0., 0., 0., 0.],\n",
       "       [0., 0., 0., 0., 0., 0.]])"
      ]
     },
     "execution_count": 179,
     "metadata": {},
     "output_type": "execute_result"
    }
   ],
   "source": [
    "t_p"
   ]
  },
  {
   "cell_type": "code",
   "execution_count": 180,
   "metadata": {},
   "outputs": [],
   "source": [
    "for i in range(1, lag+1):\n",
    "    if (i < (m+1)):\n",
    "        id_x = (i-1) * kx\n",
    "        t_p = beta_exog[:, id_x:(id_x+kx)]\n",
    "    else:\n",
    "        t_p = np.zeros((k, k_x))\n",
    "    jj = i-1\n",
    "    jp = np.minimum(jj, p).astype(int)\n",
    "    if (jp > 0):\n",
    "        for j in range(1, (jp+1)):\n",
    "            jd_x = (j-1) * k\n",
    "            id_x = (i-j) * k\n",
    "            w1 = phi[:, jd_x:(jd_x+k)]\n",
    "            w2 = si[:, id_x:(id_x+kx)]\n",
    "            t_p = t_p + np.dot(w1, w2)\n",
    "    psi_x = np.concatenate((psi_x, t_p), axis=1)\n",
    "    wk = np.concatenate((wk, t_p.reshape((1, t_p.size))), axis=1)\n",
    "    awk = awk + t_p.reshape((1, t_p.size), order='F')\n",
    "    acuwk = np.concatenate((acuwk, awk), axis=0)\n",
    "    # acuwk = acuwk.T"
   ]
  },
  {
   "cell_type": "code",
   "execution_count": 181,
   "metadata": {},
   "outputs": [
    {
     "data": {
      "text/plain": [
       "(3, 30)"
      ]
     },
     "execution_count": 181,
     "metadata": {},
     "output_type": "execute_result"
    }
   ],
   "source": [
    "acuwk.shape"
   ]
  },
  {
   "cell_type": "code",
   "execution_count": 182,
   "metadata": {},
   "outputs": [
    {
     "data": {
      "text/plain": [
       "array([[2.8576244677721435e-05, 1113.370155918601, 713.1899291165028,\n",
       "        -146.02640580572188, -434.7043036521136, -0.6409866706598848,\n",
       "        2284145.526584983, 2296484.226872325, -4722989.110820293,\n",
       "        -547034.3375933766, 0.1738395105730035, -3521008.2969691157,\n",
       "        -2802227.9450511932, 1936915.614026904, 5470173.166963428,\n",
       "        8.362040606730261, -16393041.760801792, 97694509.67679572,\n",
       "        -537504183.3777943, -16753988.945516825, 1.265310642397253,\n",
       "        2684952.218954563, -9339239.983243227, 50484296.63536644,\n",
       "        148381298.07852244, -2.4329952133119e-08, 0.285891483768399,\n",
       "        0.9430566464177339, 1.943800752826256, 0.45422158775582844],\n",
       "       [5.715248935544287e-05, 2226.740311837202, 1426.3798582330055,\n",
       "        -292.05281161144376, -869.4086073042272, -1.2819733413197696,\n",
       "        4568291.053169966, 4592968.45374465, -9445978.221640587,\n",
       "        -1094068.6751867533, 0.347679021146007, -7042016.5939382315,\n",
       "        -5604455.8901023865, 3873831.228053808, 10940346.333926857,\n",
       "        16.724081213460522, -32786083.521603584, 195389019.35359144,\n",
       "        -1075008366.7555885, -33507977.89103365, 2.530621284794506,\n",
       "        5369904.437909126, -18678479.966486454, 100968593.27073288,\n",
       "        296762596.1570449, -4.8659904266238e-08, 0.571782967536798,\n",
       "        1.8861132928354678, 3.887601505652512, 0.9084431755116569],\n",
       "       [0.003133364996443539, -9757.589823774651, -97988.01272477824,\n",
       "        221668.0035631468, 20590.6349058887, -0.9459974251803633,\n",
       "        2215467.351266029, -5151881.979257854, -8359453.291802401,\n",
       "        1636911.6692134002, 0.6201181400730345, -8224424.799169317,\n",
       "        -4387070.732872953, 11214549.906326082, 3617243.0046069045,\n",
       "        7.365954299758533, -36270765.30700659, 123060456.46570604,\n",
       "        -789966807.0573797, -49101436.2648091, 5.498814139151751,\n",
       "        -1402359.7358034113, -27644174.598205887, 55484244.52688416,\n",
       "        217621585.49815118, -0.02697621428997547, 178335.00639412427,\n",
       "        -307775.4349867782, 783277.49721573, 229207.09003662152]],\n",
       "      dtype=object)"
      ]
     },
     "execution_count": 182,
     "metadata": {},
     "output_type": "execute_result"
    }
   ],
   "source": [
    "acuwk"
   ]
  },
  {
   "cell_type": "code",
   "execution_count": 183,
   "metadata": {},
   "outputs": [
    {
     "data": {
      "text/plain": [
       "array([[2.8576244677721435e-05, 1113.370155918601, 713.1899291165028,\n",
       "        -146.02640580572188, -434.7043036521136, -0.6409866706598848,\n",
       "        2284145.526584983, 2296484.226872325, -4722989.110820293,\n",
       "        -547034.3375933766, 0.1738395105730035, -3521008.2969691157,\n",
       "        -2802227.9450511932, 1936915.614026904, 5470173.166963428,\n",
       "        8.362040606730261, -16393041.760801792, 97694509.67679572,\n",
       "        -537504183.3777943, -16753988.945516825, 1.265310642397253,\n",
       "        2684952.218954563, -9339239.983243227, 50484296.63536644,\n",
       "        148381298.07852244, -2.4329952133119e-08, 0.285891483768399,\n",
       "        0.9430566464177339, 1.943800752826256, 0.45422158775582844,\n",
       "        2.8576244677721435e-05, -0.6409866706598848, 0.1738395105730035,\n",
       "        8.362040606730261, 1.265310642397253, -2.4329952133119e-08,\n",
       "        1113.370155918601, 2284145.526584983, -3521008.2969691157,\n",
       "        -16393041.760801792, 2684952.218954563, 0.285891483768399,\n",
       "        713.1899291165028, 2296484.226872325, -2802227.9450511932,\n",
       "        97694509.67679572, -9339239.983243227, 0.9430566464177339,\n",
       "        -146.02640580572188, -4722989.110820293, 1936915.614026904,\n",
       "        -537504183.3777943, 50484296.63536644, 1.943800752826256,\n",
       "        -434.7043036521136, -547034.3375933766, 5470173.166963428,\n",
       "        -16753988.945516825, 148381298.07852244, 0.45422158775582844,\n",
       "        0.003076212507088096, 0.33597591613940625, 0.2724391189270274,\n",
       "        -9.35812691370199, 2.968192854357245, -0.026976165630071203,\n",
       "        -11984.330135611854, -2352823.701903937, -1182408.2052310857,\n",
       "        -3484681.785403003, -6772264.173712538, 178334.43461115673,\n",
       "        -99414.39258301124, -9744850.433002504, 1217385.1572294338,\n",
       "        -72328562.8878854, -8965694.63171943, -307777.321100071,\n",
       "        221960.05637475825, 1086524.9298381864, 7340718.678272273,\n",
       "        285041559.6982088, -45484348.74384872, 783273.6096142244,\n",
       "        21460.043513192926, 2730980.3444001535, -7323103.329319952,\n",
       "        -15593458.373775452, -79141010.6588937, 229206.181593446]],\n",
       "      dtype=object)"
      ]
     },
     "execution_count": 183,
     "metadata": {},
     "output_type": "execute_result"
    }
   ],
   "source": [
    "wk"
   ]
  },
  {
   "cell_type": "code",
   "execution_count": 184,
   "metadata": {},
   "outputs": [
    {
     "data": {
      "text/plain": [
       "(1, 30)"
      ]
     },
     "execution_count": 184,
     "metadata": {},
     "output_type": "execute_result"
    }
   ],
   "source": [
    "awk.shape"
   ]
  },
  {
   "cell_type": "code",
   "execution_count": 185,
   "metadata": {},
   "outputs": [
    {
     "data": {
      "text/plain": [
       "array([[2.8576244677721435e-05, 1113.370155918601, 713.1899291165028,\n",
       "        -146.02640580572188, -434.7043036521136, -0.6409866706598848,\n",
       "        2284145.526584983, 2296484.226872325, -4722989.110820293,\n",
       "        -547034.3375933766, 0.1738395105730035, -3521008.2969691157,\n",
       "        -2802227.9450511932, 1936915.614026904, 5470173.166963428,\n",
       "        8.362040606730261, -16393041.760801792, 97694509.67679572,\n",
       "        -537504183.3777943, -16753988.945516825, 1.265310642397253,\n",
       "        2684952.218954563, -9339239.983243227, 50484296.63536644,\n",
       "        148381298.07852244, -2.4329952133119e-08, 0.285891483768399,\n",
       "        0.9430566464177339, 1.943800752826256, 0.45422158775582844],\n",
       "       [5.715248935544287e-05, 2226.740311837202, 1426.3798582330055,\n",
       "        -292.05281161144376, -869.4086073042272, -1.2819733413197696,\n",
       "        4568291.053169966, 4592968.45374465, -9445978.221640587,\n",
       "        -1094068.6751867533, 0.347679021146007, -7042016.5939382315,\n",
       "        -5604455.8901023865, 3873831.228053808, 10940346.333926857,\n",
       "        16.724081213460522, -32786083.521603584, 195389019.35359144,\n",
       "        -1075008366.7555885, -33507977.89103365, 2.530621284794506,\n",
       "        5369904.437909126, -18678479.966486454, 100968593.27073288,\n",
       "        296762596.1570449, -4.8659904266238e-08, 0.571782967536798,\n",
       "        1.8861132928354678, 3.887601505652512, 0.9084431755116569],\n",
       "       [0.003133364996443539, -9757.589823774651, -97988.01272477824,\n",
       "        221668.0035631468, 20590.6349058887, -0.9459974251803633,\n",
       "        2215467.351266029, -5151881.979257854, -8359453.291802401,\n",
       "        1636911.6692134002, 0.6201181400730345, -8224424.799169317,\n",
       "        -4387070.732872953, 11214549.906326082, 3617243.0046069045,\n",
       "        7.365954299758533, -36270765.30700659, 123060456.46570604,\n",
       "        -789966807.0573797, -49101436.2648091, 5.498814139151751,\n",
       "        -1402359.7358034113, -27644174.598205887, 55484244.52688416,\n",
       "        217621585.49815118, -0.02697621428997547, 178335.00639412427,\n",
       "        -307775.4349867782, 783277.49721573, 229207.09003662152]],\n",
       "      dtype=object)"
      ]
     },
     "execution_count": 185,
     "metadata": {},
     "output_type": "execute_result"
    }
   ],
   "source": [
    "acuwk"
   ]
  },
  {
   "cell_type": "code",
   "execution_count": 186,
   "metadata": {},
   "outputs": [],
   "source": [
    "# import varx"
   ]
  },
  {
   "cell_type": "code",
   "execution_count": 187,
   "metadata": {},
   "outputs": [],
   "source": [
    "# var_class = varx.VARX(df, endog, exog, 2, 2, True)\n"
   ]
  },
  {
   "cell_type": "code",
   "execution_count": 188,
   "metadata": {},
   "outputs": [],
   "source": [
    "# df"
   ]
  },
  {
   "cell_type": "code",
   "execution_count": null,
   "metadata": {},
   "outputs": [],
   "source": []
  }
 ],
 "metadata": {
  "interpreter": {
   "hash": "40d3a090f54c6569ab1632332b64b2c03c39dcf918b08424e98f38b5ae0af88f"
  },
  "kernelspec": {
   "display_name": "Python 3.8.8 64-bit ('base': conda)",
   "language": "python",
   "name": "python3"
  },
  "language_info": {
   "codemirror_mode": {
    "name": "ipython",
    "version": 3
   },
   "file_extension": ".py",
   "mimetype": "text/x-python",
   "name": "python",
   "nbconvert_exporter": "python",
   "pygments_lexer": "ipython3",
   "version": "3.8.8"
  },
  "orig_nbformat": 4
 },
 "nbformat": 4,
 "nbformat_minor": 2
}
