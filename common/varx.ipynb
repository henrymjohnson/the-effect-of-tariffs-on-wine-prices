{
 "cells": [
  {
   "cell_type": "code",
   "execution_count": 1,
   "metadata": {},
   "outputs": [],
   "source": [
    "import pandas as pd\n",
    "import numpy as np\n"
   ]
  },
  {
   "cell_type": "code",
   "execution_count": 247,
   "metadata": {},
   "outputs": [],
   "source": [
    "df = pd.read_excel('../data/analysis_data.xlsx')"
   ]
  },
  {
   "cell_type": "code",
   "execution_count": 248,
   "metadata": {},
   "outputs": [
    {
     "data": {
      "text/html": [
       "<div>\n",
       "<style scoped>\n",
       "    .dataframe tbody tr th:only-of-type {\n",
       "        vertical-align: middle;\n",
       "    }\n",
       "\n",
       "    .dataframe tbody tr th {\n",
       "        vertical-align: top;\n",
       "    }\n",
       "\n",
       "    .dataframe thead th {\n",
       "        text-align: right;\n",
       "    }\n",
       "</style>\n",
       "<table border=\"1\" class=\"dataframe\">\n",
       "  <thead>\n",
       "    <tr style=\"text-align: right;\">\n",
       "      <th></th>\n",
       "      <th>month</th>\n",
       "      <th>price</th>\n",
       "      <th>pop</th>\n",
       "      <th>bott</th>\n",
       "      <th>bott_pc</th>\n",
       "      <th>exp_q</th>\n",
       "      <th>exp_val</th>\n",
       "      <th>tariff</th>\n",
       "      <th>duty_val_world</th>\n",
       "      <th>q_world</th>\n",
       "      <th>...</th>\n",
       "      <th>prop_cl</th>\n",
       "      <th>duty_r_cl</th>\n",
       "      <th>cif_r_cl</th>\n",
       "      <th>duty_val_row</th>\n",
       "      <th>q_row</th>\n",
       "      <th>cif_row</th>\n",
       "      <th>duty_row</th>\n",
       "      <th>prop_row</th>\n",
       "      <th>cif_r_row</th>\n",
       "      <th>duty_r_row</th>\n",
       "    </tr>\n",
       "  </thead>\n",
       "  <tbody>\n",
       "    <tr>\n",
       "      <th>0</th>\n",
       "      <td>2000-01-31</td>\n",
       "      <td>5.299029</td>\n",
       "      <td>281083000</td>\n",
       "      <td>1.244070e+08</td>\n",
       "      <td>0.442599</td>\n",
       "      <td>22385348</td>\n",
       "      <td>4.419970e+07</td>\n",
       "      <td>False</td>\n",
       "      <td>1.298947e+08</td>\n",
       "      <td>30869692</td>\n",
       "      <td>...</td>\n",
       "      <td>0.227214</td>\n",
       "      <td>0.077259</td>\n",
       "      <td>0.185041</td>\n",
       "      <td>7.736194e+06</td>\n",
       "      <td>2402418</td>\n",
       "      <td>550866.019417</td>\n",
       "      <td>162756.310680</td>\n",
       "      <td>0.084392</td>\n",
       "      <td>0.229296</td>\n",
       "      <td>0.067747</td>\n",
       "    </tr>\n",
       "    <tr>\n",
       "      <th>1</th>\n",
       "      <td>2000-02-29</td>\n",
       "      <td>5.198813</td>\n",
       "      <td>281299000</td>\n",
       "      <td>1.375283e+08</td>\n",
       "      <td>0.488904</td>\n",
       "      <td>20954045</td>\n",
       "      <td>4.088633e+07</td>\n",
       "      <td>False</td>\n",
       "      <td>1.389756e+08</td>\n",
       "      <td>27334547</td>\n",
       "      <td>...</td>\n",
       "      <td>0.135643</td>\n",
       "      <td>0.062336</td>\n",
       "      <td>0.177765</td>\n",
       "      <td>8.226432e+06</td>\n",
       "      <td>2118152</td>\n",
       "      <td>504564.787339</td>\n",
       "      <td>163492.581602</td>\n",
       "      <td>0.083999</td>\n",
       "      <td>0.238210</td>\n",
       "      <td>0.077186</td>\n",
       "    </tr>\n",
       "    <tr>\n",
       "      <th>2</th>\n",
       "      <td>2000-03-31</td>\n",
       "      <td>5.311650</td>\n",
       "      <td>281531000</td>\n",
       "      <td>1.603837e+08</td>\n",
       "      <td>0.569684</td>\n",
       "      <td>20240059</td>\n",
       "      <td>4.023967e+07</td>\n",
       "      <td>False</td>\n",
       "      <td>1.635349e+08</td>\n",
       "      <td>33950034</td>\n",
       "      <td>...</td>\n",
       "      <td>0.110888</td>\n",
       "      <td>0.062623</td>\n",
       "      <td>0.188203</td>\n",
       "      <td>9.613827e+06</td>\n",
       "      <td>2900608</td>\n",
       "      <td>710128.155340</td>\n",
       "      <td>191233.009709</td>\n",
       "      <td>0.093419</td>\n",
       "      <td>0.244820</td>\n",
       "      <td>0.065929</td>\n",
       "    </tr>\n",
       "    <tr>\n",
       "      <th>3</th>\n",
       "      <td>2000-04-30</td>\n",
       "      <td>5.104950</td>\n",
       "      <td>281763000</td>\n",
       "      <td>1.423004e+08</td>\n",
       "      <td>0.505036</td>\n",
       "      <td>21745478</td>\n",
       "      <td>4.100174e+07</td>\n",
       "      <td>False</td>\n",
       "      <td>1.727178e+08</td>\n",
       "      <td>37381318</td>\n",
       "      <td>...</td>\n",
       "      <td>0.171759</td>\n",
       "      <td>0.070914</td>\n",
       "      <td>0.181233</td>\n",
       "      <td>9.347779e+06</td>\n",
       "      <td>2577645</td>\n",
       "      <td>598792.079208</td>\n",
       "      <td>177575.247525</td>\n",
       "      <td>0.074062</td>\n",
       "      <td>0.232302</td>\n",
       "      <td>0.068890</td>\n",
       "    </tr>\n",
       "    <tr>\n",
       "      <th>4</th>\n",
       "      <td>2000-05-31</td>\n",
       "      <td>5.426889</td>\n",
       "      <td>281996000</td>\n",
       "      <td>1.612658e+08</td>\n",
       "      <td>0.571873</td>\n",
       "      <td>22059299</td>\n",
       "      <td>4.187646e+07</td>\n",
       "      <td>False</td>\n",
       "      <td>1.744802e+08</td>\n",
       "      <td>38726698</td>\n",
       "      <td>...</td>\n",
       "      <td>0.128741</td>\n",
       "      <td>0.061651</td>\n",
       "      <td>0.188860</td>\n",
       "      <td>9.571486e+06</td>\n",
       "      <td>2554428</td>\n",
       "      <td>626929.342493</td>\n",
       "      <td>193309.126595</td>\n",
       "      <td>0.070618</td>\n",
       "      <td>0.245428</td>\n",
       "      <td>0.075676</td>\n",
       "    </tr>\n",
       "  </tbody>\n",
       "</table>\n",
       "<p>5 rows × 47 columns</p>\n",
       "</div>"
      ],
      "text/plain": [
       "       month     price        pop          bott   bott_pc     exp_q  \\\n",
       "0 2000-01-31  5.299029  281083000  1.244070e+08  0.442599  22385348   \n",
       "1 2000-02-29  5.198813  281299000  1.375283e+08  0.488904  20954045   \n",
       "2 2000-03-31  5.311650  281531000  1.603837e+08  0.569684  20240059   \n",
       "3 2000-04-30  5.104950  281763000  1.423004e+08  0.505036  21745478   \n",
       "4 2000-05-31  5.426889  281996000  1.612658e+08  0.571873  22059299   \n",
       "\n",
       "        exp_val  tariff  duty_val_world   q_world  ...   prop_cl  duty_r_cl  \\\n",
       "0  4.419970e+07   False    1.298947e+08  30869692  ...  0.227214   0.077259   \n",
       "1  4.088633e+07   False    1.389756e+08  27334547  ...  0.135643   0.062336   \n",
       "2  4.023967e+07   False    1.635349e+08  33950034  ...  0.110888   0.062623   \n",
       "3  4.100174e+07   False    1.727178e+08  37381318  ...  0.171759   0.070914   \n",
       "4  4.187646e+07   False    1.744802e+08  38726698  ...  0.128741   0.061651   \n",
       "\n",
       "   cif_r_cl  duty_val_row    q_row        cif_row       duty_row  prop_row  \\\n",
       "0  0.185041  7.736194e+06  2402418  550866.019417  162756.310680  0.084392   \n",
       "1  0.177765  8.226432e+06  2118152  504564.787339  163492.581602  0.083999   \n",
       "2  0.188203  9.613827e+06  2900608  710128.155340  191233.009709  0.093419   \n",
       "3  0.181233  9.347779e+06  2577645  598792.079208  177575.247525  0.074062   \n",
       "4  0.188860  9.571486e+06  2554428  626929.342493  193309.126595  0.070618   \n",
       "\n",
       "   cif_r_row  duty_r_row  \n",
       "0   0.229296    0.067747  \n",
       "1   0.238210    0.077186  \n",
       "2   0.244820    0.065929  \n",
       "3   0.232302    0.068890  \n",
       "4   0.245428    0.075676  \n",
       "\n",
       "[5 rows x 47 columns]"
      ]
     },
     "execution_count": 248,
     "metadata": {},
     "output_type": "execute_result"
    }
   ],
   "source": [
    "df.head()"
   ]
  },
  {
   "cell_type": "code",
   "execution_count": 249,
   "metadata": {},
   "outputs": [
    {
     "data": {
      "text/plain": [
       "Index(['month', 'price', 'pop', 'bott', 'bott_pc', 'exp_q', 'exp_val',\n",
       "       'tariff', 'duty_val_world', 'q_world', 'cif_world', 'duty_world',\n",
       "       'duty_val_bloc', 'q_bloc', 'cif_bloc', 'duty_bloc', 'prop_bloc',\n",
       "       'duty_r_bloc', 'cif_r_bloc', 'duty_val_it', 'q_it', 'cif_it', 'duty_it',\n",
       "       'prop_it', 'duty_r_it', 'cif_r_it', 'duty_val_au', 'q_au', 'cif_au',\n",
       "       'duty_au', 'prop_au', 'duty_r_au', 'cif_r_au', 'duty_val_cl', 'q_cl',\n",
       "       'cif_cl', 'duty_cl', 'prop_cl', 'duty_r_cl', 'cif_r_cl', 'duty_val_row',\n",
       "       'q_row', 'cif_row', 'duty_row', 'prop_row', 'cif_r_row', 'duty_r_row'],\n",
       "      dtype='object')"
      ]
     },
     "execution_count": 249,
     "metadata": {},
     "output_type": "execute_result"
    }
   ],
   "source": [
    "df.columns"
   ]
  },
  {
   "cell_type": "code",
   "execution_count": 250,
   "metadata": {},
   "outputs": [
    {
     "data": {
      "text/html": [
       "<div>\n",
       "<style scoped>\n",
       "    .dataframe tbody tr th:only-of-type {\n",
       "        vertical-align: middle;\n",
       "    }\n",
       "\n",
       "    .dataframe tbody tr th {\n",
       "        vertical-align: top;\n",
       "    }\n",
       "\n",
       "    .dataframe thead th {\n",
       "        text-align: right;\n",
       "    }\n",
       "</style>\n",
       "<table border=\"1\" class=\"dataframe\">\n",
       "  <thead>\n",
       "    <tr style=\"text-align: right;\">\n",
       "      <th></th>\n",
       "      <th>month</th>\n",
       "      <th>price</th>\n",
       "      <th>bott</th>\n",
       "      <th>duty_bloc</th>\n",
       "      <th>tariff</th>\n",
       "      <th>duty_world</th>\n",
       "      <th>duty_r_bloc</th>\n",
       "      <th>q_bloc</th>\n",
       "      <th>q_world</th>\n",
       "      <th>cif_world</th>\n",
       "    </tr>\n",
       "  </thead>\n",
       "  <tbody>\n",
       "    <tr>\n",
       "      <th>0</th>\n",
       "      <td>2000-01-31</td>\n",
       "      <td>5.299029</td>\n",
       "      <td>1.244070e+08</td>\n",
       "      <td>678934.951456</td>\n",
       "      <td>False</td>\n",
       "      <td>2.250568e+06</td>\n",
       "      <td>0.077427</td>\n",
       "      <td>8768676</td>\n",
       "      <td>30869692</td>\n",
       "      <td>6.853057e+06</td>\n",
       "    </tr>\n",
       "    <tr>\n",
       "      <th>1</th>\n",
       "      <td>2000-02-29</td>\n",
       "      <td>5.198813</td>\n",
       "      <td>1.375283e+08</td>\n",
       "      <td>848555.885262</td>\n",
       "      <td>False</td>\n",
       "      <td>2.126339e+06</td>\n",
       "      <td>0.094685</td>\n",
       "      <td>8961916</td>\n",
       "      <td>27334547</td>\n",
       "      <td>6.089141e+06</td>\n",
       "    </tr>\n",
       "    <tr>\n",
       "      <th>2</th>\n",
       "      <td>2000-03-31</td>\n",
       "      <td>5.311650</td>\n",
       "      <td>1.603837e+08</td>\n",
       "      <td>887386.407767</td>\n",
       "      <td>False</td>\n",
       "      <td>2.516082e+06</td>\n",
       "      <td>0.084715</td>\n",
       "      <td>10474993</td>\n",
       "      <td>33950034</td>\n",
       "      <td>7.495030e+06</td>\n",
       "    </tr>\n",
       "    <tr>\n",
       "      <th>3</th>\n",
       "      <td>2000-04-30</td>\n",
       "      <td>5.104950</td>\n",
       "      <td>1.423004e+08</td>\n",
       "      <td>965145.544554</td>\n",
       "      <td>False</td>\n",
       "      <td>2.790541e+06</td>\n",
       "      <td>0.086731</td>\n",
       "      <td>11128077</td>\n",
       "      <td>37381318</td>\n",
       "      <td>8.363492e+06</td>\n",
       "    </tr>\n",
       "    <tr>\n",
       "      <th>4</th>\n",
       "      <td>2000-05-31</td>\n",
       "      <td>5.426889</td>\n",
       "      <td>1.612658e+08</td>\n",
       "      <td>880599.607458</td>\n",
       "      <td>False</td>\n",
       "      <td>2.742312e+06</td>\n",
       "      <td>0.080982</td>\n",
       "      <td>10874051</td>\n",
       "      <td>38726698</td>\n",
       "      <td>8.921802e+06</td>\n",
       "    </tr>\n",
       "  </tbody>\n",
       "</table>\n",
       "</div>"
      ],
      "text/plain": [
       "       month     price          bott      duty_bloc  tariff    duty_world  \\\n",
       "0 2000-01-31  5.299029  1.244070e+08  678934.951456   False  2.250568e+06   \n",
       "1 2000-02-29  5.198813  1.375283e+08  848555.885262   False  2.126339e+06   \n",
       "2 2000-03-31  5.311650  1.603837e+08  887386.407767   False  2.516082e+06   \n",
       "3 2000-04-30  5.104950  1.423004e+08  965145.544554   False  2.790541e+06   \n",
       "4 2000-05-31  5.426889  1.612658e+08  880599.607458   False  2.742312e+06   \n",
       "\n",
       "   duty_r_bloc    q_bloc   q_world     cif_world  \n",
       "0     0.077427   8768676  30869692  6.853057e+06  \n",
       "1     0.094685   8961916  27334547  6.089141e+06  \n",
       "2     0.084715  10474993  33950034  7.495030e+06  \n",
       "3     0.086731  11128077  37381318  8.363492e+06  \n",
       "4     0.080982  10874051  38726698  8.921802e+06  "
      ]
     },
     "execution_count": 250,
     "metadata": {},
     "output_type": "execute_result"
    }
   ],
   "source": [
    "cols = [\"month\", \"price\", \"bott\", \"duty_bloc\", \"tariff\", \"duty_world\", \"duty_r_bloc\", \"q_bloc\", \"q_world\", \"cif_world\"]\n",
    "df = df[cols]\n",
    "\n",
    "df.head()"
   ]
  },
  {
   "cell_type": "code",
   "execution_count": 251,
   "metadata": {},
   "outputs": [],
   "source": [
    "def separate_endog_and_exog(df, endog, exog):\n",
    "    endog_data = df[endog]\n",
    "    exog_data = df[exog]\n",
    "    # add intercept\n",
    "    # exog_data.insert(0, 'intercept', 1)\n",
    "\n",
    "    # convert dfs to matrices\n",
    "    x = exog_data.to_numpy()\n",
    "    y = endog_data.to_numpy()\n",
    "\n",
    "    return y, x"
   ]
  },
  {
   "cell_type": "code",
   "execution_count": 252,
   "metadata": {},
   "outputs": [],
   "source": [
    "endog = ['price', 'q_bloc', 'q_world']\n",
    "exog = ['duty_bloc', 'duty_r_bloc', 'tariff', 'duty_world', 'cif_world']\n",
    "\n",
    "zt, xt = separate_endog_and_exog(df, endog, exog)"
   ]
  },
  {
   "cell_type": "code",
   "execution_count": 256,
   "metadata": {},
   "outputs": [],
   "source": [
    "# calculate dimensions for exogenous variables\n",
    "if xt.shape[1] < 1:\n",
    "    m = -1\n",
    "    k_x = 0\n",
    "else:\n",
    "    k_x = xt.shape[1]\n",
    "# validate lags are non-negative\n",
    "if p < 0:\n",
    "    p = 0"
   ]
  },
  {
   "cell_type": "code",
   "execution_count": 264,
   "metadata": {},
   "outputs": [],
   "source": [
    "include_mean = True\n",
    "if include_mean:\n",
    "    xmtx = np.ones(nT-ist)\n",
    "    xmtx = xmtx.reshape((xmtx.shape[0], 1))"
   ]
  },
  {
   "cell_type": "code",
   "execution_count": 266,
   "metadata": {},
   "outputs": [],
   "source": [
    "# let's define the columns so that we can keep track of which values are for which columns\n",
    "cols = endog\n",
    "cols_exog = exog\n",
    "# cols = np.concatenate([endog, exog])"
   ]
  },
  {
   "cell_type": "code",
   "execution_count": 267,
   "metadata": {},
   "outputs": [],
   "source": [
    "# add in the lags for endog variables\n",
    "if p > 0:\n",
    "    for i in range(p):\n",
    "        xmtx = np.concatenate((xmtx, zt[(ist-i-1):(nT-i-1),]), axis=1)\n",
    "        if i > 0:\n",
    "            new_cols = [c + '_l' + str(i) for c in endog]\n",
    "            # update list of column names\n",
    "            cols = np.concatenate([new_cols, cols])\n",
    "# add in the lags for exog variables\n",
    "if m > -1:\n",
    "    for i in range(m+1):\n",
    "        xmtx = np.concatenate((xmtx, xt[(ist-i):(nT-i),]), axis=1)\n",
    "        # update exog column names\n",
    "        if i > 0:\n",
    "            new_cols_exog = [c + '_l' + str(i) for c in exog]\n",
    "            cols_exog = np.concatenate([new_cols_exog, cols_exog])\n",
    "\n",
    "# update entire set of columns\n",
    "cols = np.concatenate([cols, cols_exog])\n",
    "cols = np.concatenate([['intercept'], cols])"
   ]
  },
  {
   "cell_type": "code",
   "execution_count": 268,
   "metadata": {},
   "outputs": [
    {
     "data": {
      "text/plain": [
       "(262, 22)"
      ]
     },
     "execution_count": 268,
     "metadata": {},
     "output_type": "execute_result"
    }
   ],
   "source": [
    "xmtx.shape"
   ]
  },
  {
   "cell_type": "code",
   "execution_count": 269,
   "metadata": {},
   "outputs": [],
   "source": [
    "p1 = xmtx.shape[1]\n",
    "nobe = xmtx.shape[0]"
   ]
  },
  {
   "cell_type": "code",
   "execution_count": 270,
   "metadata": {},
   "outputs": [],
   "source": [
    "xpx = np.dot(xmtx.T, xmtx)"
   ]
  },
  {
   "cell_type": "code",
   "execution_count": 271,
   "metadata": {},
   "outputs": [
    {
     "data": {
      "text/plain": [
       "array(['intercept', 'price_l1', 'q_bloc_l1', 'q_world_l1', 'price',\n",
       "       'q_bloc', 'q_world', 'duty_bloc_l2', 'duty_r_bloc_l2', 'tariff_l2',\n",
       "       'duty_world_l2', 'cif_world_l2', 'duty_bloc_l1', 'duty_r_bloc_l1',\n",
       "       'tariff_l1', 'duty_world_l1', 'cif_world_l1', 'duty_bloc',\n",
       "       'duty_r_bloc', 'tariff', 'duty_world', 'cif_world'], dtype='<U14')"
      ]
     },
     "execution_count": 271,
     "metadata": {},
     "output_type": "execute_result"
    }
   ],
   "source": [
    "cols"
   ]
  },
  {
   "cell_type": "code",
   "execution_count": 274,
   "metadata": {},
   "outputs": [],
   "source": [
    "xpy = np.dot(xmtx.T, yt)"
   ]
  },
  {
   "cell_type": "code",
   "execution_count": 281,
   "metadata": {},
   "outputs": [
    {
     "data": {
      "text/plain": [
       "(262, 3)"
      ]
     },
     "execution_count": 281,
     "metadata": {},
     "output_type": "execute_result"
    }
   ],
   "source": [
    "yt.shape"
   ]
  },
  {
   "cell_type": "code",
   "execution_count": 282,
   "metadata": {},
   "outputs": [
    {
     "data": {
      "text/plain": [
       "(22, 22)"
      ]
     },
     "execution_count": 282,
     "metadata": {},
     "output_type": "execute_result"
    }
   ],
   "source": [
    "xpx.shape"
   ]
  },
  {
   "cell_type": "code",
   "execution_count": 286,
   "metadata": {},
   "outputs": [
    {
     "data": {
      "text/plain": [
       "array([[2165.192635659071, 4339904398.0, 20317310872.0],\n",
       "       [18349.571398564924, 37008351315.102905, 175790734935.9624],\n",
       "       [37014451126.50875, 7.601562891486576e+16, 3.5639958972635795e+17],\n",
       "       [175467300996.32077, 3.5468641204198656e+17,\n",
       "        1.6986846191954767e+18],\n",
       "       [18509.34166866306, 36924511633.382195, 175398736362.7329],\n",
       "       [36858138636.76801, 7.476643351005216e+16, 3.5367424317150176e+17],\n",
       "       [174567644332.0617, 3.516473379579188e+17, 1.6875229887622213e+18],\n",
       "       [4993151379.648457, 1.0352364671088888e+16,\n",
       "        5.0182092006667944e+16],\n",
       "       [279.38161093630134, 560746608.3130232, 2734792611.5934362],\n",
       "       [204.1956144473093, 437177232.0, 2192920900.0],\n",
       "       [12220739498.660559, 2.4981959234890704e+16,\n",
       "        1.2010037432706901e+17],\n",
       "       [34360090337.91957, 7.0554789276816776e+16, 3.317167224163935e+17],\n",
       "       [4997559642.909006, 1.019010510446276e+16, 4.9803916708096984e+16],\n",
       "       [279.7254458377028, 562479143.233094, 2738711105.507628],\n",
       "       [204.64583341577818, 445381493.0, 2223988338.0],\n",
       "       [12213993307.225601, 2.4621758344218664e+16,\n",
       "        1.1896154491546674e+17],\n",
       "       [34329049330.54954, 6.921471216910181e+16, 3.275629811856467e+17],\n",
       "       [4989936600.386141, 1.0225877171360382e+16, 4.977844968632934e+16],\n",
       "       [280.03518559004317, 570359434.2408429, 2745788155.5544763],\n",
       "       [204.89476892831829, 455550050.0, 2244613713.0],\n",
       "       [12190007692.065395, 2.455326609304655e+16, 1.185901378395561e+17],\n",
       "       [34169411791.867054, 6.844042331476379e+16, 3.256226643561092e+17]],\n",
       "      dtype=object)"
      ]
     },
     "execution_count": 286,
     "metadata": {},
     "output_type": "execute_result"
    }
   ],
   "source": [
    "xpy"
   ]
  },
  {
   "cell_type": "code",
   "execution_count": 287,
   "metadata": {},
   "outputs": [],
   "source": [
    "# import scipy.linalg"
   ]
  },
  {
   "cell_type": "code",
   "execution_count": 290,
   "metadata": {},
   "outputs": [
    {
     "data": {
      "text/plain": [
       "(22, 22)"
      ]
     },
     "execution_count": 290,
     "metadata": {},
     "output_type": "execute_result"
    }
   ],
   "source": [
    "xpx.shape"
   ]
  },
  {
   "cell_type": "code",
   "execution_count": 294,
   "metadata": {},
   "outputs": [],
   "source": [
    "xpx = xpx.astype(float)"
   ]
  },
  {
   "cell_type": "code",
   "execution_count": 295,
   "metadata": {},
   "outputs": [],
   "source": [
    "xpxi = np.linalg.inv(xpx)"
   ]
  },
  {
   "cell_type": "code",
   "execution_count": 298,
   "metadata": {},
   "outputs": [],
   "source": [
    "beta = np.dot(xpxi, xpy)"
   ]
  },
  {
   "cell_type": "code",
   "execution_count": 300,
   "metadata": {},
   "outputs": [
    {
     "data": {
      "text/plain": [
       "(22, 3)"
      ]
     },
     "execution_count": 300,
     "metadata": {},
     "output_type": "execute_result"
    }
   ],
   "source": [
    "# these beta values are the coefficients of price, q_bloc, and q_world (the endogenous variables)\n",
    "beta.shape"
   ]
  },
  {
   "cell_type": "code",
   "execution_count": 301,
   "metadata": {},
   "outputs": [
    {
     "data": {
      "text/plain": [
       "array([[0.3329008845980326, 5614200.624198228, -3468427.615319848],\n",
       "       [-0.004484727392386034, -444.9056329615414, 1009659.1621311903],\n",
       "       [-4.264449599624158e-09, 0.3928661986041533, -0.3215621580480956],\n",
       "       [1.8526173837485915e-09, -0.012603190593726055,\n",
       "        0.5045213282809016],\n",
       "       [0.9269600156760793, 34283.09478555806, 903518.9716692269],\n",
       "       [3.5533307763058663e-09, 0.07343945543387065, 0.15095489935748674],\n",
       "       [2.944722625017805e-09, 0.07739235526941535, 0.30406541376100904],\n",
       "       [-1.0488973899132277e-07, 2.113313445315214, -7.889225125406597],\n",
       "       [-0.014375629016853964, -39525182.79546654, -56964780.35711527],\n",
       "       [0.22658367326700812, -1363052.5205810666, -2204665.3285360336],\n",
       "       [7.394795284089591e-08, -0.0999305992304329, 10.74936921430617],\n",
       "       [-1.9043310691209305e-08, 0.7708554330031561, 1.4981595556699006],\n",
       "       [7.559007376942996e-08, 0.1731146157425485, 5.206040315436212],\n",
       "       [0.24599776604588897, 1260523.6516458988, 18122646.869309425],\n",
       "       [0.08249543176118834, 2439542.810926974, 11775891.314776897],\n",
       "       [-7.346137786568905e-08, -0.27127869577639174, -5.828090821825114],\n",
       "       [2.425427576330561e-08, -0.36244391464440184, -0.7473873899505179],\n",
       "       [3.677232263669559e-08, 0.06261947194423101, 3.7570541188376865],\n",
       "       [0.3547195521657045, 3480197.0405824184, -20555401.21520996],\n",
       "       [-0.41241487766677665, 1214475.3626756966, -3261754.597739935],\n",
       "       [-2.926058275055021e-08, -0.38919069709086784,\n",
       "        -3.2668968662410407],\n",
       "       [-1.4115980369734486e-09, -0.33769596200312435,\n",
       "        -0.6818329853049363]], dtype=object)"
      ]
     },
     "execution_count": 301,
     "metadata": {},
     "output_type": "execute_result"
    }
   ],
   "source": [
    "beta"
   ]
  },
  {
   "cell_type": "code",
   "execution_count": 302,
   "metadata": {},
   "outputs": [],
   "source": [
    "resi = yt - np.dot(xmtx, beta)"
   ]
  },
  {
   "cell_type": "code",
   "execution_count": 304,
   "metadata": {},
   "outputs": [
    {
     "data": {
      "text/plain": [
       "(262, 3)"
      ]
     },
     "execution_count": 304,
     "metadata": {},
     "output_type": "execute_result"
    }
   ],
   "source": [
    "resi.shape"
   ]
  },
  {
   "cell_type": "code",
   "execution_count": 308,
   "metadata": {},
   "outputs": [],
   "source": [
    "sig = np.matmul(resi.T, resi) / nobe"
   ]
  },
  {
   "cell_type": "code",
   "execution_count": 309,
   "metadata": {},
   "outputs": [
    {
     "data": {
      "text/plain": [
       "array([[0.09562574389358383, -22016.216386953958, -89495.1419672928],\n",
       "       [-22016.216386953958, 1796788192910.1694, 913627039718.1187],\n",
       "       [-89495.1419672928, 913627039718.1187, 13818282857901.414]],\n",
       "      dtype=object)"
      ]
     },
     "execution_count": 309,
     "metadata": {},
     "output_type": "execute_result"
    }
   ],
   "source": [
    "sig"
   ]
  },
  {
   "cell_type": "code",
   "execution_count": 310,
   "metadata": {},
   "outputs": [],
   "source": [
    "co = np.kron(sig, xpxi)"
   ]
  },
  {
   "cell_type": "code",
   "execution_count": 314,
   "metadata": {},
   "outputs": [],
   "source": [
    "co_diag = np.diag(co)"
   ]
  },
  {
   "cell_type": "code",
   "execution_count": 316,
   "metadata": {},
   "outputs": [
    {
     "data": {
      "text/plain": [
       "(66,)"
      ]
     },
     "execution_count": 316,
     "metadata": {},
     "output_type": "execute_result"
    }
   ],
   "source": [
    "co_diag.shape"
   ]
  },
  {
   "cell_type": "code",
   "execution_count": 321,
   "metadata": {},
   "outputs": [],
   "source": [
    "se = co_diag**(1/2)"
   ]
  },
  {
   "cell_type": "code",
   "execution_count": 323,
   "metadata": {},
   "outputs": [
    {
     "data": {
      "text/plain": [
       "(66,)"
      ]
     },
     "execution_count": 323,
     "metadata": {},
     "output_type": "execute_result"
    }
   ],
   "source": [
    "se.shape"
   ]
  },
  {
   "cell_type": "code",
   "execution_count": 338,
   "metadata": {},
   "outputs": [],
   "source": [
    "se_beta = se.reshape((beta.shape[0], k), order='F')"
   ]
  },
  {
   "cell_type": "code",
   "execution_count": 341,
   "metadata": {},
   "outputs": [
    {
     "data": {
      "text/plain": [
       "(22, 3)"
      ]
     },
     "execution_count": 341,
     "metadata": {},
     "output_type": "execute_result"
    }
   ],
   "source": [
    "se_beta.shape"
   ]
  },
  {
   "cell_type": "code",
   "execution_count": 343,
   "metadata": {},
   "outputs": [],
   "source": [
    "n_par = beta.shape[0] * k"
   ]
  },
  {
   "cell_type": "code",
   "execution_count": 347,
   "metadata": {},
   "outputs": [
    {
     "data": {
      "text/plain": [
       "array([[0.09562574389358383, -22016.216386953958, -89495.1419672928],\n",
       "       [-22016.216386953958, 1796788192910.1694, 913627039718.1187],\n",
       "       [-89495.1419672928, 913627039718.1187, 13818282857901.414]],\n",
       "      dtype=object)"
      ]
     },
     "execution_count": 347,
     "metadata": {},
     "output_type": "execute_result"
    }
   ],
   "source": [
    "sig"
   ]
  },
  {
   "cell_type": "code",
   "execution_count": 350,
   "metadata": {},
   "outputs": [],
   "source": [
    "sig = sig.astype(float)\n",
    "sig_det = np.linalg.det(sig)"
   ]
  },
  {
   "cell_type": "code",
   "execution_count": 351,
   "metadata": {},
   "outputs": [],
   "source": [
    "d_1 = np.log(sig_det)"
   ]
  },
  {
   "cell_type": "code",
   "execution_count": 352,
   "metadata": {},
   "outputs": [
    {
     "data": {
      "text/plain": [
       "56.08487355949789"
      ]
     },
     "execution_count": 352,
     "metadata": {},
     "output_type": "execute_result"
    }
   ],
   "source": [
    "d_1"
   ]
  },
  {
   "cell_type": "code",
   "execution_count": 353,
   "metadata": {},
   "outputs": [],
   "source": [
    "aic = d_1 + 2 * n_par / nobe"
   ]
  },
  {
   "cell_type": "code",
   "execution_count": 354,
   "metadata": {},
   "outputs": [
    {
     "data": {
      "text/plain": [
       "56.58869035339102"
      ]
     },
     "execution_count": 354,
     "metadata": {},
     "output_type": "execute_result"
    }
   ],
   "source": [
    "aic"
   ]
  },
  {
   "cell_type": "code",
   "execution_count": 355,
   "metadata": {},
   "outputs": [],
   "source": [
    "bic = d_1 + np.log(nobe) * n_par / nobe"
   ]
  },
  {
   "cell_type": "code",
   "execution_count": 356,
   "metadata": {},
   "outputs": [
    {
     "data": {
      "text/plain": [
       "57.487586297086565"
      ]
     },
     "execution_count": 356,
     "metadata": {},
     "output_type": "execute_result"
    }
   ],
   "source": [
    "bic"
   ]
  },
  {
   "cell_type": "code",
   "execution_count": 357,
   "metadata": {},
   "outputs": [],
   "source": [
    "beta = np.zeros((p1, k))"
   ]
  },
  {
   "cell_type": "code",
   "execution_count": 358,
   "metadata": {},
   "outputs": [
    {
     "data": {
      "text/plain": [
       "(22, 3)"
      ]
     },
     "execution_count": 358,
     "metadata": {},
     "output_type": "execute_result"
    }
   ],
   "source": [
    "beta.shape"
   ]
  },
  {
   "cell_type": "code",
   "execution_count": 359,
   "metadata": {},
   "outputs": [],
   "source": [
    "se_beta = np.ones((p1, k))"
   ]
  },
  {
   "cell_type": "code",
   "execution_count": 360,
   "metadata": {},
   "outputs": [
    {
     "data": {
      "text/plain": [
       "(22, 3)"
      ]
     },
     "execution_count": 360,
     "metadata": {},
     "output_type": "execute_result"
    }
   ],
   "source": [
    "se_beta.shape"
   ]
  },
  {
   "cell_type": "code",
   "execution_count": 361,
   "metadata": {},
   "outputs": [],
   "source": [
    "resi = yt"
   ]
  },
  {
   "cell_type": "code",
   "execution_count": 362,
   "metadata": {},
   "outputs": [
    {
     "data": {
      "text/plain": [
       "(262, 3)"
      ]
     },
     "execution_count": 362,
     "metadata": {},
     "output_type": "execute_result"
    }
   ],
   "source": [
    "resi.shape"
   ]
  },
  {
   "cell_type": "code",
   "execution_count": 363,
   "metadata": {},
   "outputs": [],
   "source": [
    "n_par = 0"
   ]
  },
  {
   "cell_type": "code",
   "execution_count": 370,
   "metadata": {},
   "outputs": [
    {
     "data": {
      "text/plain": [
       "22"
      ]
     },
     "execution_count": 370,
     "metadata": {},
     "output_type": "execute_result"
    }
   ],
   "source": [
    "p1"
   ]
  },
  {
   "cell_type": "code",
   "execution_count": 386,
   "metadata": {},
   "outputs": [],
   "source": [
    "fixed = np.NaN\n",
    "\n",
    "if (np.isnan(fixed)):\n",
    "    xpx = np.dot(xmtx.T, xmtx)\n",
    "    xpx = xpx.astype(float)\n",
    "    xpy = np.dot(xmtx.T, yt)\n",
    "    xpxi = np.linalg.inv(xpx)\n",
    "    beta = np.dot(xpxi, xpy)\n",
    "    resi = yt - np.dot(xmtx, beta)\n",
    "    sig = np.matmul(resi.T, resi) / nobe\n",
    "    co = np.kron(sig, xpxi)\n",
    "    co_diag = np.diag(co)\n",
    "    se = co_diag**(1/2)\n",
    "    se_beta = se.reshape((beta.shape[0], k), order='F')\n",
    "    n_par = beta.shape[0] * k\n",
    "    sig = sig.astype(float)\n",
    "    sig_det = np.linalg.det(sig)\n",
    "    d_1 = np.log(sig_det)\n",
    "    aic = d_1 + 2 * n_par / nobe\n",
    "    bic = d_1 + np.log(nobe) * n_par / nobe\n",
    "else:\n",
    "    beta = np.zeros((p1, k))\n",
    "    se_beta = np.ones((p1, k))\n",
    "    resi = yt\n",
    "    n_par = 0\n",
    "    for i in range(k):\n",
    "        # id_x = range(p1)[fixed[:i] > 0]\n",
    "        id_x = np.argwhere(np.any(fixed[:, i] == 1))\n",
    "        n_par = n_par + len(id_x)\n",
    "        if (len(id_x) > 0):\n",
    "            x_m = xmtx[:, id_x]\n",
    "            y_1 = yt[:, i].reshape((nobe, 1))\n",
    "            xpx = np.dot(x_m.T, x_m)\n",
    "            xpy = np.dot(x_m.T, y_1)\n",
    "            xpx = xpx.astype(float)\n",
    "            xpxi = np.linalg.solve(xpx)\n",
    "            beta_1 = np.dot(xpxi, xpy)\n",
    "            res = y_1 - np.dot(x_m, beta_1)\n",
    "            sig_1 = np.sum(res**2) / nobe\n",
    "            sig_1 = sig_1.astype(float)\n",
    "            diag_sig_1 = np.diag(xpxi) * sig_1\n",
    "            se = diag_sig_1**(1/2)\n",
    "            beta[id_x, i] = beta_1\n",
    "            se_beta[id_x, i] = se\n",
    "            resi[:, i] = res\n",
    "    sig = np.matmul(resi.T, resi) / nobe\n",
    "    sig = sig.astype(float)\n",
    "    d_1 = np.log(np.linalg.det(sig))\n",
    "    aic = d_1 + 2 * n_par / nobe\n",
    "    bic = d_1 + np.log(nobe) * n_par / nobe"
   ]
  },
  {
   "cell_type": "code",
   "execution_count": 387,
   "metadata": {},
   "outputs": [
    {
     "data": {
      "text/plain": [
       "True"
      ]
     },
     "execution_count": 387,
     "metadata": {},
     "output_type": "execute_result"
    }
   ],
   "source": [
    "fixed = np.NaN\n",
    "np.isnan(fixed)"
   ]
  },
  {
   "cell_type": "code",
   "execution_count": 393,
   "metadata": {},
   "outputs": [
    {
     "data": {
      "text/plain": [
       "array([0.3329008845980326, 5614200.624198228, -3468427.615319848],\n",
       "      dtype=object)"
      ]
     },
     "execution_count": 393,
     "metadata": {},
     "output_type": "execute_result"
    }
   ],
   "source": [
    "beta[0,:]"
   ]
  },
  {
   "cell_type": "code",
   "execution_count": 514,
   "metadata": {},
   "outputs": [
    {
     "name": "stdout",
     "output_type": "stream",
     "text": [
      "Constant Term:\n",
      "est: [0.3329, 5614200.6242, -3468427.6153]\n",
      "se: [0.2766, 1198807.4731, 3324513.0207]\n"
     ]
    }
   ],
   "source": [
    "ph0 = np.NaN\n",
    "icnt = 0\n",
    "\n",
    "if (include_mean):\n",
    "    ph0 = beta[0,:]\n",
    "    icnt = icnt + 1\n",
    "\n",
    "    print('Constant Term:')\n",
    "    print('est:', [np.round(i, 4) for i in ph0])\n",
    "    print('se:', [np.round(i, 4) for i in se_beta[0,:]])"
   ]
  },
  {
   "cell_type": "code",
   "execution_count": 515,
   "metadata": {},
   "outputs": [
    {
     "data": {
      "text/plain": [
       "array([[-0.004484727392386034, -4.264449599624158e-09,\n",
       "        1.8526173837485915e-09, 0.9269600156760793,\n",
       "        3.5533307763058663e-09, 2.944722625017805e-09],\n",
       "       [-444.9056329615414, 0.3928661986041533, -0.012603190593726055,\n",
       "        34283.09478555806, 0.07343945543387065, 0.07739235526941535],\n",
       "       [1009659.1621311903, -0.3215621580480956, 0.5045213282809016,\n",
       "        903518.9716692269, 0.15095489935748674, 0.30406541376100904]],\n",
       "      dtype=object)"
      ]
     },
     "execution_count": 515,
     "metadata": {},
     "output_type": "execute_result"
    }
   ],
   "source": [
    "beta[(icnt):(icnt+k*p),].T"
   ]
  },
  {
   "cell_type": "code",
   "execution_count": 516,
   "metadata": {},
   "outputs": [
    {
     "data": {
      "text/plain": [
       "array([[0.02430457950841963, 1.592771141795895e-08,\n",
       "        4.9473799445421175e-09, 0.024025326018983297,\n",
       "        1.4761458342008096e-08, 5.084039028234845e-09],\n",
       "       [105353.54194469168, 0.06904216599894573, 0.021445505787215168,\n",
       "        104143.05631574507, 0.06398678570270362, 0.022037884622691722],\n",
       "       [292164.69685069245, 0.1914665907443991, 0.05947232130478162,\n",
       "        288807.79816180957, 0.1774470938726951, 0.061115096475820786]],\n",
       "      dtype=object)"
      ]
     },
     "execution_count": 516,
     "metadata": {},
     "output_type": "execute_result"
    }
   ],
   "source": [
    "se_beta[(icnt):(icnt+k*p),].T"
   ]
  },
  {
   "cell_type": "code",
   "execution_count": 517,
   "metadata": {},
   "outputs": [
    {
     "name": "stdout",
     "output_type": "stream",
     "text": [
      "AR(1) matrix:\n",
      "-0.004 -0.000 0.000\n",
      "-444.906 0.393 -0.013\n",
      "1009659.162 -0.322 0.505\n",
      "standard errors:\n",
      "0.024 0.000 0.000\n",
      "105353.542 0.069 0.021\n",
      "292164.697 0.191 0.059\n",
      "AR(2) matrix:\n",
      "0.927 0.000 0.000\n",
      "34283.095 0.073 0.077\n",
      "903518.972 0.151 0.304\n",
      "standard errors:\n",
      "0.024 0.000 0.000\n",
      "104143.056 0.064 0.022\n",
      "288807.798 0.177 0.061\n",
      "coefficients of exogenous variables:\n",
      "l0 coefficient matrix\n",
      "-0.000 -0.014 0.227 0.000 -0.000\n",
      "2.113 -39525182.795 -1363052.521 -0.100 0.771\n",
      "-7.889 -56964780.357 -2204665.329 10.749 1.498\n",
      "standard errors:\n",
      "0.000 1.200 0.275 0.000 0.000\n",
      "0.358 5199846.749 1193576.823 0.266 0.062\n",
      "0.992 14420128.843 3310007.468 0.738 0.171\n",
      "l1 coefficient matrix\n",
      "0.000 0.246 0.082 -0.000 0.000\n",
      "0.173 1260523.652 2439542.811 -0.271 -0.362\n",
      "5.206 18122646.869 11775891.315 -5.828 -0.747\n",
      "standard errors:\n",
      "0.000 1.168 0.327 0.000 0.000\n",
      "0.454 5060801.853 1417676.369 0.386 0.078\n",
      "1.260 14034531.844 3931476.615 1.072 0.217\n"
     ]
    }
   ],
   "source": [
    "phi = np.NaN\n",
    "\n",
    "if (p > 0):\n",
    "    phi = beta[(icnt):(icnt+k*p),].T\n",
    "    se_phi = se_beta[(icnt):(icnt+k*p),].T\n",
    "    for i in range(1, p+1):\n",
    "        print('AR(' + str(i) + ') matrix:')\n",
    "        jcnt = (i-1) * k\n",
    "        print('\\n'.join([' '.join(['{:.3f}'.format(item) for item in row]) for row in phi[:,jcnt:(jcnt+k)]]))\n",
    "        print('standard errors:')\n",
    "        print('\\n'.join([' '.join(['{:.3f}'.format(item) for item in row]) for row in se_phi[:,jcnt:(jcnt+k)]]))\n",
    "    icnt = icnt + k * p\n",
    "\n",
    "if (m > -1):\n",
    "    print('coefficients of exogenous variables:')\n",
    "    beta_exog = beta[icnt:icnt+(m+1)*k_x,:].T\n",
    "    se_beta_exog = se_beta[icnt:icnt+(m+1)*k_x,:].T\n",
    "    if (k_x == 1):\n",
    "        beta_exog = beta_exog.T\n",
    "        se_beta_exog = se_beta_exog.T\n",
    "    for i in range(m):\n",
    "        jdx = i * k_x\n",
    "        print('l' + str(i), 'coefficient matrix')\n",
    "        print('\\n'.join([' '.join(['{:.3f}'.format(item) for item in row]) for row in beta_exog[:,jdx:(jdx+k_x)]]))\n",
    "        print('standard errors:')\n",
    "        print('\\n'.join([' '.join(['{:.3f}'.format(item) for item in row]) for row in se_beta_exog[:,jdx:(jdx+k_x)]]))\n"
   ]
  },
  {
   "cell_type": "code",
   "execution_count": 522,
   "metadata": {},
   "outputs": [
    {
     "name": "stdout",
     "output_type": "stream",
     "text": [
      "Residual Covariance Matrix:\n",
      "0.09563 -22016.21639 -89495.14197\n",
      "-22016.21639 1796788192910.16943 913627039718.11865\n",
      "-89495.14197 913627039718.11865 13818282857901.41406\n",
      "Information Criteria:\n",
      "AIC: 56.589\n",
      "BIC: 57.488\n"
     ]
    }
   ],
   "source": [
    "print('Residual Covariance Matrix:')\n",
    "print('\\n'.join([' '.join(['{:.5f}'.format(item) for item in row]) for row in sig]))\n",
    "print('Information Criteria:')\n",
    "print('AIC:', '{:.3f}'.format(aic))\n",
    "print('BIC:', '{:.3f}'.format(bic))"
   ]
  },
  {
   "cell_type": "code",
   "execution_count": 523,
   "metadata": {},
   "outputs": [
    {
     "data": {
      "text/plain": [
       "array([[-0.004484727392386034, -4.264449599624158e-09,\n",
       "        1.8526173837485915e-09, 0.9269600156760793,\n",
       "        3.5533307763058663e-09, 2.944722625017805e-09],\n",
       "       [-444.9056329615414, 0.3928661986041533, -0.012603190593726055,\n",
       "        34283.09478555806, 0.07343945543387065, 0.07739235526941535],\n",
       "       [1009659.1621311903, -0.3215621580480956, 0.5045213282809016,\n",
       "        903518.9716692269, 0.15095489935748674, 0.30406541376100904]],\n",
       "      dtype=object)"
      ]
     },
     "execution_count": 523,
     "metadata": {},
     "output_type": "execute_result"
    }
   ],
   "source": [
    "phi"
   ]
  },
  {
   "cell_type": "code",
   "execution_count": 525,
   "metadata": {},
   "outputs": [
    {
     "data": {
      "text/plain": [
       "264"
      ]
     },
     "execution_count": 525,
     "metadata": {},
     "output_type": "execute_result"
    }
   ],
   "source": [
    "nT"
   ]
  },
  {
   "cell_type": "code",
   "execution_count": 526,
   "metadata": {},
   "outputs": [
    {
     "data": {
      "text/plain": [
       "264"
      ]
     },
     "execution_count": 526,
     "metadata": {},
     "output_type": "execute_result"
    }
   ],
   "source": [
    "zt.shape[0]"
   ]
  },
  {
   "cell_type": "code",
   "execution_count": 529,
   "metadata": {},
   "outputs": [
    {
     "data": {
      "text/plain": [
       "264"
      ]
     },
     "execution_count": 529,
     "metadata": {},
     "output_type": "execute_result"
    }
   ],
   "source": [
    "n_t = zt.shape[0]\n",
    "n_t"
   ]
  },
  {
   "cell_type": "code",
   "execution_count": 530,
   "metadata": {},
   "outputs": [
    {
     "data": {
      "text/plain": [
       "3"
      ]
     },
     "execution_count": 530,
     "metadata": {},
     "output_type": "execute_result"
    }
   ],
   "source": [
    "k = zt.shape[1]\n",
    "k"
   ]
  },
  {
   "cell_type": "code",
   "execution_count": 531,
   "metadata": {},
   "outputs": [
    {
     "data": {
      "text/plain": [
       "5"
      ]
     },
     "execution_count": 531,
     "metadata": {},
     "output_type": "execute_result"
    }
   ],
   "source": [
    "dim_x = xt.shape[1]\n",
    "dim_x"
   ]
  },
  {
   "cell_type": "code",
   "execution_count": 532,
   "metadata": {},
   "outputs": [],
   "source": [
    "se = np.NaN"
   ]
  },
  {
   "cell_type": "code",
   "execution_count": 533,
   "metadata": {},
   "outputs": [
    {
     "data": {
      "text/plain": [
       "3"
      ]
     },
     "execution_count": 533,
     "metadata": {},
     "output_type": "execute_result"
    }
   ],
   "source": [
    "len(ph0)"
   ]
  },
  {
   "cell_type": "code",
   "execution_count": 539,
   "metadata": {},
   "outputs": [],
   "source": [
    "ph0 = ph0.reshape((3, 1))"
   ]
  },
  {
   "cell_type": "code",
   "execution_count": 540,
   "metadata": {},
   "outputs": [
    {
     "data": {
      "text/plain": [
       "3"
      ]
     },
     "execution_count": 540,
     "metadata": {},
     "output_type": "execute_result"
    }
   ],
   "source": [
    "len(ph0)"
   ]
  },
  {
   "cell_type": "code",
   "execution_count": 542,
   "metadata": {},
   "outputs": [
    {
     "data": {
      "text/plain": [
       "array([[5.29902913e+00, 8.76867600e+06, 3.08696920e+07],\n",
       "       [5.19881306e+00, 8.96191600e+06, 2.73345470e+07],\n",
       "       [5.31165049e+00, 1.04749930e+07, 3.39500340e+07],\n",
       "       [5.10495050e+00, 1.11280770e+07, 3.73813180e+07],\n",
       "       [5.42688911e+00, 1.08740510e+07, 3.87266980e+07],\n",
       "       [5.18485742e+00, 1.20819980e+07, 3.82895050e+07],\n",
       "       [5.49752230e+00, 1.06082760e+07, 3.28310950e+07],\n",
       "       [5.16601562e+00, 1.18835050e+07, 3.95782780e+07],\n",
       "       [5.43177388e+00, 1.07217360e+07, 3.36742930e+07],\n",
       "       [5.22243714e+00, 1.62065830e+07, 4.48060640e+07]])"
      ]
     },
     "execution_count": 542,
     "metadata": {},
     "output_type": "execute_result"
    }
   ],
   "source": [
    "zt[0:10]"
   ]
  },
  {
   "cell_type": "code",
   "execution_count": 543,
   "metadata": {},
   "outputs": [],
   "source": [
    "origin = n_t"
   ]
  },
  {
   "cell_type": "code",
   "execution_count": 546,
   "metadata": {},
   "outputs": [
    {
     "data": {
      "text/plain": [
       "(264, 5)"
      ]
     },
     "execution_count": 546,
     "metadata": {},
     "output_type": "execute_result"
    }
   ],
   "source": [
    "xt[0:(origin)].shape"
   ]
  },
  {
   "cell_type": "code",
   "execution_count": 547,
   "metadata": {},
   "outputs": [
    {
     "data": {
      "text/plain": [
       "array([1766832.638883712, 0.09481411260012769, False, 5321030.270052699,\n",
       "       18878472.55868037], dtype=object)"
      ]
     },
     "execution_count": 547,
     "metadata": {},
     "output_type": "execute_result"
    }
   ],
   "source": [
    "xt[-1]"
   ]
  },
  {
   "cell_type": "code",
   "execution_count": 551,
   "metadata": {},
   "outputs": [
    {
     "data": {
      "text/plain": [
       "array([1., 1., 1.])"
      ]
     },
     "execution_count": 551,
     "metadata": {},
     "output_type": "execute_result"
    }
   ],
   "source": [
    "np.diag(np.ones((1,k)))"
   ]
  },
  {
   "cell_type": "code",
   "execution_count": 552,
   "metadata": {},
   "outputs": [
    {
     "data": {
      "text/plain": [
       "array([1., 1., 1.])"
      ]
     },
     "execution_count": 552,
     "metadata": {},
     "output_type": "execute_result"
    }
   ],
   "source": [
    "np.ones(k)"
   ]
  },
  {
   "cell_type": "code",
   "execution_count": 554,
   "metadata": {},
   "outputs": [
    {
     "data": {
      "text/plain": [
       "array([[0., 0., 0.],\n",
       "       [0., 0., 0.],\n",
       "       [0., 0., 0.]])"
      ]
     },
     "execution_count": 554,
     "metadata": {},
     "output_type": "execute_result"
    }
   ],
   "source": [
    "np.zeros((k, k))"
   ]
  },
  {
   "cell_type": "code",
   "execution_count": 710,
   "metadata": {},
   "outputs": [],
   "source": [
    "def psi_weights(phi, lag):\n",
    "        k = phi.shape[0]\n",
    "        m = phi.shape[1]\n",
    "        p = np.floor(m/k)\n",
    "        si = np.zeros((k, k))\n",
    "        np.fill_diagonal(si, 1)\n",
    "        if (p < 1):\n",
    "            p = 1\n",
    "        if (lag < 1):\n",
    "            lag = 1\n",
    "        \n",
    "        for i in range(1, (lag+1)):\n",
    "            if (i < (p+1)):\n",
    "                id_x = (i-1) * k\n",
    "                t_p = phi[:, (id_x):(id_x+k)]\n",
    "            else:\n",
    "                t_p = np.zeros((k, k))\n",
    "            jj = i-1\n",
    "            jp = np.minimum(jj, p).astype(int)\n",
    "            if (jp > 0):\n",
    "                for j in range(1, (jp+1)):\n",
    "                    jd_x = (j-1) * k\n",
    "                    id_x = (i-j) * k\n",
    "                    w1 = phi[:, (jd_x):(jd_x+k)]\n",
    "                    w2 = si[:, (id_x):(id_x+k)]\n",
    "                    t_p = t_p + np.dot(w1, w2)\n",
    "            si = np.concatenate((si, t_p), axis=1)\n",
    "        \n",
    "        return si"
   ]
  },
  {
   "cell_type": "code",
   "execution_count": 707,
   "metadata": {},
   "outputs": [
    {
     "name": "stdout",
     "output_type": "stream",
     "text": [
      "0\n",
      "1\n",
      "[[1.0 0.0 0.0 -0.004484727392386034 -4.264449599624158e-09\n",
      "  1.8526173837485915e-09]\n",
      " [0.0 1.0 0.0 -444.9056329615414 0.3928661986041533 -0.012603190593726055]\n",
      " [0.0 0.0 1.0 1009659.1621311903 -0.3215621580480956 0.5045213282809016]]\n",
      "[[-0.004484727392386034 -4.264449599624158e-09 1.8526173837485915e-09]\n",
      " [-444.9056329615414 0.3928661986041533 -0.012603190593726055]\n",
      " [1009659.1621311903 -0.3215621580480956 0.5045213282809016]]\n"
     ]
    }
   ],
   "source": [
    "test = psi_weights(phi, 2)"
   ]
  },
  {
   "cell_type": "code",
   "execution_count": 708,
   "metadata": {},
   "outputs": [
    {
     "data": {
      "text/plain": [
       "array([[1.0, 0.0, 0.0, -0.004484727392386034, -4.264449599624158e-09,\n",
       "        1.8526173837485915e-09, 0.928852537848937, 1.30136592293979e-09,\n",
       "        3.924844795415827e-09],\n",
       "       [0.0, 1.0, 0.0, -444.9056329615414, 0.3928661986041533,\n",
       "        -0.012603190593726055, 21385.374826236904, 0.23183791188280703,\n",
       "        0.06608158499174079],\n",
       "       [0.0, 0.0, 1.0, 1009659.1621311903, -0.3215621580480956,\n",
       "        0.5045213282809016, 1408528.5719727166, -0.14191661100282216,\n",
       "        0.5645304057323696]], dtype=object)"
      ]
     },
     "execution_count": 708,
     "metadata": {},
     "output_type": "execute_result"
    }
   ],
   "source": [
    "test"
   ]
  },
  {
   "cell_type": "code",
   "execution_count": 632,
   "metadata": {},
   "outputs": [
    {
     "data": {
      "text/plain": [
       "(3, 6)"
      ]
     },
     "execution_count": 632,
     "metadata": {},
     "output_type": "execute_result"
    }
   ],
   "source": [
    "test.shape"
   ]
  },
  {
   "cell_type": "code",
   "execution_count": 602,
   "metadata": {},
   "outputs": [
    {
     "data": {
      "text/plain": [
       "array([[-0.004484727392386034, -4.264449599624158e-09,\n",
       "        1.8526173837485915e-09, 0.9269600156760793,\n",
       "        3.5533307763058663e-09, 2.944722625017805e-09],\n",
       "       [-444.9056329615414, 0.3928661986041533, -0.012603190593726055,\n",
       "        34283.09478555806, 0.07343945543387065, 0.07739235526941535],\n",
       "       [1009659.1621311903, -0.3215621580480956, 0.5045213282809016,\n",
       "        903518.9716692269, 0.15095489935748674, 0.30406541376100904]],\n",
       "      dtype=object)"
      ]
     },
     "execution_count": 602,
     "metadata": {},
     "output_type": "execute_result"
    }
   ],
   "source": [
    "phi"
   ]
  },
  {
   "cell_type": "code",
   "execution_count": 711,
   "metadata": {},
   "outputs": [],
   "source": [
    "weights = psi_weights(phi, 2)"
   ]
  },
  {
   "cell_type": "code",
   "execution_count": 712,
   "metadata": {},
   "outputs": [
    {
     "data": {
      "text/plain": [
       "array([[ 9.56257439e-02, -2.20162164e+04, -8.94951420e+04],\n",
       "       [-2.20162164e+04,  1.79678819e+12,  9.13627040e+11],\n",
       "       [-8.94951420e+04,  9.13627040e+11,  1.38182829e+13]])"
      ]
     },
     "execution_count": 712,
     "metadata": {},
     "output_type": "execute_result"
    }
   ],
   "source": [
    "sig"
   ]
  },
  {
   "cell_type": "code",
   "execution_count": 713,
   "metadata": {},
   "outputs": [
    {
     "data": {
      "text/plain": [
       "array([9.56257439e-02, 1.79678819e+12, 1.38182829e+13])"
      ]
     },
     "execution_count": 713,
     "metadata": {},
     "output_type": "execute_result"
    }
   ],
   "source": [
    "np.diag(sig)"
   ]
  },
  {
   "cell_type": "code",
   "execution_count": 714,
   "metadata": {},
   "outputs": [
    {
     "data": {
      "text/plain": [
       "array([3.09234125e-01, 1.34044328e+06, 3.71729510e+06])"
      ]
     },
     "execution_count": 714,
     "metadata": {},
     "output_type": "execute_result"
    }
   ],
   "source": [
    "np.diag(sig)**(1/2)"
   ]
  },
  {
   "cell_type": "code",
   "execution_count": 716,
   "metadata": {},
   "outputs": [],
   "source": [
    "se = np.diag(sig)**(1/2)"
   ]
  },
  {
   "cell_type": "code",
   "execution_count": 717,
   "metadata": {},
   "outputs": [
    {
     "data": {
      "text/plain": [
       "(3,)"
      ]
     },
     "execution_count": 717,
     "metadata": {},
     "output_type": "execute_result"
    }
   ],
   "source": [
    "se.shape"
   ]
  },
  {
   "cell_type": "code",
   "execution_count": 722,
   "metadata": {},
   "outputs": [],
   "source": [
    "se = se.reshape(1, k)"
   ]
  },
  {
   "cell_type": "code",
   "execution_count": 723,
   "metadata": {},
   "outputs": [
    {
     "data": {
      "text/plain": [
       "(1, 3)"
      ]
     },
     "execution_count": 723,
     "metadata": {},
     "output_type": "execute_result"
    }
   ],
   "source": [
    "se.shape"
   ]
  },
  {
   "cell_type": "code",
   "execution_count": 724,
   "metadata": {},
   "outputs": [
    {
     "data": {
      "text/plain": [
       "array([[3.09234125e-01, 1.34044328e+06, 3.71729510e+06]])"
      ]
     },
     "execution_count": 724,
     "metadata": {},
     "output_type": "execute_result"
    }
   ],
   "source": [
    "se"
   ]
  },
  {
   "cell_type": "code",
   "execution_count": 725,
   "metadata": {},
   "outputs": [
    {
     "data": {
      "text/plain": [
       "array([[1.0, 0.0, 0.0, -0.004484727392386034, -4.264449599624158e-09,\n",
       "        1.8526173837485915e-09, 0.928852537848937, 1.30136592293979e-09,\n",
       "        3.924844795415827e-09],\n",
       "       [0.0, 1.0, 0.0, -444.9056329615414, 0.3928661986041533,\n",
       "        -0.012603190593726055, 21385.374826236904, 0.23183791188280703,\n",
       "        0.06608158499174079],\n",
       "       [0.0, 0.0, 1.0, 1009659.1621311903, -0.3215621580480956,\n",
       "        0.5045213282809016, 1408528.5719727166, -0.14191661100282216,\n",
       "        0.5645304057323696]], dtype=object)"
      ]
     },
     "execution_count": 725,
     "metadata": {},
     "output_type": "execute_result"
    }
   ],
   "source": [
    "weights"
   ]
  },
  {
   "cell_type": "code",
   "execution_count": 759,
   "metadata": {},
   "outputs": [],
   "source": [
    "hstep = 4\n",
    "\n",
    "if hstep > 1:\n",
    "    for i in range(2, hstep):\n",
    "        id_x = (i-1) * k\n",
    "        wk = weights[:, (id_x):(id_x+k)]\n",
    "        si = si + np.linalg.multi_dot([wk, sig, wk.T])\n",
    "        se1 = np.diag(si)**(1/2)\n",
    "        se1 = se1.reshape(1, k)\n",
    "        se = np.concatenate((se, se1), axis=0)\n"
   ]
  },
  {
   "cell_type": "code",
   "execution_count": 757,
   "metadata": {},
   "outputs": [
    {
     "data": {
      "text/plain": [
       "array([[0.3092341247236207, 1340443.2822429189, 3717295.099652624],\n",
       "       [0.014307497720403425, 900795.3388016885, 3206530.281596075],\n",
       "       [0.016520875320609748, 1040148.86268383, 3702582.2424883605],\n",
       "       [0.2868713382417835, 1125341.1247231592, 4249578.286293987],\n",
       "       [0.28699024292643044, 1239705.63487015, 4635320.315462447],\n",
       "       [0.40544497150444986, 1312003.4495303438, 5082912.037001042],\n",
       "       [0.4055291108522099, 1411322.2402113336, 5409553.917975826],\n",
       "       [0.4964635788573584, 1475233.3565120664, 5797678.32329794],\n",
       "       [0.49653229498411916, 1564222.1294629078, 6086078.602518731],\n",
       "       [0.5732072446728748, 1622120.1745715986, 6433517.941607651],\n",
       "       [0.5732667617922818, 1703452.7509995133, 6694582.281261847],\n",
       "       [0.6408252535278876, 1756768.1307840627, 7011934.987543473],\n",
       "       [0.6408784911271568, 1832133.0954584456, 7252207.325024142],\n",
       "       [0.7019597323014289, 1881806.2253922068, 7546145.468653849]],\n",
       "      dtype=object)"
      ]
     },
     "execution_count": 757,
     "metadata": {},
     "output_type": "execute_result"
    }
   ],
   "source": [
    "se"
   ]
  },
  {
   "cell_type": "code",
   "execution_count": 739,
   "metadata": {},
   "outputs": [],
   "source": [
    "wk = weights[:, (id_x):(id_x+k)]"
   ]
  },
  {
   "cell_type": "code",
   "execution_count": 740,
   "metadata": {},
   "outputs": [
    {
     "data": {
      "text/plain": [
       "array([[-0.004484727392386034, -4.264449599624158e-09,\n",
       "        1.8526173837485915e-09],\n",
       "       [-444.9056329615414, 0.3928661986041533, -0.012603190593726055],\n",
       "       [1009659.1621311903, -0.3215621580480956, 0.5045213282809016]],\n",
       "      dtype=object)"
      ]
     },
     "execution_count": 740,
     "metadata": {},
     "output_type": "execute_result"
    }
   ],
   "source": [
    "wk"
   ]
  },
  {
   "cell_type": "code",
   "execution_count": 741,
   "metadata": {},
   "outputs": [
    {
     "data": {
      "text/plain": [
       "array([[ 9.56257439e-02, -2.20162164e+04, -8.94951420e+04],\n",
       "       [-2.20162164e+04,  1.79678819e+12,  9.13627040e+11],\n",
       "       [-8.94951420e+04,  9.13627040e+11,  1.38182829e+13]])"
      ]
     },
     "execution_count": 741,
     "metadata": {},
     "output_type": "execute_result"
    }
   ],
   "source": [
    "sig"
   ]
  },
  {
   "cell_type": "code",
   "execution_count": 743,
   "metadata": {},
   "outputs": [],
   "source": [
    "si = np.linalg.multi_dot([wk, sig, wk.T])"
   ]
  },
  {
   "cell_type": "code",
   "execution_count": 744,
   "metadata": {},
   "outputs": [
    {
     "data": {
      "text/plain": [
       "array([[6.823483033978307e-05, -2584.8811893007583, 12534.840633185046],\n",
       "       [-2584.881189300758, 270477414135.61624, -137682570527.41403],\n",
       "       [12534.840633185044, -137682570527.41403, 3427278815597.5337]],\n",
       "      dtype=object)"
      ]
     },
     "execution_count": 744,
     "metadata": {},
     "output_type": "execute_result"
    }
   ],
   "source": [
    "si"
   ]
  },
  {
   "cell_type": "code",
   "execution_count": 745,
   "metadata": {},
   "outputs": [
    {
     "data": {
      "text/plain": [
       "array([0.008260437660304874, 520074.431341915, 1851291.1212441802],\n",
       "      dtype=object)"
      ]
     },
     "execution_count": 745,
     "metadata": {},
     "output_type": "execute_result"
    }
   ],
   "source": [
    "np.diag(si)**(1/2)"
   ]
  },
  {
   "cell_type": "code",
   "execution_count": 732,
   "metadata": {},
   "outputs": [
    {
     "ename": "ValueError",
     "evalue": "shapes (3,2) and (3,3) not aligned: 2 (dim 1) != 3 (dim 0)",
     "output_type": "error",
     "traceback": [
      "\u001b[0;31m---------------------------------------------------------------------------\u001b[0m",
      "\u001b[0;31mValueError\u001b[0m                                Traceback (most recent call last)",
      "\u001b[0;32m<ipython-input-732-43580bba2277>\u001b[0m in \u001b[0;36m<module>\u001b[0;34m\u001b[0m\n\u001b[0;32m----> 1\u001b[0;31m \u001b[0mnp\u001b[0m\u001b[0;34m.\u001b[0m\u001b[0mdot\u001b[0m\u001b[0;34m(\u001b[0m\u001b[0mwk\u001b[0m\u001b[0;34m,\u001b[0m \u001b[0msig\u001b[0m\u001b[0;34m)\u001b[0m\u001b[0;34m\u001b[0m\u001b[0;34m\u001b[0m\u001b[0m\n\u001b[0m",
      "\u001b[0;32m<__array_function__ internals>\u001b[0m in \u001b[0;36mdot\u001b[0;34m(*args, **kwargs)\u001b[0m\n",
      "\u001b[0;31mValueError\u001b[0m: shapes (3,2) and (3,3) not aligned: 2 (dim 1) != 3 (dim 0)"
     ]
    }
   ],
   "source": [
    "np.dot(wk, sig)"
   ]
  },
  {
   "cell_type": "code",
   "execution_count": 727,
   "metadata": {},
   "outputs": [
    {
     "data": {
      "text/plain": [
       "array([[3.09234125e-01, 1.34044328e+06, 3.71729510e+06]])"
      ]
     },
     "execution_count": 727,
     "metadata": {},
     "output_type": "execute_result"
    }
   ],
   "source": [
    "se"
   ]
  },
  {
   "cell_type": "code",
   "execution_count": 762,
   "metadata": {},
   "outputs": [],
   "source": [
    "kx = beta.shape[1]"
   ]
  },
  {
   "cell_type": "code",
   "execution_count": 764,
   "metadata": {},
   "outputs": [
    {
     "data": {
      "text/plain": [
       "1.0"
      ]
     },
     "execution_count": 764,
     "metadata": {},
     "output_type": "execute_result"
    }
   ],
   "source": [
    "kx / (1 + m)"
   ]
  },
  {
   "cell_type": "code",
   "execution_count": 770,
   "metadata": {},
   "outputs": [
    {
     "data": {
      "text/plain": [
       "3"
      ]
     },
     "execution_count": 770,
     "metadata": {},
     "output_type": "execute_result"
    }
   ],
   "source": [
    "phi.shape[0]"
   ]
  },
  {
   "cell_type": "code",
   "execution_count": 771,
   "metadata": {},
   "outputs": [],
   "source": [
    "k = phi.shape[0]"
   ]
  },
  {
   "cell_type": "code",
   "execution_count": 1099,
   "metadata": {},
   "outputs": [],
   "source": [
    "si = np.diag(np.ones(k))"
   ]
  },
  {
   "cell_type": "code",
   "execution_count": 1100,
   "metadata": {},
   "outputs": [
    {
     "data": {
      "text/plain": [
       "array([[1., 0., 0.],\n",
       "       [0., 1., 0.],\n",
       "       [0., 0., 1.]])"
      ]
     },
     "execution_count": 1100,
     "metadata": {},
     "output_type": "execute_result"
    }
   ],
   "source": [
    "si"
   ]
  },
  {
   "cell_type": "code",
   "execution_count": 1101,
   "metadata": {},
   "outputs": [],
   "source": [
    "wk = si"
   ]
  },
  {
   "cell_type": "code",
   "execution_count": 1102,
   "metadata": {},
   "outputs": [
    {
     "data": {
      "text/plain": [
       "array([[-0.004484727392386034, -4.264449599624158e-09,\n",
       "        1.8526173837485915e-09, 0.9269600156760793,\n",
       "        3.5533307763058663e-09, 2.944722625017805e-09],\n",
       "       [-444.9056329615414, 0.3928661986041533, -0.012603190593726055,\n",
       "        34283.09478555806, 0.07343945543387065, 0.07739235526941535],\n",
       "       [1009659.1621311903, -0.3215621580480956, 0.5045213282809016,\n",
       "        903518.9716692269, 0.15095489935748674, 0.30406541376100904]],\n",
       "      dtype=object)"
      ]
     },
     "execution_count": 1102,
     "metadata": {},
     "output_type": "execute_result"
    }
   ],
   "source": [
    "phi"
   ]
  },
  {
   "cell_type": "code",
   "execution_count": 1103,
   "metadata": {},
   "outputs": [
    {
     "data": {
      "text/plain": [
       "array([[ 9.56257439e-02, -2.20162164e+04, -8.94951420e+04],\n",
       "       [-2.20162164e+04,  1.79678819e+12,  9.13627040e+11],\n",
       "       [-8.94951420e+04,  9.13627040e+11,  1.38182829e+13]])"
      ]
     },
     "execution_count": 1103,
     "metadata": {},
     "output_type": "execute_result"
    }
   ],
   "source": [
    "sig"
   ]
  },
  {
   "cell_type": "code",
   "execution_count": 1104,
   "metadata": {},
   "outputs": [
    {
     "data": {
      "text/plain": [
       "(22, 3)"
      ]
     },
     "execution_count": 1104,
     "metadata": {},
     "output_type": "execute_result"
    }
   ],
   "source": [
    "beta.shape"
   ]
  },
  {
   "cell_type": "code",
   "execution_count": 1105,
   "metadata": {},
   "outputs": [
    {
     "data": {
      "text/plain": [
       "(3, 15)"
      ]
     },
     "execution_count": 1105,
     "metadata": {},
     "output_type": "execute_result"
    }
   ],
   "source": [
    "beta_exog.shape"
   ]
  },
  {
   "cell_type": "code",
   "execution_count": 1106,
   "metadata": {},
   "outputs": [
    {
     "data": {
      "text/plain": [
       "array([[-1.0488973899132277e-07, -0.014375629016853964,\n",
       "        0.22658367326700812, 7.394795284089591e-08,\n",
       "        -1.9043310691209305e-08, 7.559007376942996e-08,\n",
       "        0.24599776604588897, 0.08249543176118834, -7.346137786568905e-08,\n",
       "        2.425427576330561e-08, 3.677232263669559e-08, 0.3547195521657045,\n",
       "        -0.41241487766677665, -2.926058275055021e-08,\n",
       "        -1.4115980369734486e-09],\n",
       "       [2.113313445315214, -39525182.79546654, -1363052.5205810666,\n",
       "        -0.0999305992304329, 0.7708554330031561, 0.1731146157425485,\n",
       "        1260523.6516458988, 2439542.810926974, -0.27127869577639174,\n",
       "        -0.36244391464440184, 0.06261947194423101, 3480197.0405824184,\n",
       "        1214475.3626756966, -0.38919069709086784, -0.33769596200312435],\n",
       "       [-7.889225125406597, -56964780.35711527, -2204665.3285360336,\n",
       "        10.74936921430617, 1.4981595556699006, 5.206040315436212,\n",
       "        18122646.869309425, 11775891.314776897, -5.828090821825114,\n",
       "        -0.7473873899505179, 3.7570541188376865, -20555401.21520996,\n",
       "        -3261754.597739935, -3.2668968662410407, -0.6818329853049363]],\n",
       "      dtype=object)"
      ]
     },
     "execution_count": 1106,
     "metadata": {},
     "output_type": "execute_result"
    }
   ],
   "source": [
    "beta_exog"
   ]
  },
  {
   "cell_type": "code",
   "execution_count": 1107,
   "metadata": {},
   "outputs": [
    {
     "data": {
      "text/plain": [
       "5.0"
      ]
     },
     "execution_count": 1107,
     "metadata": {},
     "output_type": "execute_result"
    }
   ],
   "source": [
    "kx = np.floor(beta_exog.shape[1] / (1 + m))\n",
    "kx"
   ]
  },
  {
   "cell_type": "code",
   "execution_count": 1108,
   "metadata": {},
   "outputs": [
    {
     "data": {
      "text/plain": [
       "3"
      ]
     },
     "execution_count": 1108,
     "metadata": {},
     "output_type": "execute_result"
    }
   ],
   "source": [
    "k = phi.shape[0]\n",
    "k"
   ]
  },
  {
   "cell_type": "code",
   "execution_count": 1271,
   "metadata": {},
   "outputs": [],
   "source": [
    "si = np.diag(np.ones(k))"
   ]
  },
  {
   "cell_type": "code",
   "execution_count": 1272,
   "metadata": {},
   "outputs": [
    {
     "data": {
      "text/plain": [
       "(1, 9)"
      ]
     },
     "execution_count": 1272,
     "metadata": {},
     "output_type": "execute_result"
    }
   ],
   "source": [
    "wk = si.reshape((1, 9))\n",
    "wk.shape"
   ]
  },
  {
   "cell_type": "code",
   "execution_count": 1273,
   "metadata": {},
   "outputs": [
    {
     "data": {
      "text/plain": [
       "(1, 9)"
      ]
     },
     "execution_count": 1273,
     "metadata": {},
     "output_type": "execute_result"
    }
   ],
   "source": [
    "awk = wk\n",
    "awk.shape"
   ]
  },
  {
   "cell_type": "code",
   "execution_count": 1274,
   "metadata": {},
   "outputs": [
    {
     "data": {
      "text/plain": [
       "array([[1., 0., 0., 0., 1., 0., 0., 0., 1.]])"
      ]
     },
     "execution_count": 1274,
     "metadata": {},
     "output_type": "execute_result"
    }
   ],
   "source": [
    "awk"
   ]
  },
  {
   "cell_type": "code",
   "execution_count": 1275,
   "metadata": {},
   "outputs": [
    {
     "data": {
      "text/plain": [
       "(1, 9)"
      ]
     },
     "execution_count": 1275,
     "metadata": {},
     "output_type": "execute_result"
    }
   ],
   "source": [
    "acuwk = awk\n",
    "acuwk.shape"
   ]
  },
  {
   "cell_type": "code",
   "execution_count": 1276,
   "metadata": {},
   "outputs": [
    {
     "data": {
      "text/plain": [
       "(3, 3)"
      ]
     },
     "execution_count": 1276,
     "metadata": {},
     "output_type": "execute_result"
    }
   ],
   "source": [
    "tmp = np.zeros((k, k))\n",
    "tmp.shape"
   ]
  },
  {
   "cell_type": "code",
   "execution_count": 1277,
   "metadata": {},
   "outputs": [],
   "source": [
    "tmp = phi[:, (id_x):(id_x + k)]"
   ]
  },
  {
   "cell_type": "code",
   "execution_count": 1278,
   "metadata": {},
   "outputs": [
    {
     "data": {
      "text/plain": [
       "(3, 3)"
      ]
     },
     "execution_count": 1278,
     "metadata": {},
     "output_type": "execute_result"
    }
   ],
   "source": [
    "tmp.shape"
   ]
  },
  {
   "cell_type": "code",
   "execution_count": 1279,
   "metadata": {},
   "outputs": [
    {
     "data": {
      "text/plain": [
       "array([[0.9269600156760793, 3.5533307763058663e-09,\n",
       "        2.944722625017805e-09],\n",
       "       [34283.09478555806, 0.07343945543387065, 0.07739235526941535],\n",
       "       [903518.9716692269, 0.15095489935748674, 0.30406541376100904]],\n",
       "      dtype=object)"
      ]
     },
     "execution_count": 1279,
     "metadata": {},
     "output_type": "execute_result"
    }
   ],
   "source": [
    "tmp"
   ]
  },
  {
   "cell_type": "code",
   "execution_count": 1280,
   "metadata": {},
   "outputs": [],
   "source": [
    "if (p < 1):\n",
    "    p = 1\n",
    "if (m < 1):\n",
    "    m=1\n",
    "\n",
    "for i in range(1, (m+1)):\n",
    "    if (i < (p+1)):\n",
    "        id_x = (i-1) * k\n",
    "        t_p = phi[:, id_x:(id_x+k)]\n",
    "    else:\n",
    "        t_p = np.zeros((k, k))\n",
    "    jj = i-1\n",
    "    jp = np.minimum(jj, p).astype(int)\n",
    "    if (jp > 0):\n",
    "        for j in range(1, (jp+1)):\n",
    "            jd_x = (j-1) * k\n",
    "            id_x = (i-j) * k\n",
    "            w1 = phi[:, jd_x:(jd_x+k)]\n",
    "            w2 = si[:, id_x:(id_x+k)]\n",
    "            t_p = t_p + np.dot(w1, w2)\n",
    "    si = np.concatenate((si, t_p), axis=1)\n",
    "    wk = np.concatenate((wk, t_p.reshape((1, t_p.size))), axis=1)\n",
    "    awk = awk + t_p.reshape((1, t_p.size), order='F')\n",
    "    acuwk = np.concatenate((acuwk, awk), axis=0)\n",
    "    # acuwk = acuwk.T"
   ]
  },
  {
   "cell_type": "code",
   "execution_count": 1281,
   "metadata": {},
   "outputs": [],
   "source": [
    "acuwk = acuwk.T"
   ]
  },
  {
   "cell_type": "code",
   "execution_count": 1282,
   "metadata": {},
   "outputs": [
    {
     "data": {
      "text/plain": [
       "array([[1.0, 0.995515272607614, 1.924367810456551],\n",
       "       [0.0, -444.9056329615414, 20940.469193275363],\n",
       "       [0.0, 1009659.1621311903, 2418187.734103907],\n",
       "       [0.0, -4.264449599624158e-09, -2.9630836766843676e-09],\n",
       "       [1.0, 1.3928661986041533, 1.6247041104869604],\n",
       "       [0.0, -0.3215621580480956, -0.4634787690509178],\n",
       "       [0.0, 1.8526173837485915e-09, 5.777462179164418e-09],\n",
       "       [0.0, -0.012603190593726055, 0.05347839439801473],\n",
       "       [1.0, 1.5045213282809016, 2.069051734013271]], dtype=object)"
      ]
     },
     "execution_count": 1282,
     "metadata": {},
     "output_type": "execute_result"
    }
   ],
   "source": [
    "acuwk"
   ]
  },
  {
   "cell_type": "code",
   "execution_count": 1283,
   "metadata": {},
   "outputs": [],
   "source": [
    "# if (p < 1):\n",
    "#     p = 1\n",
    "# if (m < 1):\n",
    "#     m = 1\n",
    "# for i in range(1, (m+1)):\n",
    "#     if (i < (p+1)):\n",
    "#         id_x = (i-1) * k\n",
    "#         tmp = phi[:, id_x:(id_x+k)]\n",
    "#     else:\n",
    "#         tmp = np.zeros((k, k))\n",
    "#     j = i-1\n",
    "#     jj = np.min([j, p])\n",
    "#     if (jj > 0):\n",
    "#         for j in range(1, (jj+1)):\n",
    "#             jd_x = (j-1) * k\n",
    "#             id_x = (i-j) * k\n",
    "#             w1 = phi[:, jd_x:(jd_x+k)]\n",
    "#             print(w1.shape)\n",
    "#             w2 = si[:, id_x:(jd_x+k)]\n",
    "#             print(w2.shape)\n",
    "#             print(tmp.shape)\n",
    "#             tmp = tmp + np.dot(w1, w2)\n",
    "    \n",
    "#     si = np.concatenate((si, tmp), axis=1)\n",
    "#     wk = np.concatenate((wk, tmp.reshape((1, tmp.size))), axis=1)\n",
    "#     awk = awk + tmp.reshape((1, tmp.size))\n",
    "#     acuwk = np.concatenate((acuwk, awk), axis=1)"
   ]
  },
  {
   "cell_type": "code",
   "execution_count": 1284,
   "metadata": {},
   "outputs": [
    {
     "data": {
      "text/plain": [
       "array([[1.0, 0.0, 0.0, -0.004484727392386034, -4.264449599624158e-09,\n",
       "        1.8526173837485915e-09, 0.928852537848937, 1.30136592293979e-09,\n",
       "        3.924844795415827e-09],\n",
       "       [0.0, 1.0, 0.0, -444.9056329615414, 0.3928661986041533,\n",
       "        -0.012603190593726055, 21385.374826236904, 0.23183791188280703,\n",
       "        0.06608158499174079],\n",
       "       [0.0, 0.0, 1.0, 1009659.1621311903, -0.3215621580480956,\n",
       "        0.5045213282809016, 1408528.5719727166, -0.14191661100282216,\n",
       "        0.5645304057323696]], dtype=object)"
      ]
     },
     "execution_count": 1284,
     "metadata": {},
     "output_type": "execute_result"
    }
   ],
   "source": [
    "si"
   ]
  },
  {
   "cell_type": "code",
   "execution_count": 1285,
   "metadata": {},
   "outputs": [
    {
     "data": {
      "text/plain": [
       "(3, 9)"
      ]
     },
     "execution_count": 1285,
     "metadata": {},
     "output_type": "execute_result"
    }
   ],
   "source": [
    "si.shape"
   ]
  },
  {
   "cell_type": "code",
   "execution_count": 1286,
   "metadata": {},
   "outputs": [
    {
     "data": {
      "text/plain": [
       "array([[1.924367810456551, 20940.469193275363, 2418187.734103907,\n",
       "        -2.9630836766843676e-09, 1.6247041104869604, -0.4634787690509178,\n",
       "        5.777462179164418e-09, 0.05347839439801473, 2.069051734013271]],\n",
       "      dtype=object)"
      ]
     },
     "execution_count": 1286,
     "metadata": {},
     "output_type": "execute_result"
    }
   ],
   "source": [
    "awk"
   ]
  },
  {
   "cell_type": "code",
   "execution_count": 1288,
   "metadata": {},
   "outputs": [
    {
     "data": {
      "text/plain": [
       "array([[1.0, 0.995515272607614, 1.924367810456551],\n",
       "       [0.0, -444.9056329615414, 20940.469193275363],\n",
       "       [0.0, 1009659.1621311903, 2418187.734103907],\n",
       "       [0.0, -4.264449599624158e-09, -2.9630836766843676e-09],\n",
       "       [1.0, 1.3928661986041533, 1.6247041104869604],\n",
       "       [0.0, -0.3215621580480956, -0.4634787690509178],\n",
       "       [0.0, 1.8526173837485915e-09, 5.777462179164418e-09],\n",
       "       [0.0, -0.012603190593726055, 0.05347839439801473],\n",
       "       [1.0, 1.5045213282809016, 2.069051734013271]], dtype=object)"
      ]
     },
     "execution_count": 1288,
     "metadata": {},
     "output_type": "execute_result"
    }
   ],
   "source": [
    "acuwk"
   ]
  },
  {
   "cell_type": "code",
   "execution_count": 1361,
   "metadata": {},
   "outputs": [],
   "source": [
    "orthog = True"
   ]
  },
  {
   "cell_type": "code",
   "execution_count": 1362,
   "metadata": {},
   "outputs": [
    {
     "name": "stdout",
     "output_type": "stream",
     "text": [
      "(3, 3)\n",
      "[[ 3.09234125e-01]\n",
      " [-7.11959471e+04]\n",
      " [-2.89409010e+05]\n",
      " [ 0.00000000e+00]\n",
      " [ 1.33855121e+06]\n",
      " [ 6.67155868e+05]\n",
      " [ 0.00000000e+00]\n",
      " [ 0.00000000e+00]\n",
      " [ 3.64546682e+06]]\n",
      "[[-0.0016193833850564874 -0.0044721995945118265 0.006753655201358323]\n",
      " [-24460.584183707073 517463.2312256851 -45944.513127044636]\n",
      " [189101.97140580078 -93833.04975299898 1839215.7618892964]]\n",
      "[[0.3092341247236207 -0.0016193833850564874]\n",
      " [-71195.94710522663 -24460.584183707073]\n",
      " [-289409.01023546304 189101.97140580078]\n",
      " [0.0 -0.0044721995945118265]\n",
      " [1338551.2056047611 517463.2312256851]\n",
      " [667155.8677728348 -93833.04975299898]\n",
      " [0.0 0.006753655201358323]\n",
      " [0.0 -45944.513127044636]\n",
      " [3645466.819323997 1839215.7618892964]]\n",
      "(3, 3)\n",
      "[[0.3092341247236207 -0.0016193833850564874]\n",
      " [-71195.94710522663 -24460.584183707073]\n",
      " [-289409.01023546304 189101.97140580078]\n",
      " [0.0 -0.0044721995945118265]\n",
      " [1338551.2056047611 517463.2312256851]\n",
      " [667155.8677728348 -93833.04975299898]\n",
      " [0.0 0.006753655201358323]\n",
      " [0.0 -45944.513127044636]\n",
      " [3645466.819323997 1839215.7618892964]]\n",
      "[[0.28600436411204655 0.004360428160443349 0.014307891472684879]\n",
      " [-29017.43815236693 354413.6336345909 240898.22545572967]\n",
      " [282288.8016616749 186667.1219673601 2057976.862596867]]\n",
      "[[0.3092341247236207 -0.0016193833850564874 0.28600436411204655]\n",
      " [-71195.94710522663 -24460.584183707073 -29017.43815236693]\n",
      " [-289409.01023546304 189101.97140580078 282288.8016616749]\n",
      " [0.0 -0.0044721995945118265 0.004360428160443349]\n",
      " [1338551.2056047611 517463.2312256851 354413.6336345909]\n",
      " [667155.8677728348 -93833.04975299898 186667.1219673601]\n",
      " [0.0 0.006753655201358323 0.014307891472684879]\n",
      " [0.0 -45944.513127044636 240898.22545572967]\n",
      " [3645466.819323997 1839215.7618892964 2057976.862596867]]\n"
     ]
    }
   ],
   "source": [
    "orsi = np.NaN\n",
    "wk1 = np.NaN\n",
    "awk1 = np.NaN\n",
    "acuwk = np.NaN\n",
    "\n",
    "if (orthog):\n",
    "    m1 = np.linalg.cholesky(sig)\n",
    "    p1 = m1\n",
    "    if (~np.isnan(wk1)):\n",
    "        wk1 = np.concatenate((wk1, p1), axis=1)\n",
    "    else:\n",
    "        wk1 = p1.reshape((p1.size, 1), order='F')\n",
    "    awk1 = wk1\n",
    "    acuwk1 = awk1\n",
    "    if (~np.isnan(orsi)):\n",
    "        orsi = np.concatenate((orsi, p1), axis=1)\n",
    "    else:\n",
    "        orsi = p1\n",
    "    for i in range(1, p+1):\n",
    "        id_x = i*k\n",
    "        w1 = si[:, id_x:(id_x+k)]\n",
    "        w2 = np.dot(w1, p1)\n",
    "        orsi = np.concatenate((orsi, w2), axis=1)\n",
    "        wk1 = np.concatenate((wk1, w2.reshape((w2.size, 1), order='F')), axis=1)\n",
    "        awk1 = awk1 + w2.reshape((w2.size, 1), order='F')\n",
    "        acuwk1 = np.concatenate((acuwk1, awk1), axis=1)\n"
   ]
  },
  {
   "cell_type": "code",
   "execution_count": 1367,
   "metadata": {},
   "outputs": [
    {
     "data": {
      "text/plain": [
       "array([[0.5936191054506108],\n",
       "       [-124673.96944130064],\n",
       "       [181981.76283201267],\n",
       "       [-0.00011177143406847743],\n",
       "       [2210428.070465037],\n",
       "       [759989.9399871959],\n",
       "       [0.021061546674043204],\n",
       "       [194953.71232868504],\n",
       "       [7542659.44381016]], dtype=object)"
      ]
     },
     "execution_count": 1367,
     "metadata": {},
     "output_type": "execute_result"
    }
   ],
   "source": [
    "awk1"
   ]
  },
  {
   "cell_type": "code",
   "execution_count": 1364,
   "metadata": {},
   "outputs": [
    {
     "data": {
      "text/plain": [
       "array([[0.3092341247236207, 0.30761474133856426, 0.5936191054506108],\n",
       "       [-71195.94710522663, -95656.53128893371, -124673.96944130064],\n",
       "       [-289409.01023546304, -100307.03882966226, 181981.76283201267],\n",
       "       [0.0, -0.0044721995945118265, -0.00011177143406847743],\n",
       "       [1338551.2056047611, 1856014.4368304461, 2210428.070465037],\n",
       "       [667155.8677728348, 573322.8180198359, 759989.9399871959],\n",
       "       [0.0, 0.006753655201358323, 0.021061546674043204],\n",
       "       [0.0, -45944.513127044636, 194953.71232868504],\n",
       "       [3645466.819323997, 5484682.581213294, 7542659.44381016]],\n",
       "      dtype=object)"
      ]
     },
     "execution_count": 1364,
     "metadata": {},
     "output_type": "execute_result"
    }
   ],
   "source": [
    "# w2.reshape((1, 9))\n",
    "acuwk1.reshape((9,3), order='F')"
   ]
  },
  {
   "cell_type": "code",
   "execution_count": 1365,
   "metadata": {},
   "outputs": [
    {
     "data": {
      "text/plain": [
       "array([[ 3.09234125e-01,  0.00000000e+00,  0.00000000e+00],\n",
       "       [-7.11959471e+04,  1.33855121e+06,  0.00000000e+00],\n",
       "       [-2.89409010e+05,  6.67155868e+05,  3.64546682e+06]])"
      ]
     },
     "execution_count": 1365,
     "metadata": {},
     "output_type": "execute_result"
    }
   ],
   "source": [
    "m1"
   ]
  },
  {
   "cell_type": "code",
   "execution_count": 1368,
   "metadata": {},
   "outputs": [
    {
     "data": {
      "text/plain": [
       "array([[0.3092341247236207, -0.0016193833850564874, 0.28600436411204655],\n",
       "       [-71195.94710522663, -24460.584183707073, -29017.43815236693],\n",
       "       [-289409.01023546304, 189101.97140580078, 282288.8016616749],\n",
       "       [0.0, -0.0044721995945118265, 0.004360428160443349],\n",
       "       [1338551.2056047611, 517463.2312256851, 354413.6336345909],\n",
       "       [667155.8677728348, -93833.04975299898, 186667.1219673601],\n",
       "       [0.0, 0.006753655201358323, 0.014307891472684879],\n",
       "       [0.0, -45944.513127044636, 240898.22545572967],\n",
       "       [3645466.819323997, 1839215.7618892964, 2057976.862596867]],\n",
       "      dtype=object)"
      ]
     },
     "execution_count": 1368,
     "metadata": {},
     "output_type": "execute_result"
    }
   ],
   "source": [
    "wk1"
   ]
  },
  {
   "cell_type": "code",
   "execution_count": 1370,
   "metadata": {},
   "outputs": [
    {
     "data": {
      "text/plain": [
       "2"
      ]
     },
     "execution_count": 1370,
     "metadata": {},
     "output_type": "execute_result"
    }
   ],
   "source": [
    "p"
   ]
  },
  {
   "cell_type": "code",
   "execution_count": 1375,
   "metadata": {},
   "outputs": [],
   "source": [
    "td_x = np.array(range(p+1))"
   ]
  },
  {
   "cell_type": "code",
   "execution_count": 1376,
   "metadata": {},
   "outputs": [
    {
     "data": {
      "text/plain": [
       "array([0, 1, 2])"
      ]
     },
     "execution_count": 1376,
     "metadata": {},
     "output_type": "execute_result"
    }
   ],
   "source": [
    "td_x"
   ]
  },
  {
   "cell_type": "code",
   "execution_count": 1377,
   "metadata": {},
   "outputs": [],
   "source": [
    "import matplotlib.pyplot as plt"
   ]
  },
  {
   "cell_type": "code",
   "execution_count": 1378,
   "metadata": {},
   "outputs": [
    {
     "data": {
      "text/plain": [
       "array([[0.3092341247236207, -0.0016193833850564874, 0.28600436411204655],\n",
       "       [-71195.94710522663, -24460.584183707073, -29017.43815236693],\n",
       "       [-289409.01023546304, 189101.97140580078, 282288.8016616749],\n",
       "       [0.0, -0.0044721995945118265, 0.004360428160443349],\n",
       "       [1338551.2056047611, 517463.2312256851, 354413.6336345909],\n",
       "       [667155.8677728348, -93833.04975299898, 186667.1219673601],\n",
       "       [0.0, 0.006753655201358323, 0.014307891472684879],\n",
       "       [0.0, -45944.513127044636, 240898.22545572967],\n",
       "       [3645466.819323997, 1839215.7618892964, 2057976.862596867]],\n",
       "      dtype=object)"
      ]
     },
     "execution_count": 1378,
     "metadata": {},
     "output_type": "execute_result"
    }
   ],
   "source": [
    "wk1"
   ]
  },
  {
   "cell_type": "code",
   "execution_count": 1388,
   "metadata": {},
   "outputs": [
    {
     "data": {
      "text/plain": [
       "array([0, 1, 2])"
      ]
     },
     "execution_count": 1388,
     "metadata": {},
     "output_type": "execute_result"
    }
   ],
   "source": [
    "td_x = np.array(range(p+1))\n",
    "td_x"
   ]
  },
  {
   "cell_type": "code",
   "execution_count": 1401,
   "metadata": {},
   "outputs": [
    {
     "data": {
      "image/png": "[encoded data removed]",
      "text/plain": [
       "<Figure size 432x288 with 9 Axes>"
      ]
     },
     "metadata": {
      "needs_background": "light"
     },
     "output_type": "display_data"
    }
   ],
   "source": [
    "for i in range(wk1.shape[0]):\n",
    "    plt.subplot((wk1.shape[0]+1), 1, (i+1))\n",
    "    x_data = acuwk1[i]\n",
    "    plt.plot(td_x, x_data, 'o-')\n",
    "    plt.ylabel(str(i))\n",
    "        \n",
    "plt.xlabel('Periods')\n",
    "plt.title('Plot Title')\n",
    "plt.show()"
   ]
  },
  {
   "cell_type": "code",
   "execution_count": 1497,
   "metadata": {},
   "outputs": [],
   "source": [
    "kx = int(np.floor(beta_exog.shape[1] / (1 + m)))\n",
    "psi_x = beta_exog[:, 0:kx]"
   ]
  },
  {
   "cell_type": "code",
   "execution_count": 1498,
   "metadata": {},
   "outputs": [],
   "source": [
    "wk = psi_x.reshape((1, psi_x.size), order='F')"
   ]
  },
  {
   "cell_type": "code",
   "execution_count": 1499,
   "metadata": {},
   "outputs": [],
   "source": [
    "awk = wk\n",
    "acuwk = wk"
   ]
  },
  {
   "cell_type": "code",
   "execution_count": 1500,
   "metadata": {},
   "outputs": [],
   "source": [
    "lag=2"
   ]
  },
  {
   "cell_type": "code",
   "execution_count": 1501,
   "metadata": {},
   "outputs": [],
   "source": [
    "t_p = np.zeros((k, k_x))"
   ]
  },
  {
   "cell_type": "code",
   "execution_count": 1502,
   "metadata": {},
   "outputs": [
    {
     "data": {
      "text/plain": [
       "array([[0., 0., 0., 0., 0.],\n",
       "       [0., 0., 0., 0., 0.],\n",
       "       [0., 0., 0., 0., 0.]])"
      ]
     },
     "execution_count": 1502,
     "metadata": {},
     "output_type": "execute_result"
    }
   ],
   "source": [
    "t_p"
   ]
  },
  {
   "cell_type": "code",
   "execution_count": 1503,
   "metadata": {},
   "outputs": [
    {
     "name": "stdout",
     "output_type": "stream",
     "text": [
      "test\n"
     ]
    },
    {
     "ename": "ValueError",
     "evalue": "all the input array dimensions for the concatenation axis must match exactly, but along dimension 1, the array at index 0 has size 2 and the array at index 1 has size 15",
     "output_type": "error",
     "traceback": [
      "\u001b[0;31m---------------------------------------------------------------------------\u001b[0m",
      "\u001b[0;31mValueError\u001b[0m                                Traceback (most recent call last)",
      "\u001b[0;32m<ipython-input-1503-28c3f8f5a1e6>\u001b[0m in \u001b[0;36m<module>\u001b[0;34m\u001b[0m\n\u001b[1;32m     17\u001b[0m     \u001b[0mwk\u001b[0m \u001b[0;34m=\u001b[0m \u001b[0mnp\u001b[0m\u001b[0;34m.\u001b[0m\u001b[0mconcatenate\u001b[0m\u001b[0;34m(\u001b[0m\u001b[0;34m(\u001b[0m\u001b[0mwk\u001b[0m\u001b[0;34m,\u001b[0m \u001b[0mt_p\u001b[0m\u001b[0;34m.\u001b[0m\u001b[0mreshape\u001b[0m\u001b[0;34m(\u001b[0m\u001b[0;34m(\u001b[0m\u001b[0;36m1\u001b[0m\u001b[0;34m,\u001b[0m \u001b[0mt_p\u001b[0m\u001b[0;34m.\u001b[0m\u001b[0msize\u001b[0m\u001b[0;34m)\u001b[0m\u001b[0;34m)\u001b[0m\u001b[0;34m)\u001b[0m\u001b[0;34m,\u001b[0m \u001b[0maxis\u001b[0m\u001b[0;34m=\u001b[0m\u001b[0;36m1\u001b[0m\u001b[0;34m)\u001b[0m\u001b[0;34m\u001b[0m\u001b[0;34m\u001b[0m\u001b[0m\n\u001b[1;32m     18\u001b[0m     \u001b[0mawk\u001b[0m \u001b[0;34m=\u001b[0m \u001b[0mawk\u001b[0m \u001b[0;34m+\u001b[0m \u001b[0mt_p\u001b[0m\u001b[0;34m.\u001b[0m\u001b[0mreshape\u001b[0m\u001b[0;34m(\u001b[0m\u001b[0;34m(\u001b[0m\u001b[0;36m1\u001b[0m\u001b[0;34m,\u001b[0m \u001b[0mt_p\u001b[0m\u001b[0;34m.\u001b[0m\u001b[0msize\u001b[0m\u001b[0;34m)\u001b[0m\u001b[0;34m,\u001b[0m \u001b[0morder\u001b[0m\u001b[0;34m=\u001b[0m\u001b[0;34m'F'\u001b[0m\u001b[0;34m)\u001b[0m\u001b[0;34m\u001b[0m\u001b[0;34m\u001b[0m\u001b[0m\n\u001b[0;32m---> 19\u001b[0;31m     \u001b[0macuwk\u001b[0m \u001b[0;34m=\u001b[0m \u001b[0mnp\u001b[0m\u001b[0;34m.\u001b[0m\u001b[0mconcatenate\u001b[0m\u001b[0;34m(\u001b[0m\u001b[0;34m(\u001b[0m\u001b[0macuwk\u001b[0m\u001b[0;34m,\u001b[0m \u001b[0mawk\u001b[0m\u001b[0;34m)\u001b[0m\u001b[0;34m,\u001b[0m \u001b[0maxis\u001b[0m\u001b[0;34m=\u001b[0m\u001b[0;36m0\u001b[0m\u001b[0;34m)\u001b[0m\u001b[0;34m\u001b[0m\u001b[0;34m\u001b[0m\u001b[0m\n\u001b[0m\u001b[1;32m     20\u001b[0m     \u001b[0mprint\u001b[0m\u001b[0;34m(\u001b[0m\u001b[0;34m'test'\u001b[0m\u001b[0;34m)\u001b[0m\u001b[0;34m\u001b[0m\u001b[0;34m\u001b[0m\u001b[0m\n\u001b[1;32m     21\u001b[0m     \u001b[0macuwk\u001b[0m \u001b[0;34m=\u001b[0m \u001b[0macuwk\u001b[0m\u001b[0;34m.\u001b[0m\u001b[0mT\u001b[0m\u001b[0;34m\u001b[0m\u001b[0;34m\u001b[0m\u001b[0m\n",
      "\u001b[0;32m<__array_function__ internals>\u001b[0m in \u001b[0;36mconcatenate\u001b[0;34m(*args, **kwargs)\u001b[0m\n",
      "\u001b[0;31mValueError\u001b[0m: all the input array dimensions for the concatenation axis must match exactly, but along dimension 1, the array at index 0 has size 2 and the array at index 1 has size 15"
     ]
    }
   ],
   "source": [
    "for i in range(1, lag+1):\n",
    "    if (i < (m+1)):\n",
    "        id_x = (i-1) * kx\n",
    "        t_p = beta_exog[:, id_x:(id_x+kx)]\n",
    "    else:\n",
    "        t_p = np.zeros((k, k_x))\n",
    "    jj = i-1\n",
    "    jp = np.minimum(jj, p).astype(int)\n",
    "    if (jp > 0):\n",
    "        for j in range(1, (jp+1)):\n",
    "            jd_x = (j-1) * k\n",
    "            id_x = (i-j) * k\n",
    "            w1 = phi[:, jd_x:(jd_x+k)]\n",
    "            w2 = si[:, id_x:(id_x+kx)]\n",
    "            t_p = t_p + np.dot(w1, w2)\n",
    "    psi_x = np.concatenate((psi_x, t_p), axis=1)\n",
    "    wk = np.concatenate((wk, t_p.reshape((1, t_p.size))), axis=1)\n",
    "    awk = awk + t_p.reshape((1, t_p.size), order='F')\n",
    "    acuwk = np.concatenate((acuwk, awk), axis=0)\n",
    "    # acuwk = acuwk.T"
   ]
  },
  {
   "cell_type": "code",
   "execution_count": null,
   "metadata": {},
   "outputs": [
    {
     "data": {
      "text/plain": [
       "(3, 15)"
      ]
     },
     "execution_count": 1485,
     "metadata": {},
     "output_type": "execute_result"
    }
   ],
   "source": [
    "acuwk.shape"
   ]
  },
  {
   "cell_type": "code",
   "execution_count": null,
   "metadata": {},
   "outputs": [
    {
     "data": {
      "text/plain": [
       "array([[-1.0488973899132277e-07, 2.113313445315214, -7.889225125406597,\n",
       "        -0.014375629016853964, -39525182.79546654, -56964780.35711527,\n",
       "        0.22658367326700812, -1363052.5205810666, -2204665.3285360336,\n",
       "        7.394795284089591e-08, -0.0999305992304329, 10.74936921430617,\n",
       "        -1.9043310691209305e-08, 0.7708554330031561, 1.4981595556699006],\n",
       "       [-2.0977947798264554e-07, 4.226626890630428, -15.778450250813194,\n",
       "        -0.028751258033707927, -79050365.59093308, -113929560.71423054,\n",
       "        0.45316734653401625, -2726105.041162133, -4409330.657072067,\n",
       "        1.4789590568179182e-07, -0.1998611984608658, 21.49873842861234,\n",
       "        -3.808662138241861e-08, 1.5417108660063121, 2.996319111339801],\n",
       "       [0.0018923879834534384, -12893.320217814782, 504999.0278935545,\n",
       "        0.21724650576021617, -77789841.78088874, -95806914.13779262,\n",
       "        0.5356627792753268, -286562.2415459296, 7366560.918169823,\n",
       "        -0.0016473083206229213, -9764.08600174614, 1641596.1245290784,\n",
       "        -1.5089760161607978e-08, 1.272136253607488, 2.1040954010659974]],\n",
       "      dtype=object)"
      ]
     },
     "execution_count": 1486,
     "metadata": {},
     "output_type": "execute_result"
    }
   ],
   "source": [
    "acuwk"
   ]
  },
  {
   "cell_type": "code",
   "execution_count": null,
   "metadata": {},
   "outputs": [
    {
     "data": {
      "text/plain": [
       "array([[-1.0488973899132277e-07, 2.113313445315214, -7.889225125406597,\n",
       "        -0.014375629016853964, -39525182.79546654, -56964780.35711527,\n",
       "        0.22658367326700812, -1363052.5205810666, -2204665.3285360336,\n",
       "        7.394795284089591e-08, -0.0999305992304329, 10.74936921430617,\n",
       "        -1.9043310691209305e-08, 0.7708554330031561, 1.4981595556699006,\n",
       "        -1.0488973899132277e-07, -0.014375629016853964,\n",
       "        0.22658367326700812, 7.394795284089591e-08,\n",
       "        -1.9043310691209305e-08, 2.113313445315214, -39525182.79546654,\n",
       "        -1363052.5205810666, -0.0999305992304329, 0.7708554330031561,\n",
       "        -7.889225125406597, -56964780.35711527, -2204665.3285360336,\n",
       "        10.74936921430617, 1.4981595556699006, 0.0018925977629314211,\n",
       "        0.2459977637939241, 0.0824954327413105, -0.001647456216528603,\n",
       "        2.2996861220810633e-08, -12897.546844705412, 1260523.8100443552,\n",
       "        2439542.7996162036, -9763.88614054768, -0.2695746123988242,\n",
       "        505014.8063438053, 18122646.576437917, 11775891.57524189,\n",
       "        1641574.6257906498, -0.892223710273804]], dtype=object)"
      ]
     },
     "execution_count": 1487,
     "metadata": {},
     "output_type": "execute_result"
    }
   ],
   "source": [
    "wk"
   ]
  },
  {
   "cell_type": "code",
   "execution_count": null,
   "metadata": {},
   "outputs": [
    {
     "data": {
      "text/plain": [
       "(1, 15)"
      ]
     },
     "execution_count": 1488,
     "metadata": {},
     "output_type": "execute_result"
    }
   ],
   "source": [
    "awk.shape"
   ]
  },
  {
   "cell_type": "code",
   "execution_count": null,
   "metadata": {},
   "outputs": [
    {
     "data": {
      "text/plain": [
       "array([[-1.0488973899132277e-07, 2.113313445315214, -7.889225125406597,\n",
       "        -0.014375629016853964, -39525182.79546654, -56964780.35711527,\n",
       "        0.22658367326700812, -1363052.5205810666, -2204665.3285360336,\n",
       "        7.394795284089591e-08, -0.0999305992304329, 10.74936921430617,\n",
       "        -1.9043310691209305e-08, 0.7708554330031561, 1.4981595556699006],\n",
       "       [-2.0977947798264554e-07, 4.226626890630428, -15.778450250813194,\n",
       "        -0.028751258033707927, -79050365.59093308, -113929560.71423054,\n",
       "        0.45316734653401625, -2726105.041162133, -4409330.657072067,\n",
       "        1.4789590568179182e-07, -0.1998611984608658, 21.49873842861234,\n",
       "        -3.808662138241861e-08, 1.5417108660063121, 2.996319111339801],\n",
       "       [0.0018923879834534384, -12893.320217814782, 504999.0278935545,\n",
       "        0.21724650576021617, -77789841.78088874, -95806914.13779262,\n",
       "        0.5356627792753268, -286562.2415459296, 7366560.918169823,\n",
       "        -0.0016473083206229213, -9764.08600174614, 1641596.1245290784,\n",
       "        -1.5089760161607978e-08, 1.272136253607488, 2.1040954010659974]],\n",
       "      dtype=object)"
      ]
     },
     "execution_count": 1489,
     "metadata": {},
     "output_type": "execute_result"
    }
   ],
   "source": [
    "acuwk"
   ]
  },
  {
   "cell_type": "code",
   "execution_count": 1504,
   "metadata": {},
   "outputs": [],
   "source": [
    "import varx"
   ]
  },
  {
   "cell_type": "code",
   "execution_count": 1509,
   "metadata": {},
   "outputs": [
    {
     "ename": "AttributeError",
     "evalue": "'VARX' object has no attribute 'df'",
     "output_type": "error",
     "traceback": [
      "\u001b[0;31m---------------------------------------------------------------------------\u001b[0m",
      "\u001b[0;31mAttributeError\u001b[0m                            Traceback (most recent call last)",
      "\u001b[0;32m<ipython-input-1509-8fcaf016404a>\u001b[0m in \u001b[0;36m<module>\u001b[0;34m\u001b[0m\n\u001b[0;32m----> 1\u001b[0;31m \u001b[0mvar_class\u001b[0m \u001b[0;34m=\u001b[0m \u001b[0mvarx\u001b[0m\u001b[0;34m.\u001b[0m\u001b[0mVARX\u001b[0m\u001b[0;34m(\u001b[0m\u001b[0mdf\u001b[0m\u001b[0;34m=\u001b[0m\u001b[0mdf\u001b[0m\u001b[0;34m,\u001b[0m \u001b[0mendog\u001b[0m\u001b[0;34m=\u001b[0m\u001b[0mendog\u001b[0m\u001b[0;34m,\u001b[0m \u001b[0mexog\u001b[0m\u001b[0;34m=\u001b[0m\u001b[0mexog\u001b[0m\u001b[0;34m,\u001b[0m \u001b[0mlag\u001b[0m\u001b[0;34m=\u001b[0m\u001b[0;36m2\u001b[0m\u001b[0;34m,\u001b[0m \u001b[0mx_lag\u001b[0m\u001b[0;34m=\u001b[0m\u001b[0;36m2\u001b[0m\u001b[0;34m,\u001b[0m \u001b[0mcumulative_irf\u001b[0m\u001b[0;34m=\u001b[0m\u001b[0;32mTrue\u001b[0m\u001b[0;34m)\u001b[0m\u001b[0;34m\u001b[0m\u001b[0;34m\u001b[0m\u001b[0m\n\u001b[0m",
      "\u001b[0;32m~/Documents/school/Thesis/the-effect-of-tariffs-on-wine-prices/common/varx.py\u001b[0m in \u001b[0;36m__init__\u001b[0;34m(self, df, endog, exog, lag, x_lag, cumulative_irf)\u001b[0m\n\u001b[1;32m      5\u001b[0m \u001b[0;32mclass\u001b[0m \u001b[0mVARX\u001b[0m\u001b[0;34m:\u001b[0m\u001b[0;34m\u001b[0m\u001b[0;34m\u001b[0m\u001b[0m\n\u001b[1;32m      6\u001b[0m     \u001b[0;32mdef\u001b[0m \u001b[0m__init__\u001b[0m\u001b[0;34m(\u001b[0m\u001b[0mself\u001b[0m\u001b[0;34m,\u001b[0m \u001b[0mdf\u001b[0m\u001b[0;34m,\u001b[0m \u001b[0mendog\u001b[0m\u001b[0;34m,\u001b[0m \u001b[0mexog\u001b[0m\u001b[0;34m,\u001b[0m \u001b[0mlag\u001b[0m\u001b[0;34m,\u001b[0m \u001b[0mx_lag\u001b[0m\u001b[0;34m,\u001b[0m \u001b[0mcumulative_irf\u001b[0m\u001b[0;34m)\u001b[0m\u001b[0;34m:\u001b[0m\u001b[0;34m\u001b[0m\u001b[0;34m\u001b[0m\u001b[0m\n\u001b[0;32m----> 7\u001b[0;31m         \u001b[0mself\u001b[0m\u001b[0;34m.\u001b[0m\u001b[0mdf\u001b[0m \u001b[0;34m=\u001b[0m \u001b[0mdf\u001b[0m\u001b[0;34m\u001b[0m\u001b[0;34m\u001b[0m\u001b[0m\n\u001b[0m\u001b[1;32m      8\u001b[0m         \u001b[0mself\u001b[0m\u001b[0;34m.\u001b[0m\u001b[0mendog\u001b[0m \u001b[0;34m=\u001b[0m \u001b[0mendog\u001b[0m\u001b[0;34m\u001b[0m\u001b[0;34m\u001b[0m\u001b[0m\n\u001b[1;32m      9\u001b[0m         \u001b[0mself\u001b[0m\u001b[0;34m.\u001b[0m\u001b[0mexog\u001b[0m \u001b[0;34m=\u001b[0m \u001b[0mexog\u001b[0m\u001b[0;34m\u001b[0m\u001b[0;34m\u001b[0m\u001b[0m\n",
      "\u001b[0;31mAttributeError\u001b[0m: 'VARX' object has no attribute 'df'"
     ]
    }
   ],
   "source": [
    "var_class = varx.VARX(df=df, endog=endog, exog=exog, lag=2, x_lag=2, cumulative_irf=True)\n"
   ]
  },
  {
   "cell_type": "code",
   "execution_count": null,
   "metadata": {},
   "outputs": [],
   "source": []
  }
 ],
 "metadata": {
  "interpreter": {
   "hash": "40d3a090f54c6569ab1632332b64b2c03c39dcf918b08424e98f38b5ae0af88f"
  },
  "kernelspec": {
   "display_name": "Python 3.8.8 64-bit ('base': conda)",
   "language": "python",
   "name": "python3"
  },
  "language_info": {
   "codemirror_mode": {
    "name": "ipython",
    "version": 3
   },
   "file_extension": ".py",
   "mimetype": "text/x-python",
   "name": "python",
   "nbconvert_exporter": "python",
   "pygments_lexer": "ipython3",
   "version": "3.8.8"
  },
  "orig_nbformat": 4
 },
 "nbformat": 4,
 "nbformat_minor": 2
}
