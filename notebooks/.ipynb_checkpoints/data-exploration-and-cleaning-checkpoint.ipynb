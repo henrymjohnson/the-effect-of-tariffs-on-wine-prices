{
 "cells": [
  {
   "cell_type": "markdown",
   "metadata": {},
   "source": [
    "# Data Cleaning and Exploration Notebook\n",
    "\n",
    "In this notebook, I'm going to import data collected from various sources, clean it, make it uniform and merge it together before exporting it to excel as a dataset containing everything I'll use for my analysis.\n"
   ]
  },
  {
   "cell_type": "markdown",
   "metadata": {},
   "source": [
    "## Contents\n",
    "\n",
    "1. Setup\n",
    "2. Import Datasets\n",
    "    - Convert Data from Wide to Long \n",
    "    - Inspect Data\n",
    "4. Adjust for Population and Inflation and Explore Data\n",
    "    - Prices\n",
    "    - Tariffs and Imports\n",
    "    - U.S. Production\n",
    "    - Exports\n",
    "5. Combine Datasets"
   ]
  },
  {
   "cell_type": "markdown",
   "metadata": {},
   "source": [
    "## Setup"
   ]
  },
  {
   "cell_type": "code",
   "execution_count": 1,
   "metadata": {},
   "outputs": [],
   "source": [
    "import pandas as pd\n",
    "import seaborn as sns\n",
    "import matplotlib.pyplot as plt\n",
    "import datetime as dt\n",
    "import calendar\n",
    "import math\n",
    "import re"
   ]
  },
  {
   "cell_type": "code",
   "execution_count": 2,
   "metadata": {},
   "outputs": [],
   "source": [
    "# Create a map of 3-letter month to 2-digit month\n",
    "month_map = {'JAN':'01', 'FEB':'02', 'MAR':'03', 'APR':'04', 'MAY':'05', 'JUN':'06', 'JUL':'07', 'AUG':'08', 'SEP':'09', 'OCT':'10', 'NOV':'11', 'DEC':'12'}"
   ]
  },
  {
   "cell_type": "code",
   "execution_count": 3,
   "metadata": {},
   "outputs": [],
   "source": [
    "# Pathnames for various datasets\n",
    "avg_price_data = '../data/avg-price-us-cities.xlsx'\n",
    "tariff_active_data = '../data/ukfrspger_25.xlsx'\n",
    "ukfrspde_imports_data = '../data/usitc-ukfrspde-imports.xlsx'\n",
    "world_imports_data = '../data/usitc-world-wine-imports.xlsx'\n",
    "us_production_data = '../data/wine-prod-ttb.xlsx'\n",
    "us_exports_data = '../data/exports-monetary-value-and-liters.xlsx'\n",
    "ppi_data = '../data/PCU3121303121300.xls'\n",
    "population_data = '../data/POPTHM.xls'"
   ]
  },
  {
   "cell_type": "code",
   "execution_count": 4,
   "metadata": {},
   "outputs": [],
   "source": [
    "# Making plots a bit more accessible\n",
    "sns.set_palette('colorblind')"
   ]
  },
  {
   "cell_type": "markdown",
   "metadata": {},
   "source": [
    "## Import Datasets"
   ]
  },
  {
   "cell_type": "code",
   "execution_count": 5,
   "metadata": {},
   "outputs": [],
   "source": [
    "production_df = pd.read_excel(io=us_production_data, header=3)\n",
    "exports_dict = pd.read_excel(io=us_exports_data, sheet_name=['FAS Value','First Unit of Quantity'])\n",
    "wine_prices_df = pd.read_excel(io=avg_price_data)\n",
    "imports_world_dict = pd.read_excel(world_imports_data, sheet_name=None)\n",
    "imports_ukfrspde_dict = pd.read_excel(ukfrspde_imports_data, sheet_name=None)\n",
    "tariff_df = pd.read_excel(tariff_active_data)\n",
    "ppi_df = pd.read_excel(io=ppi_data, header=10)\n",
    "population_df = pd.read_excel(io=population_data, header=10)"
   ]
  },
  {
   "cell_type": "markdown",
   "metadata": {},
   "source": [
    "### Convert Data Presentation to Long\n",
    "\n",
    "The exports and imports datasets are in a wide format where each row corresponds to a year and each column a month of that year. The sheets of these datasets are different datapoints being reported.\n",
    "\n",
    "I'll want to convert the rows to correspond to months in the format YYYY-MM and the columns to the specific datapoints being reported."
   ]
  },
  {
   "cell_type": "markdown",
   "metadata": {},
   "source": [
    "Let's define a function to help convert the datasets."
   ]
  },
  {
   "cell_type": "code",
   "execution_count": 6,
   "metadata": {},
   "outputs": [],
   "source": [
    "def wide_to_long(df, col_name):\n",
    "    df = pd.melt(df, id_vars=['Year'], var_name='month', value_name=col_name)\n",
    "\n",
    "    df['month'] = df['month'].map(month_map)\n",
    "    df['month'] = df['Year'].astype(str) + '-' + df['month']\n",
    "\n",
    "    df.drop(columns='Year', inplace=True)\n",
    "    return df"
   ]
  },
  {
   "cell_type": "markdown",
   "metadata": {},
   "source": [
    "Let's add another function to get the last day of the month."
   ]
  },
  {
   "cell_type": "code",
   "execution_count": 7,
   "metadata": {},
   "outputs": [],
   "source": [
    "def last_day_of_month(month):\n",
    "    if pd.isnull(month):\n",
    "        return\n",
    "\n",
    "    d = month.split('-')\n",
    "    date = dt.date(pd.to_numeric(d[0]), pd.to_numeric(d[1]), 1)\n",
    "    return date.replace(day = calendar.monthrange(date.year, date.month)[1])"
   ]
  },
  {
   "cell_type": "markdown",
   "metadata": {},
   "source": [
    "We'll also need a time series for joining the data together."
   ]
  },
  {
   "cell_type": "code",
   "execution_count": 8,
   "metadata": {},
   "outputs": [],
   "source": [
    "months = pd.date_range('2000-01-01', '2022-01-01', freq='M')"
   ]
  },
  {
   "cell_type": "markdown",
   "metadata": {},
   "source": [
    "Now we can get the imports data as a long dataset.\n",
    "\n",
    "We'll first grab the imports data for the entire world and then we'll go and get the data for just the U.K., France, Spain, and Germany."
   ]
  },
  {
   "cell_type": "code",
   "execution_count": 9,
   "metadata": {},
   "outputs": [
    {
     "data": {
      "text/html": [
       "<div>\n",
       "<style scoped>\n",
       "    .dataframe tbody tr th:only-of-type {\n",
       "        vertical-align: middle;\n",
       "    }\n",
       "\n",
       "    .dataframe tbody tr th {\n",
       "        vertical-align: top;\n",
       "    }\n",
       "\n",
       "    .dataframe thead th {\n",
       "        text-align: right;\n",
       "    }\n",
       "</style>\n",
       "<table border=\"1\" class=\"dataframe\">\n",
       "  <thead>\n",
       "    <tr style=\"text-align: right;\">\n",
       "      <th></th>\n",
       "      <th>month</th>\n",
       "      <th>Dutiable Value</th>\n",
       "      <th>Landed Duty-Paid Value</th>\n",
       "      <th>Customs Value</th>\n",
       "      <th>First Unit of Quantity</th>\n",
       "      <th>Charges, Insurance, and Freight</th>\n",
       "      <th>Calculated Duties</th>\n",
       "    </tr>\n",
       "  </thead>\n",
       "  <tbody>\n",
       "    <tr>\n",
       "      <th>0</th>\n",
       "      <td>2000-01-31</td>\n",
       "      <td>133791586</td>\n",
       "      <td>144253063</td>\n",
       "      <td>134876329</td>\n",
       "      <td>30869692</td>\n",
       "      <td>7058649</td>\n",
       "      <td>2318085</td>\n",
       "    </tr>\n",
       "    <tr>\n",
       "      <th>1</th>\n",
       "      <td>2000-02-29</td>\n",
       "      <td>140504325</td>\n",
       "      <td>149395178</td>\n",
       "      <td>141089327</td>\n",
       "      <td>27334547</td>\n",
       "      <td>6156122</td>\n",
       "      <td>2149729</td>\n",
       "    </tr>\n",
       "    <tr>\n",
       "      <th>2</th>\n",
       "      <td>2000-03-31</td>\n",
       "      <td>168440973</td>\n",
       "      <td>181115109</td>\n",
       "      <td>170803664</td>\n",
       "      <td>33950034</td>\n",
       "      <td>7719881</td>\n",
       "      <td>2591564</td>\n",
       "    </tr>\n",
       "    <tr>\n",
       "      <th>3</th>\n",
       "      <td>2000-04-30</td>\n",
       "      <td>174444956</td>\n",
       "      <td>186771728</td>\n",
       "      <td>175506155</td>\n",
       "      <td>37381318</td>\n",
       "      <td>8447127</td>\n",
       "      <td>2818446</td>\n",
       "    </tr>\n",
       "    <tr>\n",
       "      <th>4</th>\n",
       "      <td>2000-05-31</td>\n",
       "      <td>177795372</td>\n",
       "      <td>190281882</td>\n",
       "      <td>178396150</td>\n",
       "      <td>38726698</td>\n",
       "      <td>9091316</td>\n",
       "      <td>2794416</td>\n",
       "    </tr>\n",
       "  </tbody>\n",
       "</table>\n",
       "</div>"
      ],
      "text/plain": [
       "       month Dutiable Value Landed Duty-Paid Value Customs Value  \\\n",
       "0 2000-01-31      133791586              144253063     134876329   \n",
       "1 2000-02-29      140504325              149395178     141089327   \n",
       "2 2000-03-31      168440973              181115109     170803664   \n",
       "3 2000-04-30      174444956              186771728     175506155   \n",
       "4 2000-05-31      177795372              190281882     178396150   \n",
       "\n",
       "  First Unit of Quantity Charges, Insurance, and Freight Calculated Duties  \n",
       "0               30869692                         7058649           2318085  \n",
       "1               27334547                         6156122           2149729  \n",
       "2               33950034                         7719881           2591564  \n",
       "3               37381318                         8447127           2818446  \n",
       "4               38726698                         9091316           2794416  "
      ]
     },
     "execution_count": 9,
     "metadata": {},
     "output_type": "execute_result"
    }
   ],
   "source": [
    "imports_world_df = pd.DataFrame()\n",
    "imports_world_df['month'] = months\n",
    "\n",
    "for name, sheet in imports_world_dict.items():\n",
    "    if name != 'Query Parameters' and name != 'Query Results':\n",
    "        sheet_df = pd.DataFrame(sheet)\n",
    "        sheet_df.columns = sheet_df.iloc[0]\n",
    "        sheet_df = sheet_df.iloc[1: , :]\n",
    "        sheet_df = sheet_df[['Year','JAN', 'FEB', 'MAR', 'APR', 'MAY', 'JUN', 'JUL', 'AUG', 'SEP', 'OCT', 'NOV', 'DEC']]\n",
    "        \n",
    "        temp_df = wide_to_long(sheet_df, col_name=name)\n",
    "        temp_df['month'] = temp_df['month'].map(lambda x: last_day_of_month(x))\n",
    "        temp_df['month'] = temp_df['month'].astype('datetime64[ns]')\n",
    "        imports_world_df = imports_world_df.merge(temp_df, on='month')\n",
    "\n",
    "imports_world_df.sort_values('month', ascending=True, inplace=True)\n",
    "imports_world_df.head()"
   ]
  },
  {
   "cell_type": "markdown",
   "metadata": {},
   "source": [
    "Alright, let's pull the data for the countries that the U.S. levvied the higher tariffs on."
   ]
  },
  {
   "cell_type": "code",
   "execution_count": 10,
   "metadata": {},
   "outputs": [
    {
     "data": {
      "text/html": [
       "<div>\n",
       "<style scoped>\n",
       "    .dataframe tbody tr th:only-of-type {\n",
       "        vertical-align: middle;\n",
       "    }\n",
       "\n",
       "    .dataframe tbody tr th {\n",
       "        vertical-align: top;\n",
       "    }\n",
       "\n",
       "    .dataframe thead th {\n",
       "        text-align: right;\n",
       "    }\n",
       "</style>\n",
       "<table border=\"1\" class=\"dataframe\">\n",
       "  <thead>\n",
       "    <tr style=\"text-align: right;\">\n",
       "      <th></th>\n",
       "      <th>month</th>\n",
       "      <th>Charges, Insurance, and Freight</th>\n",
       "      <th>Calculated Duties</th>\n",
       "      <th>Dutiable Value</th>\n",
       "      <th>Landed Duty-Paid Value</th>\n",
       "      <th>First Unit of Quantity</th>\n",
       "      <th>Customs Value</th>\n",
       "    </tr>\n",
       "  </thead>\n",
       "  <tbody>\n",
       "    <tr>\n",
       "      <th>0</th>\n",
       "      <td>2000-01-31</td>\n",
       "      <td>2406931</td>\n",
       "      <td>699303</td>\n",
       "      <td>56667673</td>\n",
       "      <td>59812261</td>\n",
       "      <td>8768676</td>\n",
       "      <td>56706027</td>\n",
       "    </tr>\n",
       "    <tr>\n",
       "      <th>1</th>\n",
       "      <td>2000-02-29</td>\n",
       "      <td>2356486</td>\n",
       "      <td>857890</td>\n",
       "      <td>73857433</td>\n",
       "      <td>77087577</td>\n",
       "      <td>8961916</td>\n",
       "      <td>73873201</td>\n",
       "    </tr>\n",
       "    <tr>\n",
       "      <th>2</th>\n",
       "      <td>2000-03-31</td>\n",
       "      <td>2804317</td>\n",
       "      <td>914008</td>\n",
       "      <td>83440008</td>\n",
       "      <td>87219165</td>\n",
       "      <td>10474993</td>\n",
       "      <td>83500840</td>\n",
       "    </tr>\n",
       "    <tr>\n",
       "      <th>3</th>\n",
       "      <td>2000-04-30</td>\n",
       "      <td>2989501</td>\n",
       "      <td>974797</td>\n",
       "      <td>83020862</td>\n",
       "      <td>87040067</td>\n",
       "      <td>11128077</td>\n",
       "      <td>83075769</td>\n",
       "    </tr>\n",
       "    <tr>\n",
       "      <th>4</th>\n",
       "      <td>2000-05-31</td>\n",
       "      <td>3037785</td>\n",
       "      <td>897331</td>\n",
       "      <td>75535353</td>\n",
       "      <td>79534639</td>\n",
       "      <td>10874051</td>\n",
       "      <td>75599523</td>\n",
       "    </tr>\n",
       "  </tbody>\n",
       "</table>\n",
       "</div>"
      ],
      "text/plain": [
       "       month Charges, Insurance, and Freight Calculated Duties Dutiable Value  \\\n",
       "0 2000-01-31                         2406931            699303       56667673   \n",
       "1 2000-02-29                         2356486            857890       73857433   \n",
       "2 2000-03-31                         2804317            914008       83440008   \n",
       "3 2000-04-30                         2989501            974797       83020862   \n",
       "4 2000-05-31                         3037785            897331       75535353   \n",
       "\n",
       "  Landed Duty-Paid Value First Unit of Quantity Customs Value  \n",
       "0               59812261                8768676      56706027  \n",
       "1               77087577                8961916      73873201  \n",
       "2               87219165               10474993      83500840  \n",
       "3               87040067               11128077      83075769  \n",
       "4               79534639               10874051      75599523  "
      ]
     },
     "execution_count": 10,
     "metadata": {},
     "output_type": "execute_result"
    }
   ],
   "source": [
    "imports_ukfrspde_dict = pd.read_excel(ukfrspde_imports_data, sheet_name=None)\n",
    "\n",
    "imports_ukfrspde_df = pd.DataFrame()\n",
    "imports_ukfrspde_df['month'] = months\n",
    "imports_uk_df = imports_ukfrspde_df.copy()\n",
    "imports_fr_df = imports_ukfrspde_df.copy()\n",
    "imports_de_df = imports_ukfrspde_df.copy()\n",
    "imports_sp_df = imports_ukfrspde_df.copy()\n",
    "\n",
    "for name, sheet in imports_ukfrspde_dict.items():\n",
    "    if name != 'Query Parameters' and name != 'Query Results':\n",
    "        sheet_df = pd.DataFrame(sheet)\n",
    "        sheet_df.columns = sheet_df.iloc[0]\n",
    "        sheet_df = sheet_df.iloc[1: , :]\n",
    "        sheet_df = sheet_df[['Country','Year','JAN', 'FEB', 'MAR', 'APR', 'MAY', 'JUN', 'JUL', 'AUG', 'SEP', 'OCT', 'NOV', 'DEC']]\n",
    "\n",
    "        temp_fr_df = sheet_df.loc[(sheet_df['Country'] == 'France')]\n",
    "        temp_de_df = sheet_df.loc[(sheet_df['Country'] == 'Germany')]\n",
    "        temp_sp_df = sheet_df.loc[(sheet_df['Country'] == 'Spain')]\n",
    "        temp_uk_df = sheet_df.loc[(sheet_df['Country'] == 'United Kingdom')]\n",
    "        temp_all_df = sheet_df.loc[(sheet_df['Country'].str.contains('Total'))]\n",
    "        \n",
    "        temp_fr_df2 = wide_to_long(temp_fr_df, col_name=name)\n",
    "        temp_de_df2 = wide_to_long(temp_de_df, col_name=name)\n",
    "        temp_sp_df2 = wide_to_long(temp_sp_df, col_name=name)\n",
    "        temp_uk_df2 = wide_to_long(temp_uk_df, col_name=name)\n",
    "        temp_all_df2 = wide_to_long(temp_all_df, col_name=name)\n",
    "\n",
    "        temp_fr_df2['month'] = temp_fr_df2['month'].map(lambda x: last_day_of_month(x))\n",
    "        temp_fr_df2['month'] = temp_fr_df2['month'].astype('datetime64[ns]')\n",
    "        imports_fr_df = imports_fr_df.merge(temp_fr_df2, on='month')\n",
    "\n",
    "        temp_de_df2['month'] = temp_de_df2['month'].map(lambda x: last_day_of_month(x))\n",
    "        temp_de_df2['month'] = temp_de_df2['month'].astype('datetime64[ns]')\n",
    "        imports_de_df = imports_de_df.merge(temp_de_df2, on='month')\n",
    "\n",
    "        temp_sp_df2['month'] = temp_sp_df2['month'].map(lambda x: last_day_of_month(x))\n",
    "        temp_sp_df2['month'] = temp_sp_df2['month'].astype('datetime64[ns]')\n",
    "        imports_sp_df = imports_sp_df.merge(temp_sp_df2, on='month')\n",
    "\n",
    "        temp_uk_df2['month'] = temp_uk_df2['month'].map(lambda x: last_day_of_month(x))\n",
    "        temp_uk_df2['month'] = temp_uk_df2['month'].astype('datetime64[ns]')\n",
    "        imports_uk_df = imports_uk_df.merge(temp_uk_df2, on='month')\n",
    "\n",
    "        temp_all_df2['month'] = temp_all_df2['month'].map(lambda x: last_day_of_month(x))\n",
    "        temp_all_df2['month'] = temp_all_df2['month'].astype('datetime64[ns]')\n",
    "        imports_ukfrspde_df = imports_ukfrspde_df.merge(temp_all_df2, on='month')\n",
    "\n",
    "imports_ukfrspde_df.sort_values('month', ascending=True, inplace=True)\n",
    "imports_ukfrspde_df.head()"
   ]
  },
  {
   "cell_type": "markdown",
   "metadata": {},
   "source": [
    "Now let's make the exports data long."
   ]
  },
  {
   "cell_type": "code",
   "execution_count": 11,
   "metadata": {},
   "outputs": [
    {
     "data": {
      "text/html": [
       "<div>\n",
       "<style scoped>\n",
       "    .dataframe tbody tr th:only-of-type {\n",
       "        vertical-align: middle;\n",
       "    }\n",
       "\n",
       "    .dataframe tbody tr th {\n",
       "        vertical-align: top;\n",
       "    }\n",
       "\n",
       "    .dataframe thead th {\n",
       "        text-align: right;\n",
       "    }\n",
       "</style>\n",
       "<table border=\"1\" class=\"dataframe\">\n",
       "  <thead>\n",
       "    <tr style=\"text-align: right;\">\n",
       "      <th></th>\n",
       "      <th>month</th>\n",
       "      <th>FAS Value</th>\n",
       "      <th>First Unit of Quantity</th>\n",
       "    </tr>\n",
       "  </thead>\n",
       "  <tbody>\n",
       "    <tr>\n",
       "      <th>0</th>\n",
       "      <td>2000-01-31</td>\n",
       "      <td>45525687</td>\n",
       "      <td>22385348</td>\n",
       "    </tr>\n",
       "    <tr>\n",
       "      <th>31</th>\n",
       "      <td>2000-02-29</td>\n",
       "      <td>41336082</td>\n",
       "      <td>20954045</td>\n",
       "    </tr>\n",
       "    <tr>\n",
       "      <th>62</th>\n",
       "      <td>2000-03-31</td>\n",
       "      <td>41446856</td>\n",
       "      <td>20240059</td>\n",
       "    </tr>\n",
       "    <tr>\n",
       "      <th>93</th>\n",
       "      <td>2000-04-30</td>\n",
       "      <td>41411758</td>\n",
       "      <td>21745478</td>\n",
       "    </tr>\n",
       "    <tr>\n",
       "      <th>124</th>\n",
       "      <td>2000-05-31</td>\n",
       "      <td>42672115</td>\n",
       "      <td>22059299</td>\n",
       "    </tr>\n",
       "  </tbody>\n",
       "</table>\n",
       "</div>"
      ],
      "text/plain": [
       "          month FAS Value First Unit of Quantity\n",
       "0    2000-01-31  45525687               22385348\n",
       "31   2000-02-29  41336082               20954045\n",
       "62   2000-03-31  41446856               20240059\n",
       "93   2000-04-30  41411758               21745478\n",
       "124  2000-05-31  42672115               22059299"
      ]
     },
     "execution_count": 11,
     "metadata": {},
     "output_type": "execute_result"
    }
   ],
   "source": [
    "for name, sheet in exports_dict.items():\n",
    "    if name == 'FAS Value':\n",
    "        exports_value_df = pd.DataFrame(sheet)\n",
    "        exports_value_df.columns = exports_value_df.iloc[0]\n",
    "        exports_value_df = exports_value_df.iloc[1: , :]\n",
    "        exports_value_df = wide_to_long(exports_value_df, col_name=name)\n",
    "    if name == 'First Unit of Quantity':\n",
    "        exports_quantity_df = pd.DataFrame(sheet)\n",
    "        exports_quantity_df.columns = exports_quantity_df.iloc[0]\n",
    "        exports_quantity_df = exports_quantity_df.iloc[1: , :]\n",
    "        exports_quantity_df = wide_to_long(exports_quantity_df, col_name=name)\n",
    "\n",
    "exports_df = exports_value_df.merge(exports_quantity_df, on='month')\n",
    "\n",
    "# There are 108 empty rows at the bottom of the dataframe due to extra cells in the \n",
    "# excel spreadsheet. After checking, these are the only empty rows and dropping them\n",
    "# leaves 264 entries, as there should be.\n",
    "exports_df.dropna(inplace=True)\n",
    "\n",
    "exports_df['month'] = exports_df['month'].map(lambda x: last_day_of_month(x))\n",
    "exports_df.sort_values('month', ascending=True, inplace=True)\n",
    "\n",
    "exports_df.head()"
   ]
  },
  {
   "cell_type": "markdown",
   "metadata": {},
   "source": [
    "### Inspect Data\n",
    "\n",
    "Here I'll provide summary statistics for each of the datasets before we go on to do any transformations on the data."
   ]
  },
  {
   "cell_type": "markdown",
   "metadata": {},
   "source": [
    "#### Producer Price Index\n",
    "\n",
    "I'm going to adjust for inflation using the industry-specific series for the producer price index as provided by the Federal Reserve (FRED). I'm doing this because most of the data used is production-side and this provides a more-specific inflation adjustment for this industry than the regular CPI.\n",
    "\n",
    "The series is PCU3121303121300.\n",
    "\n",
    "FRED summarizes the dataset as follows:\n",
    "    Producer Price Index by Industry: Wineries: Wines, Brandy, and Brandy Spirits, Index Dec 1998=100, Monthly, Not Seasonally Adjusted"
   ]
  },
  {
   "cell_type": "code",
   "execution_count": 12,
   "metadata": {},
   "outputs": [],
   "source": [
    "# Get the last day of the month\n",
    "ppi_df['month'] = ppi_df['observation_date'].map(lambda x: str(x.year) + '-' + '{:02d}'.format(x.month))\n",
    "ppi_df['month'] = ppi_df['month'].map(lambda x: last_day_of_month(x))\n",
    "ppi_df['month'] = ppi_df['month'].astype('datetime64[ns]')"
   ]
  },
  {
   "cell_type": "code",
   "execution_count": 13,
   "metadata": {},
   "outputs": [
    {
     "data": {
      "text/html": [
       "<div>\n",
       "<style scoped>\n",
       "    .dataframe tbody tr th:only-of-type {\n",
       "        vertical-align: middle;\n",
       "    }\n",
       "\n",
       "    .dataframe tbody tr th {\n",
       "        vertical-align: top;\n",
       "    }\n",
       "\n",
       "    .dataframe thead th {\n",
       "        text-align: right;\n",
       "    }\n",
       "</style>\n",
       "<table border=\"1\" class=\"dataframe\">\n",
       "  <thead>\n",
       "    <tr style=\"text-align: right;\">\n",
       "      <th></th>\n",
       "      <th>observation_date</th>\n",
       "      <th>PCU3121303121300</th>\n",
       "      <th>month</th>\n",
       "    </tr>\n",
       "  </thead>\n",
       "  <tbody>\n",
       "    <tr>\n",
       "      <th>0</th>\n",
       "      <td>2000-01-01</td>\n",
       "      <td>103.0</td>\n",
       "      <td>2000-01-31</td>\n",
       "    </tr>\n",
       "    <tr>\n",
       "      <th>1</th>\n",
       "      <td>2000-02-01</td>\n",
       "      <td>101.1</td>\n",
       "      <td>2000-02-29</td>\n",
       "    </tr>\n",
       "    <tr>\n",
       "      <th>2</th>\n",
       "      <td>2000-03-01</td>\n",
       "      <td>103.0</td>\n",
       "      <td>2000-03-31</td>\n",
       "    </tr>\n",
       "    <tr>\n",
       "      <th>3</th>\n",
       "      <td>2000-04-01</td>\n",
       "      <td>101.0</td>\n",
       "      <td>2000-04-30</td>\n",
       "    </tr>\n",
       "    <tr>\n",
       "      <th>4</th>\n",
       "      <td>2000-05-01</td>\n",
       "      <td>101.9</td>\n",
       "      <td>2000-05-31</td>\n",
       "    </tr>\n",
       "  </tbody>\n",
       "</table>\n",
       "</div>"
      ],
      "text/plain": [
       "  observation_date  PCU3121303121300      month\n",
       "0       2000-01-01             103.0 2000-01-31\n",
       "1       2000-02-01             101.1 2000-02-29\n",
       "2       2000-03-01             103.0 2000-03-31\n",
       "3       2000-04-01             101.0 2000-04-30\n",
       "4       2000-05-01             101.9 2000-05-31"
      ]
     },
     "metadata": {},
     "output_type": "display_data"
    },
    {
     "name": "stdout",
     "output_type": "stream",
     "text": [
      "<class 'pandas.core.frame.DataFrame'>\n",
      "RangeIndex: 265 entries, 0 to 264\n",
      "Data columns (total 3 columns):\n",
      " #   Column            Non-Null Count  Dtype         \n",
      "---  ------            --------------  -----         \n",
      " 0   observation_date  265 non-null    datetime64[ns]\n",
      " 1   PCU3121303121300  265 non-null    float64       \n",
      " 2   month             265 non-null    datetime64[ns]\n",
      "dtypes: datetime64[ns](2), float64(1)\n",
      "memory usage: 6.3 KB\n"
     ]
    },
    {
     "data": {
      "text/plain": [
       "None"
      ]
     },
     "metadata": {},
     "output_type": "display_data"
    },
    {
     "data": {
      "text/html": [
       "<div>\n",
       "<style scoped>\n",
       "    .dataframe tbody tr th:only-of-type {\n",
       "        vertical-align: middle;\n",
       "    }\n",
       "\n",
       "    .dataframe tbody tr th {\n",
       "        vertical-align: top;\n",
       "    }\n",
       "\n",
       "    .dataframe thead th {\n",
       "        text-align: right;\n",
       "    }\n",
       "</style>\n",
       "<table border=\"1\" class=\"dataframe\">\n",
       "  <thead>\n",
       "    <tr style=\"text-align: right;\">\n",
       "      <th></th>\n",
       "      <th>PCU3121303121300</th>\n",
       "    </tr>\n",
       "  </thead>\n",
       "  <tbody>\n",
       "    <tr>\n",
       "      <th>count</th>\n",
       "      <td>265.000000</td>\n",
       "    </tr>\n",
       "    <tr>\n",
       "      <th>mean</th>\n",
       "      <td>116.637834</td>\n",
       "    </tr>\n",
       "    <tr>\n",
       "      <th>std</th>\n",
       "      <td>9.501049</td>\n",
       "    </tr>\n",
       "    <tr>\n",
       "      <th>min</th>\n",
       "      <td>100.900000</td>\n",
       "    </tr>\n",
       "    <tr>\n",
       "      <th>25%</th>\n",
       "      <td>106.000000</td>\n",
       "    </tr>\n",
       "    <tr>\n",
       "      <th>50%</th>\n",
       "      <td>118.800000</td>\n",
       "    </tr>\n",
       "    <tr>\n",
       "      <th>75%</th>\n",
       "      <td>123.400000</td>\n",
       "    </tr>\n",
       "    <tr>\n",
       "      <th>max</th>\n",
       "      <td>134.442000</td>\n",
       "    </tr>\n",
       "  </tbody>\n",
       "</table>\n",
       "</div>"
      ],
      "text/plain": [
       "       PCU3121303121300\n",
       "count        265.000000\n",
       "mean         116.637834\n",
       "std            9.501049\n",
       "min          100.900000\n",
       "25%          106.000000\n",
       "50%          118.800000\n",
       "75%          123.400000\n",
       "max          134.442000"
      ]
     },
     "metadata": {},
     "output_type": "display_data"
    }
   ],
   "source": [
    "display(ppi_df.head())\n",
    "display(ppi_df.info())\n",
    "display(ppi_df.describe())"
   ]
  },
  {
   "cell_type": "markdown",
   "metadata": {},
   "source": [
    "#### U.S. Population\n",
    "\n",
    "Population Data provided by the Federal Reserve (FRED). I'll be using this to adjust for per-capita wine quantities. This data is presently in thousands.\n",
    "\n",
    "POPTHM:\n",
    "Population, Thousands, Monthly, Not Seasonally Adjusted"
   ]
  },
  {
   "cell_type": "code",
   "execution_count": 14,
   "metadata": {},
   "outputs": [],
   "source": [
    "population_df['month'] = population_df['observation_date'].map(lambda x: str(x.year) + '-' + '{:02d}'.format(x.month))\n",
    "population_df['month'] = population_df['month'].map(lambda x: last_day_of_month(x))\n",
    "population_df['month'] = population_df['month'].astype('datetime64[ns]')\n",
    "population_df['population'] = population_df['POPTHM'] * 1000"
   ]
  },
  {
   "cell_type": "code",
   "execution_count": 15,
   "metadata": {},
   "outputs": [
    {
     "name": "stdout",
     "output_type": "stream",
     "text": [
      "<class 'pandas.core.frame.DataFrame'>\n",
      "RangeIndex: 264 entries, 0 to 263\n",
      "Data columns (total 4 columns):\n",
      " #   Column            Non-Null Count  Dtype         \n",
      "---  ------            --------------  -----         \n",
      " 0   observation_date  264 non-null    datetime64[ns]\n",
      " 1   POPTHM            264 non-null    int64         \n",
      " 2   month             264 non-null    datetime64[ns]\n",
      " 3   population        264 non-null    int64         \n",
      "dtypes: datetime64[ns](2), int64(2)\n",
      "memory usage: 8.4 KB\n"
     ]
    },
    {
     "data": {
      "text/plain": [
       "None"
      ]
     },
     "metadata": {},
     "output_type": "display_data"
    },
    {
     "data": {
      "text/html": [
       "<div>\n",
       "<style scoped>\n",
       "    .dataframe tbody tr th:only-of-type {\n",
       "        vertical-align: middle;\n",
       "    }\n",
       "\n",
       "    .dataframe tbody tr th {\n",
       "        vertical-align: top;\n",
       "    }\n",
       "\n",
       "    .dataframe thead th {\n",
       "        text-align: right;\n",
       "    }\n",
       "</style>\n",
       "<table border=\"1\" class=\"dataframe\">\n",
       "  <thead>\n",
       "    <tr style=\"text-align: right;\">\n",
       "      <th></th>\n",
       "      <th>POPTHM</th>\n",
       "      <th>population</th>\n",
       "    </tr>\n",
       "  </thead>\n",
       "  <tbody>\n",
       "    <tr>\n",
       "      <th>count</th>\n",
       "      <td>264.000000</td>\n",
       "      <td>2.640000e+02</td>\n",
       "    </tr>\n",
       "    <tr>\n",
       "      <th>mean</th>\n",
       "      <td>309321.689394</td>\n",
       "      <td>3.093217e+08</td>\n",
       "    </tr>\n",
       "    <tr>\n",
       "      <th>std</th>\n",
       "      <td>15255.933065</td>\n",
       "      <td>1.525593e+07</td>\n",
       "    </tr>\n",
       "    <tr>\n",
       "      <th>min</th>\n",
       "      <td>281083.000000</td>\n",
       "      <td>2.810830e+08</td>\n",
       "    </tr>\n",
       "    <tr>\n",
       "      <th>25%</th>\n",
       "      <td>296013.750000</td>\n",
       "      <td>2.960138e+08</td>\n",
       "    </tr>\n",
       "    <tr>\n",
       "      <th>50%</th>\n",
       "      <td>310940.500000</td>\n",
       "      <td>3.109405e+08</td>\n",
       "    </tr>\n",
       "    <tr>\n",
       "      <th>75%</th>\n",
       "      <td>323112.000000</td>\n",
       "      <td>3.231120e+08</td>\n",
       "    </tr>\n",
       "    <tr>\n",
       "      <th>max</th>\n",
       "      <td>331895.000000</td>\n",
       "      <td>3.318950e+08</td>\n",
       "    </tr>\n",
       "  </tbody>\n",
       "</table>\n",
       "</div>"
      ],
      "text/plain": [
       "              POPTHM    population\n",
       "count     264.000000  2.640000e+02\n",
       "mean   309321.689394  3.093217e+08\n",
       "std     15255.933065  1.525593e+07\n",
       "min    281083.000000  2.810830e+08\n",
       "25%    296013.750000  2.960138e+08\n",
       "50%    310940.500000  3.109405e+08\n",
       "75%    323112.000000  3.231120e+08\n",
       "max    331895.000000  3.318950e+08"
      ]
     },
     "metadata": {},
     "output_type": "display_data"
    },
    {
     "data": {
      "text/html": [
       "<div>\n",
       "<style scoped>\n",
       "    .dataframe tbody tr th:only-of-type {\n",
       "        vertical-align: middle;\n",
       "    }\n",
       "\n",
       "    .dataframe tbody tr th {\n",
       "        vertical-align: top;\n",
       "    }\n",
       "\n",
       "    .dataframe thead th {\n",
       "        text-align: right;\n",
       "    }\n",
       "</style>\n",
       "<table border=\"1\" class=\"dataframe\">\n",
       "  <thead>\n",
       "    <tr style=\"text-align: right;\">\n",
       "      <th></th>\n",
       "      <th>observation_date</th>\n",
       "      <th>POPTHM</th>\n",
       "      <th>month</th>\n",
       "      <th>population</th>\n",
       "    </tr>\n",
       "  </thead>\n",
       "  <tbody>\n",
       "    <tr>\n",
       "      <th>0</th>\n",
       "      <td>2000-01-01</td>\n",
       "      <td>281083</td>\n",
       "      <td>2000-01-31</td>\n",
       "      <td>281083000</td>\n",
       "    </tr>\n",
       "    <tr>\n",
       "      <th>1</th>\n",
       "      <td>2000-02-01</td>\n",
       "      <td>281299</td>\n",
       "      <td>2000-02-29</td>\n",
       "      <td>281299000</td>\n",
       "    </tr>\n",
       "    <tr>\n",
       "      <th>2</th>\n",
       "      <td>2000-03-01</td>\n",
       "      <td>281531</td>\n",
       "      <td>2000-03-31</td>\n",
       "      <td>281531000</td>\n",
       "    </tr>\n",
       "    <tr>\n",
       "      <th>3</th>\n",
       "      <td>2000-04-01</td>\n",
       "      <td>281763</td>\n",
       "      <td>2000-04-30</td>\n",
       "      <td>281763000</td>\n",
       "    </tr>\n",
       "    <tr>\n",
       "      <th>4</th>\n",
       "      <td>2000-05-01</td>\n",
       "      <td>281996</td>\n",
       "      <td>2000-05-31</td>\n",
       "      <td>281996000</td>\n",
       "    </tr>\n",
       "  </tbody>\n",
       "</table>\n",
       "</div>"
      ],
      "text/plain": [
       "  observation_date  POPTHM      month  population\n",
       "0       2000-01-01  281083 2000-01-31   281083000\n",
       "1       2000-02-01  281299 2000-02-29   281299000\n",
       "2       2000-03-01  281531 2000-03-31   281531000\n",
       "3       2000-04-01  281763 2000-04-30   281763000\n",
       "4       2000-05-01  281996 2000-05-31   281996000"
      ]
     },
     "metadata": {},
     "output_type": "display_data"
    }
   ],
   "source": [
    "display(population_df.info())\n",
    "display(population_df.describe())\n",
    "display(population_df.head())"
   ]
  },
  {
   "cell_type": "code",
   "execution_count": 16,
   "metadata": {},
   "outputs": [
    {
     "data": {
      "text/plain": [
       "<AxesSubplot:xlabel='month', ylabel='POPTHM'>"
      ]
     },
     "execution_count": 16,
     "metadata": {},
     "output_type": "execute_result"
    },
    {
     "data": {
      "image/png": "[encoded data removed]",
      "text/plain": [
       "<Figure size 432x288 with 1 Axes>"
      ]
     },
     "metadata": {
      "needs_background": "light"
     },
     "output_type": "display_data"
    }
   ],
   "source": [
    "sns.lineplot(data=population_df, x='month', y='POPTHM')"
   ]
  },
  {
   "cell_type": "markdown",
   "metadata": {},
   "source": [
    "#### World Imports"
   ]
  },
  {
   "cell_type": "code",
   "execution_count": 17,
   "metadata": {},
   "outputs": [
    {
     "data": {
      "text/html": [
       "<div>\n",
       "<style scoped>\n",
       "    .dataframe tbody tr th:only-of-type {\n",
       "        vertical-align: middle;\n",
       "    }\n",
       "\n",
       "    .dataframe tbody tr th {\n",
       "        vertical-align: top;\n",
       "    }\n",
       "\n",
       "    .dataframe thead th {\n",
       "        text-align: right;\n",
       "    }\n",
       "</style>\n",
       "<table border=\"1\" class=\"dataframe\">\n",
       "  <thead>\n",
       "    <tr style=\"text-align: right;\">\n",
       "      <th></th>\n",
       "      <th>month</th>\n",
       "      <th>Dutiable Value</th>\n",
       "      <th>Landed Duty-Paid Value</th>\n",
       "      <th>Customs Value</th>\n",
       "      <th>First Unit of Quantity</th>\n",
       "      <th>Charges, Insurance, and Freight</th>\n",
       "      <th>Calculated Duties</th>\n",
       "    </tr>\n",
       "  </thead>\n",
       "  <tbody>\n",
       "    <tr>\n",
       "      <th>0</th>\n",
       "      <td>2000-01-31</td>\n",
       "      <td>133791586</td>\n",
       "      <td>144253063</td>\n",
       "      <td>134876329</td>\n",
       "      <td>30869692</td>\n",
       "      <td>7058649</td>\n",
       "      <td>2318085</td>\n",
       "    </tr>\n",
       "    <tr>\n",
       "      <th>1</th>\n",
       "      <td>2000-02-29</td>\n",
       "      <td>140504325</td>\n",
       "      <td>149395178</td>\n",
       "      <td>141089327</td>\n",
       "      <td>27334547</td>\n",
       "      <td>6156122</td>\n",
       "      <td>2149729</td>\n",
       "    </tr>\n",
       "    <tr>\n",
       "      <th>2</th>\n",
       "      <td>2000-03-31</td>\n",
       "      <td>168440973</td>\n",
       "      <td>181115109</td>\n",
       "      <td>170803664</td>\n",
       "      <td>33950034</td>\n",
       "      <td>7719881</td>\n",
       "      <td>2591564</td>\n",
       "    </tr>\n",
       "    <tr>\n",
       "      <th>3</th>\n",
       "      <td>2000-04-30</td>\n",
       "      <td>174444956</td>\n",
       "      <td>186771728</td>\n",
       "      <td>175506155</td>\n",
       "      <td>37381318</td>\n",
       "      <td>8447127</td>\n",
       "      <td>2818446</td>\n",
       "    </tr>\n",
       "    <tr>\n",
       "      <th>4</th>\n",
       "      <td>2000-05-31</td>\n",
       "      <td>177795372</td>\n",
       "      <td>190281882</td>\n",
       "      <td>178396150</td>\n",
       "      <td>38726698</td>\n",
       "      <td>9091316</td>\n",
       "      <td>2794416</td>\n",
       "    </tr>\n",
       "  </tbody>\n",
       "</table>\n",
       "</div>"
      ],
      "text/plain": [
       "       month Dutiable Value Landed Duty-Paid Value Customs Value  \\\n",
       "0 2000-01-31      133791586              144253063     134876329   \n",
       "1 2000-02-29      140504325              149395178     141089327   \n",
       "2 2000-03-31      168440973              181115109     170803664   \n",
       "3 2000-04-30      174444956              186771728     175506155   \n",
       "4 2000-05-31      177795372              190281882     178396150   \n",
       "\n",
       "  First Unit of Quantity Charges, Insurance, and Freight Calculated Duties  \n",
       "0               30869692                         7058649           2318085  \n",
       "1               27334547                         6156122           2149729  \n",
       "2               33950034                         7719881           2591564  \n",
       "3               37381318                         8447127           2818446  \n",
       "4               38726698                         9091316           2794416  "
      ]
     },
     "metadata": {},
     "output_type": "display_data"
    },
    {
     "name": "stderr",
     "output_type": "stream",
     "text": [
      "<ipython-input-17-09d884bef029>:2: FutureWarning: Treating datetime data as categorical rather than numeric in `.describe` is deprecated and will be removed in a future version of pandas. Specify `datetime_is_numeric=True` to silence this warning and adopt the future behavior now.\n",
      "  display(imports_world_df.describe())\n"
     ]
    },
    {
     "data": {
      "text/html": [
       "<div>\n",
       "<style scoped>\n",
       "    .dataframe tbody tr th:only-of-type {\n",
       "        vertical-align: middle;\n",
       "    }\n",
       "\n",
       "    .dataframe tbody tr th {\n",
       "        vertical-align: top;\n",
       "    }\n",
       "\n",
       "    .dataframe thead th {\n",
       "        text-align: right;\n",
       "    }\n",
       "</style>\n",
       "<table border=\"1\" class=\"dataframe\">\n",
       "  <thead>\n",
       "    <tr style=\"text-align: right;\">\n",
       "      <th></th>\n",
       "      <th>month</th>\n",
       "      <th>Dutiable Value</th>\n",
       "      <th>Landed Duty-Paid Value</th>\n",
       "      <th>Customs Value</th>\n",
       "      <th>First Unit of Quantity</th>\n",
       "      <th>Charges, Insurance, and Freight</th>\n",
       "      <th>Calculated Duties</th>\n",
       "    </tr>\n",
       "  </thead>\n",
       "  <tbody>\n",
       "    <tr>\n",
       "      <th>count</th>\n",
       "      <td>264</td>\n",
       "      <td>264.0</td>\n",
       "      <td>264.0</td>\n",
       "      <td>264.0</td>\n",
       "      <td>264.0</td>\n",
       "      <td>264.0</td>\n",
       "      <td>264.0</td>\n",
       "    </tr>\n",
       "    <tr>\n",
       "      <th>unique</th>\n",
       "      <td>264</td>\n",
       "      <td>264.0</td>\n",
       "      <td>264.0</td>\n",
       "      <td>264.0</td>\n",
       "      <td>264.0</td>\n",
       "      <td>264.0</td>\n",
       "      <td>264.0</td>\n",
       "    </tr>\n",
       "    <tr>\n",
       "      <th>top</th>\n",
       "      <td>2009-05-31 00:00:00</td>\n",
       "      <td>387436035.0</td>\n",
       "      <td>389987329.0</td>\n",
       "      <td>305807449.0</td>\n",
       "      <td>67360257.0</td>\n",
       "      <td>12248065.0</td>\n",
       "      <td>5050881.0</td>\n",
       "    </tr>\n",
       "    <tr>\n",
       "      <th>freq</th>\n",
       "      <td>1</td>\n",
       "      <td>1.0</td>\n",
       "      <td>1.0</td>\n",
       "      <td>1.0</td>\n",
       "      <td>1.0</td>\n",
       "      <td>1.0</td>\n",
       "      <td>1.0</td>\n",
       "    </tr>\n",
       "    <tr>\n",
       "      <th>first</th>\n",
       "      <td>2000-01-31 00:00:00</td>\n",
       "      <td>NaN</td>\n",
       "      <td>NaN</td>\n",
       "      <td>NaN</td>\n",
       "      <td>NaN</td>\n",
       "      <td>NaN</td>\n",
       "      <td>NaN</td>\n",
       "    </tr>\n",
       "    <tr>\n",
       "      <th>last</th>\n",
       "      <td>2021-12-31 00:00:00</td>\n",
       "      <td>NaN</td>\n",
       "      <td>NaN</td>\n",
       "      <td>NaN</td>\n",
       "      <td>NaN</td>\n",
       "      <td>NaN</td>\n",
       "      <td>NaN</td>\n",
       "    </tr>\n",
       "  </tbody>\n",
       "</table>\n",
       "</div>"
      ],
      "text/plain": [
       "                      month  Dutiable Value  Landed Duty-Paid Value  \\\n",
       "count                   264           264.0                   264.0   \n",
       "unique                  264           264.0                   264.0   \n",
       "top     2009-05-31 00:00:00     387436035.0             389987329.0   \n",
       "freq                      1             1.0                     1.0   \n",
       "first   2000-01-31 00:00:00             NaN                     NaN   \n",
       "last    2021-12-31 00:00:00             NaN                     NaN   \n",
       "\n",
       "        Customs Value  First Unit of Quantity  \\\n",
       "count           264.0                   264.0   \n",
       "unique          264.0                   264.0   \n",
       "top       305807449.0              67360257.0   \n",
       "freq              1.0                     1.0   \n",
       "first             NaN                     NaN   \n",
       "last              NaN                     NaN   \n",
       "\n",
       "        Charges, Insurance, and Freight  Calculated Duties  \n",
       "count                             264.0              264.0  \n",
       "unique                            264.0              264.0  \n",
       "top                          12248065.0          5050881.0  \n",
       "freq                                1.0                1.0  \n",
       "first                               NaN                NaN  \n",
       "last                                NaN                NaN  "
      ]
     },
     "metadata": {},
     "output_type": "display_data"
    },
    {
     "name": "stdout",
     "output_type": "stream",
     "text": [
      "<class 'pandas.core.frame.DataFrame'>\n",
      "Int64Index: 264 entries, 0 to 263\n",
      "Data columns (total 7 columns):\n",
      " #   Column                           Non-Null Count  Dtype         \n",
      "---  ------                           --------------  -----         \n",
      " 0   month                            264 non-null    datetime64[ns]\n",
      " 1   Dutiable Value                   264 non-null    object        \n",
      " 2   Landed Duty-Paid Value           264 non-null    object        \n",
      " 3   Customs Value                    264 non-null    object        \n",
      " 4   First Unit of Quantity           264 non-null    object        \n",
      " 5   Charges, Insurance, and Freight  264 non-null    object        \n",
      " 6   Calculated Duties                264 non-null    object        \n",
      "dtypes: datetime64[ns](1), object(6)\n",
      "memory usage: 16.5+ KB\n"
     ]
    },
    {
     "data": {
      "text/plain": [
       "None"
      ]
     },
     "metadata": {},
     "output_type": "display_data"
    }
   ],
   "source": [
    "display(imports_world_df.head())\n",
    "display(imports_world_df.describe())\n",
    "display(imports_world_df.info())"
   ]
  },
  {
   "cell_type": "markdown",
   "metadata": {},
   "source": [
    "I'll clean up some of these variable names to make them cleaner."
   ]
  },
  {
   "cell_type": "code",
   "execution_count": 18,
   "metadata": {},
   "outputs": [],
   "source": [
    "def reformat_column_names(col_name):\n",
    "    return str.lower(re.subn(' |, |-', '_', col_name)[0])"
   ]
  },
  {
   "cell_type": "markdown",
   "metadata": {},
   "source": [
    "Before looking into the values' distributions, I'm going to adjust for inflation and population."
   ]
  },
  {
   "cell_type": "code",
   "execution_count": 19,
   "metadata": {},
   "outputs": [
    {
     "data": {
      "text/html": [
       "<div>\n",
       "<style scoped>\n",
       "    .dataframe tbody tr th:only-of-type {\n",
       "        vertical-align: middle;\n",
       "    }\n",
       "\n",
       "    .dataframe tbody tr th {\n",
       "        vertical-align: top;\n",
       "    }\n",
       "\n",
       "    .dataframe thead th {\n",
       "        text-align: right;\n",
       "    }\n",
       "</style>\n",
       "<table border=\"1\" class=\"dataframe\">\n",
       "  <thead>\n",
       "    <tr style=\"text-align: right;\">\n",
       "      <th></th>\n",
       "      <th>month</th>\n",
       "      <th>Dutiable Value</th>\n",
       "      <th>Landed Duty-Paid Value</th>\n",
       "      <th>Customs Value</th>\n",
       "      <th>First Unit of Quantity</th>\n",
       "      <th>Charges, Insurance, and Freight</th>\n",
       "      <th>Calculated Duties</th>\n",
       "      <th>observation_date</th>\n",
       "      <th>PCU3121303121300</th>\n",
       "      <th>population</th>\n",
       "      <th>dutiable_value_adj</th>\n",
       "      <th>landed_duty_paid_value_adj</th>\n",
       "      <th>customs_value_adj</th>\n",
       "      <th>charges_insurance_and_freight_adj</th>\n",
       "      <th>calculated_duties_adj</th>\n",
       "      <th>wine_quantity_per_capita</th>\n",
       "    </tr>\n",
       "  </thead>\n",
       "  <tbody>\n",
       "    <tr>\n",
       "      <th>0</th>\n",
       "      <td>2000-01-31</td>\n",
       "      <td>133791586</td>\n",
       "      <td>144253063</td>\n",
       "      <td>134876329</td>\n",
       "      <td>30869692</td>\n",
       "      <td>7058649</td>\n",
       "      <td>2318085</td>\n",
       "      <td>2000-01-01</td>\n",
       "      <td>103.0</td>\n",
       "      <td>281083000</td>\n",
       "      <td>129894743.68932</td>\n",
       "      <td>140051517.475728</td>\n",
       "      <td>130947892.23301</td>\n",
       "      <td>6853057.281553</td>\n",
       "      <td>2250567.961165</td>\n",
       "      <td>0.109824</td>\n",
       "    </tr>\n",
       "    <tr>\n",
       "      <th>1</th>\n",
       "      <td>2000-02-29</td>\n",
       "      <td>140504325</td>\n",
       "      <td>149395178</td>\n",
       "      <td>141089327</td>\n",
       "      <td>27334547</td>\n",
       "      <td>6156122</td>\n",
       "      <td>2149729</td>\n",
       "      <td>2000-02-01</td>\n",
       "      <td>101.1</td>\n",
       "      <td>281299000</td>\n",
       "      <td>138975593.47181</td>\n",
       "      <td>147769711.177052</td>\n",
       "      <td>139554230.464886</td>\n",
       "      <td>6089141.444115</td>\n",
       "      <td>2126339.268051</td>\n",
       "      <td>0.097173</td>\n",
       "    </tr>\n",
       "    <tr>\n",
       "      <th>2</th>\n",
       "      <td>2000-03-31</td>\n",
       "      <td>168440973</td>\n",
       "      <td>181115109</td>\n",
       "      <td>170803664</td>\n",
       "      <td>33950034</td>\n",
       "      <td>7719881</td>\n",
       "      <td>2591564</td>\n",
       "      <td>2000-03-01</td>\n",
       "      <td>103.0</td>\n",
       "      <td>281531000</td>\n",
       "      <td>163534925.242718</td>\n",
       "      <td>175839911.650485</td>\n",
       "      <td>165828800.0</td>\n",
       "      <td>7495030.097087</td>\n",
       "      <td>2516081.553398</td>\n",
       "      <td>0.120591</td>\n",
       "    </tr>\n",
       "    <tr>\n",
       "      <th>3</th>\n",
       "      <td>2000-04-30</td>\n",
       "      <td>174444956</td>\n",
       "      <td>186771728</td>\n",
       "      <td>175506155</td>\n",
       "      <td>37381318</td>\n",
       "      <td>8447127</td>\n",
       "      <td>2818446</td>\n",
       "      <td>2000-04-01</td>\n",
       "      <td>101.0</td>\n",
       "      <td>281763000</td>\n",
       "      <td>172717778.217822</td>\n",
       "      <td>184922502.970297</td>\n",
       "      <td>173768470.29703</td>\n",
       "      <td>8363492.079208</td>\n",
       "      <td>2790540.594059</td>\n",
       "      <td>0.132669</td>\n",
       "    </tr>\n",
       "    <tr>\n",
       "      <th>4</th>\n",
       "      <td>2000-05-31</td>\n",
       "      <td>177795372</td>\n",
       "      <td>190281882</td>\n",
       "      <td>178396150</td>\n",
       "      <td>38726698</td>\n",
       "      <td>9091316</td>\n",
       "      <td>2794416</td>\n",
       "      <td>2000-05-01</td>\n",
       "      <td>101.9</td>\n",
       "      <td>281996000</td>\n",
       "      <td>174480247.301276</td>\n",
       "      <td>186733937.193327</td>\n",
       "      <td>175069823.356232</td>\n",
       "      <td>8921801.766438</td>\n",
       "      <td>2742312.070658</td>\n",
       "      <td>0.137331</td>\n",
       "    </tr>\n",
       "  </tbody>\n",
       "</table>\n",
       "</div>"
      ],
      "text/plain": [
       "       month Dutiable Value Landed Duty-Paid Value Customs Value  \\\n",
       "0 2000-01-31      133791586              144253063     134876329   \n",
       "1 2000-02-29      140504325              149395178     141089327   \n",
       "2 2000-03-31      168440973              181115109     170803664   \n",
       "3 2000-04-30      174444956              186771728     175506155   \n",
       "4 2000-05-31      177795372              190281882     178396150   \n",
       "\n",
       "  First Unit of Quantity Charges, Insurance, and Freight Calculated Duties  \\\n",
       "0               30869692                         7058649           2318085   \n",
       "1               27334547                         6156122           2149729   \n",
       "2               33950034                         7719881           2591564   \n",
       "3               37381318                         8447127           2818446   \n",
       "4               38726698                         9091316           2794416   \n",
       "\n",
       "  observation_date  PCU3121303121300  population dutiable_value_adj  \\\n",
       "0       2000-01-01             103.0   281083000    129894743.68932   \n",
       "1       2000-02-01             101.1   281299000    138975593.47181   \n",
       "2       2000-03-01             103.0   281531000   163534925.242718   \n",
       "3       2000-04-01             101.0   281763000   172717778.217822   \n",
       "4       2000-05-01             101.9   281996000   174480247.301276   \n",
       "\n",
       "  landed_duty_paid_value_adj customs_value_adj  \\\n",
       "0           140051517.475728   130947892.23301   \n",
       "1           147769711.177052  139554230.464886   \n",
       "2           175839911.650485       165828800.0   \n",
       "3           184922502.970297   173768470.29703   \n",
       "4           186733937.193327  175069823.356232   \n",
       "\n",
       "  charges_insurance_and_freight_adj calculated_duties_adj  \\\n",
       "0                    6853057.281553        2250567.961165   \n",
       "1                    6089141.444115        2126339.268051   \n",
       "2                    7495030.097087        2516081.553398   \n",
       "3                    8363492.079208        2790540.594059   \n",
       "4                    8921801.766438        2742312.070658   \n",
       "\n",
       "  wine_quantity_per_capita  \n",
       "0                 0.109824  \n",
       "1                 0.097173  \n",
       "2                 0.120591  \n",
       "3                 0.132669  \n",
       "4                 0.137331  "
      ]
     },
     "execution_count": 19,
     "metadata": {},
     "output_type": "execute_result"
    }
   ],
   "source": [
    "imports_world_df = imports_world_df.merge(ppi_df, on='month')\n",
    "imports_world_df = imports_world_df.merge(population_df[['month', 'population']], on='month')\n",
    "\n",
    "for c in imports_world_df.columns:\n",
    "    col_name = reformat_column_names(c) + '_adj'\n",
    "    if c == 'population':\n",
    "        imports_world_df['wine_quantity_per_capita'] = imports_world_df['First Unit of Quantity'] / imports_world_df[c].astype('f4')\n",
    "    elif c != 'First Unit of Quantity' and c != 'month' and c != 'PCU3121303121300' and c != 'observation_date':\n",
    "        imports_world_df[col_name] = imports_world_df[c] / imports_world_df['PCU3121303121300'] * 100\n",
    "        \n",
    "imports_world_df.head()"
   ]
  },
  {
   "cell_type": "code",
   "execution_count": 20,
   "metadata": {},
   "outputs": [
    {
     "data": {
      "text/plain": [
       "<AxesSubplot:xlabel='value', ylabel='variable'>"
      ]
     },
     "execution_count": 20,
     "metadata": {},
     "output_type": "execute_result"
    },
    {
     "data": {
      "image/png": "[encoded data removed]",
      "text/plain": [
       "<Figure size 432x288 with 1 Axes>"
      ]
     },
     "metadata": {
      "needs_background": "light"
     },
     "output_type": "display_data"
    }
   ],
   "source": [
    "imports_value_boxplot_data = pd.melt(imports_world_df[['dutiable_value_adj', 'landed_duty_paid_value_adj', 'customs_value_adj']])\n",
    "sns.boxplot(data=imports_value_boxplot_data, y='variable', x='value')"
   ]
  },
  {
   "cell_type": "code",
   "execution_count": 21,
   "metadata": {},
   "outputs": [
    {
     "data": {
      "text/plain": [
       "<AxesSubplot:xlabel='value', ylabel='variable'>"
      ]
     },
     "execution_count": 21,
     "metadata": {},
     "output_type": "execute_result"
    },
    {
     "data": {
      "image/png": "[encoded data removed]",
      "text/plain": [
       "<Figure size 432x288 with 1 Axes>"
      ]
     },
     "metadata": {
      "needs_background": "light"
     },
     "output_type": "display_data"
    }
   ],
   "source": [
    "imports_boxplot_data = pd.melt(imports_world_df[['charges_insurance_and_freight_adj', 'calculated_duties_adj']])\n",
    "sns.boxplot(data=imports_boxplot_data, y='variable', x='value')"
   ]
  },
  {
   "cell_type": "code",
   "execution_count": 22,
   "metadata": {},
   "outputs": [
    {
     "data": {
      "text/plain": [
       "<AxesSubplot:>"
      ]
     },
     "execution_count": 22,
     "metadata": {},
     "output_type": "execute_result"
    },
    {
     "data": {
      "image/png": "[encoded data removed]",
      "text/plain": [
       "<Figure size 432x288 with 1 Axes>"
      ]
     },
     "metadata": {
      "needs_background": "light"
     },
     "output_type": "display_data"
    }
   ],
   "source": [
    "sns.boxplot(data=imports_world_df['First Unit of Quantity'])"
   ]
  },
  {
   "cell_type": "code",
   "execution_count": 23,
   "metadata": {},
   "outputs": [
    {
     "data": {
      "text/plain": [
       "<AxesSubplot:>"
      ]
     },
     "execution_count": 23,
     "metadata": {},
     "output_type": "execute_result"
    },
    {
     "data": {
      "image/png": "[encoded data removed]",
      "text/plain": [
       "<Figure size 432x288 with 1 Axes>"
      ]
     },
     "metadata": {
      "needs_background": "light"
     },
     "output_type": "display_data"
    }
   ],
   "source": [
    "sns.boxplot(data=imports_world_df['wine_quantity_per_capita'])"
   ]
  },
  {
   "cell_type": "markdown",
   "metadata": {},
   "source": [
    "#### U.K., France, Germany, Spain Imports"
   ]
  },
  {
   "cell_type": "code",
   "execution_count": 24,
   "metadata": {},
   "outputs": [
    {
     "data": {
      "text/html": [
       "<div>\n",
       "<style scoped>\n",
       "    .dataframe tbody tr th:only-of-type {\n",
       "        vertical-align: middle;\n",
       "    }\n",
       "\n",
       "    .dataframe tbody tr th {\n",
       "        vertical-align: top;\n",
       "    }\n",
       "\n",
       "    .dataframe thead th {\n",
       "        text-align: right;\n",
       "    }\n",
       "</style>\n",
       "<table border=\"1\" class=\"dataframe\">\n",
       "  <thead>\n",
       "    <tr style=\"text-align: right;\">\n",
       "      <th></th>\n",
       "      <th>month</th>\n",
       "      <th>Charges, Insurance, and Freight</th>\n",
       "      <th>Calculated Duties</th>\n",
       "      <th>Dutiable Value</th>\n",
       "      <th>Landed Duty-Paid Value</th>\n",
       "      <th>First Unit of Quantity</th>\n",
       "      <th>Customs Value</th>\n",
       "      <th>observation_date</th>\n",
       "      <th>PCU3121303121300</th>\n",
       "      <th>population</th>\n",
       "      <th>charges_insurance_and_freight_adj</th>\n",
       "      <th>calculated_duties_adj</th>\n",
       "      <th>dutiable_value_adj</th>\n",
       "      <th>landed_duty_paid_value_adj</th>\n",
       "      <th>customs_value_adj</th>\n",
       "      <th>wine_quantity_per_capita</th>\n",
       "    </tr>\n",
       "  </thead>\n",
       "  <tbody>\n",
       "    <tr>\n",
       "      <th>0</th>\n",
       "      <td>2000-01-31</td>\n",
       "      <td>2406931</td>\n",
       "      <td>699303</td>\n",
       "      <td>56667673</td>\n",
       "      <td>59812261</td>\n",
       "      <td>8768676</td>\n",
       "      <td>56706027</td>\n",
       "      <td>2000-01-01</td>\n",
       "      <td>103.0</td>\n",
       "      <td>281083000</td>\n",
       "      <td>2336826.213592</td>\n",
       "      <td>678934.951456</td>\n",
       "      <td>55017158.252427</td>\n",
       "      <td>58070156.31068</td>\n",
       "      <td>55054395.145631</td>\n",
       "      <td>0.031196</td>\n",
       "    </tr>\n",
       "    <tr>\n",
       "      <th>1</th>\n",
       "      <td>2000-02-29</td>\n",
       "      <td>2356486</td>\n",
       "      <td>857890</td>\n",
       "      <td>73857433</td>\n",
       "      <td>77087577</td>\n",
       "      <td>8961916</td>\n",
       "      <td>73873201</td>\n",
       "      <td>2000-02-01</td>\n",
       "      <td>101.1</td>\n",
       "      <td>281299000</td>\n",
       "      <td>2330846.686449</td>\n",
       "      <td>848555.885262</td>\n",
       "      <td>73053840.751731</td>\n",
       "      <td>76248839.762611</td>\n",
       "      <td>73069437.1909</td>\n",
       "      <td>0.031859</td>\n",
       "    </tr>\n",
       "    <tr>\n",
       "      <th>2</th>\n",
       "      <td>2000-03-31</td>\n",
       "      <td>2804317</td>\n",
       "      <td>914008</td>\n",
       "      <td>83440008</td>\n",
       "      <td>87219165</td>\n",
       "      <td>10474993</td>\n",
       "      <td>83500840</td>\n",
       "      <td>2000-03-01</td>\n",
       "      <td>103.0</td>\n",
       "      <td>281531000</td>\n",
       "      <td>2722637.864078</td>\n",
       "      <td>887386.407767</td>\n",
       "      <td>81009716.504854</td>\n",
       "      <td>84678800.970874</td>\n",
       "      <td>81068776.699029</td>\n",
       "      <td>0.037207</td>\n",
       "    </tr>\n",
       "    <tr>\n",
       "      <th>3</th>\n",
       "      <td>2000-04-30</td>\n",
       "      <td>2989501</td>\n",
       "      <td>974797</td>\n",
       "      <td>83020862</td>\n",
       "      <td>87040067</td>\n",
       "      <td>11128077</td>\n",
       "      <td>83075769</td>\n",
       "      <td>2000-04-01</td>\n",
       "      <td>101.0</td>\n",
       "      <td>281763000</td>\n",
       "      <td>2959901.980198</td>\n",
       "      <td>965145.544554</td>\n",
       "      <td>82198873.267327</td>\n",
       "      <td>86178284.158416</td>\n",
       "      <td>82253236.633663</td>\n",
       "      <td>0.039494</td>\n",
       "    </tr>\n",
       "    <tr>\n",
       "      <th>4</th>\n",
       "      <td>2000-05-31</td>\n",
       "      <td>3037785</td>\n",
       "      <td>897331</td>\n",
       "      <td>75535353</td>\n",
       "      <td>79534639</td>\n",
       "      <td>10874051</td>\n",
       "      <td>75599523</td>\n",
       "      <td>2000-05-01</td>\n",
       "      <td>101.9</td>\n",
       "      <td>281996000</td>\n",
       "      <td>2981143.277723</td>\n",
       "      <td>880599.607458</td>\n",
       "      <td>74126941.118744</td>\n",
       "      <td>78051657.50736</td>\n",
       "      <td>74189914.622179</td>\n",
       "      <td>0.038561</td>\n",
       "    </tr>\n",
       "  </tbody>\n",
       "</table>\n",
       "</div>"
      ],
      "text/plain": [
       "       month Charges, Insurance, and Freight Calculated Duties Dutiable Value  \\\n",
       "0 2000-01-31                         2406931            699303       56667673   \n",
       "1 2000-02-29                         2356486            857890       73857433   \n",
       "2 2000-03-31                         2804317            914008       83440008   \n",
       "3 2000-04-30                         2989501            974797       83020862   \n",
       "4 2000-05-31                         3037785            897331       75535353   \n",
       "\n",
       "  Landed Duty-Paid Value First Unit of Quantity Customs Value  \\\n",
       "0               59812261                8768676      56706027   \n",
       "1               77087577                8961916      73873201   \n",
       "2               87219165               10474993      83500840   \n",
       "3               87040067               11128077      83075769   \n",
       "4               79534639               10874051      75599523   \n",
       "\n",
       "  observation_date  PCU3121303121300  population  \\\n",
       "0       2000-01-01             103.0   281083000   \n",
       "1       2000-02-01             101.1   281299000   \n",
       "2       2000-03-01             103.0   281531000   \n",
       "3       2000-04-01             101.0   281763000   \n",
       "4       2000-05-01             101.9   281996000   \n",
       "\n",
       "  charges_insurance_and_freight_adj calculated_duties_adj dutiable_value_adj  \\\n",
       "0                    2336826.213592         678934.951456    55017158.252427   \n",
       "1                    2330846.686449         848555.885262    73053840.751731   \n",
       "2                    2722637.864078         887386.407767    81009716.504854   \n",
       "3                    2959901.980198         965145.544554    82198873.267327   \n",
       "4                    2981143.277723         880599.607458    74126941.118744   \n",
       "\n",
       "  landed_duty_paid_value_adj customs_value_adj wine_quantity_per_capita  \n",
       "0             58070156.31068   55054395.145631                 0.031196  \n",
       "1            76248839.762611     73069437.1909                 0.031859  \n",
       "2            84678800.970874   81068776.699029                 0.037207  \n",
       "3            86178284.158416   82253236.633663                 0.039494  \n",
       "4             78051657.50736   74189914.622179                 0.038561  "
      ]
     },
     "execution_count": 24,
     "metadata": {},
     "output_type": "execute_result"
    }
   ],
   "source": [
    "imports_ukfrspde_df = imports_ukfrspde_df.merge(ppi_df, on='month')\n",
    "imports_ukfrspde_df = imports_ukfrspde_df.merge(population_df[['month', 'population']], on='month')\n",
    "\n",
    "for c in imports_ukfrspde_df.columns:\n",
    "    if c == 'population':\n",
    "        imports_ukfrspde_df['wine_quantity_per_capita'] = imports_ukfrspde_df['First Unit of Quantity'] / imports_ukfrspde_df['population']\n",
    "    elif c != 'First Unit of Quantity' and c != 'month' and c != 'PCU3121303121300' and c != 'observation_date':\n",
    "        col_name = reformat_column_names(c) + '_adj'\n",
    "        imports_ukfrspde_df[col_name] = imports_ukfrspde_df[c] / imports_ukfrspde_df['PCU3121303121300'] * 100\n",
    "\n",
    "imports_ukfrspde_df.head()"
   ]
  },
  {
   "cell_type": "code",
   "execution_count": 25,
   "metadata": {},
   "outputs": [
    {
     "data": {
      "text/html": [
       "<div>\n",
       "<style scoped>\n",
       "    .dataframe tbody tr th:only-of-type {\n",
       "        vertical-align: middle;\n",
       "    }\n",
       "\n",
       "    .dataframe tbody tr th {\n",
       "        vertical-align: top;\n",
       "    }\n",
       "\n",
       "    .dataframe thead th {\n",
       "        text-align: right;\n",
       "    }\n",
       "</style>\n",
       "<table border=\"1\" class=\"dataframe\">\n",
       "  <thead>\n",
       "    <tr style=\"text-align: right;\">\n",
       "      <th></th>\n",
       "      <th>month</th>\n",
       "      <th>Charges, Insurance, and Freight</th>\n",
       "      <th>Calculated Duties</th>\n",
       "      <th>Dutiable Value</th>\n",
       "      <th>Landed Duty-Paid Value</th>\n",
       "      <th>First Unit of Quantity</th>\n",
       "      <th>Customs Value</th>\n",
       "      <th>observation_date</th>\n",
       "      <th>PCU3121303121300</th>\n",
       "      <th>population</th>\n",
       "      <th>charges_insurance_and_freight_adj</th>\n",
       "      <th>calculated_duties_adj</th>\n",
       "      <th>dutiable_value_adj</th>\n",
       "      <th>landed_duty_paid_value_adj</th>\n",
       "      <th>customs_value_adj</th>\n",
       "      <th>wine_quantity_per_capita</th>\n",
       "    </tr>\n",
       "  </thead>\n",
       "  <tbody>\n",
       "    <tr>\n",
       "      <th>0</th>\n",
       "      <td>2000-01-31</td>\n",
       "      <td>2406931</td>\n",
       "      <td>699303</td>\n",
       "      <td>56667673</td>\n",
       "      <td>59812261</td>\n",
       "      <td>8768676</td>\n",
       "      <td>56706027</td>\n",
       "      <td>2000-01-01</td>\n",
       "      <td>103.0</td>\n",
       "      <td>281083000</td>\n",
       "      <td>2336826.213592</td>\n",
       "      <td>678934.951456</td>\n",
       "      <td>55017158.252427</td>\n",
       "      <td>58070156.31068</td>\n",
       "      <td>55054395.145631</td>\n",
       "      <td>0.031196</td>\n",
       "    </tr>\n",
       "    <tr>\n",
       "      <th>1</th>\n",
       "      <td>2000-02-29</td>\n",
       "      <td>2356486</td>\n",
       "      <td>857890</td>\n",
       "      <td>73857433</td>\n",
       "      <td>77087577</td>\n",
       "      <td>8961916</td>\n",
       "      <td>73873201</td>\n",
       "      <td>2000-02-01</td>\n",
       "      <td>101.1</td>\n",
       "      <td>281299000</td>\n",
       "      <td>2330846.686449</td>\n",
       "      <td>848555.885262</td>\n",
       "      <td>73053840.751731</td>\n",
       "      <td>76248839.762611</td>\n",
       "      <td>73069437.1909</td>\n",
       "      <td>0.031859</td>\n",
       "    </tr>\n",
       "    <tr>\n",
       "      <th>2</th>\n",
       "      <td>2000-03-31</td>\n",
       "      <td>2804317</td>\n",
       "      <td>914008</td>\n",
       "      <td>83440008</td>\n",
       "      <td>87219165</td>\n",
       "      <td>10474993</td>\n",
       "      <td>83500840</td>\n",
       "      <td>2000-03-01</td>\n",
       "      <td>103.0</td>\n",
       "      <td>281531000</td>\n",
       "      <td>2722637.864078</td>\n",
       "      <td>887386.407767</td>\n",
       "      <td>81009716.504854</td>\n",
       "      <td>84678800.970874</td>\n",
       "      <td>81068776.699029</td>\n",
       "      <td>0.037207</td>\n",
       "    </tr>\n",
       "    <tr>\n",
       "      <th>3</th>\n",
       "      <td>2000-04-30</td>\n",
       "      <td>2989501</td>\n",
       "      <td>974797</td>\n",
       "      <td>83020862</td>\n",
       "      <td>87040067</td>\n",
       "      <td>11128077</td>\n",
       "      <td>83075769</td>\n",
       "      <td>2000-04-01</td>\n",
       "      <td>101.0</td>\n",
       "      <td>281763000</td>\n",
       "      <td>2959901.980198</td>\n",
       "      <td>965145.544554</td>\n",
       "      <td>82198873.267327</td>\n",
       "      <td>86178284.158416</td>\n",
       "      <td>82253236.633663</td>\n",
       "      <td>0.039494</td>\n",
       "    </tr>\n",
       "    <tr>\n",
       "      <th>4</th>\n",
       "      <td>2000-05-31</td>\n",
       "      <td>3037785</td>\n",
       "      <td>897331</td>\n",
       "      <td>75535353</td>\n",
       "      <td>79534639</td>\n",
       "      <td>10874051</td>\n",
       "      <td>75599523</td>\n",
       "      <td>2000-05-01</td>\n",
       "      <td>101.9</td>\n",
       "      <td>281996000</td>\n",
       "      <td>2981143.277723</td>\n",
       "      <td>880599.607458</td>\n",
       "      <td>74126941.118744</td>\n",
       "      <td>78051657.50736</td>\n",
       "      <td>74189914.622179</td>\n",
       "      <td>0.038561</td>\n",
       "    </tr>\n",
       "  </tbody>\n",
       "</table>\n",
       "</div>"
      ],
      "text/plain": [
       "       month Charges, Insurance, and Freight Calculated Duties Dutiable Value  \\\n",
       "0 2000-01-31                         2406931            699303       56667673   \n",
       "1 2000-02-29                         2356486            857890       73857433   \n",
       "2 2000-03-31                         2804317            914008       83440008   \n",
       "3 2000-04-30                         2989501            974797       83020862   \n",
       "4 2000-05-31                         3037785            897331       75535353   \n",
       "\n",
       "  Landed Duty-Paid Value First Unit of Quantity Customs Value  \\\n",
       "0               59812261                8768676      56706027   \n",
       "1               77087577                8961916      73873201   \n",
       "2               87219165               10474993      83500840   \n",
       "3               87040067               11128077      83075769   \n",
       "4               79534639               10874051      75599523   \n",
       "\n",
       "  observation_date  PCU3121303121300  population  \\\n",
       "0       2000-01-01             103.0   281083000   \n",
       "1       2000-02-01             101.1   281299000   \n",
       "2       2000-03-01             103.0   281531000   \n",
       "3       2000-04-01             101.0   281763000   \n",
       "4       2000-05-01             101.9   281996000   \n",
       "\n",
       "  charges_insurance_and_freight_adj calculated_duties_adj dutiable_value_adj  \\\n",
       "0                    2336826.213592         678934.951456    55017158.252427   \n",
       "1                    2330846.686449         848555.885262    73053840.751731   \n",
       "2                    2722637.864078         887386.407767    81009716.504854   \n",
       "3                    2959901.980198         965145.544554    82198873.267327   \n",
       "4                    2981143.277723         880599.607458    74126941.118744   \n",
       "\n",
       "  landed_duty_paid_value_adj customs_value_adj wine_quantity_per_capita  \n",
       "0             58070156.31068   55054395.145631                 0.031196  \n",
       "1            76248839.762611     73069437.1909                 0.031859  \n",
       "2            84678800.970874   81068776.699029                 0.037207  \n",
       "3            86178284.158416   82253236.633663                 0.039494  \n",
       "4             78051657.50736   74189914.622179                 0.038561  "
      ]
     },
     "metadata": {},
     "output_type": "display_data"
    },
    {
     "data": {
      "text/html": [
       "<div>\n",
       "<style scoped>\n",
       "    .dataframe tbody tr th:only-of-type {\n",
       "        vertical-align: middle;\n",
       "    }\n",
       "\n",
       "    .dataframe tbody tr th {\n",
       "        vertical-align: top;\n",
       "    }\n",
       "\n",
       "    .dataframe thead th {\n",
       "        text-align: right;\n",
       "    }\n",
       "</style>\n",
       "<table border=\"1\" class=\"dataframe\">\n",
       "  <thead>\n",
       "    <tr style=\"text-align: right;\">\n",
       "      <th></th>\n",
       "      <th>PCU3121303121300</th>\n",
       "      <th>population</th>\n",
       "    </tr>\n",
       "  </thead>\n",
       "  <tbody>\n",
       "    <tr>\n",
       "      <th>count</th>\n",
       "      <td>264.000000</td>\n",
       "      <td>2.640000e+02</td>\n",
       "    </tr>\n",
       "    <tr>\n",
       "      <th>mean</th>\n",
       "      <td>116.571076</td>\n",
       "      <td>3.093217e+08</td>\n",
       "    </tr>\n",
       "    <tr>\n",
       "      <th>std</th>\n",
       "      <td>9.456620</td>\n",
       "      <td>1.525593e+07</td>\n",
       "    </tr>\n",
       "    <tr>\n",
       "      <th>min</th>\n",
       "      <td>100.900000</td>\n",
       "      <td>2.810830e+08</td>\n",
       "    </tr>\n",
       "    <tr>\n",
       "      <th>25%</th>\n",
       "      <td>105.925000</td>\n",
       "      <td>2.960138e+08</td>\n",
       "    </tr>\n",
       "    <tr>\n",
       "      <th>50%</th>\n",
       "      <td>118.800000</td>\n",
       "      <td>3.109405e+08</td>\n",
       "    </tr>\n",
       "    <tr>\n",
       "      <th>75%</th>\n",
       "      <td>123.175000</td>\n",
       "      <td>3.231120e+08</td>\n",
       "    </tr>\n",
       "    <tr>\n",
       "      <th>max</th>\n",
       "      <td>134.442000</td>\n",
       "      <td>3.318950e+08</td>\n",
       "    </tr>\n",
       "  </tbody>\n",
       "</table>\n",
       "</div>"
      ],
      "text/plain": [
       "       PCU3121303121300    population\n",
       "count        264.000000  2.640000e+02\n",
       "mean         116.571076  3.093217e+08\n",
       "std            9.456620  1.525593e+07\n",
       "min          100.900000  2.810830e+08\n",
       "25%          105.925000  2.960138e+08\n",
       "50%          118.800000  3.109405e+08\n",
       "75%          123.175000  3.231120e+08\n",
       "max          134.442000  3.318950e+08"
      ]
     },
     "metadata": {},
     "output_type": "display_data"
    },
    {
     "name": "stdout",
     "output_type": "stream",
     "text": [
      "<class 'pandas.core.frame.DataFrame'>\n",
      "Int64Index: 264 entries, 0 to 263\n",
      "Data columns (total 16 columns):\n",
      " #   Column                             Non-Null Count  Dtype         \n",
      "---  ------                             --------------  -----         \n",
      " 0   month                              264 non-null    datetime64[ns]\n",
      " 1   Charges, Insurance, and Freight    264 non-null    object        \n",
      " 2   Calculated Duties                  264 non-null    object        \n",
      " 3   Dutiable Value                     264 non-null    object        \n",
      " 4   Landed Duty-Paid Value             264 non-null    object        \n",
      " 5   First Unit of Quantity             264 non-null    object        \n",
      " 6   Customs Value                      264 non-null    object        \n",
      " 7   observation_date                   264 non-null    datetime64[ns]\n",
      " 8   PCU3121303121300                   264 non-null    float64       \n",
      " 9   population                         264 non-null    int64         \n",
      " 10  charges_insurance_and_freight_adj  264 non-null    object        \n",
      " 11  calculated_duties_adj              264 non-null    object        \n",
      " 12  dutiable_value_adj                 264 non-null    object        \n",
      " 13  landed_duty_paid_value_adj         264 non-null    object        \n",
      " 14  customs_value_adj                  264 non-null    object        \n",
      " 15  wine_quantity_per_capita           264 non-null    object        \n",
      "dtypes: datetime64[ns](2), float64(1), int64(1), object(12)\n",
      "memory usage: 35.1+ KB\n"
     ]
    },
    {
     "data": {
      "text/plain": [
       "None"
      ]
     },
     "metadata": {},
     "output_type": "display_data"
    }
   ],
   "source": [
    "display(imports_ukfrspde_df.head())\n",
    "display(imports_ukfrspde_df.describe())\n",
    "display(imports_ukfrspde_df.info())"
   ]
  },
  {
   "cell_type": "code",
   "execution_count": 26,
   "metadata": {},
   "outputs": [
    {
     "data": {
      "text/plain": [
       "<AxesSubplot:xlabel='value', ylabel='variable'>"
      ]
     },
     "execution_count": 26,
     "metadata": {},
     "output_type": "execute_result"
    },
    {
     "data": {
      "image/png": "[encoded data removed]",
      "text/plain": [
       "<Figure size 432x288 with 1 Axes>"
      ]
     },
     "metadata": {
      "needs_background": "light"
     },
     "output_type": "display_data"
    }
   ],
   "source": [
    "imports_value_boxplot_ukfrspde_df = pd.melt(imports_ukfrspde_df[['dutiable_value_adj', 'landed_duty_paid_value_adj', 'customs_value_adj']])\n",
    "sns.boxplot(data=imports_value_boxplot_ukfrspde_df, y='variable', x='value')"
   ]
  },
  {
   "cell_type": "code",
   "execution_count": 27,
   "metadata": {},
   "outputs": [
    {
     "data": {
      "text/plain": [
       "<AxesSubplot:xlabel='value', ylabel='variable'>"
      ]
     },
     "execution_count": 27,
     "metadata": {},
     "output_type": "execute_result"
    },
    {
     "data": {
      "image/png": "[encoded data removed]",
      "text/plain": [
       "<Figure size 432x288 with 1 Axes>"
      ]
     },
     "metadata": {
      "needs_background": "light"
     },
     "output_type": "display_data"
    }
   ],
   "source": [
    "imports_boxplot_ukfrspde_df = pd.melt(imports_ukfrspde_df[['charges_insurance_and_freight_adj', 'calculated_duties_adj']])\n",
    "sns.boxplot(data=imports_boxplot_ukfrspde_df, y='variable', x='value')"
   ]
  },
  {
   "cell_type": "code",
   "execution_count": 28,
   "metadata": {},
   "outputs": [
    {
     "data": {
      "text/plain": [
       "<AxesSubplot:>"
      ]
     },
     "execution_count": 28,
     "metadata": {},
     "output_type": "execute_result"
    },
    {
     "data": {
      "image/png": "[encoded data removed]",
      "text/plain": [
       "<Figure size 432x288 with 1 Axes>"
      ]
     },
     "metadata": {
      "needs_background": "light"
     },
     "output_type": "display_data"
    }
   ],
   "source": [
    "sns.boxplot(data=imports_ukfrspde_df['First Unit of Quantity'])"
   ]
  },
  {
   "cell_type": "code",
   "execution_count": 29,
   "metadata": {},
   "outputs": [
    {
     "data": {
      "text/plain": [
       "<AxesSubplot:>"
      ]
     },
     "execution_count": 29,
     "metadata": {},
     "output_type": "execute_result"
    },
    {
     "data": {
      "image/png": "[encoded data removed]",
      "text/plain": [
       "<Figure size 432x288 with 1 Axes>"
      ]
     },
     "metadata": {
      "needs_background": "light"
     },
     "output_type": "display_data"
    }
   ],
   "source": [
    "sns.boxplot(data=imports_ukfrspde_df['wine_quantity_per_capita'])"
   ]
  },
  {
   "cell_type": "markdown",
   "metadata": {},
   "source": [
    "Let's look at some differences in the duties between the set of countries this additional tariff was put on and the rest of the world."
   ]
  },
  {
   "cell_type": "code",
   "execution_count": 30,
   "metadata": {},
   "outputs": [
    {
     "name": "stderr",
     "output_type": "stream",
     "text": [
      "<ipython-input-30-dbdba5509ea0>:3: SettingWithCopyWarning: \n",
      "A value is trying to be set on a copy of a slice from a DataFrame.\n",
      "Try using .loc[row_indexer,col_indexer] = value instead\n",
      "\n",
      "See the caveats in the documentation: https://pandas.pydata.org/pandas-docs/stable/user_guide/indexing.html#returning-a-view-versus-a-copy\n",
      "  various_duties_df['world_average_duties'] = (imports_world_df['calculated_duties_adj'] - imports_ukfrspde_df['calculated_duties_adj']) / (imports_world_df['dutiable_value_adj'] - imports_ukfrspde_df['dutiable_value_adj'])\n",
      "<ipython-input-30-dbdba5509ea0>:4: SettingWithCopyWarning: \n",
      "A value is trying to be set on a copy of a slice from a DataFrame.\n",
      "Try using .loc[row_indexer,col_indexer] = value instead\n",
      "\n",
      "See the caveats in the documentation: https://pandas.pydata.org/pandas-docs/stable/user_guide/indexing.html#returning-a-view-versus-a-copy\n",
      "  various_duties_df['world_average_duties'] = various_duties_df['world_average_duties'].astype('f4')\n",
      "<ipython-input-30-dbdba5509ea0>:6: SettingWithCopyWarning: \n",
      "A value is trying to be set on a copy of a slice from a DataFrame.\n",
      "Try using .loc[row_indexer,col_indexer] = value instead\n",
      "\n",
      "See the caveats in the documentation: https://pandas.pydata.org/pandas-docs/stable/user_guide/indexing.html#returning-a-view-versus-a-copy\n",
      "  various_duties_df['ukfrspde_average_duties'] = imports_ukfrspde_df['calculated_duties_adj'] / imports_ukfrspde_df['dutiable_value_adj']\n",
      "<ipython-input-30-dbdba5509ea0>:7: SettingWithCopyWarning: \n",
      "A value is trying to be set on a copy of a slice from a DataFrame.\n",
      "Try using .loc[row_indexer,col_indexer] = value instead\n",
      "\n",
      "See the caveats in the documentation: https://pandas.pydata.org/pandas-docs/stable/user_guide/indexing.html#returning-a-view-versus-a-copy\n",
      "  various_duties_df['ukfrspde_average_duties'] = various_duties_df['ukfrspde_average_duties'].astype('f4')\n"
     ]
    },
    {
     "data": {
      "image/png": "[encoded data removed]",
      "text/plain": [
       "<Figure size 432x288 with 1 Axes>"
      ]
     },
     "metadata": {
      "needs_background": "light"
     },
     "output_type": "display_data"
    }
   ],
   "source": [
    "various_duties_df = imports_world_df[['month']]\n",
    "\n",
    "various_duties_df['world_average_duties'] = (imports_world_df['calculated_duties_adj'] - imports_ukfrspde_df['calculated_duties_adj']) / (imports_world_df['dutiable_value_adj'] - imports_ukfrspde_df['dutiable_value_adj'])\n",
    "various_duties_df['world_average_duties'] = various_duties_df['world_average_duties'].astype('f4')\n",
    "\n",
    "various_duties_df['ukfrspde_average_duties'] = imports_ukfrspde_df['calculated_duties_adj'] / imports_ukfrspde_df['dutiable_value_adj']\n",
    "various_duties_df['ukfrspde_average_duties'] = various_duties_df['ukfrspde_average_duties'].astype('f4')\n",
    "\n",
    "duties_plot = sns.lineplot(data=pd.melt(various_duties_df, ['month']), x='month', y='value', hue='variable',)\n",
    "duties_plot.set(title='Duty Charges for U.S. Wine Imports', xlabel='Month', ylabel='Percentage of Dutiable Value')\n",
    "\n",
    "plt.legend(title='Region', loc='upper left', labels=['World', 'UK, FR, SP, DE'])\n",
    "plt.show(duties_plot)\n"
   ]
  },
  {
   "cell_type": "code",
   "execution_count": 31,
   "metadata": {},
   "outputs": [
    {
     "name": "stderr",
     "output_type": "stream",
     "text": [
      "<ipython-input-31-54b5555526f5>:1: SettingWithCopyWarning: \n",
      "A value is trying to be set on a copy of a slice from a DataFrame.\n",
      "Try using .loc[row_indexer,col_indexer] = value instead\n",
      "\n",
      "See the caveats in the documentation: https://pandas.pydata.org/pandas-docs/stable/user_guide/indexing.html#returning-a-view-versus-a-copy\n",
      "  various_duties_df['ukfrspde_quantity'] = imports_ukfrspde_df['First Unit of Quantity'] / 1000000\n",
      "<ipython-input-31-54b5555526f5>:2: SettingWithCopyWarning: \n",
      "A value is trying to be set on a copy of a slice from a DataFrame.\n",
      "Try using .loc[row_indexer,col_indexer] = value instead\n",
      "\n",
      "See the caveats in the documentation: https://pandas.pydata.org/pandas-docs/stable/user_guide/indexing.html#returning-a-view-versus-a-copy\n",
      "  various_duties_df['ukfrspde_quantity'] = various_duties_df['ukfrspde_quantity'].astype('f4')\n",
      "<ipython-input-31-54b5555526f5>:3: SettingWithCopyWarning: \n",
      "A value is trying to be set on a copy of a slice from a DataFrame.\n",
      "Try using .loc[row_indexer,col_indexer] = value instead\n",
      "\n",
      "See the caveats in the documentation: https://pandas.pydata.org/pandas-docs/stable/user_guide/indexing.html#returning-a-view-versus-a-copy\n",
      "  various_duties_df['world_quantity'] = (imports_world_df['First Unit of Quantity'] - imports_ukfrspde_df['First Unit of Quantity']) / 1000000\n",
      "<ipython-input-31-54b5555526f5>:4: SettingWithCopyWarning: \n",
      "A value is trying to be set on a copy of a slice from a DataFrame.\n",
      "Try using .loc[row_indexer,col_indexer] = value instead\n",
      "\n",
      "See the caveats in the documentation: https://pandas.pydata.org/pandas-docs/stable/user_guide/indexing.html#returning-a-view-versus-a-copy\n",
      "  various_duties_df['world_quantity'] = various_duties_df['world_quantity'].astype('f4')\n"
     ]
    },
    {
     "data": {
      "image/png": "[encoded data removed]",
      "text/plain": [
       "<Figure size 432x288 with 1 Axes>"
      ]
     },
     "metadata": {
      "needs_background": "light"
     },
     "output_type": "display_data"
    }
   ],
   "source": [
    "various_duties_df['ukfrspde_quantity'] = imports_ukfrspde_df['First Unit of Quantity'] / 1000000\n",
    "various_duties_df['ukfrspde_quantity'] = various_duties_df['ukfrspde_quantity'].astype('f4')\n",
    "various_duties_df['world_quantity'] = (imports_world_df['First Unit of Quantity'] - imports_ukfrspde_df['First Unit of Quantity']) / 1000000\n",
    "various_duties_df['world_quantity'] = various_duties_df['world_quantity'].astype('f4')\n",
    "\n",
    "imports_quantity_plot = sns.lineplot(data=pd.melt(various_duties_df[['month', 'world_quantity', 'ukfrspde_quantity']], ['month']), x='month', y='value', hue='variable',)\n",
    "imports_quantity_plot.set(title='Total Wine Imports to the U.S.', xlabel='Month', ylabel='Millions of Liters')\n",
    "\n",
    "plt.legend(title='Region', loc='upper left', labels=['World', 'UK, FR, SP, DE'])\n",
    "plt.show()\n"
   ]
  },
  {
   "cell_type": "code",
   "execution_count": 32,
   "metadata": {},
   "outputs": [
    {
     "name": "stderr",
     "output_type": "stream",
     "text": [
      "<ipython-input-32-1b6560be979d>:1: SettingWithCopyWarning: \n",
      "A value is trying to be set on a copy of a slice from a DataFrame.\n",
      "Try using .loc[row_indexer,col_indexer] = value instead\n",
      "\n",
      "See the caveats in the documentation: https://pandas.pydata.org/pandas-docs/stable/user_guide/indexing.html#returning-a-view-versus-a-copy\n",
      "  various_duties_df['ukfrspde_quantity'] = imports_ukfrspde_df['First Unit of Quantity']\n",
      "<ipython-input-32-1b6560be979d>:2: SettingWithCopyWarning: \n",
      "A value is trying to be set on a copy of a slice from a DataFrame.\n",
      "Try using .loc[row_indexer,col_indexer] = value instead\n",
      "\n",
      "See the caveats in the documentation: https://pandas.pydata.org/pandas-docs/stable/user_guide/indexing.html#returning-a-view-versus-a-copy\n",
      "  various_duties_df['ukfrspde_quantity'] = various_duties_df['ukfrspde_quantity'].astype('f4')\n",
      "<ipython-input-32-1b6560be979d>:3: SettingWithCopyWarning: \n",
      "A value is trying to be set on a copy of a slice from a DataFrame.\n",
      "Try using .loc[row_indexer,col_indexer] = value instead\n",
      "\n",
      "See the caveats in the documentation: https://pandas.pydata.org/pandas-docs/stable/user_guide/indexing.html#returning-a-view-versus-a-copy\n",
      "  various_duties_df['ukfrspde_quantity_per_capita'] = various_duties_df['ukfrspde_quantity'] / imports_ukfrspde_df['population']\n",
      "<ipython-input-32-1b6560be979d>:4: SettingWithCopyWarning: \n",
      "A value is trying to be set on a copy of a slice from a DataFrame.\n",
      "Try using .loc[row_indexer,col_indexer] = value instead\n",
      "\n",
      "See the caveats in the documentation: https://pandas.pydata.org/pandas-docs/stable/user_guide/indexing.html#returning-a-view-versus-a-copy\n",
      "  various_duties_df['world_quantity'] = (imports_world_df['First Unit of Quantity'] - imports_ukfrspde_df['First Unit of Quantity'])\n",
      "<ipython-input-32-1b6560be979d>:5: SettingWithCopyWarning: \n",
      "A value is trying to be set on a copy of a slice from a DataFrame.\n",
      "Try using .loc[row_indexer,col_indexer] = value instead\n",
      "\n",
      "See the caveats in the documentation: https://pandas.pydata.org/pandas-docs/stable/user_guide/indexing.html#returning-a-view-versus-a-copy\n",
      "  various_duties_df['world_quantity'] = various_duties_df['world_quantity'].astype('f4')\n",
      "<ipython-input-32-1b6560be979d>:6: SettingWithCopyWarning: \n",
      "A value is trying to be set on a copy of a slice from a DataFrame.\n",
      "Try using .loc[row_indexer,col_indexer] = value instead\n",
      "\n",
      "See the caveats in the documentation: https://pandas.pydata.org/pandas-docs/stable/user_guide/indexing.html#returning-a-view-versus-a-copy\n",
      "  various_duties_df['world_quantity_per_capita'] = various_duties_df['world_quantity'] / imports_world_df['population']\n"
     ]
    },
    {
     "data": {
      "image/png": "[encoded data removed]",
      "text/plain": [
       "<Figure size 432x288 with 1 Axes>"
      ]
     },
     "metadata": {
      "needs_background": "light"
     },
     "output_type": "display_data"
    }
   ],
   "source": [
    "various_duties_df['ukfrspde_quantity'] = imports_ukfrspde_df['First Unit of Quantity']\n",
    "various_duties_df['ukfrspde_quantity'] = various_duties_df['ukfrspde_quantity'].astype('f4')\n",
    "various_duties_df['ukfrspde_quantity_per_capita'] = various_duties_df['ukfrspde_quantity'] / imports_ukfrspde_df['population']\n",
    "various_duties_df['world_quantity'] = (imports_world_df['First Unit of Quantity'] - imports_ukfrspde_df['First Unit of Quantity'])\n",
    "various_duties_df['world_quantity'] = various_duties_df['world_quantity'].astype('f4')\n",
    "various_duties_df['world_quantity_per_capita'] = various_duties_df['world_quantity'] / imports_world_df['population']\n",
    "\n",
    "imports_quantity_plot = sns.lineplot(data=pd.melt(various_duties_df[['month', 'world_quantity_per_capita', 'ukfrspde_quantity_per_capita']], ['month']), x='month', y='value', hue='variable',)\n",
    "imports_quantity_plot.set(title='Wine Imports to the U.S. Per Capita', xlabel='Month', ylabel='Liters per Person')\n",
    "\n",
    "plt.legend(title='Region', loc='upper left', labels=['World', 'UK, FR, SP, DE'])\n",
    "plt.show()\n"
   ]
  },
  {
   "cell_type": "code",
   "execution_count": 33,
   "metadata": {},
   "outputs": [
    {
     "name": "stderr",
     "output_type": "stream",
     "text": [
      "<ipython-input-33-c614e1da5919>:1: SettingWithCopyWarning: \n",
      "A value is trying to be set on a copy of a slice from a DataFrame.\n",
      "Try using .loc[row_indexer,col_indexer] = value instead\n",
      "\n",
      "See the caveats in the documentation: https://pandas.pydata.org/pandas-docs/stable/user_guide/indexing.html#returning-a-view-versus-a-copy\n",
      "  various_duties_df['ukfrspde_percentage'] = various_duties_df['ukfrspde_quantity'] / (various_duties_df['world_quantity'] + various_duties_df['ukfrspde_quantity'])\n",
      "<ipython-input-33-c614e1da5919>:2: SettingWithCopyWarning: \n",
      "A value is trying to be set on a copy of a slice from a DataFrame.\n",
      "Try using .loc[row_indexer,col_indexer] = value instead\n",
      "\n",
      "See the caveats in the documentation: https://pandas.pydata.org/pandas-docs/stable/user_guide/indexing.html#returning-a-view-versus-a-copy\n",
      "  various_duties_df['ukfrspde_percentage'] = various_duties_df['ukfrspde_percentage'].astype('f4')\n",
      "<ipython-input-33-c614e1da5919>:3: SettingWithCopyWarning: \n",
      "A value is trying to be set on a copy of a slice from a DataFrame.\n",
      "Try using .loc[row_indexer,col_indexer] = value instead\n",
      "\n",
      "See the caveats in the documentation: https://pandas.pydata.org/pandas-docs/stable/user_guide/indexing.html#returning-a-view-versus-a-copy\n",
      "  various_duties_df['percentage_rolling_avg_7'] = various_duties_df.ukfrspde_percentage.rolling(7).mean()\n"
     ]
    },
    {
     "data": {
      "image/png": "[encoded data removed]",
      "text/plain": [
       "<Figure size 432x288 with 1 Axes>"
      ]
     },
     "metadata": {
      "needs_background": "light"
     },
     "output_type": "display_data"
    }
   ],
   "source": [
    "various_duties_df['ukfrspde_percentage'] = various_duties_df['ukfrspde_quantity'] / (various_duties_df['world_quantity'] + various_duties_df['ukfrspde_quantity'])\n",
    "various_duties_df['ukfrspde_percentage'] = various_duties_df['ukfrspde_percentage'].astype('f4')\n",
    "various_duties_df['percentage_rolling_avg_7'] = various_duties_df.ukfrspde_percentage.rolling(7).mean()\n",
    "\n",
    "percentage_rolling_avg_plot = sns.lineplot(x='month', y='percentage_rolling_avg_7', data=various_duties_df)\n",
    "percentage_rolling_avg_plot.set(title='Percent of UK, Fr, Sp, and De Wine Imports to U.S. (7-Day Avg)', xlabel='Year', ylabel='Percent of World Imports')\n",
    "plt.show()"
   ]
  },
  {
   "cell_type": "markdown",
   "metadata": {},
   "source": [
    "#### U.S. Exports"
   ]
  },
  {
   "cell_type": "markdown",
   "metadata": {},
   "source": [
    "First let's adjust for inflation and population."
   ]
  },
  {
   "cell_type": "code",
   "execution_count": 34,
   "metadata": {},
   "outputs": [
    {
     "data": {
      "text/html": [
       "<div>\n",
       "<style scoped>\n",
       "    .dataframe tbody tr th:only-of-type {\n",
       "        vertical-align: middle;\n",
       "    }\n",
       "\n",
       "    .dataframe tbody tr th {\n",
       "        vertical-align: top;\n",
       "    }\n",
       "\n",
       "    .dataframe thead th {\n",
       "        text-align: right;\n",
       "    }\n",
       "</style>\n",
       "<table border=\"1\" class=\"dataframe\">\n",
       "  <thead>\n",
       "    <tr style=\"text-align: right;\">\n",
       "      <th></th>\n",
       "      <th>month</th>\n",
       "      <th>FAS Value</th>\n",
       "      <th>First Unit of Quantity</th>\n",
       "      <th>observation_date</th>\n",
       "      <th>PCU3121303121300</th>\n",
       "      <th>population</th>\n",
       "      <th>fas_value_adj</th>\n",
       "      <th>quantity_per_capita</th>\n",
       "    </tr>\n",
       "  </thead>\n",
       "  <tbody>\n",
       "    <tr>\n",
       "      <th>0</th>\n",
       "      <td>2000-01-31</td>\n",
       "      <td>45525687</td>\n",
       "      <td>22385348</td>\n",
       "      <td>2000-01-01</td>\n",
       "      <td>103.0</td>\n",
       "      <td>281083000</td>\n",
       "      <td>44199696.116505</td>\n",
       "      <td>0.07964</td>\n",
       "    </tr>\n",
       "    <tr>\n",
       "      <th>1</th>\n",
       "      <td>2000-02-29</td>\n",
       "      <td>41336082</td>\n",
       "      <td>20954045</td>\n",
       "      <td>2000-02-01</td>\n",
       "      <td>101.1</td>\n",
       "      <td>281299000</td>\n",
       "      <td>40886332.344214</td>\n",
       "      <td>0.07449</td>\n",
       "    </tr>\n",
       "    <tr>\n",
       "      <th>2</th>\n",
       "      <td>2000-03-31</td>\n",
       "      <td>41446856</td>\n",
       "      <td>20240059</td>\n",
       "      <td>2000-03-01</td>\n",
       "      <td>103.0</td>\n",
       "      <td>281531000</td>\n",
       "      <td>40239666.019417</td>\n",
       "      <td>0.071893</td>\n",
       "    </tr>\n",
       "    <tr>\n",
       "      <th>3</th>\n",
       "      <td>2000-04-30</td>\n",
       "      <td>41411758</td>\n",
       "      <td>21745478</td>\n",
       "      <td>2000-04-01</td>\n",
       "      <td>101.0</td>\n",
       "      <td>281763000</td>\n",
       "      <td>41001740.594059</td>\n",
       "      <td>0.077176</td>\n",
       "    </tr>\n",
       "    <tr>\n",
       "      <th>4</th>\n",
       "      <td>2000-05-31</td>\n",
       "      <td>42672115</td>\n",
       "      <td>22059299</td>\n",
       "      <td>2000-05-01</td>\n",
       "      <td>101.9</td>\n",
       "      <td>281996000</td>\n",
       "      <td>41876462.217861</td>\n",
       "      <td>0.078226</td>\n",
       "    </tr>\n",
       "  </tbody>\n",
       "</table>\n",
       "</div>"
      ],
      "text/plain": [
       "       month FAS Value First Unit of Quantity observation_date  \\\n",
       "0 2000-01-31  45525687               22385348       2000-01-01   \n",
       "1 2000-02-29  41336082               20954045       2000-02-01   \n",
       "2 2000-03-31  41446856               20240059       2000-03-01   \n",
       "3 2000-04-30  41411758               21745478       2000-04-01   \n",
       "4 2000-05-31  42672115               22059299       2000-05-01   \n",
       "\n",
       "   PCU3121303121300  population    fas_value_adj quantity_per_capita  \n",
       "0             103.0   281083000  44199696.116505             0.07964  \n",
       "1             101.1   281299000  40886332.344214             0.07449  \n",
       "2             103.0   281531000  40239666.019417            0.071893  \n",
       "3             101.0   281763000  41001740.594059            0.077176  \n",
       "4             101.9   281996000  41876462.217861            0.078226  "
      ]
     },
     "execution_count": 34,
     "metadata": {},
     "output_type": "execute_result"
    }
   ],
   "source": [
    "exports_df['month'] = exports_df['month'].astype('datetime64[ns]')\n",
    "exports_df = exports_df.merge(ppi_df, on='month')\n",
    "exports_df = exports_df.merge(population_df[['month', 'population']], on='month')\n",
    "\n",
    "exports_df['fas_value_adj'] = exports_df['FAS Value'] / exports_df['PCU3121303121300'] * 100\n",
    "exports_df['quantity_per_capita'] = exports_df['First Unit of Quantity'] / exports_df['population']\n",
    "\n",
    "exports_df.head()"
   ]
  },
  {
   "cell_type": "code",
   "execution_count": 35,
   "metadata": {},
   "outputs": [
    {
     "data": {
      "text/html": [
       "<div>\n",
       "<style scoped>\n",
       "    .dataframe tbody tr th:only-of-type {\n",
       "        vertical-align: middle;\n",
       "    }\n",
       "\n",
       "    .dataframe tbody tr th {\n",
       "        vertical-align: top;\n",
       "    }\n",
       "\n",
       "    .dataframe thead th {\n",
       "        text-align: right;\n",
       "    }\n",
       "</style>\n",
       "<table border=\"1\" class=\"dataframe\">\n",
       "  <thead>\n",
       "    <tr style=\"text-align: right;\">\n",
       "      <th></th>\n",
       "      <th>month</th>\n",
       "      <th>FAS Value</th>\n",
       "      <th>First Unit of Quantity</th>\n",
       "      <th>observation_date</th>\n",
       "      <th>PCU3121303121300</th>\n",
       "      <th>population</th>\n",
       "      <th>fas_value_adj</th>\n",
       "      <th>quantity_per_capita</th>\n",
       "    </tr>\n",
       "  </thead>\n",
       "  <tbody>\n",
       "    <tr>\n",
       "      <th>0</th>\n",
       "      <td>2000-01-31</td>\n",
       "      <td>45525687</td>\n",
       "      <td>22385348</td>\n",
       "      <td>2000-01-01</td>\n",
       "      <td>103.0</td>\n",
       "      <td>281083000</td>\n",
       "      <td>44199696.116505</td>\n",
       "      <td>0.07964</td>\n",
       "    </tr>\n",
       "    <tr>\n",
       "      <th>1</th>\n",
       "      <td>2000-02-29</td>\n",
       "      <td>41336082</td>\n",
       "      <td>20954045</td>\n",
       "      <td>2000-02-01</td>\n",
       "      <td>101.1</td>\n",
       "      <td>281299000</td>\n",
       "      <td>40886332.344214</td>\n",
       "      <td>0.07449</td>\n",
       "    </tr>\n",
       "    <tr>\n",
       "      <th>2</th>\n",
       "      <td>2000-03-31</td>\n",
       "      <td>41446856</td>\n",
       "      <td>20240059</td>\n",
       "      <td>2000-03-01</td>\n",
       "      <td>103.0</td>\n",
       "      <td>281531000</td>\n",
       "      <td>40239666.019417</td>\n",
       "      <td>0.071893</td>\n",
       "    </tr>\n",
       "    <tr>\n",
       "      <th>3</th>\n",
       "      <td>2000-04-30</td>\n",
       "      <td>41411758</td>\n",
       "      <td>21745478</td>\n",
       "      <td>2000-04-01</td>\n",
       "      <td>101.0</td>\n",
       "      <td>281763000</td>\n",
       "      <td>41001740.594059</td>\n",
       "      <td>0.077176</td>\n",
       "    </tr>\n",
       "    <tr>\n",
       "      <th>4</th>\n",
       "      <td>2000-05-31</td>\n",
       "      <td>42672115</td>\n",
       "      <td>22059299</td>\n",
       "      <td>2000-05-01</td>\n",
       "      <td>101.9</td>\n",
       "      <td>281996000</td>\n",
       "      <td>41876462.217861</td>\n",
       "      <td>0.078226</td>\n",
       "    </tr>\n",
       "  </tbody>\n",
       "</table>\n",
       "</div>"
      ],
      "text/plain": [
       "       month FAS Value First Unit of Quantity observation_date  \\\n",
       "0 2000-01-31  45525687               22385348       2000-01-01   \n",
       "1 2000-02-29  41336082               20954045       2000-02-01   \n",
       "2 2000-03-31  41446856               20240059       2000-03-01   \n",
       "3 2000-04-30  41411758               21745478       2000-04-01   \n",
       "4 2000-05-31  42672115               22059299       2000-05-01   \n",
       "\n",
       "   PCU3121303121300  population    fas_value_adj quantity_per_capita  \n",
       "0             103.0   281083000  44199696.116505             0.07964  \n",
       "1             101.1   281299000  40886332.344214             0.07449  \n",
       "2             103.0   281531000  40239666.019417            0.071893  \n",
       "3             101.0   281763000  41001740.594059            0.077176  \n",
       "4             101.9   281996000  41876462.217861            0.078226  "
      ]
     },
     "metadata": {},
     "output_type": "display_data"
    },
    {
     "data": {
      "text/html": [
       "<div>\n",
       "<style scoped>\n",
       "    .dataframe tbody tr th:only-of-type {\n",
       "        vertical-align: middle;\n",
       "    }\n",
       "\n",
       "    .dataframe tbody tr th {\n",
       "        vertical-align: top;\n",
       "    }\n",
       "\n",
       "    .dataframe thead th {\n",
       "        text-align: right;\n",
       "    }\n",
       "</style>\n",
       "<table border=\"1\" class=\"dataframe\">\n",
       "  <thead>\n",
       "    <tr style=\"text-align: right;\">\n",
       "      <th></th>\n",
       "      <th>PCU3121303121300</th>\n",
       "      <th>population</th>\n",
       "    </tr>\n",
       "  </thead>\n",
       "  <tbody>\n",
       "    <tr>\n",
       "      <th>count</th>\n",
       "      <td>264.000000</td>\n",
       "      <td>2.640000e+02</td>\n",
       "    </tr>\n",
       "    <tr>\n",
       "      <th>mean</th>\n",
       "      <td>116.571076</td>\n",
       "      <td>3.093217e+08</td>\n",
       "    </tr>\n",
       "    <tr>\n",
       "      <th>std</th>\n",
       "      <td>9.456620</td>\n",
       "      <td>1.525593e+07</td>\n",
       "    </tr>\n",
       "    <tr>\n",
       "      <th>min</th>\n",
       "      <td>100.900000</td>\n",
       "      <td>2.810830e+08</td>\n",
       "    </tr>\n",
       "    <tr>\n",
       "      <th>25%</th>\n",
       "      <td>105.925000</td>\n",
       "      <td>2.960138e+08</td>\n",
       "    </tr>\n",
       "    <tr>\n",
       "      <th>50%</th>\n",
       "      <td>118.800000</td>\n",
       "      <td>3.109405e+08</td>\n",
       "    </tr>\n",
       "    <tr>\n",
       "      <th>75%</th>\n",
       "      <td>123.175000</td>\n",
       "      <td>3.231120e+08</td>\n",
       "    </tr>\n",
       "    <tr>\n",
       "      <th>max</th>\n",
       "      <td>134.442000</td>\n",
       "      <td>3.318950e+08</td>\n",
       "    </tr>\n",
       "  </tbody>\n",
       "</table>\n",
       "</div>"
      ],
      "text/plain": [
       "       PCU3121303121300    population\n",
       "count        264.000000  2.640000e+02\n",
       "mean         116.571076  3.093217e+08\n",
       "std            9.456620  1.525593e+07\n",
       "min          100.900000  2.810830e+08\n",
       "25%          105.925000  2.960138e+08\n",
       "50%          118.800000  3.109405e+08\n",
       "75%          123.175000  3.231120e+08\n",
       "max          134.442000  3.318950e+08"
      ]
     },
     "metadata": {},
     "output_type": "display_data"
    },
    {
     "name": "stdout",
     "output_type": "stream",
     "text": [
      "<class 'pandas.core.frame.DataFrame'>\n",
      "Int64Index: 264 entries, 0 to 263\n",
      "Data columns (total 8 columns):\n",
      " #   Column                  Non-Null Count  Dtype         \n",
      "---  ------                  --------------  -----         \n",
      " 0   month                   264 non-null    datetime64[ns]\n",
      " 1   FAS Value               264 non-null    object        \n",
      " 2   First Unit of Quantity  264 non-null    object        \n",
      " 3   observation_date        264 non-null    datetime64[ns]\n",
      " 4   PCU3121303121300        264 non-null    float64       \n",
      " 5   population              264 non-null    int64         \n",
      " 6   fas_value_adj           264 non-null    object        \n",
      " 7   quantity_per_capita     264 non-null    object        \n",
      "dtypes: datetime64[ns](2), float64(1), int64(1), object(4)\n",
      "memory usage: 18.6+ KB\n"
     ]
    },
    {
     "data": {
      "text/plain": [
       "None"
      ]
     },
     "metadata": {},
     "output_type": "display_data"
    }
   ],
   "source": [
    "display(exports_df.head())\n",
    "display(exports_df.describe())\n",
    "display(exports_df.info())"
   ]
  },
  {
   "cell_type": "code",
   "execution_count": 36,
   "metadata": {},
   "outputs": [
    {
     "data": {
      "image/png": "[encoded data removed]",
      "text/plain": [
       "<Figure size 432x288 with 1 Axes>"
      ]
     },
     "metadata": {
      "needs_background": "light"
     },
     "output_type": "display_data"
    }
   ],
   "source": [
    "exports_quantity_boxplot = sns.boxplot(data=exports_df['First Unit of Quantity'] / 1000000)\n",
    "exports_quantity_boxplot.set(title='Distribution of Quantity of U.S. Wine Exports', ylabel='Millions of Liters')\n",
    "plt.show()"
   ]
  },
  {
   "cell_type": "code",
   "execution_count": 37,
   "metadata": {},
   "outputs": [
    {
     "data": {
      "image/png": "[encoded data removed]",
      "text/plain": [
       "<Figure size 432x288 with 1 Axes>"
      ]
     },
     "metadata": {
      "needs_background": "light"
     },
     "output_type": "display_data"
    }
   ],
   "source": [
    "exports_value_boxplot = sns.boxplot(data=exports_df['fas_value_adj'] / 1000000)\n",
    "exports_value_boxplot.set(title='Distribution U.S. Wine Exports\\' Value', ylabel='Millions of Dollars')\n",
    "plt.show()"
   ]
  },
  {
   "cell_type": "code",
   "execution_count": 38,
   "metadata": {},
   "outputs": [
    {
     "data": {
      "image/png": "[encoded data removed]",
      "text/plain": [
       "<Figure size 432x288 with 1 Axes>"
      ]
     },
     "metadata": {
      "needs_background": "light"
     },
     "output_type": "display_data"
    }
   ],
   "source": [
    "exports_df['first_unit_of_quantity_millions'] = exports_df['First Unit of Quantity'].astype('f4') / 1000000\n",
    "exports_df['quantity_in_mil_rolling_avg_7'] = exports_df.first_unit_of_quantity_millions.rolling(7).mean()\n",
    "\n",
    "exports_quantity_plot = sns.lineplot(data=exports_df, x='month', y='quantity_in_mil_rolling_avg_7')\n",
    "exports_quantity_plot.set(title='U.S. Wine Exports (7-Day Avg)', ylabel='Millions of Liters of Wine', xlabel='Year')\n",
    "plt.show()"
   ]
  },
  {
   "cell_type": "code",
   "execution_count": 39,
   "metadata": {},
   "outputs": [
    {
     "data": {
      "image/png": "[encoded data removed]",
      "text/plain": [
       "<Figure size 432x288 with 1 Axes>"
      ]
     },
     "metadata": {
      "needs_background": "light"
     },
     "output_type": "display_data"
    }
   ],
   "source": [
    "exports_df['fas_value_millions'] = exports_df['fas_value_adj'].astype('f4') / 1000000\n",
    "exports_df['fas_value_millions_rolling_avg_7'] = exports_df.fas_value_millions.rolling(7).mean()\n",
    "\n",
    "exports_quantity_plot = sns.lineplot(data=exports_df, x='month', y='fas_value_millions_rolling_avg_7')\n",
    "exports_quantity_plot.set(title='U.S. Wine Exports (7-Day Avg)', ylabel='Value of Wine in Millions of Dollars', xlabel='Year')\n",
    "plt.show()"
   ]
  },
  {
   "cell_type": "markdown",
   "metadata": {},
   "source": [
    "#### Domestic Production\n",
    "\n",
    "This data is provided by the Alcohol and Tobacco Tax and Trade Bureau (TTB). The data is in gallons instead of liters. Before looking into it, I'm going to quickly convert the timestamp to be the last day of the month and the values to be in liters instead of gallons."
   ]
  },
  {
   "cell_type": "code",
   "execution_count": 40,
   "metadata": {},
   "outputs": [],
   "source": [
    "def galons_to_liters(g):\n",
    "    if math.isnan(g):\n",
    "        return\n",
    "    return g * 3.785411784"
   ]
  },
  {
   "cell_type": "code",
   "execution_count": 41,
   "metadata": {},
   "outputs": [],
   "source": [
    "production_df['month'] = production_df['month'].astype(str).map(lambda x: last_day_of_month(x))\n",
    "production_df['month'] = production_df['month'].astype('datetime64[ns]')\n",
    "\n",
    "for c in ['bulk', 'bottled', 'cider', 'effervescent', 'wine_gross']:\n",
    "    production_df[c] = production_df[c].map(lambda x: galons_to_liters(x))"
   ]
  },
  {
   "cell_type": "markdown",
   "metadata": {},
   "source": [
    "Now let's adjust for per-capita rates."
   ]
  },
  {
   "cell_type": "code",
   "execution_count": 42,
   "metadata": {},
   "outputs": [],
   "source": [
    "production_df = production_df.merge(population_df[['month', 'population']], on='month')\n",
    "for c in production_df.columns:\n",
    "    if c != 'month' and c != 'population':\n",
    "        col_name = c + '_adj'\n",
    "        production_df[col_name] = production_df[c] / production_df['population']"
   ]
  },
  {
   "cell_type": "code",
   "execution_count": 43,
   "metadata": {},
   "outputs": [
    {
     "data": {
      "text/html": [
       "<div>\n",
       "<style scoped>\n",
       "    .dataframe tbody tr th:only-of-type {\n",
       "        vertical-align: middle;\n",
       "    }\n",
       "\n",
       "    .dataframe tbody tr th {\n",
       "        vertical-align: top;\n",
       "    }\n",
       "\n",
       "    .dataframe thead th {\n",
       "        text-align: right;\n",
       "    }\n",
       "</style>\n",
       "<table border=\"1\" class=\"dataframe\">\n",
       "  <thead>\n",
       "    <tr style=\"text-align: right;\">\n",
       "      <th></th>\n",
       "      <th>month</th>\n",
       "      <th>bulk</th>\n",
       "      <th>bottled</th>\n",
       "      <th>cider</th>\n",
       "      <th>effervescent</th>\n",
       "      <th>wine_gross</th>\n",
       "      <th>population</th>\n",
       "      <th>bulk_adj</th>\n",
       "      <th>bottled_adj</th>\n",
       "      <th>cider_adj</th>\n",
       "      <th>effervescent_adj</th>\n",
       "      <th>wine_gross_adj</th>\n",
       "      <th>population_adj</th>\n",
       "    </tr>\n",
       "  </thead>\n",
       "  <tbody>\n",
       "    <tr>\n",
       "      <th>0</th>\n",
       "      <td>2000-01-31</td>\n",
       "      <td>1.131505e+08</td>\n",
       "      <td>1.244070e+08</td>\n",
       "      <td>NaN</td>\n",
       "      <td>6.909175e+06</td>\n",
       "      <td>2.444667e+08</td>\n",
       "      <td>281083000</td>\n",
       "      <td>0.402552</td>\n",
       "      <td>0.442599</td>\n",
       "      <td>NaN</td>\n",
       "      <td>0.024581</td>\n",
       "      <td>0.869731</td>\n",
       "      <td>1.0</td>\n",
       "    </tr>\n",
       "    <tr>\n",
       "      <th>1</th>\n",
       "      <td>2000-02-29</td>\n",
       "      <td>7.179357e+07</td>\n",
       "      <td>1.375283e+08</td>\n",
       "      <td>NaN</td>\n",
       "      <td>4.377026e+06</td>\n",
       "      <td>2.136989e+08</td>\n",
       "      <td>281299000</td>\n",
       "      <td>0.255222</td>\n",
       "      <td>0.488904</td>\n",
       "      <td>NaN</td>\n",
       "      <td>0.015560</td>\n",
       "      <td>0.759686</td>\n",
       "      <td>1.0</td>\n",
       "    </tr>\n",
       "    <tr>\n",
       "      <th>2</th>\n",
       "      <td>2000-03-31</td>\n",
       "      <td>4.635628e+07</td>\n",
       "      <td>1.603837e+08</td>\n",
       "      <td>NaN</td>\n",
       "      <td>9.321474e+06</td>\n",
       "      <td>2.160614e+08</td>\n",
       "      <td>281531000</td>\n",
       "      <td>0.164658</td>\n",
       "      <td>0.569684</td>\n",
       "      <td>NaN</td>\n",
       "      <td>0.033110</td>\n",
       "      <td>0.767452</td>\n",
       "      <td>1.0</td>\n",
       "    </tr>\n",
       "    <tr>\n",
       "      <th>3</th>\n",
       "      <td>2000-04-30</td>\n",
       "      <td>3.296724e+07</td>\n",
       "      <td>1.423004e+08</td>\n",
       "      <td>2.045088e+06</td>\n",
       "      <td>7.881046e+06</td>\n",
       "      <td>1.811036e+08</td>\n",
       "      <td>281763000</td>\n",
       "      <td>0.117003</td>\n",
       "      <td>0.505036</td>\n",
       "      <td>0.007258</td>\n",
       "      <td>0.027970</td>\n",
       "      <td>0.642752</td>\n",
       "      <td>1.0</td>\n",
       "    </tr>\n",
       "    <tr>\n",
       "      <th>4</th>\n",
       "      <td>2000-05-31</td>\n",
       "      <td>3.178035e+07</td>\n",
       "      <td>1.612658e+08</td>\n",
       "      <td>6.959646e+06</td>\n",
       "      <td>6.334834e+06</td>\n",
       "      <td>1.924214e+08</td>\n",
       "      <td>281996000</td>\n",
       "      <td>0.112698</td>\n",
       "      <td>0.571873</td>\n",
       "      <td>0.024680</td>\n",
       "      <td>0.022464</td>\n",
       "      <td>0.682355</td>\n",
       "      <td>1.0</td>\n",
       "    </tr>\n",
       "  </tbody>\n",
       "</table>\n",
       "</div>"
      ],
      "text/plain": [
       "       month          bulk       bottled         cider  effervescent  \\\n",
       "0 2000-01-31  1.131505e+08  1.244070e+08           NaN  6.909175e+06   \n",
       "1 2000-02-29  7.179357e+07  1.375283e+08           NaN  4.377026e+06   \n",
       "2 2000-03-31  4.635628e+07  1.603837e+08           NaN  9.321474e+06   \n",
       "3 2000-04-30  3.296724e+07  1.423004e+08  2.045088e+06  7.881046e+06   \n",
       "4 2000-05-31  3.178035e+07  1.612658e+08  6.959646e+06  6.334834e+06   \n",
       "\n",
       "     wine_gross  population  bulk_adj  bottled_adj  cider_adj  \\\n",
       "0  2.444667e+08   281083000  0.402552     0.442599        NaN   \n",
       "1  2.136989e+08   281299000  0.255222     0.488904        NaN   \n",
       "2  2.160614e+08   281531000  0.164658     0.569684        NaN   \n",
       "3  1.811036e+08   281763000  0.117003     0.505036   0.007258   \n",
       "4  1.924214e+08   281996000  0.112698     0.571873   0.024680   \n",
       "\n",
       "   effervescent_adj  wine_gross_adj  population_adj  \n",
       "0          0.024581        0.869731             1.0  \n",
       "1          0.015560        0.759686             1.0  \n",
       "2          0.033110        0.767452             1.0  \n",
       "3          0.027970        0.642752             1.0  \n",
       "4          0.022464        0.682355             1.0  "
      ]
     },
     "metadata": {},
     "output_type": "display_data"
    },
    {
     "data": {
      "text/html": [
       "<div>\n",
       "<style scoped>\n",
       "    .dataframe tbody tr th:only-of-type {\n",
       "        vertical-align: middle;\n",
       "    }\n",
       "\n",
       "    .dataframe tbody tr th {\n",
       "        vertical-align: top;\n",
       "    }\n",
       "\n",
       "    .dataframe thead th {\n",
       "        text-align: right;\n",
       "    }\n",
       "</style>\n",
       "<table border=\"1\" class=\"dataframe\">\n",
       "  <thead>\n",
       "    <tr style=\"text-align: right;\">\n",
       "      <th></th>\n",
       "      <th>bulk</th>\n",
       "      <th>bottled</th>\n",
       "      <th>cider</th>\n",
       "      <th>effervescent</th>\n",
       "      <th>wine_gross</th>\n",
       "      <th>population</th>\n",
       "      <th>bulk_adj</th>\n",
       "      <th>bottled_adj</th>\n",
       "      <th>cider_adj</th>\n",
       "      <th>effervescent_adj</th>\n",
       "      <th>wine_gross_adj</th>\n",
       "      <th>population_adj</th>\n",
       "    </tr>\n",
       "  </thead>\n",
       "  <tbody>\n",
       "    <tr>\n",
       "      <th>count</th>\n",
       "      <td>2.620000e+02</td>\n",
       "      <td>2.620000e+02</td>\n",
       "      <td>2.590000e+02</td>\n",
       "      <td>2.620000e+02</td>\n",
       "      <td>2.640000e+02</td>\n",
       "      <td>2.640000e+02</td>\n",
       "      <td>262.000000</td>\n",
       "      <td>262.000000</td>\n",
       "      <td>259.000000</td>\n",
       "      <td>262.000000</td>\n",
       "      <td>264.000000</td>\n",
       "      <td>264.0</td>\n",
       "    </tr>\n",
       "    <tr>\n",
       "      <th>mean</th>\n",
       "      <td>2.366476e+08</td>\n",
       "      <td>1.929920e+08</td>\n",
       "      <td>7.290981e+06</td>\n",
       "      <td>8.266621e+06</td>\n",
       "      <td>4.274359e+08</td>\n",
       "      <td>3.093217e+08</td>\n",
       "      <td>0.762839</td>\n",
       "      <td>0.621356</td>\n",
       "      <td>0.022790</td>\n",
       "      <td>0.026546</td>\n",
       "      <td>1.377695</td>\n",
       "      <td>1.0</td>\n",
       "    </tr>\n",
       "    <tr>\n",
       "      <th>std</th>\n",
       "      <td>2.329463e+08</td>\n",
       "      <td>3.586958e+07</td>\n",
       "      <td>6.452561e+06</td>\n",
       "      <td>2.698712e+06</td>\n",
       "      <td>2.328960e+08</td>\n",
       "      <td>1.525593e+07</td>\n",
       "      <td>0.749701</td>\n",
       "      <td>0.093725</td>\n",
       "      <td>0.019675</td>\n",
       "      <td>0.007954</td>\n",
       "      <td>0.741864</td>\n",
       "      <td>0.0</td>\n",
       "    </tr>\n",
       "    <tr>\n",
       "      <th>min</th>\n",
       "      <td>2.661546e+07</td>\n",
       "      <td>1.244070e+08</td>\n",
       "      <td>5.490210e+05</td>\n",
       "      <td>2.678186e+06</td>\n",
       "      <td>0.000000e+00</td>\n",
       "      <td>2.810830e+08</td>\n",
       "      <td>0.090648</td>\n",
       "      <td>0.442599</td>\n",
       "      <td>0.001865</td>\n",
       "      <td>0.009267</td>\n",
       "      <td>0.000000</td>\n",
       "      <td>1.0</td>\n",
       "    </tr>\n",
       "    <tr>\n",
       "      <th>25%</th>\n",
       "      <td>4.742184e+07</td>\n",
       "      <td>1.640341e+08</td>\n",
       "      <td>1.826624e+06</td>\n",
       "      <td>6.121333e+06</td>\n",
       "      <td>2.391613e+08</td>\n",
       "      <td>2.960138e+08</td>\n",
       "      <td>0.156859</td>\n",
       "      <td>0.550870</td>\n",
       "      <td>0.006125</td>\n",
       "      <td>0.020363</td>\n",
       "      <td>0.782410</td>\n",
       "      <td>1.0</td>\n",
       "    </tr>\n",
       "    <tr>\n",
       "      <th>50%</th>\n",
       "      <td>1.180365e+08</td>\n",
       "      <td>1.899242e+08</td>\n",
       "      <td>2.811740e+06</td>\n",
       "      <td>8.068083e+06</td>\n",
       "      <td>3.199454e+08</td>\n",
       "      <td>3.109405e+08</td>\n",
       "      <td>0.377495</td>\n",
       "      <td>0.611718</td>\n",
       "      <td>0.009091</td>\n",
       "      <td>0.026252</td>\n",
       "      <td>1.034645</td>\n",
       "      <td>1.0</td>\n",
       "    </tr>\n",
       "    <tr>\n",
       "      <th>75%</th>\n",
       "      <td>4.498815e+08</td>\n",
       "      <td>2.169504e+08</td>\n",
       "      <td>1.328316e+07</td>\n",
       "      <td>1.011393e+07</td>\n",
       "      <td>6.190754e+08</td>\n",
       "      <td>3.231120e+08</td>\n",
       "      <td>1.410859</td>\n",
       "      <td>0.678556</td>\n",
       "      <td>0.040792</td>\n",
       "      <td>0.032392</td>\n",
       "      <td>1.999028</td>\n",
       "      <td>1.0</td>\n",
       "    </tr>\n",
       "    <tr>\n",
       "      <th>max</th>\n",
       "      <td>8.200452e+08</td>\n",
       "      <td>3.474637e+08</td>\n",
       "      <td>2.140858e+07</td>\n",
       "      <td>1.481254e+07</td>\n",
       "      <td>1.019108e+09</td>\n",
       "      <td>3.318950e+08</td>\n",
       "      <td>2.622399</td>\n",
       "      <td>1.112624</td>\n",
       "      <td>0.066741</td>\n",
       "      <td>0.046178</td>\n",
       "      <td>3.258976</td>\n",
       "      <td>1.0</td>\n",
       "    </tr>\n",
       "  </tbody>\n",
       "</table>\n",
       "</div>"
      ],
      "text/plain": [
       "               bulk       bottled         cider  effervescent    wine_gross  \\\n",
       "count  2.620000e+02  2.620000e+02  2.590000e+02  2.620000e+02  2.640000e+02   \n",
       "mean   2.366476e+08  1.929920e+08  7.290981e+06  8.266621e+06  4.274359e+08   \n",
       "std    2.329463e+08  3.586958e+07  6.452561e+06  2.698712e+06  2.328960e+08   \n",
       "min    2.661546e+07  1.244070e+08  5.490210e+05  2.678186e+06  0.000000e+00   \n",
       "25%    4.742184e+07  1.640341e+08  1.826624e+06  6.121333e+06  2.391613e+08   \n",
       "50%    1.180365e+08  1.899242e+08  2.811740e+06  8.068083e+06  3.199454e+08   \n",
       "75%    4.498815e+08  2.169504e+08  1.328316e+07  1.011393e+07  6.190754e+08   \n",
       "max    8.200452e+08  3.474637e+08  2.140858e+07  1.481254e+07  1.019108e+09   \n",
       "\n",
       "         population    bulk_adj  bottled_adj   cider_adj  effervescent_adj  \\\n",
       "count  2.640000e+02  262.000000   262.000000  259.000000        262.000000   \n",
       "mean   3.093217e+08    0.762839     0.621356    0.022790          0.026546   \n",
       "std    1.525593e+07    0.749701     0.093725    0.019675          0.007954   \n",
       "min    2.810830e+08    0.090648     0.442599    0.001865          0.009267   \n",
       "25%    2.960138e+08    0.156859     0.550870    0.006125          0.020363   \n",
       "50%    3.109405e+08    0.377495     0.611718    0.009091          0.026252   \n",
       "75%    3.231120e+08    1.410859     0.678556    0.040792          0.032392   \n",
       "max    3.318950e+08    2.622399     1.112624    0.066741          0.046178   \n",
       "\n",
       "       wine_gross_adj  population_adj  \n",
       "count      264.000000           264.0  \n",
       "mean         1.377695             1.0  \n",
       "std          0.741864             0.0  \n",
       "min          0.000000             1.0  \n",
       "25%          0.782410             1.0  \n",
       "50%          1.034645             1.0  \n",
       "75%          1.999028             1.0  \n",
       "max          3.258976             1.0  "
      ]
     },
     "metadata": {},
     "output_type": "display_data"
    },
    {
     "name": "stdout",
     "output_type": "stream",
     "text": [
      "<class 'pandas.core.frame.DataFrame'>\n",
      "Int64Index: 264 entries, 0 to 263\n",
      "Data columns (total 13 columns):\n",
      " #   Column            Non-Null Count  Dtype         \n",
      "---  ------            --------------  -----         \n",
      " 0   month             264 non-null    datetime64[ns]\n",
      " 1   bulk              262 non-null    float64       \n",
      " 2   bottled           262 non-null    float64       \n",
      " 3   cider             259 non-null    float64       \n",
      " 4   effervescent      262 non-null    float64       \n",
      " 5   wine_gross        264 non-null    float64       \n",
      " 6   population        264 non-null    int64         \n",
      " 7   bulk_adj          262 non-null    float64       \n",
      " 8   bottled_adj       262 non-null    float64       \n",
      " 9   cider_adj         259 non-null    float64       \n",
      " 10  effervescent_adj  262 non-null    float64       \n",
      " 11  wine_gross_adj    264 non-null    float64       \n",
      " 12  population_adj    264 non-null    float64       \n",
      "dtypes: datetime64[ns](1), float64(11), int64(1)\n",
      "memory usage: 28.9 KB\n"
     ]
    },
    {
     "data": {
      "text/plain": [
       "None"
      ]
     },
     "metadata": {},
     "output_type": "display_data"
    }
   ],
   "source": [
    "display(production_df.head())\n",
    "display(production_df.describe())\n",
    "display(production_df.info())"
   ]
  },
  {
   "cell_type": "code",
   "execution_count": 44,
   "metadata": {},
   "outputs": [
    {
     "data": {
      "image/png": "[encoded data removed]",
      "text/plain": [
       "<Figure size 432x288 with 1 Axes>"
      ]
     },
     "metadata": {
      "needs_background": "light"
     },
     "output_type": "display_data"
    }
   ],
   "source": [
    "wine_prod_boxplot_df = pd.melt(production_df[['bulk', 'bottled', 'wine_gross']])\n",
    "wine_prod_boxplot = sns.boxplot(data=wine_prod_boxplot_df, y='variable', x='value')\n",
    "wine_prod_boxplot.set(title='Distribution of Wine Production in the U.S.', xlabel='Liters Produced', ylabel='Wine Type')\n",
    "plt.show()"
   ]
  },
  {
   "cell_type": "code",
   "execution_count": 45,
   "metadata": {},
   "outputs": [
    {
     "data": {
      "image/png": "[encoded data removed]",
      "text/plain": [
       "<Figure size 432x288 with 1 Axes>"
      ]
     },
     "metadata": {
      "needs_background": "light"
     },
     "output_type": "display_data"
    }
   ],
   "source": [
    "wine_prod_boxplot_adj_df = pd.melt(production_df[['bulk_adj', 'bottled_adj', 'wine_gross_adj']])\n",
    "wine_prod_boxplot_adj = sns.boxplot(data=wine_prod_boxplot_adj_df, y='variable', x='value')\n",
    "wine_prod_boxplot_adj.set(title='Distribution of Wine Production in the U.S.', xlabel='Liters Produced Per Capita', ylabel='Wine Type')\n",
    "plt.show()"
   ]
  },
  {
   "cell_type": "code",
   "execution_count": 46,
   "metadata": {},
   "outputs": [
    {
     "data": {
      "image/png": "[encoded data removed]",
      "text/plain": [
       "<Figure size 432x288 with 1 Axes>"
      ]
     },
     "metadata": {
      "needs_background": "light"
     },
     "output_type": "display_data"
    }
   ],
   "source": [
    "wine_prod_alt_boxplot_df = pd.melt(production_df[['cider', 'effervescent']])\n",
    "wine_prod_alt_boxplot = sns.boxplot(data=wine_prod_alt_boxplot_df, y='variable', x='value')\n",
    "wine_prod_alt_boxplot.set(title='Distribution of Wine Production in the U.S.', xlabel='Liters Produced', ylabel='Wine Type')\n",
    "plt.show()"
   ]
  },
  {
   "cell_type": "code",
   "execution_count": 47,
   "metadata": {},
   "outputs": [
    {
     "data": {
      "image/png": "[encoded data removed]",
      "text/plain": [
       "<Figure size 432x288 with 1 Axes>"
      ]
     },
     "metadata": {
      "needs_background": "light"
     },
     "output_type": "display_data"
    }
   ],
   "source": [
    "production_quantity_plot = sns.lineplot(data=pd.melt(production_df[['month', 'bulk', 'bottled']], ['month']), x='month', y='value', hue='variable',)\n",
    "production_quantity_plot.set(title='Wine Production in the U.S.', xlabel='Month', ylabel='Liters')\n",
    "\n",
    "plt.legend(title='Production Type', loc='upper left', labels=['Bulk', 'Bottled'])\n",
    "plt.show()"
   ]
  },
  {
   "cell_type": "code",
   "execution_count": 48,
   "metadata": {},
   "outputs": [
    {
     "data": {
      "image/png": "[encoded data removed]",
      "text/plain": [
       "<Figure size 432x288 with 1 Axes>"
      ]
     },
     "metadata": {
      "needs_background": "light"
     },
     "output_type": "display_data"
    }
   ],
   "source": [
    "production_quantity_plot = sns.lineplot(data=pd.melt(production_df[['month', 'cider', 'effervescent']], ['month']), x='month', y='value', hue='variable',)\n",
    "production_quantity_plot.set(title='Wine Production in the U.S.', xlabel='Month', ylabel='Liters')\n",
    "\n",
    "plt.legend(title='Alt Wine Type', loc='upper left', labels=['Cider', 'Effervescent'])\n",
    "plt.show()"
   ]
  },
  {
   "cell_type": "markdown",
   "metadata": {},
   "source": [
    "#### Average Wine Prices in U.S. Cities\n",
    "\n",
    "This data is retrieved from the federal reserve (FRED)."
   ]
  },
  {
   "cell_type": "code",
   "execution_count": 49,
   "metadata": {},
   "outputs": [],
   "source": [
    "# Standardize dates\n",
    "wine_prices_df['month'] = wine_prices_df['month'].map(lambda x: last_day_of_month(x))\n",
    "wine_prices_df['month'] = wine_prices_df['month'].astype('datetime64[ns]')\n",
    "\n",
    "# Adjust for inflation\n",
    "wine_prices_df = wine_prices_df.merge(ppi_df, on='month')\n",
    "wine_prices_df['price_adj'] = wine_prices_df['price'] / exports_df['PCU3121303121300'] * 100"
   ]
  },
  {
   "cell_type": "code",
   "execution_count": 50,
   "metadata": {},
   "outputs": [
    {
     "data": {
      "text/html": [
       "<div>\n",
       "<style scoped>\n",
       "    .dataframe tbody tr th:only-of-type {\n",
       "        vertical-align: middle;\n",
       "    }\n",
       "\n",
       "    .dataframe tbody tr th {\n",
       "        vertical-align: top;\n",
       "    }\n",
       "\n",
       "    .dataframe thead th {\n",
       "        text-align: right;\n",
       "    }\n",
       "</style>\n",
       "<table border=\"1\" class=\"dataframe\">\n",
       "  <thead>\n",
       "    <tr style=\"text-align: right;\">\n",
       "      <th></th>\n",
       "      <th>month</th>\n",
       "      <th>price</th>\n",
       "      <th>observation_date</th>\n",
       "      <th>PCU3121303121300</th>\n",
       "      <th>price_adj</th>\n",
       "    </tr>\n",
       "  </thead>\n",
       "  <tbody>\n",
       "    <tr>\n",
       "      <th>0</th>\n",
       "      <td>2000-01-31</td>\n",
       "      <td>5.458</td>\n",
       "      <td>2000-01-01</td>\n",
       "      <td>103.0</td>\n",
       "      <td>5.299029</td>\n",
       "    </tr>\n",
       "    <tr>\n",
       "      <th>1</th>\n",
       "      <td>2000-02-29</td>\n",
       "      <td>5.256</td>\n",
       "      <td>2000-02-01</td>\n",
       "      <td>101.1</td>\n",
       "      <td>5.198813</td>\n",
       "    </tr>\n",
       "    <tr>\n",
       "      <th>2</th>\n",
       "      <td>2000-03-31</td>\n",
       "      <td>5.471</td>\n",
       "      <td>2000-03-01</td>\n",
       "      <td>103.0</td>\n",
       "      <td>5.311650</td>\n",
       "    </tr>\n",
       "    <tr>\n",
       "      <th>3</th>\n",
       "      <td>2000-04-30</td>\n",
       "      <td>5.156</td>\n",
       "      <td>2000-04-01</td>\n",
       "      <td>101.0</td>\n",
       "      <td>5.104950</td>\n",
       "    </tr>\n",
       "    <tr>\n",
       "      <th>4</th>\n",
       "      <td>2000-05-31</td>\n",
       "      <td>5.530</td>\n",
       "      <td>2000-05-01</td>\n",
       "      <td>101.9</td>\n",
       "      <td>5.426889</td>\n",
       "    </tr>\n",
       "  </tbody>\n",
       "</table>\n",
       "</div>"
      ],
      "text/plain": [
       "       month  price observation_date  PCU3121303121300  price_adj\n",
       "0 2000-01-31  5.458       2000-01-01             103.0   5.299029\n",
       "1 2000-02-29  5.256       2000-02-01             101.1   5.198813\n",
       "2 2000-03-31  5.471       2000-03-01             103.0   5.311650\n",
       "3 2000-04-30  5.156       2000-04-01             101.0   5.104950\n",
       "4 2000-05-31  5.530       2000-05-01             101.9   5.426889"
      ]
     },
     "metadata": {},
     "output_type": "display_data"
    },
    {
     "data": {
      "text/html": [
       "<div>\n",
       "<style scoped>\n",
       "    .dataframe tbody tr th:only-of-type {\n",
       "        vertical-align: middle;\n",
       "    }\n",
       "\n",
       "    .dataframe tbody tr th {\n",
       "        vertical-align: top;\n",
       "    }\n",
       "\n",
       "    .dataframe thead th {\n",
       "        text-align: right;\n",
       "    }\n",
       "</style>\n",
       "<table border=\"1\" class=\"dataframe\">\n",
       "  <thead>\n",
       "    <tr style=\"text-align: right;\">\n",
       "      <th></th>\n",
       "      <th>price</th>\n",
       "      <th>PCU3121303121300</th>\n",
       "      <th>price_adj</th>\n",
       "    </tr>\n",
       "  </thead>\n",
       "  <tbody>\n",
       "    <tr>\n",
       "      <th>count</th>\n",
       "      <td>264.000000</td>\n",
       "      <td>265.000000</td>\n",
       "      <td>264.000000</td>\n",
       "    </tr>\n",
       "    <tr>\n",
       "      <th>mean</th>\n",
       "      <td>9.740682</td>\n",
       "      <td>116.637834</td>\n",
       "      <td>8.241252</td>\n",
       "    </tr>\n",
       "    <tr>\n",
       "      <th>std</th>\n",
       "      <td>2.578523</td>\n",
       "      <td>9.501049</td>\n",
       "      <td>1.652331</td>\n",
       "    </tr>\n",
       "    <tr>\n",
       "      <th>min</th>\n",
       "      <td>5.156000</td>\n",
       "      <td>100.900000</td>\n",
       "      <td>5.104950</td>\n",
       "    </tr>\n",
       "    <tr>\n",
       "      <th>25%</th>\n",
       "      <td>7.386500</td>\n",
       "      <td>106.000000</td>\n",
       "      <td>6.774410</td>\n",
       "    </tr>\n",
       "    <tr>\n",
       "      <th>50%</th>\n",
       "      <td>10.025000</td>\n",
       "      <td>118.800000</td>\n",
       "      <td>8.631385</td>\n",
       "    </tr>\n",
       "    <tr>\n",
       "      <th>75%</th>\n",
       "      <td>12.197750</td>\n",
       "      <td>123.400000</td>\n",
       "      <td>9.803208</td>\n",
       "    </tr>\n",
       "    <tr>\n",
       "      <th>max</th>\n",
       "      <td>14.420000</td>\n",
       "      <td>134.442000</td>\n",
       "      <td>11.848809</td>\n",
       "    </tr>\n",
       "  </tbody>\n",
       "</table>\n",
       "</div>"
      ],
      "text/plain": [
       "            price  PCU3121303121300   price_adj\n",
       "count  264.000000        265.000000  264.000000\n",
       "mean     9.740682        116.637834    8.241252\n",
       "std      2.578523          9.501049    1.652331\n",
       "min      5.156000        100.900000    5.104950\n",
       "25%      7.386500        106.000000    6.774410\n",
       "50%     10.025000        118.800000    8.631385\n",
       "75%     12.197750        123.400000    9.803208\n",
       "max     14.420000        134.442000   11.848809"
      ]
     },
     "metadata": {},
     "output_type": "display_data"
    },
    {
     "name": "stdout",
     "output_type": "stream",
     "text": [
      "<class 'pandas.core.frame.DataFrame'>\n",
      "Int64Index: 265 entries, 0 to 264\n",
      "Data columns (total 5 columns):\n",
      " #   Column            Non-Null Count  Dtype         \n",
      "---  ------            --------------  -----         \n",
      " 0   month             265 non-null    datetime64[ns]\n",
      " 1   price             264 non-null    float64       \n",
      " 2   observation_date  265 non-null    datetime64[ns]\n",
      " 3   PCU3121303121300  265 non-null    float64       \n",
      " 4   price_adj         264 non-null    float64       \n",
      "dtypes: datetime64[ns](2), float64(3)\n",
      "memory usage: 20.5 KB\n"
     ]
    },
    {
     "data": {
      "text/plain": [
       "None"
      ]
     },
     "metadata": {},
     "output_type": "display_data"
    }
   ],
   "source": [
    "display(wine_prices_df.head())\n",
    "display(wine_prices_df.describe())\n",
    "display(wine_prices_df.info())"
   ]
  },
  {
   "cell_type": "code",
   "execution_count": 51,
   "metadata": {},
   "outputs": [
    {
     "data": {
      "text/plain": [
       "[Text(0.5, 1.0, 'U.S. Wine Prices (7-Day Avg)'),\n",
       " Text(0, 0.5, 'Dollars'),\n",
       " Text(0.5, 0, 'Year')]"
      ]
     },
     "execution_count": 51,
     "metadata": {},
     "output_type": "execute_result"
    },
    {
     "data": {
      "image/png": "[encoded data removed]",
      "text/plain": [
       "<Figure size 432x288 with 1 Axes>"
      ]
     },
     "metadata": {
      "needs_background": "light"
     },
     "output_type": "display_data"
    }
   ],
   "source": [
    "wine_prices_df['prices_rolling_avg_7'] = wine_prices_df.price_adj.rolling(7).mean()\n",
    "\n",
    "wine_prices_plot = sns.lineplot(data=wine_prices_df, x='month', y='prices_rolling_avg_7')\n",
    "wine_prices_plot.set(title='U.S. Wine Prices (7-Day Avg)', ylabel='Dollars', xlabel='Year')"
   ]
  },
  {
   "cell_type": "markdown",
   "metadata": {},
   "source": [
    "## Combine Datasets\n",
    "\n",
    "Construct a master dataset."
   ]
  },
  {
   "cell_type": "code",
   "execution_count": 63,
   "metadata": {},
   "outputs": [
    {
     "data": {
      "text/html": [
       "<div>\n",
       "<style scoped>\n",
       "    .dataframe tbody tr th:only-of-type {\n",
       "        vertical-align: middle;\n",
       "    }\n",
       "\n",
       "    .dataframe tbody tr th {\n",
       "        vertical-align: top;\n",
       "    }\n",
       "\n",
       "    .dataframe thead th {\n",
       "        text-align: right;\n",
       "    }\n",
       "</style>\n",
       "<table border=\"1\" class=\"dataframe\">\n",
       "  <thead>\n",
       "    <tr style=\"text-align: right;\">\n",
       "      <th></th>\n",
       "      <th>month</th>\n",
       "      <th>frspger_25</th>\n",
       "    </tr>\n",
       "  </thead>\n",
       "  <tbody>\n",
       "    <tr>\n",
       "      <th>0</th>\n",
       "      <td>2000-01</td>\n",
       "      <td>0</td>\n",
       "    </tr>\n",
       "    <tr>\n",
       "      <th>1</th>\n",
       "      <td>2000-02</td>\n",
       "      <td>0</td>\n",
       "    </tr>\n",
       "    <tr>\n",
       "      <th>2</th>\n",
       "      <td>2000-03</td>\n",
       "      <td>0</td>\n",
       "    </tr>\n",
       "    <tr>\n",
       "      <th>3</th>\n",
       "      <td>2000-04</td>\n",
       "      <td>0</td>\n",
       "    </tr>\n",
       "    <tr>\n",
       "      <th>4</th>\n",
       "      <td>2000-05</td>\n",
       "      <td>0</td>\n",
       "    </tr>\n",
       "  </tbody>\n",
       "</table>\n",
       "</div>"
      ],
      "text/plain": [
       "     month  frspger_25\n",
       "0  2000-01           0\n",
       "1  2000-02           0\n",
       "2  2000-03           0\n",
       "3  2000-04           0\n",
       "4  2000-05           0"
      ]
     },
     "execution_count": 63,
     "metadata": {},
     "output_type": "execute_result"
    }
   ],
   "source": [
    "tariff_df.head()"
   ]
  },
  {
   "cell_type": "code",
   "execution_count": 66,
   "metadata": {},
   "outputs": [
    {
     "data": {
      "text/plain": [
       "Index(['month', 'population', 'price', 'price_adj', 'bulk', 'bottled', 'cider',\n",
       "       'effervescent', 'wine_gross', 'bulk_adj', 'bottled_adj', 'cider_adj',\n",
       "       'effervescent_adj', 'wine_gross_adj', 'quantity_exports',\n",
       "       'fas_value_adj_exports', 'dutiable_value_world_imports',\n",
       "       'dutiable_value_adj_world_imports',\n",
       "       'landed_duty_paid_value_world_imports',\n",
       "       'landed_duty_paid_value_adj_world_imports',\n",
       "       'customs_value_world_imports', 'customs_value_adj_world_imports',\n",
       "       'quantity_world_imports', 'charges_insurance_freight_world_imports',\n",
       "       'charges_insurance_freight_adj_world_imports',\n",
       "       'calculated_duties_world_imports',\n",
       "       'calculated_duties_adj_world_imports',\n",
       "       'dutiable_value_ukfrspde_imports',\n",
       "       'dutiable_value_adj_ukfrspde_imports',\n",
       "       'landed_duty_paid_value_ukfrspde_imports',\n",
       "       'landed_duty_paid_value_adj_ukfrspde_imports',\n",
       "       'customs_value_ukfrspde_imports', 'customs_value_adj_ukfrspde_imports',\n",
       "       'quantity_ukfrspde_imports',\n",
       "       'charges_insurance_freight_ukfrspde_imports',\n",
       "       'charges_insurance_freight_adj_ukfrspde_imports',\n",
       "       'calculated_duties_ukfrspde_imports',\n",
       "       'calculated_duties_adj_ukfrspde_imports', 'frspger_25'],\n",
       "      dtype='object')"
      ]
     },
     "execution_count": 66,
     "metadata": {},
     "output_type": "execute_result"
    }
   ],
   "source": [
    "master_df = pd.DataFrame()\n",
    "master_df['month'] = months\n",
    "\n",
    "# Population\n",
    "master_df = master_df.merge(population_df[['month', 'population']], on='month')\n",
    "\n",
    "# Prices\n",
    "master_df = master_df.merge(wine_prices_df[['month', 'price', 'price_adj']], on='month')\n",
    "\n",
    "# Domestic Production\n",
    "master_df = master_df.merge(production_df[['month', 'bulk', 'bottled', 'cider', 'effervescent', 'wine_gross', 'bulk_adj', 'bottled_adj', 'cider_adj', 'effervescent_adj', 'wine_gross_adj']], on='month')\n",
    "\n",
    "# Exports\n",
    "## renaming columns\n",
    "exports_df.rename(columns={\n",
    "    'First Unit of Quantity':'quantity_exports',\n",
    "    'fas_value_adj': 'fas_value_adj_exports'\n",
    "    }, inplace=True)\n",
    "## merging\n",
    "master_df = master_df.merge(exports_df[['month', 'quantity_exports', 'fas_value_adj_exports']], on='month')\n",
    "\n",
    "# Imports\n",
    "## renaming world imports columns\n",
    "imports_world_df.rename(columns={\n",
    "    'Dutiable Value':'dutiable_value_world_imports',\n",
    "    'dutiable_value_adj':'dutiable_value_adj_world_imports',\n",
    "    'Landed Duty-Paid Value': 'landed_duty_paid_value_world_imports',\n",
    "    'landed_duty_paid_value_adj': 'landed_duty_paid_value_adj_world_imports',\n",
    "    'Customs Value': 'customs_value_world_imports',\n",
    "    'customs_value_adj': 'customs_value_adj_world_imports',\n",
    "    'First Unit of Quantity': 'quantity_world_imports',\n",
    "    'Charges, Insurance, and Freight': 'charges_insurance_freight_world_imports',\n",
    "    'charges_insurance_and_freight_adj': 'charges_insurance_freight_adj_world_imports',\n",
    "    'Calculated Duties': 'calculated_duties_world_imports',\n",
    "    'calculated_duties_adj': 'calculated_duties_adj_world_imports'\n",
    "    }, inplace=True)\n",
    "## renaming ukspfrde imports columns\n",
    "imports_ukfrspde_df.rename(columns={\n",
    "    'Dutiable Value':'dutiable_value_ukfrspde_imports',\n",
    "    'dutiable_value_adj':'dutiable_value_adj_ukfrspde_imports',\n",
    "    'Landed Duty-Paid Value': 'landed_duty_paid_value_ukfrspde_imports',\n",
    "    'landed_duty_paid_value_adj': 'landed_duty_paid_value_adj_ukfrspde_imports',\n",
    "    'Customs Value': 'customs_value_ukfrspde_imports',\n",
    "    'customs_value_adj': 'customs_value_adj_ukfrspde_imports',\n",
    "    'First Unit of Quantity': 'quantity_ukfrspde_imports',\n",
    "    'Charges, Insurance, and Freight':'charges_insurance_freight_ukfrspde_imports',\n",
    "    'charges_insurance_and_freight_adj':'charges_insurance_freight_adj_ukfrspde_imports',\n",
    "    'Calculated Duties': 'calculated_duties_ukfrspde_imports',\n",
    "    'calculated_duties_adj': 'calculated_duties_adj_ukfrspde_imports'\n",
    "    }, inplace=True)\n",
    "## merging\n",
    "master_df = master_df.merge(imports_world_df[['month', 'dutiable_value_world_imports', \n",
    "    'dutiable_value_adj_world_imports', 'landed_duty_paid_value_world_imports', \n",
    "    'landed_duty_paid_value_adj_world_imports', 'customs_value_world_imports', \n",
    "    'customs_value_adj_world_imports', 'quantity_world_imports', \n",
    "    'charges_insurance_freight_world_imports', 'charges_insurance_freight_adj_world_imports', \n",
    "    'calculated_duties_world_imports', 'calculated_duties_adj_world_imports']], on='month')\n",
    "master_df = master_df.merge(imports_ukfrspde_df[['month', 'dutiable_value_ukfrspde_imports', \n",
    "    'dutiable_value_adj_ukfrspde_imports', 'landed_duty_paid_value_ukfrspde_imports', \n",
    "    'landed_duty_paid_value_adj_ukfrspde_imports', 'customs_value_ukfrspde_imports', \n",
    "    'customs_value_adj_ukfrspde_imports', 'quantity_ukfrspde_imports', \n",
    "    'charges_insurance_freight_ukfrspde_imports', 'charges_insurance_freight_adj_ukfrspde_imports', \n",
    "    'calculated_duties_ukfrspde_imports', 'calculated_duties_adj_ukfrspde_imports']], on='month')\n",
    "\n",
    "# Tariff Enacted Boolean\n",
    "tariff_df['month'] = tariff_df['month'].map(lambda x: last_day_of_month(str(x)))\n",
    "tariff_df['month'] = tariff_df['month'].astype('datetime64[ns]')\n",
    "master_df = master_df.merge(tariff_df, on='month')"
   ]
  },
  {
   "cell_type": "markdown",
   "metadata": {},
   "source": [
    "The dataset looks pretty good. I'll export this as an excel file just to hold on to it as is."
   ]
  },
  {
   "cell_type": "code",
   "execution_count": 67,
   "metadata": {},
   "outputs": [
    {
     "data": {
      "text/html": [
       "<div>\n",
       "<style scoped>\n",
       "    .dataframe tbody tr th:only-of-type {\n",
       "        vertical-align: middle;\n",
       "    }\n",
       "\n",
       "    .dataframe tbody tr th {\n",
       "        vertical-align: top;\n",
       "    }\n",
       "\n",
       "    .dataframe thead th {\n",
       "        text-align: right;\n",
       "    }\n",
       "</style>\n",
       "<table border=\"1\" class=\"dataframe\">\n",
       "  <thead>\n",
       "    <tr style=\"text-align: right;\">\n",
       "      <th></th>\n",
       "      <th>month</th>\n",
       "      <th>population</th>\n",
       "      <th>price</th>\n",
       "      <th>price_adj</th>\n",
       "      <th>bulk</th>\n",
       "      <th>bottled</th>\n",
       "      <th>cider</th>\n",
       "      <th>effervescent</th>\n",
       "      <th>wine_gross</th>\n",
       "      <th>bulk_adj</th>\n",
       "      <th>...</th>\n",
       "      <th>landed_duty_paid_value_ukfrspde_imports</th>\n",
       "      <th>landed_duty_paid_value_adj_ukfrspde_imports</th>\n",
       "      <th>customs_value_ukfrspde_imports</th>\n",
       "      <th>customs_value_adj_ukfrspde_imports</th>\n",
       "      <th>quantity_ukfrspde_imports</th>\n",
       "      <th>charges_insurance_freight_ukfrspde_imports</th>\n",
       "      <th>charges_insurance_freight_adj_ukfrspde_imports</th>\n",
       "      <th>calculated_duties_ukfrspde_imports</th>\n",
       "      <th>calculated_duties_adj_ukfrspde_imports</th>\n",
       "      <th>frspger_25</th>\n",
       "    </tr>\n",
       "  </thead>\n",
       "  <tbody>\n",
       "    <tr>\n",
       "      <th>0</th>\n",
       "      <td>2000-01-31</td>\n",
       "      <td>281083000</td>\n",
       "      <td>5.458</td>\n",
       "      <td>5.299029</td>\n",
       "      <td>1.131505e+08</td>\n",
       "      <td>1.244070e+08</td>\n",
       "      <td>NaN</td>\n",
       "      <td>6.909175e+06</td>\n",
       "      <td>2.444667e+08</td>\n",
       "      <td>0.402552</td>\n",
       "      <td>...</td>\n",
       "      <td>59812261</td>\n",
       "      <td>58070156.31068</td>\n",
       "      <td>56706027</td>\n",
       "      <td>55054395.145631</td>\n",
       "      <td>8768676</td>\n",
       "      <td>2406931</td>\n",
       "      <td>2336826.213592</td>\n",
       "      <td>699303</td>\n",
       "      <td>678934.951456</td>\n",
       "      <td>0</td>\n",
       "    </tr>\n",
       "    <tr>\n",
       "      <th>1</th>\n",
       "      <td>2000-02-29</td>\n",
       "      <td>281299000</td>\n",
       "      <td>5.256</td>\n",
       "      <td>5.198813</td>\n",
       "      <td>7.179357e+07</td>\n",
       "      <td>1.375283e+08</td>\n",
       "      <td>NaN</td>\n",
       "      <td>4.377026e+06</td>\n",
       "      <td>2.136989e+08</td>\n",
       "      <td>0.255222</td>\n",
       "      <td>...</td>\n",
       "      <td>77087577</td>\n",
       "      <td>76248839.762611</td>\n",
       "      <td>73873201</td>\n",
       "      <td>73069437.1909</td>\n",
       "      <td>8961916</td>\n",
       "      <td>2356486</td>\n",
       "      <td>2330846.686449</td>\n",
       "      <td>857890</td>\n",
       "      <td>848555.885262</td>\n",
       "      <td>0</td>\n",
       "    </tr>\n",
       "    <tr>\n",
       "      <th>2</th>\n",
       "      <td>2000-03-31</td>\n",
       "      <td>281531000</td>\n",
       "      <td>5.471</td>\n",
       "      <td>5.311650</td>\n",
       "      <td>4.635628e+07</td>\n",
       "      <td>1.603837e+08</td>\n",
       "      <td>NaN</td>\n",
       "      <td>9.321474e+06</td>\n",
       "      <td>2.160614e+08</td>\n",
       "      <td>0.164658</td>\n",
       "      <td>...</td>\n",
       "      <td>87219165</td>\n",
       "      <td>84678800.970874</td>\n",
       "      <td>83500840</td>\n",
       "      <td>81068776.699029</td>\n",
       "      <td>10474993</td>\n",
       "      <td>2804317</td>\n",
       "      <td>2722637.864078</td>\n",
       "      <td>914008</td>\n",
       "      <td>887386.407767</td>\n",
       "      <td>0</td>\n",
       "    </tr>\n",
       "    <tr>\n",
       "      <th>3</th>\n",
       "      <td>2000-04-30</td>\n",
       "      <td>281763000</td>\n",
       "      <td>5.156</td>\n",
       "      <td>5.104950</td>\n",
       "      <td>3.296724e+07</td>\n",
       "      <td>1.423004e+08</td>\n",
       "      <td>2.045088e+06</td>\n",
       "      <td>7.881046e+06</td>\n",
       "      <td>1.811036e+08</td>\n",
       "      <td>0.117003</td>\n",
       "      <td>...</td>\n",
       "      <td>87040067</td>\n",
       "      <td>86178284.158416</td>\n",
       "      <td>83075769</td>\n",
       "      <td>82253236.633663</td>\n",
       "      <td>11128077</td>\n",
       "      <td>2989501</td>\n",
       "      <td>2959901.980198</td>\n",
       "      <td>974797</td>\n",
       "      <td>965145.544554</td>\n",
       "      <td>0</td>\n",
       "    </tr>\n",
       "    <tr>\n",
       "      <th>4</th>\n",
       "      <td>2000-05-31</td>\n",
       "      <td>281996000</td>\n",
       "      <td>5.530</td>\n",
       "      <td>5.426889</td>\n",
       "      <td>3.178035e+07</td>\n",
       "      <td>1.612658e+08</td>\n",
       "      <td>6.959646e+06</td>\n",
       "      <td>6.334834e+06</td>\n",
       "      <td>1.924214e+08</td>\n",
       "      <td>0.112698</td>\n",
       "      <td>...</td>\n",
       "      <td>79534639</td>\n",
       "      <td>78051657.50736</td>\n",
       "      <td>75599523</td>\n",
       "      <td>74189914.622179</td>\n",
       "      <td>10874051</td>\n",
       "      <td>3037785</td>\n",
       "      <td>2981143.277723</td>\n",
       "      <td>897331</td>\n",
       "      <td>880599.607458</td>\n",
       "      <td>0</td>\n",
       "    </tr>\n",
       "  </tbody>\n",
       "</table>\n",
       "<p>5 rows × 39 columns</p>\n",
       "</div>"
      ],
      "text/plain": [
       "       month  population  price  price_adj          bulk       bottled  \\\n",
       "0 2000-01-31   281083000  5.458   5.299029  1.131505e+08  1.244070e+08   \n",
       "1 2000-02-29   281299000  5.256   5.198813  7.179357e+07  1.375283e+08   \n",
       "2 2000-03-31   281531000  5.471   5.311650  4.635628e+07  1.603837e+08   \n",
       "3 2000-04-30   281763000  5.156   5.104950  3.296724e+07  1.423004e+08   \n",
       "4 2000-05-31   281996000  5.530   5.426889  3.178035e+07  1.612658e+08   \n",
       "\n",
       "          cider  effervescent    wine_gross  bulk_adj  ...  \\\n",
       "0           NaN  6.909175e+06  2.444667e+08  0.402552  ...   \n",
       "1           NaN  4.377026e+06  2.136989e+08  0.255222  ...   \n",
       "2           NaN  9.321474e+06  2.160614e+08  0.164658  ...   \n",
       "3  2.045088e+06  7.881046e+06  1.811036e+08  0.117003  ...   \n",
       "4  6.959646e+06  6.334834e+06  1.924214e+08  0.112698  ...   \n",
       "\n",
       "   landed_duty_paid_value_ukfrspde_imports  \\\n",
       "0                                 59812261   \n",
       "1                                 77087577   \n",
       "2                                 87219165   \n",
       "3                                 87040067   \n",
       "4                                 79534639   \n",
       "\n",
       "   landed_duty_paid_value_adj_ukfrspde_imports  \\\n",
       "0                               58070156.31068   \n",
       "1                              76248839.762611   \n",
       "2                              84678800.970874   \n",
       "3                              86178284.158416   \n",
       "4                               78051657.50736   \n",
       "\n",
       "   customs_value_ukfrspde_imports  customs_value_adj_ukfrspde_imports  \\\n",
       "0                        56706027                     55054395.145631   \n",
       "1                        73873201                       73069437.1909   \n",
       "2                        83500840                     81068776.699029   \n",
       "3                        83075769                     82253236.633663   \n",
       "4                        75599523                     74189914.622179   \n",
       "\n",
       "  quantity_ukfrspde_imports charges_insurance_freight_ukfrspde_imports  \\\n",
       "0                   8768676                                    2406931   \n",
       "1                   8961916                                    2356486   \n",
       "2                  10474993                                    2804317   \n",
       "3                  11128077                                    2989501   \n",
       "4                  10874051                                    3037785   \n",
       "\n",
       "  charges_insurance_freight_adj_ukfrspde_imports  \\\n",
       "0                                 2336826.213592   \n",
       "1                                 2330846.686449   \n",
       "2                                 2722637.864078   \n",
       "3                                 2959901.980198   \n",
       "4                                 2981143.277723   \n",
       "\n",
       "  calculated_duties_ukfrspde_imports calculated_duties_adj_ukfrspde_imports  \\\n",
       "0                             699303                          678934.951456   \n",
       "1                             857890                          848555.885262   \n",
       "2                             914008                          887386.407767   \n",
       "3                             974797                          965145.544554   \n",
       "4                             897331                          880599.607458   \n",
       "\n",
       "  frspger_25  \n",
       "0          0  \n",
       "1          0  \n",
       "2          0  \n",
       "3          0  \n",
       "4          0  \n",
       "\n",
       "[5 rows x 39 columns]"
      ]
     },
     "metadata": {},
     "output_type": "display_data"
    },
    {
     "data": {
      "text/html": [
       "<div>\n",
       "<style scoped>\n",
       "    .dataframe tbody tr th:only-of-type {\n",
       "        vertical-align: middle;\n",
       "    }\n",
       "\n",
       "    .dataframe tbody tr th {\n",
       "        vertical-align: top;\n",
       "    }\n",
       "\n",
       "    .dataframe thead th {\n",
       "        text-align: right;\n",
       "    }\n",
       "</style>\n",
       "<table border=\"1\" class=\"dataframe\">\n",
       "  <thead>\n",
       "    <tr style=\"text-align: right;\">\n",
       "      <th></th>\n",
       "      <th>population</th>\n",
       "      <th>price</th>\n",
       "      <th>price_adj</th>\n",
       "      <th>bulk</th>\n",
       "      <th>bottled</th>\n",
       "      <th>cider</th>\n",
       "      <th>effervescent</th>\n",
       "      <th>wine_gross</th>\n",
       "      <th>bulk_adj</th>\n",
       "      <th>bottled_adj</th>\n",
       "      <th>cider_adj</th>\n",
       "      <th>effervescent_adj</th>\n",
       "      <th>wine_gross_adj</th>\n",
       "      <th>frspger_25</th>\n",
       "    </tr>\n",
       "  </thead>\n",
       "  <tbody>\n",
       "    <tr>\n",
       "      <th>count</th>\n",
       "      <td>2.640000e+02</td>\n",
       "      <td>264.000000</td>\n",
       "      <td>264.000000</td>\n",
       "      <td>2.620000e+02</td>\n",
       "      <td>2.620000e+02</td>\n",
       "      <td>2.590000e+02</td>\n",
       "      <td>2.620000e+02</td>\n",
       "      <td>2.640000e+02</td>\n",
       "      <td>262.000000</td>\n",
       "      <td>262.000000</td>\n",
       "      <td>259.000000</td>\n",
       "      <td>262.000000</td>\n",
       "      <td>264.000000</td>\n",
       "      <td>264.000000</td>\n",
       "    </tr>\n",
       "    <tr>\n",
       "      <th>mean</th>\n",
       "      <td>3.093217e+08</td>\n",
       "      <td>9.740682</td>\n",
       "      <td>8.241252</td>\n",
       "      <td>2.366476e+08</td>\n",
       "      <td>1.929920e+08</td>\n",
       "      <td>7.290981e+06</td>\n",
       "      <td>8.266621e+06</td>\n",
       "      <td>4.274359e+08</td>\n",
       "      <td>0.762839</td>\n",
       "      <td>0.621356</td>\n",
       "      <td>0.022790</td>\n",
       "      <td>0.026546</td>\n",
       "      <td>1.377695</td>\n",
       "      <td>0.079545</td>\n",
       "    </tr>\n",
       "    <tr>\n",
       "      <th>std</th>\n",
       "      <td>1.525593e+07</td>\n",
       "      <td>2.578523</td>\n",
       "      <td>1.652331</td>\n",
       "      <td>2.329463e+08</td>\n",
       "      <td>3.586958e+07</td>\n",
       "      <td>6.452561e+06</td>\n",
       "      <td>2.698712e+06</td>\n",
       "      <td>2.328960e+08</td>\n",
       "      <td>0.749701</td>\n",
       "      <td>0.093725</td>\n",
       "      <td>0.019675</td>\n",
       "      <td>0.007954</td>\n",
       "      <td>0.741864</td>\n",
       "      <td>0.271102</td>\n",
       "    </tr>\n",
       "    <tr>\n",
       "      <th>min</th>\n",
       "      <td>2.810830e+08</td>\n",
       "      <td>5.156000</td>\n",
       "      <td>5.104950</td>\n",
       "      <td>2.661546e+07</td>\n",
       "      <td>1.244070e+08</td>\n",
       "      <td>5.490210e+05</td>\n",
       "      <td>2.678186e+06</td>\n",
       "      <td>0.000000e+00</td>\n",
       "      <td>0.090648</td>\n",
       "      <td>0.442599</td>\n",
       "      <td>0.001865</td>\n",
       "      <td>0.009267</td>\n",
       "      <td>0.000000</td>\n",
       "      <td>0.000000</td>\n",
       "    </tr>\n",
       "    <tr>\n",
       "      <th>25%</th>\n",
       "      <td>2.960138e+08</td>\n",
       "      <td>7.386500</td>\n",
       "      <td>6.774410</td>\n",
       "      <td>4.742184e+07</td>\n",
       "      <td>1.640341e+08</td>\n",
       "      <td>1.826624e+06</td>\n",
       "      <td>6.121333e+06</td>\n",
       "      <td>2.391613e+08</td>\n",
       "      <td>0.156859</td>\n",
       "      <td>0.550870</td>\n",
       "      <td>0.006125</td>\n",
       "      <td>0.020363</td>\n",
       "      <td>0.782410</td>\n",
       "      <td>0.000000</td>\n",
       "    </tr>\n",
       "    <tr>\n",
       "      <th>50%</th>\n",
       "      <td>3.109405e+08</td>\n",
       "      <td>10.025000</td>\n",
       "      <td>8.631385</td>\n",
       "      <td>1.180365e+08</td>\n",
       "      <td>1.899242e+08</td>\n",
       "      <td>2.811740e+06</td>\n",
       "      <td>8.068083e+06</td>\n",
       "      <td>3.199454e+08</td>\n",
       "      <td>0.377495</td>\n",
       "      <td>0.611718</td>\n",
       "      <td>0.009091</td>\n",
       "      <td>0.026252</td>\n",
       "      <td>1.034645</td>\n",
       "      <td>0.000000</td>\n",
       "    </tr>\n",
       "    <tr>\n",
       "      <th>75%</th>\n",
       "      <td>3.231120e+08</td>\n",
       "      <td>12.197750</td>\n",
       "      <td>9.803208</td>\n",
       "      <td>4.498815e+08</td>\n",
       "      <td>2.169504e+08</td>\n",
       "      <td>1.328316e+07</td>\n",
       "      <td>1.011393e+07</td>\n",
       "      <td>6.190754e+08</td>\n",
       "      <td>1.410859</td>\n",
       "      <td>0.678556</td>\n",
       "      <td>0.040792</td>\n",
       "      <td>0.032392</td>\n",
       "      <td>1.999028</td>\n",
       "      <td>0.000000</td>\n",
       "    </tr>\n",
       "    <tr>\n",
       "      <th>max</th>\n",
       "      <td>3.318950e+08</td>\n",
       "      <td>14.420000</td>\n",
       "      <td>11.848809</td>\n",
       "      <td>8.200452e+08</td>\n",
       "      <td>3.474637e+08</td>\n",
       "      <td>2.140858e+07</td>\n",
       "      <td>1.481254e+07</td>\n",
       "      <td>1.019108e+09</td>\n",
       "      <td>2.622399</td>\n",
       "      <td>1.112624</td>\n",
       "      <td>0.066741</td>\n",
       "      <td>0.046178</td>\n",
       "      <td>3.258976</td>\n",
       "      <td>1.000000</td>\n",
       "    </tr>\n",
       "  </tbody>\n",
       "</table>\n",
       "</div>"
      ],
      "text/plain": [
       "         population       price   price_adj          bulk       bottled  \\\n",
       "count  2.640000e+02  264.000000  264.000000  2.620000e+02  2.620000e+02   \n",
       "mean   3.093217e+08    9.740682    8.241252  2.366476e+08  1.929920e+08   \n",
       "std    1.525593e+07    2.578523    1.652331  2.329463e+08  3.586958e+07   \n",
       "min    2.810830e+08    5.156000    5.104950  2.661546e+07  1.244070e+08   \n",
       "25%    2.960138e+08    7.386500    6.774410  4.742184e+07  1.640341e+08   \n",
       "50%    3.109405e+08   10.025000    8.631385  1.180365e+08  1.899242e+08   \n",
       "75%    3.231120e+08   12.197750    9.803208  4.498815e+08  2.169504e+08   \n",
       "max    3.318950e+08   14.420000   11.848809  8.200452e+08  3.474637e+08   \n",
       "\n",
       "              cider  effervescent    wine_gross    bulk_adj  bottled_adj  \\\n",
       "count  2.590000e+02  2.620000e+02  2.640000e+02  262.000000   262.000000   \n",
       "mean   7.290981e+06  8.266621e+06  4.274359e+08    0.762839     0.621356   \n",
       "std    6.452561e+06  2.698712e+06  2.328960e+08    0.749701     0.093725   \n",
       "min    5.490210e+05  2.678186e+06  0.000000e+00    0.090648     0.442599   \n",
       "25%    1.826624e+06  6.121333e+06  2.391613e+08    0.156859     0.550870   \n",
       "50%    2.811740e+06  8.068083e+06  3.199454e+08    0.377495     0.611718   \n",
       "75%    1.328316e+07  1.011393e+07  6.190754e+08    1.410859     0.678556   \n",
       "max    2.140858e+07  1.481254e+07  1.019108e+09    2.622399     1.112624   \n",
       "\n",
       "        cider_adj  effervescent_adj  wine_gross_adj  frspger_25  \n",
       "count  259.000000        262.000000      264.000000  264.000000  \n",
       "mean     0.022790          0.026546        1.377695    0.079545  \n",
       "std      0.019675          0.007954        0.741864    0.271102  \n",
       "min      0.001865          0.009267        0.000000    0.000000  \n",
       "25%      0.006125          0.020363        0.782410    0.000000  \n",
       "50%      0.009091          0.026252        1.034645    0.000000  \n",
       "75%      0.040792          0.032392        1.999028    0.000000  \n",
       "max      0.066741          0.046178        3.258976    1.000000  "
      ]
     },
     "metadata": {},
     "output_type": "display_data"
    },
    {
     "name": "stdout",
     "output_type": "stream",
     "text": [
      "<class 'pandas.core.frame.DataFrame'>\n",
      "Int64Index: 264 entries, 0 to 263\n",
      "Data columns (total 39 columns):\n",
      " #   Column                                          Non-Null Count  Dtype         \n",
      "---  ------                                          --------------  -----         \n",
      " 0   month                                           264 non-null    datetime64[ns]\n",
      " 1   population                                      264 non-null    int64         \n",
      " 2   price                                           264 non-null    float64       \n",
      " 3   price_adj                                       264 non-null    float64       \n",
      " 4   bulk                                            262 non-null    float64       \n",
      " 5   bottled                                         262 non-null    float64       \n",
      " 6   cider                                           259 non-null    float64       \n",
      " 7   effervescent                                    262 non-null    float64       \n",
      " 8   wine_gross                                      264 non-null    float64       \n",
      " 9   bulk_adj                                        262 non-null    float64       \n",
      " 10  bottled_adj                                     262 non-null    float64       \n",
      " 11  cider_adj                                       259 non-null    float64       \n",
      " 12  effervescent_adj                                262 non-null    float64       \n",
      " 13  wine_gross_adj                                  264 non-null    float64       \n",
      " 14  quantity_exports                                264 non-null    object        \n",
      " 15  fas_value_adj_exports                           264 non-null    object        \n",
      " 16  dutiable_value_world_imports                    264 non-null    object        \n",
      " 17  dutiable_value_adj_world_imports                264 non-null    object        \n",
      " 18  landed_duty_paid_value_world_imports            264 non-null    object        \n",
      " 19  landed_duty_paid_value_adj_world_imports        264 non-null    object        \n",
      " 20  customs_value_world_imports                     264 non-null    object        \n",
      " 21  customs_value_adj_world_imports                 264 non-null    object        \n",
      " 22  quantity_world_imports                          264 non-null    object        \n",
      " 23  charges_insurance_freight_world_imports         264 non-null    object        \n",
      " 24  charges_insurance_freight_adj_world_imports     264 non-null    object        \n",
      " 25  calculated_duties_world_imports                 264 non-null    object        \n",
      " 26  calculated_duties_adj_world_imports             264 non-null    object        \n",
      " 27  dutiable_value_ukfrspde_imports                 264 non-null    object        \n",
      " 28  dutiable_value_adj_ukfrspde_imports             264 non-null    object        \n",
      " 29  landed_duty_paid_value_ukfrspde_imports         264 non-null    object        \n",
      " 30  landed_duty_paid_value_adj_ukfrspde_imports     264 non-null    object        \n",
      " 31  customs_value_ukfrspde_imports                  264 non-null    object        \n",
      " 32  customs_value_adj_ukfrspde_imports              264 non-null    object        \n",
      " 33  quantity_ukfrspde_imports                       264 non-null    object        \n",
      " 34  charges_insurance_freight_ukfrspde_imports      264 non-null    object        \n",
      " 35  charges_insurance_freight_adj_ukfrspde_imports  264 non-null    object        \n",
      " 36  calculated_duties_ukfrspde_imports              264 non-null    object        \n",
      " 37  calculated_duties_adj_ukfrspde_imports          264 non-null    object        \n",
      " 38  frspger_25                                      264 non-null    int64         \n",
      "dtypes: datetime64[ns](1), float64(12), int64(2), object(24)\n",
      "memory usage: 82.5+ KB\n"
     ]
    },
    {
     "data": {
      "text/plain": [
       "None"
      ]
     },
     "metadata": {},
     "output_type": "display_data"
    }
   ],
   "source": [
    "display(master_df.head())\n",
    "display(master_df.describe())\n",
    "display(master_df.info())"
   ]
  },
  {
   "cell_type": "code",
   "execution_count": 68,
   "metadata": {},
   "outputs": [],
   "source": [
    "master_df.to_excel('../data/master-data.xlsx')"
   ]
  },
  {
   "cell_type": "markdown",
   "metadata": {},
   "source": []
  }
 ],
 "metadata": {
  "interpreter": {
   "hash": "40d3a090f54c6569ab1632332b64b2c03c39dcf918b08424e98f38b5ae0af88f"
  },
  "kernelspec": {
   "display_name": "Python 3",
   "language": "python",
   "name": "python3"
  },
  "language_info": {
   "codemirror_mode": {
    "name": "ipython",
    "version": 3
   },
   "file_extension": ".py",
   "mimetype": "text/x-python",
   "name": "python",
   "nbconvert_exporter": "python",
   "pygments_lexer": "ipython3",
   "version": "3.8.8"
  }
 },
 "nbformat": 4,
 "nbformat_minor": 2
}
